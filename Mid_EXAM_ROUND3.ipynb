{
  "nbformat": 4,
  "nbformat_minor": 0,
  "metadata": {
    "colab": {
      "name": "Untitled6.ipynb",
      "provenance": [],
      "collapsed_sections": [],
      "authorship_tag": "ABX9TyP1iEuQXQGrH3b7DdBTBJEj",
      "include_colab_link": true
    },
    "kernelspec": {
      "name": "python3",
      "display_name": "Python 3"
    }
  },
  "cells": [
    {
      "cell_type": "markdown",
      "metadata": {
        "id": "view-in-github",
        "colab_type": "text"
      },
      "source": [
        "<a href=\"https://colab.research.google.com/github/koyomin9zx/CS114.K21-Machine-Learning/blob/master/Mid_EXAM_ROUND3.ipynb\" target=\"_parent\"><img src=\"https://colab.research.google.com/assets/colab-badge.svg\" alt=\"Open In Colab\"/></a>"
      ]
    },
    {
      "cell_type": "markdown",
      "metadata": {
        "id": "UoTOjA-z083p",
        "colab_type": "text"
      },
      "source": [
        "# Đánh giá lại model ở round 2 bằng dataset mới: http://cs.uit.edu.vn/data3.txt"
      ]
    },
    {
      "cell_type": "code",
      "metadata": {
        "id": "F_e1xIz9dzjh",
        "colab_type": "code",
        "colab": {}
      },
      "source": [
        "import pandas as pd\n",
        "import matplotlib.pyplot as plt\n",
        "import numpy as np\n",
        "from sklearn import linear_model\n",
        "from sklearn.model_selection import train_test_split\n",
        "from sklearn.metrics import mean_squared_error, r2_score"
      ],
      "execution_count": 0,
      "outputs": []
    },
    {
      "cell_type": "markdown",
      "metadata": {
        "id": "ERYf7DpVyXLb",
        "colab_type": "text"
      },
      "source": [
        "Lấy dữ liệu xuống và up lên colab, thêm tên 2 cột cho dữ liệu là value và time"
      ]
    },
    {
      "cell_type": "code",
      "metadata": {
        "id": "rrnnWfhokDIo",
        "colab_type": "code",
        "colab": {
          "base_uri": "https://localhost:8080/",
          "height": 204
        },
        "outputId": "8098854c-86ad-4de8-c648-380da22ce06a"
      },
      "source": [
        "df=pd.read_csv('data3.txt')\n",
        "df.head(5)"
      ],
      "execution_count": 143,
      "outputs": [
        {
          "output_type": "execute_result",
          "data": {
            "text/html": [
              "<div>\n",
              "<style scoped>\n",
              "    .dataframe tbody tr th:only-of-type {\n",
              "        vertical-align: middle;\n",
              "    }\n",
              "\n",
              "    .dataframe tbody tr th {\n",
              "        vertical-align: top;\n",
              "    }\n",
              "\n",
              "    .dataframe thead th {\n",
              "        text-align: right;\n",
              "    }\n",
              "</style>\n",
              "<table border=\"1\" class=\"dataframe\">\n",
              "  <thead>\n",
              "    <tr style=\"text-align: right;\">\n",
              "      <th></th>\n",
              "      <th>value</th>\n",
              "      <th>time</th>\n",
              "    </tr>\n",
              "  </thead>\n",
              "  <tbody>\n",
              "    <tr>\n",
              "      <th>0</th>\n",
              "      <td>37837612</td>\n",
              "      <td>4.12166</td>\n",
              "    </tr>\n",
              "    <tr>\n",
              "      <th>1</th>\n",
              "      <td>37395246</td>\n",
              "      <td>3.92089</td>\n",
              "    </tr>\n",
              "    <tr>\n",
              "      <th>2</th>\n",
              "      <td>36610827</td>\n",
              "      <td>3.21540</td>\n",
              "    </tr>\n",
              "    <tr>\n",
              "      <th>3</th>\n",
              "      <td>29555651</td>\n",
              "      <td>2.54506</td>\n",
              "    </tr>\n",
              "    <tr>\n",
              "      <th>4</th>\n",
              "      <td>25928216</td>\n",
              "      <td>2.21831</td>\n",
              "    </tr>\n",
              "  </tbody>\n",
              "</table>\n",
              "</div>"
            ],
            "text/plain": [
              "      value     time\n",
              "0  37837612  4.12166\n",
              "1  37395246  3.92089\n",
              "2  36610827  3.21540\n",
              "3  29555651  2.54506\n",
              "4  25928216  2.21831"
            ]
          },
          "metadata": {
            "tags": []
          },
          "execution_count": 143
        }
      ]
    },
    {
      "cell_type": "code",
      "metadata": {
        "id": "DvOs2PU5tytc",
        "colab_type": "code",
        "colab": {}
      },
      "source": [
        "X=df['value'].values.reshape(-1, 1)\n",
        "Y=df['time'].values.reshape(-1, 1)"
      ],
      "execution_count": 0,
      "outputs": []
    },
    {
      "cell_type": "markdown",
      "metadata": {
        "id": "ChmgN4zbyjhv",
        "colab_type": "text"
      },
      "source": [
        "Chia dữ liệu train, test theo tỉ lệ 7:3"
      ]
    },
    {
      "cell_type": "code",
      "metadata": {
        "id": "Mbwk6SK9veZH",
        "colab_type": "code",
        "colab": {}
      },
      "source": [
        "X_train,X_test,Y_train,Y_test=train_test_split(X, Y, test_size=0.3, random_state=42)"
      ],
      "execution_count": 0,
      "outputs": []
    },
    {
      "cell_type": "markdown",
      "metadata": {
        "id": "phEoCzO5yqBl",
        "colab_type": "text"
      },
      "source": [
        "Sử dụng linear regression model"
      ]
    },
    {
      "cell_type": "code",
      "metadata": {
        "id": "_hKobYoUv-jC",
        "colab_type": "code",
        "colab": {}
      },
      "source": [
        "regr = linear_model.LinearRegression()"
      ],
      "execution_count": 0,
      "outputs": []
    },
    {
      "cell_type": "markdown",
      "metadata": {
        "id": "4pxfsViXy3IJ",
        "colab_type": "text"
      },
      "source": [
        "Tiến hành trainning"
      ]
    },
    {
      "cell_type": "code",
      "metadata": {
        "id": "5AkDS3dNwDfS",
        "colab_type": "code",
        "colab": {
          "base_uri": "https://localhost:8080/",
          "height": 34
        },
        "outputId": "8c401db9-dd99-4e8a-b8d4-76919ce37ab9"
      },
      "source": [
        "regr.fit(X_train,Y_train)"
      ],
      "execution_count": 151,
      "outputs": [
        {
          "output_type": "execute_result",
          "data": {
            "text/plain": [
              "LinearRegression(copy_X=True, fit_intercept=True, n_jobs=None, normalize=False)"
            ]
          },
          "metadata": {
            "tags": []
          },
          "execution_count": 151
        }
      ]
    },
    {
      "cell_type": "code",
      "metadata": {
        "id": "sAd9ZUgUxq0H",
        "colab_type": "code",
        "colab": {}
      },
      "source": [
        "y_pred = regr.predict(X_test)"
      ],
      "execution_count": 0,
      "outputs": []
    },
    {
      "cell_type": "code",
      "metadata": {
        "id": "hGz4-widxzip",
        "colab_type": "code",
        "colab": {
          "base_uri": "https://localhost:8080/",
          "height": 320
        },
        "outputId": "00f7e875-8181-4a41-9612-1b993ef76016"
      },
      "source": [
        "# The coefficients\n",
        "print('Coefficients: \\n', regr.coef_)\n",
        "# The mean squared error\n",
        "print('Mean squared error: %.2f'\n",
        "      % mean_squared_error(Y_test, y_pred))\n",
        "# The coefficient of determination: 1 is perfect prediction\n",
        "print('Coefficient of determination: %.2f'\n",
        "      % r2_score(Y_test, y_pred))\n",
        "\n",
        "# Plot outputs\n",
        "plt.scatter(X_test, Y_test,  color='black')\n",
        "plt.plot(X_test, y_pred, color='blue', linewidth=1)\n",
        "\n",
        "plt.xticks(())\n",
        "plt.yticks(())\n",
        "\n",
        "plt.show()"
      ],
      "execution_count": 153,
      "outputs": [
        {
          "output_type": "stream",
          "text": [
            "Coefficients: \n",
            " [[9.27773495e-08]]\n",
            "Mean squared error: 0.00\n",
            "Coefficient of determination: 0.99\n"
          ],
          "name": "stdout"
        },
        {
          "output_type": "display_data",
          "data": {
            "image/png": "[encoded data removed]",
            "text/plain": [
              "<Figure size 432x288 with 1 Axes>"
            ]
          },
          "metadata": {
            "tags": []
          }
        }
      ]
    },
    {
      "cell_type": "markdown",
      "metadata": {
        "id": "axtk8pxj2wBd",
        "colab_type": "text"
      },
      "source": [
        "Có thể thấy dữ liệu mới có một số điểm nhiễu dẫn đễn mô hình dự đoán tệ hơn"
      ]
    }
  ]
}