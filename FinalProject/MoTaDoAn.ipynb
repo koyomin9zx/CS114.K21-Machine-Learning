{
  "nbformat": 4,
  "nbformat_minor": 0,
  "metadata": {
    "colab": {
      "name": "Untitled11.ipynb",
      "provenance": [],
      "authorship_tag": "ABX9TyNb3CBgPGpvsGMCVWoeI6aF",
      "include_colab_link": true
    },
    "kernelspec": {
      "name": "python3",
      "display_name": "Python 3"
    }
  },
  "cells": [
    {
      "cell_type": "markdown",
      "metadata": {
        "id": "view-in-github",
        "colab_type": "text"
      },
      "source": [
        "<a href=\"https://colab.research.google.com/github/ndvinh98/CS114.K21-Machine-Learning/blob/master/FinalProject/MoTaDoAn.ipynb\" target=\"_parent\"><img src=\"https://colab.research.google.com/assets/colab-badge.svg\" alt=\"Open In Colab\"/></a>"
      ]
    },
    {
      "cell_type": "markdown",
      "metadata": {
        "id": "wthOl0E9d9Bq",
        "colab_type": "text"
      },
      "source": [
        "ĐẠI HỌC QUỐC GIA TP. HCM\n",
        "<br>TRƯỜNG ĐH CÔNG NGHỆ THÔNG TIN\n",
        "<br>LỚP: CS114.K21\n",
        "\n",
        "---\n",
        "## **ĐỒ ÁN MÔN HỌC**\n",
        "\n",
        "##**SENTIMENT CLASSIFICATION - PHÂN LOẠI ĐÁNH GIÁ SẢN PHẨM BẰNG TIẾNG VIỆT**\n",
        "\n",
        "**Thành viên:**\n",
        "*   Nguyễn Đình Vinh – 16521582\n",
        "*   Phan Đăng Lâm – 16521710\n",
        "\n",
        "**ĐẶT VẤN ĐỀ**\n",
        "\n",
        "- Bán hàng online là xu thế công nghệ của ngày nay, tuy nhiên khó có thể mà kiểm định được chất lượng có đảm bảo hay không. Đặc biệt với các mặt hàng đắt tiền được bày bán nhan nhản ở khăp mọi nơi trên internet, và việc lựa chọn mua ở đâu, mua hãng gì cho tốt trở thành mối quan tâm lớn cho người dùng.\n",
        "\n",
        "- Một trong những cách để quyết định có nên mua hay không là dựa vào đánh giá từ những người đã mua trước, tuy nhiên số lượng đánh giá rất lớn, không có nhân lực để thống kê được hết. Vì thế áp dụng machine learning trong việc phân loại đánh giá của khách hàng là một việc đơn giản và hiệu quả và tiết kiệm chi phí.\n",
        "\n",
        "\n",
        "**GIỚI THIỆU ĐỀ TÀI:**\n",
        "\n",
        "Phân loại đánh giá của khách hàng là bài toán sentiment classification.\n",
        "*   Input: là một đánh giá của khách hàng\n",
        "*   Output: đánh giá này là tích cực (positive) hay tiêu cực (negative)\n",
        "\n",
        "Từ việc phân loại đánh giá này, nhóm em tiến hành xây dựng một webapp phân loại tất cả các đánh giá của khách hàng trong 1 sản phẩm, rồi thống kê số lượng đánh giá tích cực, và tiêu cực. Nếu số lượng đánh giá tích cực > số lượng đánh giá tiêu cực thì đưa ra gợi ý sản phẩm này đáng để mua .\n",
        "\n",
        "**MÔ TẢ DỮ LIỆU**   \n",
        "- Cách thức thu thập: Dữ liệu đánh giá được crawl từ trang www.thegioididong.com bằng javascript\n",
        "\n",
        "- Số lượng: gồm 10545 mẫu đánh giá, mỗi mẫu bao gồm thuộc tính CONTENT và STAR. Nhóm em tiến hành gán nhãn cho các mẫu bằng cách: Mẫu nào có STAR<=3 thì gán LABEL=0 (negative) còn STAR > 3 thì gán LABEL=1 (positive)\n",
        "\n",
        "- Dữ liệu đánh giá của mọi người dùng là văn nói, không có quy chuẩn chung về mặt ngữ pháp, ngữ nghĩa nên còn chứa nhiều từ viết tắt, sai chính tả, teencode, không dấu… Đòi hỏi quá trình xử lý dữ liệu thật tốt thì model mới có độ chính xác cao\n",
        "Một số mẫu có nội dung phần content là tích cực nhưng đánh giá số sao lại thấp (<3) dẫn đến phần gán nhãn bị sai.\n",
        "\n",
        "\n",
        "**FEATURE ENGINEERING VÀ CHỌN MODEL:**\n",
        "\n",
        "- Feature Engineering: Chúng em sử dụng 2 phương pháp để vectorization là TF-IDF và CountVectorizer\n",
        "\n",
        "- Chọn model: Đối với dữ liệu dạng sequence chúng em sử dụng mô hình mạng LSTM để phân loại. Thử áp dụng với các mô hình khác như linear classifier (SVM) và probabilistic classifier (Naive Bayes) để so sánh kết quả.\n",
        "\n",
        "Đánh giá kết quả thông qua một vài độ đo như accurancy, f1 score, confusion matrix..., so sánh kết quả đầu ra của các thuật toán\n",
        "\n",
        "\n",
        " \n"
      ]
    }
  ]
}