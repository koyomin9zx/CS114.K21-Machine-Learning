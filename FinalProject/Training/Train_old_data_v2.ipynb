{
  "nbformat": 4,
  "nbformat_minor": 0,
  "metadata": {
    "colab": {
      "name": "Train_old_data_v2.ipynb",
      "provenance": [],
      "collapsed_sections": [
        "JZ96xPtVUs6_",
        "dXdJg9NeU0P5",
        "tU0qnztsVFQ8",
        "-cPRMlAdv7zL",
        "aEcDp-P2WloX",
        "AM1y1cQmsxep",
        "KyZoDoOFuer8",
        "bctsDwmGunnC",
        "3W3GGFrtydIP",
        "HQw-P4G7z0e8",
        "3RGVdoWO0MTd",
        "qoyU4kK8XbIS"
      ],
      "toc_visible": true,
      "include_colab_link": true
    },
    "kernelspec": {
      "name": "python3",
      "display_name": "Python 3"
    },
    "accelerator": "GPU"
  },
  "cells": [
    {
      "cell_type": "markdown",
      "metadata": {
        "id": "view-in-github",
        "colab_type": "text"
      },
      "source": [
        "<a href=\"https://colab.research.google.com/github/ndvinh98/CS114.K21-Machine-Learning/blob/master/FinalProject/Training/Train_old_data_v2.ipynb\" target=\"_parent\"><img src=\"https://colab.research.google.com/assets/colab-badge.svg\" alt=\"Open In Colab\"/></a>"
      ]
    },
    {
      "cell_type": "markdown",
      "metadata": {
        "id": "gPUAEN5SUkxw",
        "colab_type": "text"
      },
      "source": [
        "# ***Preprocessing***"
      ]
    },
    {
      "cell_type": "markdown",
      "metadata": {
        "id": "JZ96xPtVUs6_",
        "colab_type": "text"
      },
      "source": [
        "### **Mount drive & install lib**"
      ]
    },
    {
      "cell_type": "code",
      "metadata": {
        "id": "KszaqnV79KhB",
        "colab_type": "code",
        "colab": {}
      },
      "source": [
        "from google.colab import drive\n",
        "drive.mount('/content/drive')\n",
        "!ln -s /content/drive/'My Drive'/Sentiment_Classification"
      ],
      "execution_count": null,
      "outputs": []
    },
    {
      "cell_type": "code",
      "metadata": {
        "id": "m7n984Hp9tVS",
        "colab_type": "code",
        "colab": {}
      },
      "source": [
        "!pip install underthesea\n",
        "!pip install unidecode\n",
        "!pip install scikit-learn==0.23.1\n",
        "!pip install keras==2.2.5\n",
        "!pip install TensorFlow==1.14"
      ],
      "execution_count": null,
      "outputs": []
    },
    {
      "cell_type": "markdown",
      "metadata": {
        "id": "dXdJg9NeU0P5",
        "colab_type": "text"
      },
      "source": [
        "### **import lib**"
      ]
    },
    {
      "cell_type": "code",
      "metadata": {
        "id": "m4potPEzU6Ix",
        "colab_type": "code",
        "colab": {}
      },
      "source": [
        "import pandas as pd\n",
        "import glob\n",
        "import seaborn as sns\n",
        "import string\n",
        "from string import digits, punctuation\n",
        "import re\n",
        "from nltk.corpus import wordnet\n",
        "from nltk.stem import WordNetLemmatizer\n",
        "from keras.preprocessing.text import Tokenizer\n",
        "from keras.preprocessing import sequence\n",
        "from keras.preprocessing.sequence import pad_sequences\n",
        "import numpy as np\n",
        "from keras.layers import LSTM, Activation, Dense, Dropout, Input, Embedding, BatchNormalization\n",
        "from keras.optimizers import RMSprop,Adam\n",
        "from keras.models import Sequential\n",
        "from keras.layers import Dense, Embedding, LSTM, SpatialDropout1D\n",
        "from keras.backend import clear_session\n",
        "import matplotlib.pyplot as plt\n",
        "from mlxtend.plotting import plot_confusion_matrix\n",
        "from sklearn.feature_extraction.text import TfidfVectorizer\n",
        "from sklearn import model_selection, naive_bayes, svm\n",
        "from sklearn.metrics import accuracy_score\n",
        "from sklearn.metrics import classification_report,confusion_matrix\n",
        "from underthesea import word_tokenize\n",
        "import unidecode\n",
        "import joblib\n",
        "import nltk\n",
        "nltk.download('averaged_perceptron_tagger')\n",
        "nltk.download('wordnet')\n",
        "nltk.download('punkt')\n",
        "nltk.download('stopwords')\n"
      ],
      "execution_count": null,
      "outputs": []
    },
    {
      "cell_type": "markdown",
      "metadata": {
        "id": "tU0qnztsVFQ8",
        "colab_type": "text"
      },
      "source": [
        "### **Import data into Pandas**"
      ]
    },
    {
      "cell_type": "code",
      "metadata": {
        "id": "bWur2VrQVQq-",
        "colab_type": "code",
        "colab": {
          "base_uri": "https://localhost:8080/",
          "height": 195
        },
        "outputId": "4aa06e86-2e8c-4d9c-afe1-c275bf7a42be"
      },
      "source": [
        "df_train= pd.read_csv('/content/Sentiment_Classification/data/train.csv')\n",
        "df_test= pd.read_csv('/content/Sentiment_Classification/data/test.csv')\n",
        "\n",
        "df_train.head(5)\n"
      ],
      "execution_count": null,
      "outputs": [
        {
          "output_type": "execute_result",
          "data": {
            "text/html": [
              "<div>\n",
              "<style scoped>\n",
              "    .dataframe tbody tr th:only-of-type {\n",
              "        vertical-align: middle;\n",
              "    }\n",
              "\n",
              "    .dataframe tbody tr th {\n",
              "        vertical-align: top;\n",
              "    }\n",
              "\n",
              "    .dataframe thead th {\n",
              "        text-align: right;\n",
              "    }\n",
              "</style>\n",
              "<table border=\"1\" class=\"dataframe\">\n",
              "  <thead>\n",
              "    <tr style=\"text-align: right;\">\n",
              "      <th></th>\n",
              "      <th>cau_goc</th>\n",
              "      <th>nhan</th>\n",
              "    </tr>\n",
              "  </thead>\n",
              "  <tbody>\n",
              "    <tr>\n",
              "      <th>0</th>\n",
              "      <td>cam ơn shop nhiều lam, e nhận dc máy rồi,  sài...</td>\n",
              "      <td>1</td>\n",
              "    </tr>\n",
              "    <tr>\n",
              "      <th>1</th>\n",
              "      <td>Ngon như ăn cà</td>\n",
              "      <td>1</td>\n",
              "    </tr>\n",
              "    <tr>\n",
              "      <th>2</th>\n",
              "      <td>Ve ngoai hinh khoang 96℅,mat kinh truoc va sau...</td>\n",
              "      <td>1</td>\n",
              "    </tr>\n",
              "    <tr>\n",
              "      <th>3</th>\n",
              "      <td>lỗi vào 4G, phải khởi động lại máy thì mới chu...</td>\n",
              "      <td>0</td>\n",
              "    </tr>\n",
              "    <tr>\n",
              "      <th>4</th>\n",
              "      <td>Đã mua và nhận xét : ngoại hình khá, màn hình ...</td>\n",
              "      <td>0</td>\n",
              "    </tr>\n",
              "  </tbody>\n",
              "</table>\n",
              "</div>"
            ],
            "text/plain": [
              "                                             cau_goc  nhan\n",
              "0  cam ơn shop nhiều lam, e nhận dc máy rồi,  sài...     1\n",
              "1                                     Ngon như ăn cà     1\n",
              "2  Ve ngoai hinh khoang 96℅,mat kinh truoc va sau...     1\n",
              "3  lỗi vào 4G, phải khởi động lại máy thì mới chu...     0\n",
              "4  Đã mua và nhận xét : ngoại hình khá, màn hình ...     0"
            ]
          },
          "metadata": {
            "tags": []
          },
          "execution_count": 2
        }
      ]
    },
    {
      "cell_type": "code",
      "metadata": {
        "id": "P4-PA-aeFTt_",
        "colab_type": "code",
        "colab": {
          "base_uri": "https://localhost:8080/",
          "height": 168
        },
        "outputId": "8b24ecaf-c452-46ca-bd5d-12a956af5d6e"
      },
      "source": [
        "df_train.info()"
      ],
      "execution_count": null,
      "outputs": [
        {
          "output_type": "stream",
          "text": [
            "<class 'pandas.core.frame.DataFrame'>\n",
            "RangeIndex: 10000 entries, 0 to 9999\n",
            "Data columns (total 2 columns):\n",
            " #   Column   Non-Null Count  Dtype \n",
            "---  ------   --------------  ----- \n",
            " 0   cau_goc  10000 non-null  object\n",
            " 1   nhan     10000 non-null  int64 \n",
            "dtypes: int64(1), object(1)\n",
            "memory usage: 156.4+ KB\n"
          ],
          "name": "stdout"
        }
      ]
    },
    {
      "cell_type": "code",
      "metadata": {
        "id": "eMGGObQ8FW5p",
        "colab_type": "code",
        "colab": {
          "base_uri": "https://localhost:8080/",
          "height": 168
        },
        "outputId": "0039dbdc-b3c1-4a5f-97d0-32f098008cb5"
      },
      "source": [
        "df_test.info()"
      ],
      "execution_count": null,
      "outputs": [
        {
          "output_type": "stream",
          "text": [
            "<class 'pandas.core.frame.DataFrame'>\n",
            "RangeIndex: 2537 entries, 0 to 2536\n",
            "Data columns (total 2 columns):\n",
            " #   Column   Non-Null Count  Dtype \n",
            "---  ------   --------------  ----- \n",
            " 0   cau_goc  2537 non-null   object\n",
            " 1   nhan     2537 non-null   int64 \n",
            "dtypes: int64(1), object(1)\n",
            "memory usage: 39.8+ KB\n"
          ],
          "name": "stdout"
        }
      ]
    },
    {
      "cell_type": "markdown",
      "metadata": {
        "id": "-cPRMlAdv7zL",
        "colab_type": "text"
      },
      "source": [
        "### **Data visualization**"
      ]
    },
    {
      "cell_type": "code",
      "metadata": {
        "id": "ynV5HOxpv64-",
        "colab_type": "code",
        "colab": {
          "base_uri": "https://localhost:8080/",
          "height": 296
        },
        "outputId": "a797bfb7-9c68-4c22-af06-1a2e784b29f3"
      },
      "source": [
        "sns.set_style(\"dark\")\n",
        "sns.countplot(df_train.nhan)"
      ],
      "execution_count": null,
      "outputs": [
        {
          "output_type": "execute_result",
          "data": {
            "text/plain": [
              "<matplotlib.axes._subplots.AxesSubplot at 0x7f207b4b8b70>"
            ]
          },
          "metadata": {
            "tags": []
          },
          "execution_count": 5
        },
        {
          "output_type": "display_data",
          "data": {
            "image/png": "[encoded data removed]",
            "text/plain": [
              "<Figure size 432x288 with 1 Axes>"
            ]
          },
          "metadata": {
            "tags": []
          }
        }
      ]
    },
    {
      "cell_type": "markdown",
      "metadata": {
        "id": "7WqDWMpLV-7F",
        "colab_type": "text"
      },
      "source": [
        "**See how comment look like**"
      ]
    },
    {
      "cell_type": "code",
      "metadata": {
        "id": "wVwRrjFcWDmF",
        "colab_type": "code",
        "colab": {
          "base_uri": "https://localhost:8080/",
          "height": 406
        },
        "outputId": "b31321a1-ae13-4c0b-ecde-135f7209e190"
      },
      "source": [
        "for i,content in enumerate (df_train['cau_goc'], 1):\n",
        "    if i > 20:\n",
        "        break\n",
        "    else:\n",
        "        print(i, content)"
      ],
      "execution_count": null,
      "outputs": [
        {
          "output_type": "stream",
          "text": [
            "1 cam ơn shop nhiều lam, e nhận dc máy rồi,  sài ok lam, 😄😄😄😄\n",
            "2 Ngon như ăn cà\n",
            "3 Ve ngoai hinh khoang 96℅,mat kinh truoc va sau may co vet xuoc.loa e nay hoi be,xet ve gia tien oke.mih dung chi nghe goi,quan trong ben la oke.\n",
            "4 lỗi vào 4G, phải khởi động lại máy thì mới chuyển E thành 4G, chuyển địa điểm khác bật 4G lên hiện E thì khởi động lại tiếp thì ok\n",
            "5 Đã mua và nhận xét : ngoại hình khá, màn hình rất rỗ, ý kiến cá nhân mình thì nên bỏ cam trước và tăng độ phân giải màn hình lên tí nữa vì cam trước độ phân giải quá thấp nên chẳng mấy ai chụp hình với nó cả \n",
            "6 Máy bị lỗi giải quyết như thế nào shop oi.\n",
            "7 Máy lướt web mau nóng máy,mặt lưng bám vân tay khá nhiều,cầm trơn trượt rất dễ rơi.pin mau hết..hơi thất vọng \n",
            "8 Sai lầm khi mua máy này. Sản phẩm bị lỗi quá nhiều. Đơ liên tục.ra tgdd họ k đổi cho mình đập luôn máy tại cửa hàng vì sản phẩm lừa khách hàng.k phát trực tiếp trên face.pjn 5k mà k bằng pin 2k.sắc mặt 5 tiếng .dùng chưa đến 2 tương hết pin\n",
            "9 Máy xài rất ok Với giá tiền vậy thì khg chê vào đâu\n",
            "10 Đôi lúc có vẻ máy phản hồi cảm ứng hơi bị đơ, Hay cảm ứng kém thì không rõ nhưng thao tác hơi bị ức chế. Về cảm biến vân tay thì cực ức chế, cực kỳ kém nhạy. Tối đa ba vân tay chỉ ép cho một ngón thì cũng chỉ cải thiện đc 50%, vẫn 4  - 5 lần mới mở đc máy. Một số app thông dụng chạy tí thì  có phát sinh lỗi. Thiết kế và cảm nhận thì ko như kỳ vọng. Đc cái sạc nhanh, game vừa vẫn ổn. \n",
            "11 Chơi game không được mướt \n",
            "Pin không trâu lắm.\n",
            "Tầm 6 tr 9 thì vừa camera chụp tối \n",
            "12 Sản phẩm tuyệt vời đúng như quảng cáo trên trang web\n",
            "13 Hàng đóng gói cẩn thận giao hàng nhanh. Hiện tại xài rất OK cho shop 5 sao\n",
            "14 Chất lượng tốt so với giá, nghe gọi to rõ, sóng ổn.\n",
            "15 sản phẩm tốt hơn mong đợi  máy rất đẹp chiến game  khá mượt mà mà  pin lại trâu nói chung là rat hài lòng  lãnh lương sẻ mua thêm 1cai nữa cho e  tks nhé\n",
            "16 Ko s.dụng nhiều, nên ko rõ cái lỗi của pin. Nhưng: CAM selfie xấu lắm, 4G hay LTE chỉ xài đc từ SIM2 còn SIM1 không, loa ngoài có lúc to lúc nhỏ, cái thanh cuộn trên xuống hôm rồi bị tràng mất 1 phần rìa (nay thì ko bị nữa) ưu điểm có nhưng ko nhiều. \n",
            "17 Mua máy về xài mang thêm bệnh tức.thua đồ TQ. Xài lâu thêm hại thân do amoled xuống cấp làm hại mắt. Samsung xưa xài ok giờ xài lỗi liên tục .ai mún mua nên suy nghĩ kĩ lại.đừng vì thương hiệu mà lầm.đồ nào cũng xài đc quan trọng cái nào đáp ứng đúng nhu cầu.mua con này về tức thêm\n",
            "18 Phải chỉnh sim lệch sang trái như này mới nhận sim. Máy dùng ngon nhé. Shop phục vụ nhiệt tình 😆😆\n",
            "19 Gửi rất cẩn thận ạ , máy rất đẹp ,rất hài lòng \n",
            "20 Lúc đầu sài thấy ổn, chỉ pin tụt nhanh, cảm ứng bàn phím hay bị lỗi văng ra ngoài, hay bị đơ khi chat face, zalo, nhận cuộc gọi khi đang chat, sóng wifi thì ổn, 4G thì tào lao quá so với các sản phẩm cùng tầm giá, chụp hình bông hoa, phong cảnh lúc đưa vào camera màu sắc rất đẹp, nhưng khi xem hình thì 7/10 với lúc chụp.\n"
          ],
          "name": "stdout"
        }
      ]
    },
    {
      "cell_type": "markdown",
      "metadata": {
        "id": "aEcDp-P2WloX",
        "colab_type": "text"
      },
      "source": [
        "### **Text cleansing**"
      ]
    },
    {
      "cell_type": "code",
      "metadata": {
        "id": "eVl0JP_3WoKH",
        "colab_type": "code",
        "colab": {
          "base_uri": "https://localhost:8080/",
          "height": 101
        },
        "outputId": "09732836-72e6-4341-c92a-c475183ac5dc"
      },
      "source": [
        "def standardize_data(df):\n",
        "    hl_cleansed=[]\n",
        "    for row in df:\n",
        "        row = row.strip()\n",
        "        row = row.translate(str.maketrans('', '', punctuation))\n",
        "        hl_cleansed.append(row)\n",
        "    return hl_cleansed\n",
        "\n",
        "hl_cleansed=standardize_data(df_train['cau_goc'])\n",
        "hl_cleansed_test=standardize_data(df_test['cau_goc'])\n",
        "    \n",
        "    \n",
        "# View comparison\n",
        "index=0\n",
        "print('Original texts :')\n",
        "print(df_train['cau_goc'][index])\n",
        "print('\\nAfter cleansed :')\n",
        "print(hl_cleansed[index])"
      ],
      "execution_count": null,
      "outputs": [
        {
          "output_type": "stream",
          "text": [
            "Original texts :\n",
            "cam ơn shop nhiều lam, e nhận dc máy rồi,  sài ok lam, 😄😄😄😄\n",
            "\n",
            "After cleansed :\n",
            "cam ơn shop nhiều lam e nhận dc máy rồi  sài ok lam 😄😄😄😄\n"
          ],
          "name": "stdout"
        }
      ]
    },
    {
      "cell_type": "markdown",
      "metadata": {
        "id": "dpY1y859XO4u",
        "colab_type": "text"
      },
      "source": [
        "**Tokenization, remove accents, remove stopwords**"
      ]
    },
    {
      "cell_type": "code",
      "metadata": {
        "id": "nPTwGHaXXNTp",
        "colab_type": "code",
        "colab": {
          "base_uri": "https://localhost:8080/",
          "height": 121
        },
        "outputId": "5f272bed-93c3-4e70-94e3-866a88762f5a"
      },
      "source": [
        "def vi_tokenizer(row):\n",
        "    row=row.lower()\n",
        "    return word_tokenize(row, format=\"text\")\n",
        "\n",
        "def remove_accents(row):\n",
        "  return unidecode.unidecode(row)\n",
        "\n",
        "def remove_stopwords(stopwords,hl_split):\n",
        "  sent = [s for s in hl_split if s not in stopwords ]\n",
        "  return sent\n",
        "\n",
        "stopwords=set(open('/content/Sentiment_Classification/data/stopwords.txt').read().split(' ')[:-1])\n",
        "\n",
        "#for training set\n",
        "hl_tokens = []\n",
        "for hl in hl_cleansed:\n",
        "    hl=vi_tokenizer(hl)\n",
        "    clean=remove_stopwords(stopwords,hl.split())\n",
        "    #clean=[remove_accents(s) for s in clean]\n",
        "    hl_tokens.append(clean)\n",
        "\n",
        "#for testing set\n",
        "hl_tokens_test = []\n",
        "for hl in hl_cleansed_test:\n",
        "    hl=vi_tokenizer(hl)\n",
        "    clean=remove_stopwords(stopwords,hl.split())\n",
        "    #clean=[remove_accents(s) for s in clean]\n",
        "    hl_tokens_test.append(clean)\n",
        "\n",
        "\n",
        "# View Comparison\n",
        "index=3\n",
        "print('Before tokenization :')\n",
        "print(hl_cleansed[index])\n",
        "print('\\nAfter tokenization :')\n",
        "print(hl_tokens[index])"
      ],
      "execution_count": null,
      "outputs": [
        {
          "output_type": "stream",
          "text": [
            "Before tokenization :\n",
            "lỗi vào 4G phải khởi động lại máy thì mới chuyển E thành 4G chuyển địa điểm khác bật 4G lên hiện E thì khởi động lại tiếp thì ok\n",
            "\n",
            "After tokenization :\n",
            "['lỗi', '4g', 'khởi_động', 'máy', 'mới', 'chuyển', 'e', 'thành', '4g', 'chuyển', 'địa_điểm', 'khác', 'bật', '4g', 'hiện', 'e', 'khởi_động', 'tiếp', 'ok']\n"
          ],
          "name": "stdout"
        }
      ]
    },
    {
      "cell_type": "markdown",
      "metadata": {
        "id": "TlwzaN0MlsVL",
        "colab_type": "text"
      },
      "source": [
        "### **Data Vectorization**"
      ]
    },
    {
      "cell_type": "code",
      "metadata": {
        "id": "CWpLqv9emfel",
        "colab_type": "code",
        "colab": {
          "base_uri": "https://localhost:8080/",
          "height": 386
        },
        "outputId": "a056e7b6-71c4-4845-f182-dceae457dea0"
      },
      "source": [
        "max_features = 3000\n",
        "max_token = len(max(hl_tokens,key=len))\n",
        "tokenizer = Tokenizer(num_words=max_features)\n",
        "tokenizer.fit_on_texts(hl_tokens)\n",
        "sequences = tokenizer.texts_to_sequences(hl_tokens)\n",
        "sequences_test = tokenizer.texts_to_sequences(hl_tokens_test)\n",
        "X_Train = pad_sequences(sequences, maxlen=max_token)\n",
        "X_test=pad_sequences(sequences_test, maxlen=max_token)\n",
        "\n",
        "# View comparison\n",
        "index=3\n",
        "print('Original texts :')\n",
        "print(df_train['cau_goc'][index])\n",
        "print('\\nAfter vectorization :')\n",
        "print(X_Train[index])"
      ],
      "execution_count": null,
      "outputs": [
        {
          "output_type": "stream",
          "text": [
            "Original texts :\n",
            "lỗi vào 4G, phải khởi động lại máy thì mới chuyển E thành 4G, chuyển địa điểm khác bật 4G lên hiện E thì khởi động lại tiếp thì ok\n",
            "\n",
            "After vectorization :\n",
            "[   0    0    0    0    0    0    0    0    0    0    0    0    0    0\n",
            "    0    0    0    0    0    0    0    0    0    0    0    0    0    0\n",
            "    0    0    0    0    0    0    0    0    0    0    0    0    0    0\n",
            "    0    0    0    0    0    0    0    0    0    0    0    0    0    0\n",
            "    0    0    0    0    0    0    0    0    0    0    0    0    0    0\n",
            "    0    0    0    0    0    0    0    0    0    0    0    0    0    0\n",
            "    0    0    0    0    0    0    0    0    0    0    0    0    0    0\n",
            "    0    0    0    0    0    0    0    0    0    0    0    0    0    0\n",
            "    0    0    0    0    0    0    0    0    0    0    0    0    0    0\n",
            "    0    0    0    0    0    0    0    0    0    0    0    0    0    0\n",
            "    0    0    0    0    0    0    0    0    0    0    0    0    0    0\n",
            "    0    0    0    0    0    0    0    0    0    0    0    0    0    0\n",
            "    0    0    0    0    0    0    0    0    0    0    0    0    0    0\n",
            "    0    0    0    0    0    0    0    0    0    0    0    0    0    0\n",
            "    0    0    0    0    0    0    0    0    0    0    0    0    0    0\n",
            "    0    0    0    0    0    0    0    0    0    0    0    0    0    0\n",
            "   22   94  229    1    7  292  161  742   94  292 2119   64  225   94\n",
            "  346  161  229  279   12]\n"
          ],
          "name": "stdout"
        }
      ]
    },
    {
      "cell_type": "markdown",
      "metadata": {
        "id": "AM1y1cQmsxep",
        "colab_type": "text"
      },
      "source": [
        "# **Training with RNN**"
      ]
    },
    {
      "cell_type": "markdown",
      "metadata": {
        "id": "hDjT4knoV52K",
        "colab_type": "text"
      },
      "source": [
        "## **Building the Model**"
      ]
    },
    {
      "cell_type": "code",
      "metadata": {
        "id": "fuWARJQWWhN-",
        "colab_type": "code",
        "colab": {}
      },
      "source": [
        "Y_Train=df_train['nhan'].values\n",
        "Y_Train = np.vstack(Y_Train)\n",
        "\n",
        "Y_test=df_test['nhan'].values\n",
        "Y_test=np.vstack(Y_test)"
      ],
      "execution_count": null,
      "outputs": []
    },
    {
      "cell_type": "code",
      "metadata": {
        "id": "0pSGmoFTnRLz",
        "colab_type": "code",
        "colab": {}
      },
      "source": [
        "clear_session()"
      ],
      "execution_count": null,
      "outputs": []
    },
    {
      "cell_type": "code",
      "metadata": {
        "id": "lFDFFq9kuM0C",
        "colab_type": "code",
        "colab": {
          "base_uri": "https://localhost:8080/",
          "height": 403
        },
        "outputId": "548b1ffc-8170-4c4e-d5b2-6648eda77e8e"
      },
      "source": [
        "embed_dim = 64\n",
        "model = Sequential()\n",
        "model.add(Embedding(max_features, embed_dim,input_length = max_token))\n",
        "model.add(LSTM(96, dropout=0.2, recurrent_dropout=0.2, activation='relu'))\n",
        "model.add(Dense(100))\n",
        "#model.add(Activation('relu'))\n",
        "model.add(BatchNormalization())\n",
        "model.add(Dropout(0.5))\n",
        "model.add(Dense(1))\n",
        "model.add(Activation('sigmoid'))\n",
        "model.compile(loss = 'binary_crossentropy', optimizer='adam',metrics = ['accuracy'])\n",
        "print(model.summary())"
      ],
      "execution_count": null,
      "outputs": [
        {
          "output_type": "stream",
          "text": [
            "Model: \"sequential_1\"\n",
            "_________________________________________________________________\n",
            "Layer (type)                 Output Shape              Param #   \n",
            "=================================================================\n",
            "embedding_1 (Embedding)      (None, 243, 64)           192000    \n",
            "_________________________________________________________________\n",
            "lstm_1 (LSTM)                (None, 96)                61824     \n",
            "_________________________________________________________________\n",
            "dense_1 (Dense)              (None, 100)               9700      \n",
            "_________________________________________________________________\n",
            "batch_normalization_1 (Batch (None, 100)               400       \n",
            "_________________________________________________________________\n",
            "dropout_1 (Dropout)          (None, 100)               0         \n",
            "_________________________________________________________________\n",
            "dense_2 (Dense)              (None, 1)                 101       \n",
            "_________________________________________________________________\n",
            "activation_1 (Activation)    (None, 1)                 0         \n",
            "=================================================================\n",
            "Total params: 264,025\n",
            "Trainable params: 263,825\n",
            "Non-trainable params: 200\n",
            "_________________________________________________________________\n",
            "None\n"
          ],
          "name": "stdout"
        }
      ]
    },
    {
      "cell_type": "markdown",
      "metadata": {
        "id": "kIVsgjeSuVzt",
        "colab_type": "text"
      },
      "source": [
        "## **Training process**"
      ]
    },
    {
      "cell_type": "code",
      "metadata": {
        "id": "s0efz9cCuWA7",
        "colab_type": "code",
        "colab": {
          "base_uri": "https://localhost:8080/",
          "height": 168
        },
        "outputId": "e8b168cf-0cd9-4f9e-d0e3-04d9ce24721f"
      },
      "source": [
        "epoch = 4\n",
        "batch_size = 256\n",
        "history=model.fit(X_Train, Y_Train, epochs = epoch, batch_size=batch_size, verbose = 2, validation_split=0.2)"
      ],
      "execution_count": null,
      "outputs": [
        {
          "output_type": "stream",
          "text": [
            "Train on 8000 samples, validate on 2000 samples\n",
            "Epoch 1/4\n",
            " - 38s - loss: 0.4313 - acc: 0.7933 - val_loss: 0.2314 - val_acc: 0.9090\n",
            "Epoch 2/4\n",
            " - 37s - loss: 0.1983 - acc: 0.9250 - val_loss: 0.1946 - val_acc: 0.9275\n",
            "Epoch 3/4\n",
            " - 38s - loss: 0.1362 - acc: 0.9475 - val_loss: 0.2002 - val_acc: 0.9325\n",
            "Epoch 4/4\n",
            " - 38s - loss: 0.1021 - acc: 0.9614 - val_loss: 0.2064 - val_acc: 0.9345\n"
          ],
          "name": "stdout"
        }
      ]
    },
    {
      "cell_type": "markdown",
      "metadata": {
        "id": "KyZoDoOFuer8",
        "colab_type": "text"
      },
      "source": [
        "# ***Model Evaluation***\n",
        "\n"
      ]
    },
    {
      "cell_type": "code",
      "metadata": {
        "id": "vulxXnegue6e",
        "colab_type": "code",
        "colab": {
          "base_uri": "https://localhost:8080/",
          "height": 356
        },
        "outputId": "02ff8bdb-cf8b-4648-bcec-fe58e4b6e88f"
      },
      "source": [
        "fig, (ax1, ax2) = plt.subplots(1,2,figsize=(15,5))\n",
        "fig.suptitle(\"Performance of Model\")\n",
        "ax1.plot(history.history['acc'])\n",
        "ax1.plot(history.history['val_acc'])\n",
        "vline_cut = np.where(history.history['val_acc'] == np.max(history.history['val_acc']))[0][0]\n",
        "ax1.axvline(x=vline_cut, color='k', linestyle='--')\n",
        "ax1.set_title(\"Model Accuracy\")\n",
        "ax1.legend(['train', 'test'])\n",
        "\n",
        "ax2.plot(history.history['loss'])\n",
        "ax2.plot(history.history['val_loss'])\n",
        "vline_cut = np.where(history.history['val_loss'] == np.min(history.history['val_loss']))[0][0]\n",
        "ax2.axvline(x=vline_cut, color='k', linestyle='--')\n",
        "ax2.set_title(\"Model Loss\")\n",
        "ax2.legend(['train', 'test'])\n",
        "plt.show()"
      ],
      "execution_count": null,
      "outputs": [
        {
          "output_type": "display_data",
          "data": {
            "image/png": "[encoded data removed]",
            "text/plain": [
              "<Figure size 1080x360 with 2 Axes>"
            ]
          },
          "metadata": {
            "tags": []
          }
        }
      ]
    },
    {
      "cell_type": "code",
      "metadata": {
        "id": "QdXPIWqX5ZV9",
        "colab_type": "code",
        "colab": {
          "base_uri": "https://localhost:8080/",
          "height": 279
        },
        "outputId": "20dca257-ae61-45e5-ccdd-695e27c84f7d"
      },
      "source": [
        "pred=np.around(model.predict(X_test))\n",
        "fig, ax = plot_confusion_matrix(conf_mat=confusion_matrix(Y_test,pred))\n",
        "plt.show()"
      ],
      "execution_count": null,
      "outputs": [
        {
          "output_type": "display_data",
          "data": {
            "image/png": "[encoded data removed]",
            "text/plain": [
              "<Figure size 432x288 with 1 Axes>"
            ]
          },
          "metadata": {
            "tags": []
          }
        }
      ]
    },
    {
      "cell_type": "code",
      "metadata": {
        "id": "C4titeOt6WVX",
        "colab_type": "code",
        "colab": {
          "base_uri": "https://localhost:8080/",
          "height": 168
        },
        "outputId": "4c211922-fb5c-48d6-ac52-efd75ce250d1"
      },
      "source": [
        "print(classification_report(Y_test,pred))"
      ],
      "execution_count": null,
      "outputs": [
        {
          "output_type": "stream",
          "text": [
            "              precision    recall  f1-score   support\n",
            "\n",
            "           0       0.92      0.93      0.92      1243\n",
            "           1       0.93      0.92      0.93      1294\n",
            "\n",
            "    accuracy                           0.92      2537\n",
            "   macro avg       0.92      0.92      0.92      2537\n",
            "weighted avg       0.92      0.92      0.92      2537\n",
            "\n"
          ],
          "name": "stdout"
        }
      ]
    },
    {
      "cell_type": "markdown",
      "metadata": {
        "id": "3W3GGFrtydIP",
        "colab_type": "text"
      },
      "source": [
        "# ***Use Another ML Algorithms to Training***"
      ]
    },
    {
      "cell_type": "markdown",
      "metadata": {
        "id": "hc6yudU6yiTr",
        "colab_type": "text"
      },
      "source": [
        "**Convert Data**"
      ]
    },
    {
      "cell_type": "code",
      "metadata": {
        "id": "dHQmHnP8ytNr",
        "colab_type": "code",
        "colab": {}
      },
      "source": [
        "X_Train = [\" \".join(x) for x in hl_tokens]\n",
        "X_test = [\" \".join(x) for x in hl_tokens_test]\n",
        "Y_Train=df_train['nhan'].values\n",
        "Y_test=df_test['nhan'].values"
      ],
      "execution_count": null,
      "outputs": []
    },
    {
      "cell_type": "markdown",
      "metadata": {
        "id": "QHwx3tOFy49L",
        "colab_type": "text"
      },
      "source": [
        "**Word Vectorization using TF-IDF**"
      ]
    },
    {
      "cell_type": "code",
      "metadata": {
        "id": "3vbnbytFyxAb",
        "colab_type": "code",
        "colab": {}
      },
      "source": [
        "Tfidf_vect = TfidfVectorizer(max_features=3000)\n",
        "Tfidf_vect.fit(X_Train)\n",
        "Train_X_Tfidf = Tfidf_vect.transform(X_Train)\n",
        "Test_X_Tfidf = Tfidf_vect.transform(X_test)"
      ],
      "execution_count": null,
      "outputs": []
    },
    {
      "cell_type": "code",
      "metadata": {
        "id": "XYYPzaVW9rvE",
        "colab_type": "code",
        "colab": {
          "base_uri": "https://localhost:8080/",
          "height": 54
        },
        "outputId": "35b72255-7f84-4f8b-cba2-da16874e43cb"
      },
      "source": [
        "print(Tfidf_vect.vocabulary_)"
      ],
      "execution_count": null,
      "outputs": [
        {
          "output_type": "stream",
          "text": [
            "{'cam': 378, 'ơn_shop': 2961, 'lam': 1241, 'nhận': 1711, 'dc': 678, 'máy': 1469, 'sài': 2078, 'ok': 1819, 'ngon': 1589, 'ăn': 2792, 'cà': 566, 've': 2574, 'ngoai': 1588, 'hinh': 932, 'khoang': 1120, '96': 178, 'mat': 1402, 'kinh': 1178, 'truoc': 2357, 'va': 2565, 'may': 1405, 'co': 542, 'nay': 1569, 'hoi': 953, 'gia': 828, 'tien': 2292, 'dung': 703, 'chi': 399, 'nghe': 1579, 'trong': 2350, 'ben': 247, 'la': 1237, 'oke': 1822, 'lỗi': 1372, '4g': 106, 'khởi_động': 1167, 'mới': 1547, 'chuyển': 431, 'thành': 2208, 'địa_điểm': 2915, 'khác': 1139, 'bật': 336, 'hiện': 936, 'tiếp': 2306, 'mua': 1447, 'nhận_xét': 1714, 'ngoại_hình': 1594, 'khá': 1138, 'màn_hình': 1458, 'rỗ': 2002, 'ý_kiến': 2789, 'cá_nhân': 573, 'mình': 1486, 'bỏ': 353, 'tăng': 2465, 'độ': 2941, 'phân_giải': 1863, 'tí': 2446, 'quá': 1928, 'thấp': 2244, 'chẳng': 497, 'mấy': 1516, 'ai': 207, 'chụp': 523, 'hình': 999, 'nó': 1771, 'giải_quyết': 855, 'thế_nào': 2263, 'shop': 2039, 'oi': 1818, 'lướt': 1341, 'web': 2673, 'mau': 1403, 'nóng': 1776, 'lưng': 1336, 'bám': 284, 'vân': 2616, 'tay': 2142, 'trơn': 2375, 'trượt': 2380, 'dễ': 751, 'thất_vọng': 2247, 'sai_lầm': 2014, 'sản_phẩm': 2102, 'đơ': 2872, 'liên': 1263, 'tgdd': 2153, 'họ': 1041, 'đổi': 2937, 'đập': 2894, 'luôn': 1302, 'cửa_hàng': 664, 'lừa': 1381, 'khách': 1141, 'phát': 1854, 'trực_tiếp': 2405, '5k': 126, 'bằng': 344, 'pin': 1898, 'mặt': 1526, 'tiếng': 2305, 'dùng': 733, 'tương': 2470, 'hết': 1033, 'xài': 2712, 'giá': 840, 'tiền': 2313, 'khg': 1115, 'chê': 451, 'đâu': 2849, 'đôi': 2864, 'có_vẻ': 590, 'phản_hồi': 1880, 'cảm_ứng': 628, 'hơi': 1013, 'hay': 921, 'kém': 1202, 'rõ': 1986, 'thao_tác': 2170, 'ức_chế': 2997, 'về': 2654, 'cảm_biến': 622, 'cực': 665, 'cực_kỳ': 667, 'nhạy': 1700, 'tối_đa': 2514, 'ba': 231, 'ép': 2776, 'ngón': 1616, 'cải_thiện': 619, 'đc': 2800, '50': 114, 'lần': 1350, 'mở': 1558, 'một_số': 1544, 'app': 226, 'chạy': 475, 'phát_sinh': 1858, 'thiết_kế': 2185, 'cảm_nhận': 624, 'ko': 1194, 'kỳ_vọng': 1231, 'sạc': 2097, 'nhanh': 1640, 'game': 810, 'vừa': 2669, 'ổn': 2988, 'chơi': 471, 'mướt': 1500, 'trâu': 2365, 'lắm': 1355, 'tầm': 2490, 'tr': 2336, 'camera': 382, 'tối': 2511, 'tuyệt_vời': 2417, 'đúng': 2869, 'quảng_cáo': 1945, 'trang': 2339, 'hàng': 985, 'đóng_gói': 2862, 'cẩn_thận': 640, 'giao': 832, 'hiện_tại': 939, 'sao': 2021, 'chất_lượng': 485, 'tốt': 2517, 'gọi': 900, 'to': 2325, 'sóng': 2086, 'hơn': 1014, 'mong_đợi': 1442, 'đẹp': 2904, 'chiến': 408, 'mượt_mà': 1503, 'nói_chung': 1774, 'rat': 1957, 'hài_lòng': 983, 'lương': 1339, 'sẻ': 2112, 'thêm': 2221, 'nhé': 1683, 'selfie': 2031, 'xấu': 2729, 'lte': 1292, 'còn': 586, 'sim1': 2048, 'loa': 1278, 'ngoài': 1591, 'nhỏ': 1727, 'thanh': 2163, 'xuống': 2710, 'hôm': 1008, 'mất': 1511, 'phần': 1884, 'ưu_điểm': 2965, 'mang': 1399, 'bệnh': 348, 'đồ': 2923, 'tq': 2335, 'lâu': 1317, 'hại': 1018, 'thân': 2217, 'amoled': 214, 'xuống_cấp': 2711, 'mắt': 1523, 'samsung': 2017, 'xưa': 2723, 'giờ': 872, 'liên_tục': 1269, 'mún': 1496, 'suy_nghĩ': 2074, 'kĩ': 1214, 'thương_hiệu': 2241, 'nào': 1761, 'quan_trọng': 1916, 'đáp_ứng': 2848, 'nhu': 1667, 'con': 547, 'tức': 2540, 'chỉnh': 503, 'sim': 2047, 'lệch': 1363, 'sang': 2019, 'trái': 2362, 'phục_vụ': 1897, 'nhiệt_tình': 1661, 'gửi': 907, 'đầu': 2887, 'thấy': 2248, 'tụt': 2538, 'bàn_phím': 281, 'văng': 2637, 'chat': 394, 'face': 784, 'zalo': 2755, 'cuộc': 564, 'wifi': 2678, 'tào_lao': 2428, 'đưa': 2876, 'màu_sắc': 1461, 'xem': 2687, '710': 150, 'đợt': 2951, 'tiết_kiệm': 2312, 'thùng': 2235, 'sử_dụng': 2127, 'điện_thoại': 2819, 'mọi': 1535, 'thứ': 2281, 'trừ': 2404, 'cổng': 653, 'lởm': 1378, 'cắm': 644, 'uổng': 2561, 'full': 804, 'hộp': 1056, 'hoàn_hảo': 963, 'tuần': 2419, 'âm_thanh': 2773, 'tai_nghe': 2137, 'tai': 2136, 'kiểu': 1188, 'vọng': 2659, 'sp': 2067, 'nguồn': 1605, 'trả': 2382, 'địa_chỉ': 2914, 'xl': 2696, 'phiền': 1845, 'chị': 504, 'thật_sự': 2254, 'muốn': 1454, 'lời': 1377, 'giải_đáp': 858, 'bắt': 339, 'giật': 863, 'cùi': 598, 'bắn': 338, 'pupg': 1911, 'liên_quân': 1267, 'mai': 1393, 'pk': 1903, 'thế_giới': 2260, 'di_động': 690, 'coi': 544, 'k_thể': 1103, '5tr': 132, 'thế': 2259, 'a50': 192, 'đầu_tiên': 2889, 'tháng': 2214, 'tắt': 2497, 'dù': 728, 'pjn': 1902, 'viên': 2586, 'gởi': 905, 'nói': 1773, 'cong': 550, 'hỏi': 1044, 'bạn': 313, 'dt': 701, 'cục': 657, 'ốp': 2984, '250k': 60, 'rớt': 2004, 'nhẹ': 1723, 'báo': 287, 'đi': 2808, 'thợ': 2279, 'chuyên_nghiệp': 430, 'ngta': 1596, 'thật': 2252, 'lòng': 1325, 'dòng': 726, 'già': 839, '8tr': 172, 'pit': 1900, 'ngồi': 1632, 'đợi': 2950, 'kiếm': 1184, 'bực': 369, 'bước_đầu': 311, 'lâu_dài': 1318, 'biết': 257, 'test': 2148, 'yếu': 2752, '1000': 4, 'hêt': 996, 'unlock': 2554, 'việt': 2589, 'nua': 1757, 'xứng': 2731, 'voi': 2595, '1sao': 37, 'ma': 1389, 'thoi': 2193, 'ghim': 819, 'vô': 2625, 'nổ': 1804, 'tưởng': 2477, 'kêu': 1206, 'ship': 2035, 'thằng': 2256, 'chắc': 493, 'cty': 553, 'bố': 356, 'máy_móc': 1471, 'chính': 453, 'hãng': 992, 'tin_tưởng': 2298, 'lãng': 1320, 'ram': 1956, '3gb': 87, 'on': 1828, 'ban_đầu': 236, 'hữu_ích': 1068, 'nằm': 1794, 'ngang': 1577, 'cầm': 634, 'đứng': 2955, 'khó_chịu': 1147, 'khó': 1146, 'vuốt': 2609, 'nhận_diện': 1712, 'khuôn_mặt': 1137, 'mức': 1562, 'ám': 2765, 'vàng': 2612, 'bấm': 325, 'bên': 296, 'huawei': 976, 'tóm': 2454, 'thích_hợp': 2224, 'người': 1618, 'phổ_thông': 1893, 'ít': 2778, 'tùy': 2460, 'biến': 256, 'icon': 1071, 'phù_hợp': 1874, 'người_lớn': 1619, 'tuổi': 2420, 'điểm': 2816, 'lớn': 1375, 'nhất': 1706, 'riêng': 1970, 'thích': 2223, 'nova': 1750, '3i': 89, 'fpt': 802, 'sai': 2013, 'màu': 1460, 'vs': 2601, 'len': 1252, 'cx': 565, 'bán': 285, 'chuẩn': 435, 'hôm_qua': 1010, 'giữa': 875, 'thành_phố': 2210, 'cũ': 603, 'vạch': 2642, 'căng': 602, 'mạng': 1508, 'xong': 2699, 'youtube': 2747, 'tự_nhiên': 2547, 'mang_tiếng': 1400, '6g': 143, 'hiện_nay': 937, 'căn': 601, 'nhắc': 1719, 'đặt': 2902, 'biệt': 260, 'thua': 2200, '1280': 17, 'tốn': 2516, 'ngu': 1597, '20': 44, 'hang': 917, 'tot': 2328, 'messenger': 1413, 'không_thể': 1153, 'khắc_phục': 1161, 'như_ý': 1695, 'tải': 2485, 'dán': 715, 'tgian': 2156, 'bảo_hành': 320, 'khoẻ': 1127, 'hnay': 948, 'hở': 1058, 'sáng': 2080, 'ảnh_hưởng': 2970, 'trải_nghiệm': 2386, 'hồi': 1049, 'phát_hiện': 1856, 'cách': 574, 'fix': 797, 'mn': 1431, 'cài_đặt': 569, 'quản_lý': 1943, 'ứng_dụng': 2999, 'chọn': 508, 'hạn_chế': 1020, 'chai': 391, 'ảo': 2971, 'cận': 641, 'mờ': 1555, 'nhòe': 1690, 'pubg': 1910, 'tạm': 2481, 'dở': 760, 'chỗ': 514, '4gb': 107, 'hệ_thống': 1038, '2gb': 66, 'max': 1404, 'setting': 2033, 'một_chút': 1543, 'kiểm_tra': 1186, 'nhân_viên': 1679, 'xác_nhận': 2715, 'so_sánh': 2062, 'bảo': 319, 'kiểm_định': 1187, '30': 73, 'ngày': 1607, 'trả_lời': 2384, 'đk': 2821, 'năm': 1781, '2019': 49, 'dep': 684, 'đt': 2828, 'thường': 2242, 'nhảy': 1701, 'loạn_xạ': 1289, 'giúp': 851, 'khoảng': 1125, 'tháo': 2216, 'bộ': 360, 'xuất_hiện': 2708, 'sam': 2016, 'sung': 2072, 'tiếp_tục': 2309, 'hiểu': 934, 'tôi': 2456, 'gần': 897, 'mức_độ': 1563, 'trung_bình': 2352, 'nhắn_tin': 1722, 'fb': 789, 'hao': 920, 'mượt': 1502, 'chấp_nhận': 482, 'nấy': 1789, 'đấy': 2885, 'có_thể': 589, 'lắp': 1358, 'làm': 1306, 'chủ_shop': 526, 'hình_thức': 1002, 'chập': 491, 'chập_chờn': 492, 'đáng': 2841, 'mua_shop': 1450, 'uy_tín': 2559, 'đít': 2858, 'tui': 2408, 'clip': 539, 'bốc': 357, '128gb': 19, 'cạnh_tranh': 617, 'nguyên': 1602, 'seal': 2028, 'ý_định': 2791, 'chờ': 519, 'rom': 1973, 'lưu_ý': 1338, 'thời_gian': 2275, '17': 29, 'rẻ': 1996, 'sống': 2117, 'yếupin': 2754, 'tuột': 2422, 'chịu': 505, 'lấy': 1348, 'cảm_ơn': 627, 'lần_lần': 1351, '18': 30, 'rùi': 1989, 'tin': 2296, 'nhắn': 1721, 'ứng': 2998, 'thường_xuyên': 2243, 'loạn': 1288, 'mặc_dù': 1525, 'khóa': 1150, 'bảo_mật': 323, 'tránh': 2363, 'vô_tình': 2629, 'bỏ_túi': 355, 'tự': 2544, 'chạm': 474, 'lazada': 1247, 'kích': 1209, 'chủ': 524, 'tinh': 2299, 'bóc': 303, 'gõ': 892, 'văn_bản': 2635, 'bình_luận': 298, 'soạn': 2066, 'tìm_kiếm': 2442, 'số': 2115, 'lác': 1314, 'hihi': 931, 'ưng': 2963, 'kết_nối': 1222, 'bluetooth': 263, 'cài': 568, 'thay': 2172, 'trường_hợp': 2379, 'giựt': 876, 'bạn_bè': 314, 'đủ': 2953, 'nha': 1635, 'mong': 1438, 'chắc_chắn': 494, 'tem': 2145, 'nhà_sản_xuất': 1673, 'nhợt_nhạt': 1734, 'trung_thực': 2355, 'mãi': 1480, 'tâm': 2433, 'hình_như': 1000, 'dien': 691, 'thoai': 2192, 'mot': 1443, 'sat': 2023, 'nhat': 1647, 'bay': 246, 'gio': 836, 'minh': 1420, 'han': 916, 'tuong': 2411, 'roi': 1972, 'kg': 1108, 'hư': 1015, 'tệ': 2502, 'lag': 1239, 'cảm': 621, 'hỗ_trợ': 1053, 'tình': 2443, 'xanh': 2684, 'đen': 2802, 'cám_ơn': 575, 'not': 1745, 'cảm_thấy': 626, 'chán': 440, 'nản': 1787, 'phút': 1875, 'màng': 1459, 'quản': 1942, 'bít': 300, 'dùm': 731, 'đầy': 2890, 'làm_ăn': 1310, 'đàng_hoàng': 2836, 'liệt': 1271, 'nút': 1780, 'khách_hàng': 1142, 'lm': 1273, 'như_thế': 1693, 'phụ_kiện': 1895, 'đầy_đủ': 2891, 'ưng_ý': 2964, 'thử': 2284, 'chức_năng': 530, '10': 2, 'tội': 2533, 'em': 775, 'kế': 1219, 'hai': 910, 'den': 683, 'da': 668, 'nhiệm': 1659, 'thông_báo': 2228, 'nắng': 1792, 'nổi': 1805, '97': 179, 'nhìn': 1686, 'tư_vấn': 2468, '88': 166, 'hn': 947, 'đánh_giá': 2846, 'chậm': 487, 'chăm_sóc': 469, 'thôi': 2227, 'tốc_độ': 2510, 'cao': 385, '2g': 65, 'fim': 795, 'hd': 924, 'quay': 1920, 'lâu_lâu': 1319, 'mầu': 1517, 'tiệm_cận': 2315, 'điện': 2817, 'thiệt': 2190, 'đừng': 2958, 'tác': 2430, 'vụ': 2667, 'bình_thường': 299, 'wa': 2671, 'làm_sao': 1308, 'tôt': 2457, 'kiện': 1190, 'tiếc': 2303, 'khuyến_mãi': 1134, 'nhược_điểm': 1697, 'ảnh': 2969, 'oki': 1823, 'thoát': 2194, 'ra_vào': 1954, 'cập_nhật': 643, 'trạng_thái': 2381, 'chuẩn_bị': 436, 'tặng': 2500, 'kèm': 1201, 'cường_lực': 613, 'đăng': 2871, 'video': 2578, '4000': 96, 'mah': 1392, 'đêm': 2855, 'vài': 2611, 'cân_nhắc': 580, 'nửa_ngày': 1813, 'tối_thui': 2513, 'bi': 250, 'bể': 347, 'thây': 2219, 'tuy_nhiên': 2414, '3g': 85, 'mà_còn': 1456, 'nhạt': 1699, 'tới': 2535, 'hổ': 1051, 'trợ': 2401, 'thẻ': 2258, 'nhớ': 1730, 'dung_lượng': 704, 'chả': 477, 'anh': 221, 'mi': 1415, 'mô_tả': 1491, 'zin': 2758, '100': 3, 'ủng_hộ': 2995, 'dài_dài': 710, 'nhoè': 1666, 'sắc': 2106, 'nét': 1769, 'giả': 853, 'trả_góp': 2383, '200k': 45, 'phía': 1868, 'nêu': 1770, 'tưởng_tượng': 2478, 'tuy': 2413, 'chút': 467, 'đéo': 2853, 'nắp': 1793, 'vòng': 2623, '12': 14, 'túi': 2461, 'thực_sự': 2289, 'mỏi': 1536, 'cảm_giác': 623, 'mất_toi': 1515, '1tr': 43, 'thề': 2265, 'duy_nhất': 707, 'cuối_cùng': 563, 'cực_kì': 666, 'thà': 2207, 'trung_quốc': 2354, 'choi': 413, 'nặng': 1795, 'chốt': 511, 'tình_trạng': 2445, 'khiến': 1116, 'hok': 954, 'nảy': 1788, 'lượt': 1344, 'va_đập': 2566, 'mạnh': 1510, 'galaxy': 808, 'note': 1746, 'hề': 1036, 'rơi': 1991, 'dính': 724, 'vết': 2653, 'trầy': 2389, 'xước': 2724, 'sọc': 2114, 'siêu_phẩm': 2052, 'oppo': 1833, 'f5': 781, 'kính': 1212, 'vỡ': 2665, 'nát': 1762, 'khuyên': 1132, 'nhu_cầu': 1668, 'kaios': 1104, '512': 121, 'cây': 583, 'hệ': 1037, 'điều_hành': 2813, 'tự_động': 2548, 'linh_tinh': 1258, 'kể_cả': 1226, 'lẫn': 1352, 'bt': 269, 'thực_hiện': 2287, 'nhập': 1715, 'kịp': 1229, 'tràn': 2359, 'viền': 2588, 'góc': 888, 'siêu': 2051, 'tất_cả': 2489, 'đỉnh': 2913, 'hiện_tượng': 938, 'lang': 1243, 'ch': 389, 'play': 1904, 'out': 1836, 'giảm_giá': 860, 'xinh': 2694, 'plus': 1905, 'bh': 249, 'trẻ': 2393, 'mic': 1416, 'rõ_ràng': 1987, 'nhanhđóng': 1646, 'gói': 889, 'yên_tâm': 2749, 'khung': 1131, 'hợp_lí': 1060, 'bổ': 358, 'dễ_tính': 755, 'chúc_shop': 464, 'đắt': 2897, 'ngầm': 1626, 'nhòa': 1689, 'trc': 2343, 'triệu': 2346, 'gấp': 896, 'trăm': 2374, 'hối_hận': 1047, 'a10s': 186, 'bước': 310, 'đag': 2797, 'màn': 1457, 'trog': 2348, 'loại': 1287, 'dùg': 730, 'thág': 2211, '1ngày': 35, 'đóng': 2861, 'ạ_shop': 2968, 'khoá': 1123, 'xiaomi': 2691, 'bọn': 352, 'thi': 2179, 'nhau': 1648, '7tr': 158, 'chủ_yếu': 527, 'phim': 1841, 'dở_tệ': 761, 'vien': 2580, 'doi': 699, 'nhung': 1671, 'dong': 700, 'khac': 1111, 'se': 2027, 'ung': 2553, 'ho': 949, 'tiep': 2294, 'mk': 1430, 'vi': 2576, 'bền': 346, 'ghê': 825, 'vcl': 2572, 'nut': 1758, 'home': 956, 'luc': 1293, 'duoc': 705, 'khong': 1122, 'chay': 396, 'nghĩ': 1584, 'củ': 659, 'xạc': 2727, 'siu': 2050, 'nao': 1568, 'đoi': 2825, 'hiệu_năng': 942, 'chip': 406, 'lắc': 1354, 'đôi_khi': 2865, 'load': 1279, 'phần_mềm': 1886, 'về_phần': 2655, '13': 22, 'id': 1072, 'đem': 2801, 'kỹ_thuật': 1235, 'liền': 1270, 'vậy_mà': 2650, 'giống': 868, 'kéo_dài': 1204, 'khít': 1145, 'hy_vọng': 978, 'nhầm': 1708, 'đơn': 2873, 'mong_shop': 1441, 'sớm': 2120, 'đẹp_shop': 2906, 'sẵn': 2109, 'ae': 205, 'tương_đối': 2475, 'áp_suất': 2770, 'lưu': 1337, 'chữ': 535, 's6': 2010, 'active': 202, 'nhấn': 1704, 'ơi': 2959, 'bit': 254, 'sd': 2025, '95': 177, '99': 181, 'tính': 2452, 'nokia': 1743, '61': 134, '40': 95, 'cỡ': 656, 'chu_đáo': 420, 'lỗi_lầm': 1373, 'tuyệt': 2416, 'bản': 315, 'đẹp_mắt': 2905, 'dễ_thương': 754, 'thân_thiện': 2218, 'hoặc': 971, 'rước': 1993, 'f9': 783, 'dịch_vụ': 756, 'vui_lòng': 2606, 'thank': 2166, 'cấu_hình': 633, 'trận': 2390, '15': 25, '34': 80, '70': 148, '60': 133, 'giữ': 874, '7h': 156, 'rút': 1990, 'cmt': 541, 'bik': 252, 'chấm': 480, 'antutu': 224, 'vấn_đề': 2645, 'bn': 265, 'mao': 1401, 'vong': 2599, 'đx': 2833, 'hầu_như': 1027, 'thanks': 2168, 'order': 1834, 'đa': 2794, 'đuợc': 2832, 'ròi': 1985, 'jt': 1100, 'xảy': 2728, 'ok_shop': 1820, 'kỹ_lưỡng': 1234, 'mời': 1557, 'êm': 2777, 'delay': 681, '92': 175, 'kể': 1225, 'xóa': 2722, 'font': 800, 'duy': 706, 'tại_sao': 2480, '2a': 64, 'im': 1073, '45': 99, 'phone': 1846, 'ra_sao': 1953, 'quốc': 1948, 'bất': 327, 'phụ': 1894, 'tận_tình': 2494, 'tối_qua': 2512, 'good': 879, 'and': 218, 'chờ_đợi': 520, 'quà': 1926, 'trễ': 2395, 'dự_kiến': 770, 'lien': 1255, 'quan': 1915, 'quài': 1927, 'thì_ra': 2222, 'chíp': 457, '660': 141, '450': 100, 'bao': 239, 'có_khi': 587, 'vãi': 2618, 'nt': 1754, 'sụt': 2124, 'sơ': 2090, '4000mah': 97, 'lo_lắng': 1276, 'mới_nguyên': 1549, 'toàn': 2329, 'seri': 2032, 'f11': 778, 'nhạc': 1698, 'bé': 294, 'hi_vọng': 928, 'vui': 2605, 'lăn_tăn': 1335, 'sợ': 2122, 'hãy': 993, 'hàg': 981, 'máy_tính': 1474, 'tao': 2140, 'hết_sạch': 1034, '30p': 76, 'đểu': 2912, 'ổn_định': 2991, 'redmi': 1962, '500': 115, 'anh_em': 222, 'realme': 1960, 'a30': 189, '87': 165, 'rè': 1983, 'bụi': 364, 'móp': 1489, 'mở_máy': 1560, 'mái': 1466, 'thui': 2202, 'sóng_sánh': 2087, 'android': 220, '80': 159, 'cáp': 577, 'hình_ảnh': 1003, 'nhận_dạng': 1713, 'chung': 425, '9tr': 183, 'kỳ': 1230, 'ad': 203, 'sale': 2015, 'đòi_hỏi': 2860, 'seal_shop': 2029, 'tệ_hại': 2503, 'tốt_đẹp': 2520, 'bù': 306, 'kết': 1220, 'nỗi': 1807, 'ấy': 2975, 'xoay': 2697, 'nhà': 1672, 'ss': 2068, 'ip': 1080, '3g4g': 86, 'tươi': 2469, 'nồi': 1803, 'm20': 1388, 'ngoài_ra': 1592, 'dò': 725, 'tham_khảo': 2160, 'kỹ': 1233, 'tốt_shop': 2519, 'cạnh': 616, 'hứa': 1067, 'bớt': 363, 'gọi_là': 901, 'thi_thoảng': 2180, 'note8': 1748, 'khoảng_cách': 1126, 'phím': 1869, 'đánh': 2845, 'toàn_bị': 2330, 'trắng': 2391, 'add': 204, '12h': 20, 'đề': 2909, 'xem_lại': 2688, 'đơn_vị': 2875, 'check': 398, 'yêu_cầu': 2751, 'động': 2945, 'xem_xét': 2689, 'smart': 2057, 'tìm': 2440, 'phù': 1873, 'hịn': 1040, 'khỏe': 1162, 'vv': 2610, 'ngày_càng': 1608, 'đắt_hàng': 2898, 'tung': 2410, 'chảo': 479, 'tốtpin': 2524, '5000': 116, 'trung': 2351, 'cày': 572, 'máy_ảnh': 1475, 'mờ_mờ': 1556, 'f3': 780, 'hay_là': 922, 'mặc': 1524, 'định': 2916, 'giá_cả': 842, 'hợp_lý': 1061, 'hàng_hàng': 986, 'phẩm': 1888, 'gây': 884, 'xử_lý': 2735, 'độ_nhạy': 2942, 'di_chuyển': 689, 'dk': 696, 'phóng': 1871, 'thông_tin': 2233, 'khe': 1113, 'a70': 197, 'xíu': 2720, '4500': 101, 'bất_tiện': 332, 'nhac': 1637, 'củng': 660, 'san': 2018, 'dùn': 732, 'gui': 882, 'man': 1398, 'bj': 261, 'vo': 2594, '4k': 109, 'gian': 831, 'buồn': 273, 'hết_sức': 1035, 'new': 1575, 'vận_chuyển': 2648, 'giảm': 859, 'ngoài_trời': 1593, 'reset': 1966, 'chất': 483, 'kh': 1109, 'an_tâm': 216, 'fan': 788, 'tính_năng': 2453, 'kia': 1172, 'phân_vân': 1865, 'nóng_ran': 1779, 'hẹn': 1032, 'cùi_bắp': 599, 'chục': 522, 'đỡ': 2949, 'khỏi': 1163, 'bực_mình': 371, 'oknhưng': 1825, 'kích_hoạt': 1210, 'xin': 2692, 'huhu': 977, 'mẫu_mã': 1520, 'mỏng': 1537, 'dài': 709, 'qc': 1913, 'nhậy': 1718, 'mới_đầu': 1554, 'ngại': 1625, 'nói_chuyện': 1775, 'chọn_shop': 509, 'viết': 2587, 'quen': 1923, 'phê': 1866, 'lý_do': 1333, 'bấm_nút': 326, 'okshop': 1827, 'nhiệt': 1660, 'ưa': 2962, 'thái_độ': 2213, 'bề_ngoài': 345, 'niềm': 1739, 'keo': 1107, 'vẻ': 2652, 'cốc': 651, 'dây': 718, 'cháy': 443, 'ng': 1576, 'van': 2567, 'vặt': 2651, 'hon': 957, 'xứng_đáng': 2732, '23': 54, 'vừa_ý': 2670, 'chúc': 463, 'buôn': 271, 'bán_đắt': 286, 'qa': 1912, 'danh_bạ': 672, 'hậu_mãi': 1030, 'vời': 2664, 'liên_hệ': 1264, 'em_gái': 776, 'thoại': 2195, 'cập': 642, 'mục': 1561, '2018': 48, 'liên_lạc': 1265, 'cuc': 556, 'ki': 1171, 'goi': 877, 'moi': 1437, 'viet': 2581, 'day': 677, 'hét': 994, 'nghiêm_trọng': 1582, 'hướng_dẫn': 1017, 'thegioididong': 2176, '5p': 128, 'tiên': 2300, '999': 182, 'online': 1832, 'ace': 201, 'vivo': 2585, 'y17': 2737, 'cố': 648, 'quân': 1935, 'giật_giật': 864, 'ghi': 816, 'sâu': 2082, 'lồi': 1368, 'nhựa': 1736, 'hỏng': 1045, 'người_ta': 1621, 'tàu': 2429, 'sập': 2105, 'nửa': 1812, 'giây': 849, 'dep_shop': 685, 'lai': 1240, 'nhiet': 1652, 're': 1958, 'hướng': 1016, 'xịn': 2730, 'sò': 2084, 'đời': 2948, 'cẩm': 638, 'chăng': 470, 'thiếu': 2188, 'ánh_sáng': 2767, 'ấn': 2973, 'nhỏ_xíu': 1729, 'nhanh_shop': 1643, 'thời_lượng': 2277, 'shop_shop': 2040, 'luợng': 1304, 'lựa_chọn': 1385, 'méo': 1482, '10h': 8, '5s': 129, 'thời': 2274, 'cơ_bản': 606, 'khui': 1130, 'giáo': 848, 'lun': 1295, '3th': 92, 'dật': 745, 'nghiệm': 1583, 'vỏ': 2660, 'gãy': 885, 'hoạt_động': 969, 'chplay': 416, 'buổi': 274, 'lỡ': 1379, 'a7': 196, 'bin': 253, 'xử': 2733, 'dụng': 765, 'nhờ': 1731, 'điện_tử': 2820, 'giùm': 850, 'đồ_hoạ': 2925, 'phí': 1867, 'phân': 1862, 'khúc': 1156, '6gb': 144, 'iphone': 1085, 'thực': 2285, 'androi': 219, 'ios': 1079, 'bây_giờ': 290, 'mất_mạng': 1513, 'mây': 1478, 'nguon': 1599, 'bat': 245, 'đáng_giá': 2842, 'dự_phòng': 771, 'vị_trí': 2657, 'cọc': 647, 'ghép': 823, 'like': 1256, 'y_hình': 2741, 'on_shop': 1829, 'lan': 1242, 'vote': 2600, '105': 6, 'que': 1922, 'chọc': 507, 'phiên_bản': 1843, '32': 77, 'gb': 812, 'đảm_bảo': 2883, 'ủng': 2994, 'bắt_đầu': 342, 'lung_tung': 1298, 'cấn': 631, 'gặp': 899, 'như_vậy': 1694, 'ko_thể': 1195, 'lẽ': 1362, 'đằng': 2899, '64gb': 139, 'chết': 502, 'dám': 714, 'xaomi': 2685, 'chế_độ': 501, 'hiển_thị': 933, 'banh': 238, 'ưu_đãi': 2966, 'quápin': 1934, '1h': 32, '35': 82, 'long_lanh': 1286, 'nhìn_chung': 1687, 'nhah': 1638, 'góp': 890, 'với_lại': 2663, 'sửa': 2128, 'kết_quả': 1223, 'dịp': 757, 'nhảy_tùm_lum': 1703, 'đành': 2837, 'cưng': 610, 'pham': 1839, 'cung': 558, 'loi': 1283, '75': 152, 'cai': 376, '24': 57, 'hom': 955, 'biết_sao': 258, 'phâm': 1861, 'cáo': 576, 'leng_keng': 1253, 'nhiễu': 1658, 'mã': 1479, 'cột': 655, 'trở_lại': 2400, 'can': 383, 'than': 2161, 'sạt': 2100, 'toi': 2326, 'đến_nỗi': 2908, 'update': 2556, 'bà': 276, 'sản_xuất': 2104, 'thèm': 2220, 'khen': 1114, 'đối_với': 2920, 'hợp': 1059, 'khủng_khiếp': 1169, 'chuông': 434, 'nv': 1759, 'nọ': 1800, 'câu': 582, 'tổng_đài': 2532, 'tùm_lum': 2459, 'tn': 2324, 'box': 268, 'cải': 618, 'facebook': 785, 'hoàn_toàn': 965, 'lực': 1386, 'tuyệt_đối': 2418, 'htc': 974, 'vô_địch': 2631, 'hoàn_thiện': 964, 'chân': 445, 'usb': 2557, 'time': 2295, 'tl': 2323, 'qá': 1950, 'rưỡi': 1994, 'thủ_tục': 2280, '25': 59, 'thỉnh_thoảng': 2267, 'đồng_tiền': 2932, 'bát': 289, 'gạo': 895, 'tggd': 2155, 'âm': 2771, 'bẩn': 334, 'lỗ': 1371, 'ông': 2785, 'công_nhận': 595, 'wf': 2675, 'bong': 267, 'tróc': 2370, 'quay_phim': 1921, 'ban_đêm': 235, 'trở': 2399, 'mật_khẩu': 1521, 'khu_vực': 1129, 'sụp': 2123, 'khoản': 1124, 'kết_luận': 1221, 'toàn_tập': 2332, 'mẫu': 1519, 'làm_việc': 1309, 'sh': 2034, 'okie': 1824, 'tiếp_theo': 2308, '32gb': 79, 'google': 880, 'gọn': 902, 'rẻ_shop': 1997, 'tạo': 2483, 'giá_trị': 846, 'kich': 1173, 'hoat': 952, 'phin': 1842, 'dang': 671, 'am': 212, 'hợp_lý_shop': 1062, 'kô': 1213, 'mik': 1419, 'lo': 1275, 'nếu_như': 1798, 'hiện_đại': 940, 'smartphone': 2058, 'đoạn': 2827, 'không_đổi': 1154, 'tối_ưu': 2515, 'kéo': 1203, 'tìm_hiểu': 2441, 'kỉ': 1228, 'fps': 801, 'may_mắn': 1406, 'thành_công': 2209, 'công': 592, 'chiều': 409, 'chán_nản': 441, 'trời': 2398, 'hoài': 961, 'diện': 695, 'hk': 946, 'ngã': 1615, 'tư': 2467, 'ta': 2134, 'ấm': 2972, 'chói': 459, 'dần': 743, 'bao_nhiêu': 244, 'review': 1967, 'ban': 233, 'lg': 1254, 'thu_hồi': 2199, 'chính_sách': 454, 'kiểu_dáng': 1189, 'nhét': 1685, 'khay': 1112, 'wed': 2674, 'the': 2175, 'it': 1088, 'super': 2073, 'nhìu': 1688, 'giới_thiệu': 871, 'fullbox': 805, 'góp_ý': 891, 'quán': 1933, 'lịch_sự': 1365, 'quang': 1918, 'kì': 1207, 'ghi_âm': 818, 'để_ý': 2911, 'cho_dù': 411, 'điên': 2811, 'liệu': 1272, 'reb': 1961, 'thông_số': 2231, 'sát': 2081, 'gps': 881, 'tết': 2501, 'net': 1574, 'yên': 2748, 'cần_thiết': 636, 'đien': 2809, 'du': 702, 'phu': 1849, 'kien': 1175, 'tam': 2138, 'long': 1285, 'khựng': 1170, 'y_như': 2742, 'chồng': 512, 'cứng': 661, 'ngắt': 1629, 'bất_kỳ': 330, 'đống': 2922, 'vè': 2619, 'shopee': 2041, '1tg': 39, 'đỏ': 2918, 'đổ': 2934, 'ơn': 2960, 'buôn_bán': 272, 'gạch': 894, 'bó_tay': 302, 'vượt': 2640, 'ah': 206, 'bệt': 349, 'điều_kiện': 2815, 'cố_gắng': 649, 'miến': 1424, 'nc': 1570, 'tks_shop': 2322, 'phát_đạt': 1860, 'mượn': 1501, 'chua': 421, 'vá': 2613, 'thận': 2251, 'giá_thành': 845, 'fake': 787, 'vsmart': 2602, 'live': 1261, 'nháy': 1676, 'ti': 2291, 'tín_hiệu': 2451, 'ngày_xưa': 1612, 'a3s': 190, 'nước': 1785, 'môi_trường': 1492, 'ẩm': 2977, 'có_lẽ': 588, 'cuối': 562, 'kết_thúc': 1224, 'ngờ': 1633, 'thik': 2182, 'gái': 883, 'khoe': 1121, 'chó': 458, 'quên': 1938, 'dân': 717, 'chuyen': 428, 'deu': 686, 'bộ_nhớ': 361, 'bất_cứ': 328, 'ngoại_trừ': 1595, 'tgdđ': 2154, '6s': 146, 'gắn': 898, 'dao': 673, 'thực_ra': 2288, '665': 142, 'phàn_nàn': 1852, 'nhưg': 1696, 'ms': 1446, 'ap': 225, 'vải': 2643, 'mát': 1467, 'thanks_shop': 2169, '16gb': 28, 'kho': 1119, 'nền': 1799, 'tên': 2438, 'back': 232, '37': 84, 'tê': 2437, 'sang_trọng': 2020, 'cẩn': 639, 'vui_tính': 2607, 'xác': 2714, 'mới_đây': 1553, 'tật': 2495, 'quảng': 1944, 'cho_phép': 412, 'che': 397, 'điện_máy': 2818, 'biet': 251, 'hạt': 1022, 'mạng_di_động': 1509, 'bài': 278, 'giới': 869, 'vê': 2621, 'vay': 2570, 'ngắn': 1628, 'ây': 2774, 'nghỉ': 1586, 'mong_muốn': 1440, 'bao_lâu': 243, 'chi_là': 400, 'iu': 1089, 'cầu': 637, 'thanh_lý': 2164, 'hợp_đồng': 1063, 'công_nghệ': 594, 'dẹp': 748, 'radio': 1955, 'lí_do': 1323, 'nam': 1567, 'vấn': 2644, 'cộng': 654, 'túm': 2463, 'hối': 1046, 'hàn': 984, 'khí': 1144, 'siêu_thị': 2053, 'haizzzz': 914, 'hôm_nay': 1009, 'chinh': 405, 'nhan': 1639, 'uy': 2558, 'xe': 2686, 'nguoi': 1598, 'ho_shop': 950, 'treo': 2345, 'lỏng': 1366, '8g': 168, 'thừa': 2283, 'chổ': 513, 'ha': 908, 'j7': 1094, 'prime': 1906, 'hiệu_ứng': 944, '610': 135, 'f1s': 779, 'kinh_khủng': 1180, 'ức': 2996, '5000mah': 117, 'con_số': 549, 'đep': 2806, 'muot': 1453, 'nhieu': 1653, 'chuyển_đổi': 432, 'jack': 1097, 'quá_trình': 1929, '1pin': 36, 'cam_kết': 379, '5sao': 130, 'lòi': 1324, '79': 154, 'free': 803, 'fire': 796, 'bao_giờ': 242, 'rách': 1979, 'tóm_lại': 2455, 'đồ_họa': 2926, 'ai_dè': 208, 'khu': 1128, 'đau': 2798, 'chã': 449, 'hìh': 998, 'đắc': 2895, 'luong': 1300, 'giong': 837, 'rè_rè': 1984, '85': 164, 'lq': 1290, 'chug': 423, 'đọc': 2917, 'giá_bán': 841, 'đèn': 2851, 'led': 1250, '5h': 125, 'tất': 2488, '4h': 108, 'tạm_thời': 2482, 'thời_trang': 2278, 'cơ_mà': 608, 'thángmáy': 2215, 'inch': 1077, 'snapdragon': 2061, 'nhân': 1677, 'đạt': 2881, '51': 120, 'mp': 1445, 'quần': 1946, 'flash': 798, 'bỏ_qua': 354, 'lầm': 1349, 'áp': 2769, 'xuất': 2707, 'logo': 1282, '48mp': 105, 'thực_tế': 2290, 'selfi': 2030, 'thị_trường': 2269, 'nhỉ': 1724, 'ntn': 1756, 'sơn': 2092, 'chi_tiết': 401, 'đường': 2878, 'đặt_hàng': 2903, 'xa': 2681, 'đươc': 2877, 'lát': 1315, 'đinh': 2810, 'sử': 2126, 'lý': 1332, 'bản_thân': 317, 'mobile': 1435, 'vật': 2649, 'ghé': 822, 'chế': 500, 'khôi_phục': 1152, 'gốc': 903, 'thiết': 2183, 'chát': 442, 'đèn_pin': 2852, 'dè': 721, 'imei': 1074, 'đmx': 2823, 'đồng': 2928, 'xát': 2719, 'khủng': 1168, 'ốc': 2983, 'tùm': 2458, 'xai': 2683, 'đong': 2826, 'rât': 1982, 'tự_dưng': 2546, 'đặc_biệt': 2901, 'chút_xíu': 468, 'đáng_kể': 2843, 'dạo': 740, 'nhôm': 1691, 'khối': 1164, 'thank_shop': 2167, 'mệt': 1533, 'rỏ': 2001, 'sướt': 2096, 'dăm': 734, 'lượng': 1343, 'lổi': 1370, 'chân_thật': 447, 'ak': 210, 'k20': 1101, 'hít': 1004, 'miếng': 1425, 'tương_lai': 2471, 'từ_chối': 2542, 'tý': 2464, 'theo_dõi': 2178, 'gỡ': 906, 'mốt': 1539, 'tuộc': 2421, 'thu': 2198, 'tình_hình': 2444, 'mong_manh': 1439, 'trẻ_em': 2394, 'cành': 571, 'kiểm': 1185, 'luon': 1299, '10tr': 12, 'von': 2598, 'dày': 713, 'trông': 2371, 'hẳn': 1031, 'dữ_liệu': 768, 'kem': 1105, 'nâng_cấp': 1764, 'tay_phải': 2143, 'trang_bị': 2340, 'phát_huy': 1857, 'nha_shop': 1636, 'nguyen': 1601, 'mơ': 1497, 'vi_vu': 2577, 'bóng': 304, 'vứt': 2668, 'bấy_nhiêu': 333, 'ip7': 1083, 'cạch': 614, 'chặn': 499, 'thị': 2268, 'châm': 444, 'ca': 374, 'bình': 297, 'mồ_hôi': 1540, 'buộc': 275, 'micro': 1417, 'chạy_loạn': 476, 'call': 377, 'tịt': 2508, 'quá_trời': 1930, 'sướng': 2095, 'đồng_ý': 2933, 'chú_ý': 462, 'tv': 2424, 'gia_đình': 830, 'hận': 1028, 'khj': 1118, 'yêu': 2750, 'thư': 2237, 'you': 2744, 'nối': 1801, 'internet': 1078, 'hi': 927, 'vây': 2617, 'khó_khăn': 1148, 'chớ': 516, 'giọt': 867, 'thô': 2226, '12mp': 21, 'phản_ánh': 1881, 'lúc_nào': 1331, 'shit': 2038, 'sx': 2077, '2016': 46, 'xung_quanh': 2704, 'cãm': 585, 'phục': 1896, '65': 140, 'hanh': 919, 'fai': 786, 'tín': 2449, 'bộ_phận': 362, 'hảng': 1024, 'hời': 1057, 'lung': 1296, '29': 62, 'jo': 1099, 'suốt': 2076, 'lừa_đảo': 1382, 'trưng_bày': 2377, 'chớp': 518, 'tuyet': 2415, 'hangf': 918, 'có_điều': 591, 'hoá_đơn': 967, 'auto': 230, 'chày': 439, 'mink': 1422, 'cấp': 632, 'nhật': 1717, 'china': 404, 'nứt': 1811, 'hô': 1007, 'ráp': 1980, 'mẻ': 1530, 'ngon_lành': 1590, 'mở_màn_hình': 1559, 'hồng': 1050, 'is': 1087, 'very': 2575, 'sơ_bộ': 2091, 'túi_tiền': 2462, 'hình_shop': 1001, 'mới_cứng': 1548, 'trách_nhiệm': 2361, 'bác': 283, '4tr': 112, 'dỏm': 759, 'bắt_mắt': 340, 'súng': 2088, 'tắc': 2496, '22h': 53, '6h': 145, 'quả': 1941, 'pro': 1907, 'đỗi': 2940, 'mùa': 1495, 'thông_minh': 2230, 'thich': 2181, 'mạch': 1505, 'sop': 2065, 'ping': 1899, 'tương_tự': 2473, 'lỏng_lẻo': 1367, 'sắp': 2108, '100k': 5, 'tft': 2151, '48': 103, 'reno': 1963, 'bạc': 312, 'bọc': 351, 'đồng_bộ': 2929, 'hic': 929, '32g': 78, 'up': 2555, 'tin_cậy': 2297, 'hoàn_trả': 966, 'mưa': 1499, 'an': 215, 'đeo': 2805, 'chương_trình': 472, 'rung': 1977, 'ai_ngờ': 209, 'xac': 2682, 'chống': 510, 'xám': 2718, '56': 122, 'cơ': 605, 'lí': 1322, 'hoàn': 962, 'mới_tinh': 1551, 'tận': 2492, 'đốm': 2921, 'hả': 1023, 'úp': 2788, 'vợ': 2666, 'rời': 2007, 'gi': 827, 'nại': 1786, 'ầm_ầm': 2976, 'nghịch': 1587, 'sản': 2101, 'nhãy': 1681, 'lước': 1340, 'đào': 2838, 'xog': 2698, 'rơi_rớt': 1992, 'bảo_vệ': 324, 'người_yêu': 1623, 'nhức': 1735, 'đứa': 2954, 'tốtrất': 2525, 'chú': 461, 'may_ra': 1407, 'su': 2071, 'miui': 1423, 'onl': 1831, 'thể': 2266, 'vina': 2584, 'tk': 2320, 'lzd': 1305, 'chậm_trễ': 489, 'lẹ': 1360, 'lol': 1284, 'thuc': 2201, 'nhe': 1650, 'loan': 1281, 'chèn': 450, 'dởm': 762, 'cắt': 645, 'rin': 1968, 'đất': 2884, 'hiểu_biết': 935, 'vui_vẻ': 2608, 'nhât': 1680, 'tương_thích': 2472, 'sốp': 2118, 'a20': 187, 'c1': 372, 'ck': 538, 'vk': 2590, 'né': 1767, 'dìm': 723, 'nhiệt_tình_cảm_ơn': 1662, 'tả': 2484, 'thay_thế': 2173, 'nhiễm': 1657, 'kỷ': 1232, 'top': 2327, 'giao_dịch': 834, 'nốt': 1802, 'độ_ẩm': 2944, 'đụng': 2952, 'tắt_nguồn': 2499, 'đề_nghị': 2910, 'gồm': 904, 'tổng_cộng': 2530, 'thờ_ơ': 2273, 'nguyên_nhân': 1603, 'tra': 2337, 'viettel': 2582, 'root': 1975, 'xui': 2703, 'chẳng_hạn': 498, 'sony': 2064, 'nt_shop': 1755, 'phạm': 1876, 'de': 680, 'thuong': 2203, 'nho': 1665, '8h': 170, '20p': 51, 'dàn': 711, 'mắc': 1522, 'mobell': 1433, 'hàng_không': 987, 'an_ủi': 217, 'nóng_hổi': 1778, 'tiện_ích': 2319, 'anroid': 223, 'nguy_hiểm': 1600, 'a9': 200, 'thiết_bị': 2184, '84': 163, 'hsau': 973, 'giục': 873, 'chúng': 465, '90': 173, 'data': 675, 'quốc_tế': 1949, 'mẹ': 1529, 'luân': 1301, 'giá_như': 843, 'sét': 2083, 'cố_tình': 650, 'sữa': 2132, 'chữa': 536, 'chợ': 521, 'xuất_sắc': 2709, 'mày': 1463, 'nx': 1760, 'thất': 2245, 'vọg': 2658, 'troi': 2349, '13h': 23, 'ham': 915, 'that': 2171, 'tục': 2536, 'chấm_đen': 481, '93': 176, 'tồi': 2527, 'snap': 2060, 'hà': 979, 'nội': 1808, 'uống': 2560, 'tân': 2434, 'cúp': 600, 'kinh_doanh': 1179, '2tr': 72, 'thanh_toán': 2165, 'citibank': 537, 'one': 1830, 'lóa': 1326, 'phuc': 1850, 'mjk': 1429, 'tệđơ': 2506, 'con_gái': 548, 'feedback': 791, 'tì_vết': 2439, 'mua_cái': 1449, 'rui': 1976, 'hộ': 1054, 'laz': 1246, 'vùng': 2634, 'lite': 1260, 'nhanh_chóng': 1641, 'niêm_phong': 1738, 'hành': 990, 'môt': 1493, 'trưa': 2376, 'a10': 185, 'nhá': 1674, 'đặc': 2900, 'mô': 1490, 'nghi_ngờ': 1581, 'dựng': 773, 'yen': 2743, 'đáp': 2847, 'thắc_mắc': 2255, 'phong_cách': 1848, 'trục_trặc': 2403, 'mini': 1421, 'kkk': 1191, 'lập': 1353, 'icloud': 1070, 'ọp_ẹp': 2982, 'khuân': 1136, 'bắt_sống': 341, 'sdt': 2026, '24h': 58, 'cpu': 551, 'bao_bọc': 241, 'nhé_shop': 1684, 'tự_cảm_ứng': 2545, 'nè': 1766, 'lô': 1327, 'tiếp_xúc': 2310, 'ước': 2967, 'thế_hệ': 2261, '800k': 161, 'a8': 198, 'nổi_bật': 1806, 'giới_hạn': 870, 'a50s': 193, 'máy_nghe': 1472, '3tháng': 93, 'cu': 554, 'sac': 2012, 'oan': 1815, 'menu': 1409, 'đả': 2882, 'sước': 2094, 'tròn': 2369, 'ghét': 824, 'sộp': 2119, 'giám': 847, 'nhầm_lẫn': 1709, 'xử_lí': 2734, 'ngày_mai': 1609, 'quái': 1932, 'giấy': 861, 'tg': 2152, 'youtobe': 2746, 'tieng': 2293, 'đổi_mới': 2938, 'zay': 2756, 'mất_công': 1512, 'chử': 533, 'dấu': 741, 'shipper': 2037, 'dô': 727, 'từ_từ': 2543, 'tệmáy': 2505, 'àh': 2764, 'truy_cập': 2358, 'thích_shop': 2225, 'mih': 1418, 'ktra': 1197, 'tốc': 2509, 'bổ_sung': 359, 'lớp': 1376, 'mess': 1411, 'dấu_hiệu': 742, 'code': 543, 'xàm': 2713, 'hên': 995, '3tr': 94, 'hậu': 1029, 'mỗi_tội': 1542, 'type': 2425, 'mượt_shop': 1504, 'bàn': 279, 'liên_quan': 1266, 'ib': 1069, 'giải_thích': 856, 'reply': 1965, 'nâng': 1763, 'rớt_giá': 2005, 'ns': 1752, 'vn': 2592, 'phân_phối': 1864, 'nsx': 1753, 'keng': 1106, '3500': 83, 'cao_cấp': 386, 'ít_nhất': 2779, 'bèo': 293, 'mặt_trời': 1528, 'sửa_lỗi': 2130, 'vô_cùng': 2626, 'bận': 335, 'phiếu': 1844, 'làm_ơn': 1311, 'tài_khoản': 2427, 'store': 2070, 'đa_phần': 2796, 'quét': 1936, 'khớp': 1165, 'a80': 199, 'ky': 1199, 'haiz': 911, 'vèo': 2620, 'phầm': 1883, 'rác': 1978, 'cơ_hội': 607, 'xác_định': 2716, 'bữa': 367, 'chiếm': 407, 'mua_bán': 1448, 'j7pro': 1095, 'dại': 738, 'ghê_gớm': 826, 'xuyên': 2706, 'dmx': 697, 'bực_bội': 370, 'cảnh': 629, 'livestream': 1262, 'lay': 1245, 'qúa': 1951, 'chs': 418, 'hỗ': 1052, 'dựt': 774, '11': 13, 'linh_kiện': 1257, 'dạng': 739, 'thời_hạn': 2276, 'thuê_bao': 2204, 'khôg': 1151, 'dỡ': 763, 'trung_tâm': 2356, '1h30': 33, 'k3': 1102, 'sóg': 2085, 'cũg': 604, 'đét': 2854, 'tướng': 2476, 'chừng': 532, 'cã': 584, 'lăm': 1334, 'hàng_đầu': 989, 'bà_con': 277, 'kick': 1174, 'hoạt': 968, 'cửa': 663, 'trãi': 2367, 'thoảng': 2197, 'trò': 2368, 'đông': 2866, 'ji': 1098, 'vớ_vẩn': 2662, 'kha': 1110, 'quyết_định': 1924, 'tẩy_chay': 2491, 'sắm': 2107, '5t': 131, 'đứt': 2957, 'tụi': 2537, 'đa_nhiệm': 2795, 'khởi': 1166, 'sieu': 2045, 'nge': 1578, 'hop': 959, 'them': 2177, 'nen': 1573, 'cua': 555, 'phai': 1838, 'noi': 1742, 'cac': 375, 'muon': 1452, 'phong': 1847, 'muộn': 1455, 'vd': 2573, 'tren': 2344, 'shiper': 2036, 'khó_tính': 1149, 'nhất_định': 1707, 'thoải_mái': 2196, 'dể': 750, 'trai': 2338, 'nhịu': 1725, 'mẩu': 1518, 'thế_này': 2264, 'xin_lỗi': 2693, 'vận': 2647, 'a6': 195, '3000': 74, 'tốt_lành': 2518, '7plus': 157, 'đuối': 2831, 'apple': 227, 'chân_thành': 446, 'sap': 2022, 'no': 1741, 'đậm': 2893, 'chut': 427, 'nhu_quang': 1669, 'made': 1390, 'in': 1075, 'quan_tâm': 1917, 'sau_này': 2024, 'éo': 2775, 'dem': 682, 'di': 688, 'chửi': 534, 'a20s': 188, 'km': 1192, 'rộng': 2003, 'luọng': 1303, 'đóng_góp': 2863, 'model': 1436, 'shops': 2043, 'trần': 2388, 'thật_ra': 2253, 'mag': 1391, 'mơi': 1498, 'vơi': 2638, 'vao': 2569, 'kiêu': 1183, 'thang': 2162, 'háo': 991, 'thông_cảm': 2229, 'kiên': 1182, 'tiện': 2316, 'ngán': 1613, 'kirin': 1181, 'khả_năng': 1158, 'lạ': 1345, 'chảnh': 478, 'dễ_sợ': 753, 'chóng_mặt': 460, '300k': 75, '3400': 81, 'het': 926, 'phẩy': 1889, 'thiếu_phụ_kiện': 2189, 'học': 1042, 'tp': 2334, 'offline': 1817, 'slow': 2056, 'motion': 1444, 'nhay': 1649, 'view': 2583, 'vu': 2603, 'chrome': 417, 'giấy_tờ': 862, 'đung': 2829, 'âm_lượng': 2772, 'chướng': 473, 'ném': 1768, 'tiệm': 2314, 'đầm': 2886, 'cụm': 658, 'lành': 1313, 'v20': 2563, '10pin': 10, 'song': 2063, 'chuôi': 433, 'hay_sao': 923, 'nhiệt_độ': 1664, 'giao_diện': 833, 'mh': 1414, 'đen_shop': 2803, 'bất_thường': 331, 'gem': 813, 'cấm': 630, 't2': 2133, 'mail': 1394, 'vô_lại': 2628, 'giúp_đỡ': 852, '_shop': 184, 'quăng': 1940, 'sặc': 2111, '1tiếng': 42, 'nóng_bỏng': 1777, 'tiết': 2311, 'giải': 854, 'mổi': 1541, 'khẩn_cấp': 1159, 'đồng_thời': 2931, 'ngược': 1624, 'đổ_thừa': 2936, 'thậm_chí': 2250, 'đổ_lỗi': 2935, 'đơn_giản': 2874, 'ùng': 2786, 'hụt': 1064, 'mjh': 1428, 'dù_sao': 729, 'thỏ': 2272, 'haizz': 912, 'phanh': 1840, 'máy_thường': 1473, 'lâm': 1316, 'tương_đương': 2474, 'chầy': 486, 'tổng_quan': 2531, 'độ_nét': 2943, 'nóg': 1772, 'tiêu_dùng': 2301, 'can_thiệp': 384, 'hài': 982, 'giá_shop': 844, 'trung_giá': 2353, '48m': 104, 'cử_chỉ': 662, 'thay_đổi': 2174, 'tes': 2147, 'thuận_lợi': 2206, 'haizzz': 913, 's10': 2009, 'biển': 259, 'hiệu_quả': 943, 'mỏng_manh': 1538, 'đòi': 2859, 'giật_mình': 865, 'càg': 567, 'bo': 266, 'phát_triển': 1859, '460': 102, '89': 167, 'typec': 2426, 'hộ_shop': 1055, 'nũa': 1783, 'xinh_xắn': 2695, 'vượt_trội': 2641, 'họp': 1043, '400k': 98, 'hì': 997, 'mới_shop': 1550, '78': 153, 'miết': 1426, '8plus': 171, 'đầu_máy': 2888, 'máu': 1468, 'iphon': 1084, 'cạn': 615, 'đùng': 2867, 'chộp': 515, 'tiếg': 2304, 'tốtloa': 2522, 'bé_tí': 295, 'vl': 2591, 'ồn': 2985, 'dat': 674, '2900': 63, 'ips': 1086, 'lcd': 1249, 'chu': 419, 'zo': 2760, 'cug': 557, 'hóa_ra': 1006, 'sạch': 2098, 'cute': 561, 'tk_shop': 2321, '02': 1, 'dẽ': 749, 'tro': 2347, 'ôm': 2783, 'mềm': 1531, 'thế_là': 2262, '625': 136, 'chới': 517, 'tỉnh': 2507, 'dữ': 767, 'bão': 292, 'nhiêu': 1655, 'nhiu': 1654, 'tứ_tung': 2539, '4s': 110, 'ság': 2079, 'xướt': 2725, 'camara': 380, 'lặng': 1359, 'hông': 1011, 'dì': 722, 'phông': 1872, 'rẻ_tiền': 1998, 'hu': 975, 'ngủ': 1634, 'dậy': 746, 'bằg': 343, 'nhug': 1670, 'đàm_thoại': 2835, 'máypin': 1476, 'dược': 736, 'shou': 2044, 'chậmpin': 490, 'máy_bay': 1470, 'mìh': 1485, 'thông_thường': 2232, 'ngày_nay': 1610, 'a5': 191, '5mp': 127, 'áo': 2768, 'bùn': 307, 'gía': 887, 'chata': 395, 'note9': 1749, 'toàn_bộ': 2331, 'dụ': 764, 'best': 248, 'đám': 2840, 'hoả_tốc': 970, 'chuc_shop': 422, 'đài': 2834, 'fm': 799, 'ẩn': 2979, 'lau': 1244, 'blutooth': 264, 'sốc': 2116, 'thức': 2282, 'tiện_lợi': 2318, 'hiệu': 941, 'tích_hợp': 2447, 'dac': 669, 'y9': 2739, 'ẹp': 2980, 'ngưng': 1617, 'đính': 2857, 'zoom': 2761, 'gê': 886, 'đè': 2850, 'tat': 2141, 'tác_động': 2432, 'came': 381, 'was': 2672, 'y7': 2738, 'ngốn': 1631, 'bắc': 337, 'kĩ_càng': 1215, 'shoppe': 2042, 'cầm_nắm': 635, 'càng_ngày_càng': 570, 'năng': 1782, 'message': 1412, 'lqm': 1291, 'ff': 792, 'dự_định': 772, 'lười': 1342, '15p': 26, 'đỗ': 2939, 'câp': 581, 'nai': 1566, 'zô': 2763, 'sửa_chữa': 2129, 'nhái': 1675, 'mo': 1432, 'hoang_mang': 951, 'sản_phẩm_giá': 2103, 'cham': 392, 'thơm': 2236, 'ro': 1971, 'zòng': 2762, 'cung_cấp': 559, 'cổ': 652, 'hag': 909, 'tắt_màng': 2498, 'nữ': 1814, 'cap': 387, 'xoá': 2700, 'xách': 2717, 'chậm_chạp': 488, 'bla': 262, 'trầm_trọng': 2387, 'động_thái': 2946, '14': 24, 'thực_chất': 2286, '1thang': 40, 'rùa': 1988, 'ip6': 1082, 'người_thân': 1622, 'chon': 414, 'nhg': 1651, 'p60': 1837, 'hảo': 1025, 'tum': 2409, 'cười': 612, 'au': 229, 'võ': 2632, 'sin': 2049, 'nầy': 1790, 'phát_chán': 1855, '2h': 67, 'quận': 1947, 'dã_man': 719, 'tận_tâm': 2493, 'lên_đời': 1321, 'tràn_trề': 2360, '1g': 31, 'trải': 2385, 'món': 1488, 'kẻo': 1218, 'văn_phòng': 2636, 'nẻo': 1797, 'thọai': 2271, 'tồi_tệ': 2528, 'tác_dụng': 2431, 'videos': 2579, 'chuyên': 429, 'nặng_tay': 1796, 'thần': 2249, 'ổn_shop': 2989, 'chup': 426, 'trống': 2397, 'chào': 438, 'dành': 712, 'lắmmáy': 1357, 'dừng': 766, 'tet': 2149, 'vang': 2568, 'làm_phiền': 1307, 'chorme': 415, 'trang_web': 2341, 'phà': 1851, 'trúng': 2373, 'mỹ': 1565, 'lac': 1238, 'sẵn_sàng': 2110, 'phần_trăm': 1887, 'ngân_hàng': 1614, 'tu': 2407, 'xu': 2702, 'khâu': 1143, 'cặp': 646, 'thẳng': 2257, 'link': 1259, 'all': 211, 'đg': 2807, 'okpin': 1826, 'rờ': 2006, 'hấp_dẫn': 1026, 'lộn': 1374, 'đứng_máy': 2956, 'phản': 1879, 'dạ': 737, '2s': 71, 'tựa': 2549, 'một_vài': 1545, 'thưa': 2239, 'dọc': 758, 'lửa': 1383, 'hối_tiếc': 1048, 'đẩy': 2892, 'dc_shop': 679, 'chia_tay': 403, 'ngàn': 1606, '98': 180, 'nghệ': 1585, 'diss': 693, 'zing': 2759, 'ra_mắt': 1952, '27': 61, 's7': 2011, '16': 27, '2i': 69, 'khác_biệt': 1140, 'dặn': 747, 'hqua': 972, '6tr': 147, 'mạg': 1506, 'ấn_tượng': 2974, 'trùng': 2372, 'chủ_nhật': 525, 'nhiệt_tình_shop': 1663, 'te': 2144, 'real': 1959, 'như_là': 1692, 'kín': 1211, 'toẹt': 2333, '10s': 11, 'tây': 2435, 'mịn': 1534, 'mớ': 1546, 'mù': 1494, 'phản_ứng': 1882, 'asus': 228, 'bàn_cãi': 280, 'lúa': 1330, 'công_cụ': 593, 'ui': 2552, 'xò': 2721, 'gia_công': 829, 'ghn': 820, 'nhanhmáy': 1644, 'đúi': 2868, 'combat': 545, 'nhanh_lẹ': 1642, '72': 151, 'thù': 2234, 'đồ_chơi': 2924, 'tốtshop': 2526, 'đen_thui': 2804, 'nhiềupin': 1656, 'tam_gia': 2139, 'voi_shop': 2596, 'tiện_dụng': 2317, 'thiết_nghĩ': 2187, '2h30p': 68, '2017': 47, 'kim_loại': 1177, 'mặt_kính': 1527, '2020': 50, '8gb': 169, 'điều_khiển': 2814, 'wi': 2677, 'fi': 793, 'phòng': 1870, 'công_ty': 596, 'tượng': 2479, 'dáng': 716, 'cải_tiến': 620, 'ôk': 2782, 'ghtk': 821, 'g6': 807, 'lạy': 1347, 'trâu_bò': 2366, 'cảm_quan': 625, 'hà_nội': 980, 'vua': 2604, 'suất': 2075, 'ghi_chú': 817, 'chât': 448, '64': 137, 'bức': 365, 'ẹt': 2981, 'giup': 838, 'nắm': 1791, 'bang': 237, 'ổn_áp': 2990, 'đắn_đo': 2896, 'cskh': 552, 'rắc': 1995, '1h30p': 34, 'má': 1464, '1080p': 7, 'lắmchơi': 1356, 'sđt': 2089, 'khuyết_điểm': 1135, 'cân_bằng': 579, 'mực': 1564, 'silicon': 2046, 'bung': 270, 'giat': 835, 'miễn_phí': 1427, 'sữ': 2131, 'đo': 2824, 'phải_chăng': 1877, 'trước_mắt': 2378, 'rẽ': 1999, 'công_việc': 597, 'trợ_giúp': 2402, 'mò': 1487, 'hotline': 960, 'rát': 1981, 'hỉu': 1039, 'điều_chỉnh': 2812, 'lõi': 1329, 'dieu': 692, 'v15': 2562, 'đuoc': 2830, 'kệ': 1227, 'nch': 1571, 'ăn_thua': 2793, '81': 162, 'kì_vọng': 1208, 'khuyến_cáo': 1133, 'wfi': 2676, 'j4': 1091, 'băt': 308, 'tăt': 2466, 'xi': 2690, 'nhẩy': 1710, 'ban_ngày': 234, 'volum': 2597, 'file': 794, 'tổng': 2529, 'kt': 1196, 'diễn_tả': 694, 'tiếp_nhận': 2307, 'tray': 2342, 'bất_kì': 329, 'exynos': 777, 'chan': 393, 'dx': 708, 'mall': 1397, '22': 52, 'cước': 611, 'vù_vù': 2633, 'phẫm': 1890, 'phần_cứng': 1885, 'sương': 2093, 'chính_xác': 456, 'đồn': 2927, 'lo_ngại': 1277, 'ln': 1274, 'hong': 958, 'phồng': 1892, 'báo_shop': 288, 'nhờ_shop': 1732, 'chiệu': 410, 'nhắm': 1720, 'chủ_đề': 528, 'kĩ_thuật': 1216, 'thất_bại': 2246, 'ồn_ào': 2986, '2ngày': 70, 'nội_địa': 1810, 'bự': 368, 'ôi': 2781, 'kênh': 1205, '128g': 18, 'chính_thức': 455, 'thương': 2240, 'lôi': 1328, 'mât': 1477, 'vưa': 2639, 'chủng_loại': 529, 'uh_shop': 2551, 'tgđ': 2157, 'mes': 1410, 'phán': 1853, 'th': 2158, 'ps_shop': 1909, 'siêu_tốc': 2054, 'okdùng': 1821, 'bảng': 318, 'cân': 578, 'ví_dụ': 2622, 'tiêu_đề': 2302, 'm1': 1387, 'đút_túi': 2870, 'mèo': 1481, 'star': 2069, 'tím': 2448, 'games': 811, 'íu': 2780, 'mobi': 1434, 'đên': 2856, 'đại': 2880, 'thái': 2212, 'chất_liệu': 484, 'lui': 1294, 'chia': 402, 'đồng_hồ': 2930, 'bảo_hành_nhân_viên': 322, 'nguyên_vẹn': 1604, 'chac': 390, '910': 174, 'tét': 2436, 'sịn': 2113, 'đm': 2822, 'docomo': 698, '4sao': 111, 'ug': 2550, 'sức_khỏe': 2125, '7a': 155, 'lồn': 1369, 'inbox': 1076, 'gam': 809, 'nội_dung': 1809, '3h': 88, 'combo': 546, 'đường_nét': 2879, 'lem': 1251, 'người_nhà': 1620, 'nhảy_tùm': 1702, 'nghi': 1580, 'thịt': 2270, 'mua_sắm': 1451, 'tuỳ': 2423, 'dẫn': 744, 'thiệt_hại': 2191, 'tín_dụng': 2450, 'hóa': 1005, 'ván': 2615, 'lẻ': 1361, 'rep': 1964, 'tt': 2406, 'chúng_tôi': 466, 'nova3i': 1751, 'đột_ngột': 2947, 'xung_đột': 2705, 'main': 1395, 'quá_xá': 1931, '500k': 118, 'hút': 1012, 'phết': 1891, 'bò': 301, '57': 123, 'tac': 2135, 'mak': 1396, 'đay': 2799, 'rinh': 1969, 'dau': 676, 'bửa': 366, 'yếu_tố': 2753, 'bảo_hành_chính': 321, 'liên_quân_bị': 1268, '23h': 56, 'chuẩn_shop': 437, '64g': 138, 'zenfone': 2757, 'qtv': 1914, 'tức_là': 2541, 'vna': 2593, 'kim': 1176, 'hạng': 1021, 'ngày_ngày': 1611, 'kẻ': 1217, '700': 149, 'thuần': 2205, 'hien': 930, 'dan': 670, 'giọng': 866, 'ổnpin': 2993, 'bản_quốc_tế': 316, 'j5': 1092, 'skill': 2055, 'wua': 2680, 'f7': 782, 'mê_hồn': 1483, 'hjhj': 945, 'sạch_sẽ': 2099, '800': 160, 'sms': 2059, 'y11': 2736, 'bịt': 350, 'kái': 1200, 'ổi': 2987, 'khiếu_nại': 1117, 'đá': 2839, 'bây_h': 291, 'nhập_khẩu': 1716, '5c': 124, 'cơn': 609, 'ip5': 1081, 'nưa': 1784, 'vô_tư': 2630, 'helio': 925, 'j6': 1093, 'tets': 2150, 'wiko': 2679, 'bao_bì': 240, 'nhỡ': 1733, 'mền': 1532, 'a5s': 194, 'vệ_sinh': 2656, 'vội': 2661, 'khả_dụng': 1157, 'mác': 1465, 'chứng_tỏ': 531, 'tản': 2486, 'bóp': 305, 'làng': 1312, 'kug': 1198, 'cuong': 560, 'room': 1974, 'sờ': 2121, 'y_chang': 2740, 'kn': 1193, 'cmn': 540, 'loading': 1280, 'ôn': 2784, 'gg': 814, 'phảm': 1878, '50k': 119, 'đẹpmáy': 2907, 'hạn': 1019, 'ghe': 815, 'quanh': 1919, 'chui': 424, 'ngắm': 1627, 'am_hiểu': 213, '1t': 38, 'fe': 790, 'nchung': 1572, 'j2': 1090, 'vô_lý': 2627, 'nãn': 1765, 'nhân_bản': 1678, 'nong': 1744, 'vói': 2624, 'tham': 2159, 'dự': 769, 'j8': 1096, 'lạnh': 1346, 'tut': 2412, 'pixel': 1901, 'rỉ': 2000, 'trọng': 2396, 'mất_tiếng': 1514, 'ps': 1908, '01': 0, 'tấm': 2487, 'thiết_lập': 2186, 'khắc': 1160, 'tệmua': 2504, 'cay': 388, 'lựa': 1384, 'hụt_hẫng': 1065, '3m': 90, 'otg': 1835, 'gon': 878, '10p': 9, 'fullbox_shop': 806, 'bàng': 282, 'tráo': 2364, '1tháng': 41, 'xs': 2701, 'giải_trí': 857, 'ánh': 2766, 'chắn': 496, 'bixby': 255, 'ý_muốn': 2790, 'xạ': 2726, 'nhọ': 1726, 'lazzada': 1248, 'v90': 2564, 'nhỏ_shop': 1728, 'vc': 2571, 'c2': 373, '232': 55, 'lỡ_tay': 1380, 'dg': 687, 'tốtmáy': 2523, 'tớ': 2534, '128': 16, 'đáng_lẽ': 2844, 'úng': 2787, 'vá_lỗi': 2614, '123': 15, 'màu_sắc_đẹp': 1462, 'nhè': 1682, 'mại': 1507, 'hàng_xách': 988, 'nhấp': 1705, 'khôq': 1155, 'quyền': 1925, 'ngọc': 1630, 'lung_linh': 1297, 'ổnnhưng': 2992, 'nilon': 1737, 'chênh_lệch': 452, 'mên': 1484, '3ngay': 91, 'you_shop': 2745, 'kỹ_thuật_viên': 1236, 'chịu_lỗ': 506, 's1': 2008, 'trắng_shop': 2392, 'chắc_tay': 495, 'of': 1816, 'hủy': 1066, 'gương': 893, 'đối': 2919, 'mới_toanh': 1552, 'quê': 1937, 'niềm_tin': 1740, 'mb': 1408, 'dãy': 720, '4x': 113, 'tốtdùng': 2521, 'lịch': 1364, 'thư_mục': 2238, 'dễ_dàng': 752, 'quý_khách': 1939, 'nhanhshop': 1645, 'vẩn': 2646, 'note7': 1747, 'ten': 2146, 'ẩm_ướt': 2978, 'bưu_cục': 309, 'dơ': 735}\n"
          ],
          "name": "stdout"
        }
      ]
    },
    {
      "cell_type": "markdown",
      "metadata": {
        "id": "HQw-P4G7z0e8",
        "colab_type": "text"
      },
      "source": [
        "## **Trainning on the SVM classifier**"
      ]
    },
    {
      "cell_type": "code",
      "metadata": {
        "id": "2-e_KuT0yzW7",
        "colab_type": "code",
        "colab": {
          "base_uri": "https://localhost:8080/",
          "height": 34
        },
        "outputId": "c406b74a-53e7-427a-cbfa-2f244b901cd6"
      },
      "source": [
        "SVM = svm.SVC(C=1.0, kernel='linear', verbose=True)\n",
        "SVM.fit(Train_X_Tfidf,Y_Train)"
      ],
      "execution_count": null,
      "outputs": [
        {
          "output_type": "stream",
          "text": [
            "[LibSVM]"
          ],
          "name": "stdout"
        },
        {
          "output_type": "execute_result",
          "data": {
            "text/plain": [
              "SVC(kernel='linear', verbose=True)"
            ]
          },
          "metadata": {
            "tags": []
          },
          "execution_count": 37
        }
      ]
    },
    {
      "cell_type": "markdown",
      "metadata": {
        "id": "oeab3kwjzwHe",
        "colab_type": "text"
      },
      "source": [
        "**Predict and evaluate the SVM classifier**"
      ]
    },
    {
      "cell_type": "code",
      "metadata": {
        "id": "uNH9Szb41Lxi",
        "colab_type": "code",
        "colab": {
          "base_uri": "https://localhost:8080/",
          "height": 279
        },
        "outputId": "026a0633-48af-4d1a-816e-13e86091a480"
      },
      "source": [
        "predictions_SVM=SVM.predict(Test_X_Tfidf)\n",
        "fig, ax = plot_confusion_matrix(conf_mat=confusion_matrix(Y_test,predictions_SVM))\n",
        "plt.show()"
      ],
      "execution_count": null,
      "outputs": [
        {
          "output_type": "display_data",
          "data": {
            "image/png": "[encoded data removed]",
            "text/plain": [
              "<Figure size 432x288 with 1 Axes>"
            ]
          },
          "metadata": {
            "tags": []
          }
        }
      ]
    },
    {
      "cell_type": "code",
      "metadata": {
        "id": "-e2OwAKO9eJF",
        "colab_type": "code",
        "colab": {
          "base_uri": "https://localhost:8080/",
          "height": 168
        },
        "outputId": "5c484b13-d336-4c4b-cf36-31e29940fd1d"
      },
      "source": [
        "print(classification_report(Y_test,predictions_SVM))"
      ],
      "execution_count": null,
      "outputs": [
        {
          "output_type": "stream",
          "text": [
            "              precision    recall  f1-score   support\n",
            "\n",
            "           0       0.93      0.94      0.94      1243\n",
            "           1       0.95      0.93      0.94      1294\n",
            "\n",
            "    accuracy                           0.94      2537\n",
            "   macro avg       0.94      0.94      0.94      2537\n",
            "weighted avg       0.94      0.94      0.94      2537\n",
            "\n"
          ],
          "name": "stdout"
        }
      ]
    },
    {
      "cell_type": "markdown",
      "metadata": {
        "id": "3RGVdoWO0MTd",
        "colab_type": "text"
      },
      "source": [
        "## **Trainning on the Naive Bayes Classifier**"
      ]
    },
    {
      "cell_type": "code",
      "metadata": {
        "id": "9xSLTar-z-k6",
        "colab_type": "code",
        "colab": {
          "base_uri": "https://localhost:8080/",
          "height": 34
        },
        "outputId": "d17182ca-c159-4b26-e507-55f095b5ff8c"
      },
      "source": [
        "Naive = naive_bayes.MultinomialNB()\n",
        "Naive.fit(Train_X_Tfidf,Y_Train)"
      ],
      "execution_count": null,
      "outputs": [
        {
          "output_type": "execute_result",
          "data": {
            "text/plain": [
              "MultinomialNB()"
            ]
          },
          "metadata": {
            "tags": []
          },
          "execution_count": 40
        }
      ]
    },
    {
      "cell_type": "markdown",
      "metadata": {
        "id": "_8QLv_Zz0P9j",
        "colab_type": "text"
      },
      "source": [
        "**Predict and evaluate the Naive Bayes Classifier**"
      ]
    },
    {
      "cell_type": "code",
      "metadata": {
        "id": "mPbuOVdN-Oe-",
        "colab_type": "code",
        "colab": {
          "base_uri": "https://localhost:8080/",
          "height": 279
        },
        "outputId": "3335ce12-569d-4b3a-e90e-ab9091c4cc12"
      },
      "source": [
        "predictions_NB=Naive.predict(Test_X_Tfidf)\n",
        "fig, ax = plot_confusion_matrix(conf_mat=confusion_matrix(Y_test,predictions_NB))\n",
        "plt.show()"
      ],
      "execution_count": null,
      "outputs": [
        {
          "output_type": "display_data",
          "data": {
            "image/png": "[encoded data removed]",
            "text/plain": [
              "<Figure size 432x288 with 1 Axes>"
            ]
          },
          "metadata": {
            "tags": []
          }
        }
      ]
    },
    {
      "cell_type": "code",
      "metadata": {
        "id": "9k22ldOj0CAa",
        "colab_type": "code",
        "colab": {
          "base_uri": "https://localhost:8080/",
          "height": 168
        },
        "outputId": "a8b76123-36c9-4b6f-850c-fa14489cf4d6"
      },
      "source": [
        "print(classification_report(Y_test,predictions_NB))"
      ],
      "execution_count": null,
      "outputs": [
        {
          "output_type": "stream",
          "text": [
            "              precision    recall  f1-score   support\n",
            "\n",
            "           0       0.92      0.93      0.93      1243\n",
            "           1       0.94      0.93      0.93      1294\n",
            "\n",
            "    accuracy                           0.93      2537\n",
            "   macro avg       0.93      0.93      0.93      2537\n",
            "weighted avg       0.93      0.93      0.93      2537\n",
            "\n"
          ],
          "name": "stdout"
        }
      ]
    },
    {
      "cell_type": "markdown",
      "metadata": {
        "id": "qoyU4kK8XbIS",
        "colab_type": "text"
      },
      "source": [
        "# ***Save model***"
      ]
    },
    {
      "cell_type": "code",
      "metadata": {
        "id": "ONzqnF8tXpXZ",
        "colab_type": "code",
        "colab": {
          "base_uri": "https://localhost:8080/",
          "height": 34
        },
        "outputId": "69a37901-60d7-41a7-e6cd-a95c5cf22b98"
      },
      "source": [
        "joblib.dump(Tfidf_vect, '/content/Sentiment_Classification/model/tfidf.pkl')\n",
        "joblib.dump(tokenizer, '/content/Sentiment_Classification/model/tokenizer_LSTM.pkl')\n",
        "joblib.dump(model, '/content/Sentiment_Classification/model/LSTM_model.pkl')\n",
        "joblib.dump(SVM, '/content/Sentiment_Classification/model/SVM_model.pkl')\n",
        "joblib.dump(Naive, '/content/Sentiment_Classification/model/NB_model.pkl')\n",
        "joblib.dump(Tfidf_vect.vocabulary_, '/content/Sentiment_Classification/model/vocabulary.pkl')\n",
        "joblib.dump(max_token, '/content/Sentiment_Classification/model/max_token.pkl')"
      ],
      "execution_count": null,
      "outputs": [
        {
          "output_type": "execute_result",
          "data": {
            "text/plain": [
              "['/content/Sentiment_Classification/model/max_token.pkl']"
            ]
          },
          "metadata": {
            "tags": []
          },
          "execution_count": 43
        }
      ]
    },
    {
      "cell_type": "markdown",
      "metadata": {
        "id": "cs1wBCBUFYFu",
        "colab_type": "text"
      },
      "source": [
        "# ***Enter comment and test***"
      ]
    },
    {
      "cell_type": "markdown",
      "metadata": {
        "id": "g78HI7WyOQ4k",
        "colab_type": "text"
      },
      "source": [
        "## *utils*"
      ]
    },
    {
      "cell_type": "code",
      "metadata": {
        "colab_type": "code",
        "id": "Hc1u-IBAfx3X",
        "colab": {}
      },
      "source": [
        "from google.colab import drive\n",
        "drive.mount('/content/drive')\n",
        "!ln -s /content/drive/'My Drive'/Sentiment_Classification"
      ],
      "execution_count": null,
      "outputs": []
    },
    {
      "cell_type": "code",
      "metadata": {
        "id": "KlcAZo9d_CCh",
        "colab_type": "code",
        "colab": {}
      },
      "source": [
        "!pip install underthesea\n",
        "!pip install unidecode\n",
        "!pip install scikit-learn==0.23.1\n",
        "!pip install keras==2.2.5\n",
        "!pip install TensorFlow==1.14"
      ],
      "execution_count": null,
      "outputs": []
    },
    {
      "cell_type": "code",
      "metadata": {
        "id": "kT94GCJ2Ur30",
        "colab_type": "code",
        "colab": {}
      },
      "source": [
        "from nltk.corpus import wordnet\n",
        "from nltk.stem import WordNetLemmatizer\n",
        "from underthesea import word_tokenize\n",
        "from keras.preprocessing.sequence import pad_sequences\n",
        "import numpy as np\n",
        "import unidecode\n",
        "import re\n",
        "import joblib\n",
        "\n",
        "\n",
        "path='/content/Sentiment_Classification/'\n",
        "stopwords=set(open(path+'data/stopwords.txt').read().split(' ')[:-1])\n",
        "\n",
        "max_token=joblib.load(path+'model/max_token.pkl')\n",
        "RNN_model=joblib.load(path+'model/LSTM_model.pkl')\n",
        "RNN_embedding=joblib.load(path+'model/tokenizer_LSTM.pkl')\n",
        "SVM_model=joblib.load(path+'model/SVM_model.pkl')\n",
        "NB_model=joblib.load(path+'model/NB_model.pkl')\n",
        "TFIDF_embedding=joblib.load(path+'model/tfidf.pkl')\n",
        "\n",
        "\n",
        "def vi_tokenizer(row):\n",
        "  row=row.lower()\n",
        "  return word_tokenize(row, format=\"text\")\n",
        "\n",
        "def remove_accents(row):\n",
        "  return unidecode.unidecode(row)\n",
        "\n",
        "def remove_stopwords(hl_split):\n",
        "  sent = [s for s in hl_split if s not in stopwords]\n",
        "  return sent\n",
        "\n",
        "def text_cleasing(row):\n",
        "  row = row.translate(str.maketrans('', '', punctuation))\n",
        "  row = row.strip()\n",
        "  row=vi_tokenizer(row)\n",
        "  row=remove_stopwords(row.split())\n",
        "  #row=[remove_accents(s) for s in row]\n",
        "  #row=[\" \".join(x) for x in row]\n",
        "  return row\n",
        "\n",
        "def input_vectorization(input_token,w_embedding):\n",
        "  arr_token=[]\n",
        "  arr_token.append(input_token)\n",
        "  sequences = w_embedding.texts_to_sequences(arr_token)\n",
        "  X = pad_sequences(sequences, maxlen=max_token)\n",
        "  return X\n",
        "       \n",
        "\n",
        "def LSTM_predict(text,model,w_embedding):\n",
        "  token=text_cleasing(text)\n",
        "  X=input_vectorization(token,w_embedding)\n",
        "  if np.around(model.predict(X))==1:\n",
        "    print(text)\n",
        "    print(\"=============> Positive\\n\")\n",
        "  else:\n",
        "    print(text)\n",
        "    print(\"=============> Negative\\n\")\n",
        "\n",
        "def predict(text,model,w_embedding):\n",
        "  token=text_cleasing(text)\n",
        "  token=[' '.join(token)]\n",
        "  X_Tfidf = w_embedding.transform(token)\n",
        "  if model.predict(X_Tfidf)[0]==1:\n",
        "    print(text)\n",
        "    print(\"=============> Positive\\n\")\n",
        "  else:\n",
        "    print(text)\n",
        "    print(\"=============> Negative\\n\")\n",
        "\n",
        "def standardize_data(df):\n",
        "    hl_cleansed=[]\n",
        "    for row in df:\n",
        "        row = row.translate(str.maketrans('', '', punctuation))\n",
        "        row = row.strip()\n",
        "        hl_cleansed.append(row)\n",
        "    return hl_cleansed\n",
        "\n",
        "\n",
        "def multi_predict(list_data,choice):\n",
        "  result=dict()\n",
        "  hl_cleansed=standardize_data(list_data)\n",
        "  rs=[]\n",
        "  num_positive=None\n",
        "  num_negative=None\n",
        "  hl_tokens = []\n",
        "  for hl in hl_cleansed:\n",
        "      hl=vi_tokenizer(hl)\n",
        "      clean=remove_stopwords(hl.split())\n",
        "      #clean=[remove_accents(s) for s in clean]\n",
        "      hl_tokens.append(clean)\n",
        "\n",
        "  #choice == RNN using RNN model\n",
        "  if choice=='RNN':\n",
        "    sequences = RNN_embedding.texts_to_sequences(hl_tokens)\n",
        "    X = pad_sequences(sequences, maxlen=max_token)\n",
        "    rs=np.around(RNN_model.predict(X))\n",
        "\n",
        "    \n",
        "  #choice ==SVM using SVM classifer\n",
        "  elif choice=='SVM':\n",
        "    X = [\" \".join(x) for x in hl_tokens]\n",
        "    X = TFIDF_embedding.transform(X)\n",
        "    rs = SVM_model.predict(X)\n",
        "  \n",
        "\n",
        "  elif choice=='NB':\n",
        "    X = [\" \".join(x) for x in hl_tokens]\n",
        "    X = TFIDF_embedding.transform(X)\n",
        "    rs = NB_model.predict(X)\n",
        "    \n",
        "\n",
        "  num_positive=np.count_nonzero(rs == 1)\n",
        "  num_negative=np.count_nonzero(rs == 0)\n",
        "  rs=rs.flatten().astype(int)\n",
        "  \n",
        "  percentage_of_positive= round(num_positive/(num_positive + num_negative)*100,2)\n",
        "  index_of_positive=[i for i, e in enumerate(rs) if e == 1]\n",
        "  index_of_negative=[i for i, e in enumerate(rs) if e == 0]\n",
        "  recommend='Máy được khen trên '+str(percentage_of_positive)+'%, mua đi !!' if percentage_of_positive > 65 \\\n",
        "                            else 'Máy bị chê quá nhiều ('+str(100-percentage_of_positive)+'%), không nên mua'\n",
        "\n",
        "  result['Number of positive']=num_positive\n",
        "  result['Number of negative']=num_negative\n",
        "  result['Recommend']=recommend\n",
        "  result['Index of positive']= index_of_positive\n",
        "  result['Index of negative']= index_of_negative\n",
        "  result['Model']= choice\n",
        "\n",
        "\n",
        "  return result\n",
        "\n",
        "  \n"
      ],
      "execution_count": null,
      "outputs": []
    },
    {
      "cell_type": "code",
      "metadata": {
        "id": "vVG6diH_LtKV",
        "colab_type": "code",
        "colab": {}
      },
      "source": [
        "cmt0='máy bắt wifi như lolllllllllllll'\n",
        "\n",
        "cmt1='Quá buồn khi mua em này, loa cuộc gọi siêu bé, không nghe được, vân tay không nhạy 1 tí gì. Mình mua được 2 tuần. Giờ mình phải làm sao????'\n",
        "\n",
        "cmt2='ngon quá, sẽ ủng hộ shop dài dài.'\n",
        "\n",
        "cmt3='Quá tuyệt, siêu phẩm 2020 là đây, giá rẻ mà cấu hình lại cao nữa.'\n",
        "\n",
        "cmt4='Rất buồn,máy ok đó nhưng TGDĐ làm ăn bảo hành như cc, mang ra đổi trả không chịu !!!'\n",
        "\n",
        "cmt5='Đã thử sang note 10 nhưng vẫn quay lại với IPhone. Thề androi như bùi mng ạ.. phần gia công iphone làm rất tốt. Cái note 10+ thật sự đc mỗi cái màn hình ngon'\n",
        "\n",
        "cmt6='Máy thì ngon nhưng chủ yếu dùng nghe gọi nên giá hơi chát. Tuy nhiên iphone dùng 4,5 năm vẫn tốt. Nên mua.'\n",
        "\n",
        "cmt7=\"Mình mua được hơn 1 tháng rồi máy hoạt động êm nước lọc ngon nhưng không được hài lòng cho lắm\"\n",
        "\n",
        "cmt=[cmt0,cmt1,cmt2,cmt3,cmt4,cmt5,cmt6,cmt7]"
      ],
      "execution_count": null,
      "outputs": []
    },
    {
      "cell_type": "code",
      "metadata": {
        "id": "XDiknCMGL1vh",
        "colab_type": "code",
        "colab": {
          "base_uri": "https://localhost:8080/",
          "height": 118
        },
        "outputId": "8304c429-1cea-4293-bace-9dea5f20df6e"
      },
      "source": [
        "a=multi_predict(cmt,'RNN')\n",
        "a"
      ],
      "execution_count": null,
      "outputs": [
        {
          "output_type": "execute_result",
          "data": {
            "text/plain": [
              "{'Index of negative': [0, 1, 4, 5],\n",
              " 'Index of positive': [2, 3, 6, 7],\n",
              " 'Model': 'RNN',\n",
              " 'Number of negative': 4,\n",
              " 'Number of positive': 4,\n",
              " 'Recommend': 'Máy bị chê quá nhiều (50.0%), không nên mua'}"
            ]
          },
          "metadata": {
            "tags": []
          },
          "execution_count": 67
        }
      ]
    },
    {
      "cell_type": "markdown",
      "metadata": {
        "id": "zzUTRbrYOXMC",
        "colab_type": "text"
      },
      "source": [
        "## Predict"
      ]
    },
    {
      "cell_type": "markdown",
      "metadata": {
        "id": "nR7m-FhFhB8H",
        "colab_type": "text"
      },
      "source": [
        "Using LSTM model to predict"
      ]
    },
    {
      "cell_type": "code",
      "metadata": {
        "id": "k6eBwP2kYvpl",
        "colab_type": "code",
        "colab": {
          "base_uri": "https://localhost:8080/",
          "height": 168
        },
        "outputId": "b18ebf86-2411-4f17-ad5f-2947d3224962"
      },
      "source": [
        "cmt='máy bắt wifi như lolllllllllllll'\n",
        "\n",
        "cmt2='Quá buồn khi mua em này, loa cuộc gọi siêu bé, không nghe được, vân tay không nhạy 1 tí gì. Mình mua được 2 tuần. Giờ mình phải làm sao????'\n",
        "\n",
        "cmt3='ngon quá, sẽ ủng hộ shop dài dài'\n",
        "\n",
        "\n",
        "\n",
        "LSTM_predict(cmt,RNN_model,RNN_embedding)\n",
        "LSTM_predict(cmt2,RNN_model,RNN_embedding)\n",
        "LSTM_predict(cmt3,RNN_model,RNN_embedding)\n",
        "\n"
      ],
      "execution_count": null,
      "outputs": [
        {
          "output_type": "stream",
          "text": [
            "máy bắt wifi như lolllllllllllll\n",
            "=============> Negative\n",
            "\n",
            "Quá buồn khi mua em này, loa cuộc gọi siêu bé, không nghe được, vân tay không nhạy 1 tí gì. Mình mua được 2 tuần. Giờ mình phải làm sao????\n",
            "=============> Negative\n",
            "\n",
            "ngon quá, sẽ ủng hộ shop dài dài\n",
            "=============> Positive\n",
            "\n"
          ],
          "name": "stdout"
        }
      ]
    },
    {
      "cell_type": "markdown",
      "metadata": {
        "id": "ZtvPXsE4Gkk8",
        "colab_type": "text"
      },
      "source": [
        "Using SVM clasifier"
      ]
    },
    {
      "cell_type": "code",
      "metadata": {
        "id": "YUbY0NyEQf21",
        "colab_type": "code",
        "colab": {
          "base_uri": "https://localhost:8080/",
          "height": 168
        },
        "outputId": "3dcf3471-14dc-4ec2-8bf5-4493ac6ad445"
      },
      "source": [
        "predict(cmt,SVM_model,TFIDF_embedding)\n",
        "predict(cmt2,SVM_model,TFIDF_embedding)\n",
        "predict(cmt3,SVM_model,TFIDF_embedding)"
      ],
      "execution_count": null,
      "outputs": [
        {
          "output_type": "stream",
          "text": [
            "máy bắt wifi như lolllllllllllll\n",
            "=============> Negative\n",
            "\n",
            "Quá buồn khi mua em này, loa cuộc gọi siêu bé, không nghe được, vân tay không nhạy 1 tí gì. Mình mua được 2 tuần. Giờ mình phải làm sao????\n",
            "=============> Negative\n",
            "\n",
            "ngon quá, sẽ ủng hộ shop dài dài\n",
            "=============> Positive\n",
            "\n"
          ],
          "name": "stdout"
        }
      ]
    },
    {
      "cell_type": "markdown",
      "metadata": {
        "id": "HIZ2FvNdGy6t",
        "colab_type": "text"
      },
      "source": [
        "Using NB clasifier\n"
      ]
    },
    {
      "cell_type": "code",
      "metadata": {
        "id": "noKaA-8xVRE9",
        "colab_type": "code",
        "colab": {
          "base_uri": "https://localhost:8080/",
          "height": 168
        },
        "outputId": "d0381d83-03c5-4731-d69d-7a8aedaa117c"
      },
      "source": [
        "predict(cmt,NB_model,TFIDF_embedding)\n",
        "predict(cmt2,NB_model,TFIDF_embedding)\n",
        "predict(cmt3,NB_model,TFIDF_embedding)"
      ],
      "execution_count": null,
      "outputs": [
        {
          "output_type": "stream",
          "text": [
            "máy bắt wifi như lolllllllllllll\n",
            "=============> Negative\n",
            "\n",
            "Quá buồn khi mua em này, loa cuộc gọi siêu bé, không nghe được, vân tay không nhạy 1 tí gì. Mình mua được 2 tuần. Giờ mình phải làm sao????\n",
            "=============> Negative\n",
            "\n",
            "ngon quá, sẽ ủng hộ shop dài dài\n",
            "=============> Positive\n",
            "\n"
          ],
          "name": "stdout"
        }
      ]
    }
  ]
}