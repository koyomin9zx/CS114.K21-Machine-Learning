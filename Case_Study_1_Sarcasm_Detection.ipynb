{
  "nbformat": 4,
  "nbformat_minor": 0,
  "metadata": {
    "colab": {
      "name": "Case_Study_1_Sarcasm_Detection.ipynb",
      "provenance": [],
      "authorship_tag": "ABX9TyP6TWVH/UBiaV7V1wqmc8TH",
      "include_colab_link": true
    },
    "kernelspec": {
      "name": "python3",
      "display_name": "Python 3"
    },
    "accelerator": "GPU"
  },
  "cells": [
    {
      "cell_type": "markdown",
      "metadata": {
        "id": "view-in-github",
        "colab_type": "text"
      },
      "source": [
        "<a href=\"https://colab.research.google.com/github/koyomin9zx/CS114.K21-Machine-Learning/blob/master/Case_Study_1_Sarcasm_Detection.ipynb\" target=\"_parent\"><img src=\"https://colab.research.google.com/assets/colab-badge.svg\" alt=\"Open In Colab\"/></a>"
      ]
    },
    {
      "cell_type": "markdown",
      "metadata": {
        "id": "BPXbNXcGnVEm",
        "colab_type": "text"
      },
      "source": [
        "# **Preprocessing**"
      ]
    },
    {
      "cell_type": "code",
      "metadata": {
        "id": "j02SClP7nWpd",
        "colab_type": "code",
        "colab": {}
      },
      "source": [
        "#Colab library to upload files to notebook\n",
        "from google.colab import files\n",
        "\n",
        "# Install Kaggle library\n",
        "!pip install -q kaggle"
      ],
      "execution_count": 0,
      "outputs": []
    },
    {
      "cell_type": "code",
      "metadata": {
        "id": "dcScsaKyibhk",
        "colab_type": "code",
        "colab": {}
      },
      "source": [
        "#upload kaggle API\n",
        "uploaded = files.upload()"
      ],
      "execution_count": 0,
      "outputs": []
    },
    {
      "cell_type": "code",
      "metadata": {
        "id": "z61VEMTHjIY0",
        "colab_type": "code",
        "colab": {}
      },
      "source": [
        "#import data from kaggle to colab\n",
        "!mkdir -p ~/.kaggle\n",
        "!cp kaggle.json ~/.kaggle/\n",
        "!chmod 600 ~/.kaggle/kaggle.json\n",
        "!kaggle datasets download -d rmisra/news-headlines-dataset-for-sarcasm-detection"
      ],
      "execution_count": 0,
      "outputs": []
    },
    {
      "cell_type": "code",
      "metadata": {
        "id": "kzXnFAZajgb0",
        "colab_type": "code",
        "colab": {}
      },
      "source": [
        "#unzip dataset\n",
        "!unzip /content/news-headlines-dataset-for-sarcasm-detection.zip"
      ],
      "execution_count": 0,
      "outputs": []
    },
    {
      "cell_type": "code",
      "metadata": {
        "id": "P0s4gHVuj25d",
        "colab_type": "code",
        "colab": {
          "base_uri": "https://localhost:8080/",
          "height": 195
        },
        "outputId": "871a7d10-a7a1-4d72-efd0-ba131c32dfb2"
      },
      "source": [
        "#read dataset\n",
        "import pandas as pd\n",
        "\n",
        "df = pd.read_json(\"/content/Sarcasm_Headlines_Dataset_v2.json\", lines=True)\n",
        "df.head(5)"
      ],
      "execution_count": 59,
      "outputs": [
        {
          "output_type": "execute_result",
          "data": {
            "text/html": [
              "<div>\n",
              "<style scoped>\n",
              "    .dataframe tbody tr th:only-of-type {\n",
              "        vertical-align: middle;\n",
              "    }\n",
              "\n",
              "    .dataframe tbody tr th {\n",
              "        vertical-align: top;\n",
              "    }\n",
              "\n",
              "    .dataframe thead th {\n",
              "        text-align: right;\n",
              "    }\n",
              "</style>\n",
              "<table border=\"1\" class=\"dataframe\">\n",
              "  <thead>\n",
              "    <tr style=\"text-align: right;\">\n",
              "      <th></th>\n",
              "      <th>is_sarcastic</th>\n",
              "      <th>headline</th>\n",
              "      <th>article_link</th>\n",
              "    </tr>\n",
              "  </thead>\n",
              "  <tbody>\n",
              "    <tr>\n",
              "      <th>0</th>\n",
              "      <td>1</td>\n",
              "      <td>thirtysomething scientists unveil doomsday clo...</td>\n",
              "      <td>https://www.theonion.com/thirtysomething-scien...</td>\n",
              "    </tr>\n",
              "    <tr>\n",
              "      <th>1</th>\n",
              "      <td>0</td>\n",
              "      <td>dem rep. totally nails why congress is falling...</td>\n",
              "      <td>https://www.huffingtonpost.com/entry/donna-edw...</td>\n",
              "    </tr>\n",
              "    <tr>\n",
              "      <th>2</th>\n",
              "      <td>0</td>\n",
              "      <td>eat your veggies: 9 deliciously different recipes</td>\n",
              "      <td>https://www.huffingtonpost.com/entry/eat-your-...</td>\n",
              "    </tr>\n",
              "    <tr>\n",
              "      <th>3</th>\n",
              "      <td>1</td>\n",
              "      <td>inclement weather prevents liar from getting t...</td>\n",
              "      <td>https://local.theonion.com/inclement-weather-p...</td>\n",
              "    </tr>\n",
              "    <tr>\n",
              "      <th>4</th>\n",
              "      <td>1</td>\n",
              "      <td>mother comes pretty close to using word 'strea...</td>\n",
              "      <td>https://www.theonion.com/mother-comes-pretty-c...</td>\n",
              "    </tr>\n",
              "  </tbody>\n",
              "</table>\n",
              "</div>"
            ],
            "text/plain": [
              "   is_sarcastic  ...                                       article_link\n",
              "0             1  ...  https://www.theonion.com/thirtysomething-scien...\n",
              "1             0  ...  https://www.huffingtonpost.com/entry/donna-edw...\n",
              "2             0  ...  https://www.huffingtonpost.com/entry/eat-your-...\n",
              "3             1  ...  https://local.theonion.com/inclement-weather-p...\n",
              "4             1  ...  https://www.theonion.com/mother-comes-pretty-c...\n",
              "\n",
              "[5 rows x 3 columns]"
            ]
          },
          "metadata": {
            "tags": []
          },
          "execution_count": 59
        }
      ]
    },
    {
      "cell_type": "code",
      "metadata": {
        "id": "5tukVXaXkMxM",
        "colab_type": "code",
        "colab": {
          "base_uri": "https://localhost:8080/",
          "height": 353
        },
        "outputId": "b2c5aedf-3dae-498e-e634-4044bc2a6805"
      },
      "source": [
        "#See how our headlines look like\n",
        "for i,headline in enumerate (df['headline'], 1):\n",
        "    if i > 20:\n",
        "        break\n",
        "    else:\n",
        "        print(i, headline)"
      ],
      "execution_count": 58,
      "outputs": [
        {
          "output_type": "stream",
          "text": [
            "1 thirtysomething scientists unveil doomsday clock of hair loss\n",
            "2 dem rep. totally nails why congress is falling short on gender, racial equality\n",
            "3 eat your veggies: 9 deliciously different recipes\n",
            "4 inclement weather prevents liar from getting to work\n",
            "5 mother comes pretty close to using word 'streaming' correctly\n",
            "6 my white inheritance\n",
            "7 5 ways to file your taxes with less stress\n",
            "8 richard branson's global-warming donation nearly as much as cost of failed balloon trips\n",
            "9 shadow government getting too large to meet in marriott conference room b\n",
            "10 lots of parents know this scenario\n",
            "11 this lesbian is considered a father in indiana (and an amazing one at that)\n",
            "12 amanda peet told her daughter sex is 'a special hug'\n",
            "13 what to know regarding current treatments for ebola\n",
            "14 chris christie suggests hillary clinton was to blame for boko haram's kidnapping of hundreds of schoolgirls\n",
            "15 ford develops new suv that runs purely on gasoline\n",
            "16 uber ceo travis kalanick stepping down from trump economic advisory council\n",
            "17 area boy enters jumping-and-touching-tops-of-doorways phase\n",
            "18 area man does most of his traveling by gurney\n",
            "19 leave no person with disabilities behind\n",
            "20 lin-manuel miranda would like to remind you to put your phone away\n"
          ],
          "name": "stdout"
        }
      ]
    },
    {
      "cell_type": "markdown",
      "metadata": {
        "id": "4vBD69MhmEme",
        "colab_type": "text"
      },
      "source": [
        "***text cleansing***"
      ]
    },
    {
      "cell_type": "code",
      "metadata": {
        "id": "I0QWv-oVlITB",
        "colab_type": "code",
        "colab": {
          "base_uri": "https://localhost:8080/",
          "height": 101
        },
        "outputId": "dc47d890-7e85-4c31-c2b3-92dc6f24a901"
      },
      "source": [
        "import string\n",
        "from string import digits, punctuation\n",
        "\n",
        "hl_cleansed = []\n",
        "for hl in df['headline']:\n",
        "    #     Remove punctuations\n",
        "    clean = hl.translate(str.maketrans('', '', punctuation))\n",
        "    #     Remove digits/numbers\n",
        "    clean = clean.translate(str.maketrans('', '', digits))\n",
        "    hl_cleansed.append(clean)\n",
        "    \n",
        "# View comparison\n",
        "print('Original texts :')\n",
        "print(df['headline'][2])\n",
        "print('\\nAfter cleansed :')\n",
        "print(hl_cleansed[2])"
      ],
      "execution_count": 60,
      "outputs": [
        {
          "output_type": "stream",
          "text": [
            "Original texts :\n",
            "eat your veggies: 9 deliciously different recipes\n",
            "\n",
            "After cleansed :\n",
            "eat your veggies  deliciously different recipes\n"
          ],
          "name": "stdout"
        }
      ]
    },
    {
      "cell_type": "markdown",
      "metadata": {
        "id": "U7Ig6QZBl8-O",
        "colab_type": "text"
      },
      "source": [
        "***Tokenization***"
      ]
    },
    {
      "cell_type": "code",
      "metadata": {
        "id": "gYwLpKpkl4Qq",
        "colab_type": "code",
        "colab": {
          "base_uri": "https://localhost:8080/",
          "height": 101
        },
        "outputId": "4a4b32ac-227b-4455-811d-73f57af05c20"
      },
      "source": [
        "# Tokenization process\n",
        "hl_tokens = []\n",
        "for hl in hl_cleansed:\n",
        "    hl_tokens.append(hl.split())\n",
        "\n",
        "# View Comparison\n",
        "print('Before tokenization :')\n",
        "print(hl_cleansed[100])\n",
        "print('\\nAfter tokenization :')\n",
        "print(hl_tokens[100])"
      ],
      "execution_count": 61,
      "outputs": [
        {
          "output_type": "stream",
          "text": [
            "Before tokenization :\n",
            "report  of trump endorsements made after staring at bedroom ceiling for  hours\n",
            "\n",
            "After tokenization :\n",
            "['report', 'of', 'trump', 'endorsements', 'made', 'after', 'staring', 'at', 'bedroom', 'ceiling', 'for', 'hours']\n"
          ],
          "name": "stdout"
        }
      ]
    },
    {
      "cell_type": "markdown",
      "metadata": {
        "id": "fKUUC5rcmgbv",
        "colab_type": "text"
      },
      "source": [
        "***Lemmatization***"
      ]
    },
    {
      "cell_type": "code",
      "metadata": {
        "id": "HAtb10v7m-fn",
        "colab_type": "code",
        "colab": {}
      },
      "source": [
        "import nltk\n",
        "nltk.download('averaged_perceptron_tagger')\n",
        "nltk.download('wordnet')\n",
        "nltk.download('punkt')\n",
        "nltk.download('stopwords')"
      ],
      "execution_count": 0,
      "outputs": []
    },
    {
      "cell_type": "code",
      "metadata": {
        "id": "I8156yLYmkG1",
        "colab_type": "code",
        "colab": {
          "base_uri": "https://localhost:8080/",
          "height": 50
        },
        "outputId": "ffe34b35-a81f-45d1-87dd-dc3b0663a541"
      },
      "source": [
        "from nltk.corpus import wordnet\n",
        "from nltk.stem import WordNetLemmatizer\n",
        "\n",
        "def get_wordnet_pos(word):\n",
        "    \"\"\"Map POS tag to first character lemmatize() accepts\"\"\"\n",
        "    tag = nltk.pos_tag([word])[0][1][0].upper()\n",
        "    tag_dict = {\"J\": wordnet.ADJ,\n",
        "                \"N\": wordnet.NOUN,\n",
        "                \"V\": wordnet.VERB,\n",
        "                \"R\": wordnet.ADV}\n",
        "\n",
        "    return tag_dict.get(tag, wordnet.NOUN)\n",
        "\n",
        "# Init Lemmatizer\n",
        "lemmatizer = WordNetLemmatizer()\n",
        "\n",
        "hl_lemmatized = []\n",
        "for tokens in hl_tokens:\n",
        "    lemm = [lemmatizer.lemmatize(w, get_wordnet_pos(w)) for w in tokens]\n",
        "    hl_lemmatized.append(lemm)\n",
        "    \n",
        "# Example comparison\n",
        "word_1 = ['skyrim','dragons', 'are', 'having', 'parties']\n",
        "word_2 = [lemmatizer.lemmatize(w, get_wordnet_pos(w)) for w in word_1]\n",
        "print('Before lemmatization :\\t',word_1)\n",
        "print('After lemmatization :\\t',word_2)"
      ],
      "execution_count": 63,
      "outputs": [
        {
          "output_type": "stream",
          "text": [
            "Before lemmatization :\t ['skyrim', 'dragons', 'are', 'having', 'parties']\n",
            "After lemmatization :\t ['skyrim', 'dragon', 'be', 'have', 'party']\n"
          ],
          "name": "stdout"
        }
      ]
    },
    {
      "cell_type": "markdown",
      "metadata": {
        "id": "Zb_UdY5mnPK0",
        "colab_type": "text"
      },
      "source": [
        "# ***Training LSTM Model***"
      ]
    },
    {
      "cell_type": "markdown",
      "metadata": {
        "id": "EUCIfuFNoE89",
        "colab_type": "text"
      },
      "source": [
        "Preparing the Data"
      ]
    },
    {
      "cell_type": "code",
      "metadata": {
        "id": "Gb4ZA6dSGehI",
        "colab_type": "code",
        "colab": {}
      },
      "source": [
        "from keras.preprocessing.text import Tokenizer\n",
        "from keras.preprocessing import sequence\n",
        "from keras.preprocessing.sequence import pad_sequences\n",
        "import numpy as np\n",
        "\n",
        "# Vectorize and convert text into sequences\n",
        "max_features = 2000\n",
        "max_token = len(max(hl_lemmatized))\n",
        "tokenizer = Tokenizer(num_words=max_features)\n",
        "tokenizer.fit_on_texts(hl_lemmatized)\n",
        "sequences = tokenizer.texts_to_sequences(hl_lemmatized)\n",
        "X = pad_sequences(sequences, maxlen=max_token)"
      ],
      "execution_count": 0,
      "outputs": []
    },
    {
      "cell_type": "markdown",
      "metadata": {
        "id": "b071GztltQW-",
        "colab_type": "text"
      },
      "source": [
        "Split Train, test"
      ]
    },
    {
      "cell_type": "code",
      "metadata": {
        "id": "Fbqh-LsPtMJz",
        "colab_type": "code",
        "colab": {}
      },
      "source": [
        "from sklearn.model_selection import train_test_split\n",
        "\n",
        "Y = df['is_sarcastic'].values\n",
        "Y = np.vstack(Y)\n",
        "X_train,X_test,Y_train,Y_test = train_test_split(X,Y,test_size=0.3, random_state = 42)"
      ],
      "execution_count": 0,
      "outputs": []
    },
    {
      "cell_type": "markdown",
      "metadata": {
        "id": "pKtunbWIGh0r",
        "colab_type": "text"
      },
      "source": [
        "Building the Model"
      ]
    },
    {
      "cell_type": "code",
      "metadata": {
        "id": "f8wYpSlPGmYt",
        "colab_type": "code",
        "colab": {
          "base_uri": "https://localhost:8080/",
          "height": 302
        },
        "outputId": "a36a4399-48f5-4c21-e01b-87b1dff5ad36"
      },
      "source": [
        "from keras.layers import LSTM, Activation, Dense, Dropout, Input, Embedding\n",
        "from keras.optimizers import RMSprop\n",
        "from keras.models import Sequential\n",
        "from keras.layers import Dense, Embedding, LSTM, SpatialDropout1D\n",
        "\n",
        "embed_dim = 64\n",
        "\n",
        "model = Sequential()\n",
        "model.add(Embedding(max_features, embed_dim,input_length = max_token))\n",
        "model.add(LSTM(96, dropout=0.2, recurrent_dropout=0.2, activation='relu'))\n",
        "# model.add(Dense(128))\n",
        "# model.add(Activation('relu'))\n",
        "# model.add(Dropout(0.5))\n",
        "model.add(Dense(1))\n",
        "model.add(Activation('sigmoid'))\n",
        "\n",
        "model.compile(loss = 'binary_crossentropy', optimizer='adam',metrics = ['accuracy'])\n",
        "print(model.summary())"
      ],
      "execution_count": 78,
      "outputs": [
        {
          "output_type": "stream",
          "text": [
            "Model: \"sequential_5\"\n",
            "_________________________________________________________________\n",
            "Layer (type)                 Output Shape              Param #   \n",
            "=================================================================\n",
            "embedding_5 (Embedding)      (None, 14, 64)            128000    \n",
            "_________________________________________________________________\n",
            "lstm_5 (LSTM)                (None, 96)                61824     \n",
            "_________________________________________________________________\n",
            "dense_5 (Dense)              (None, 1)                 97        \n",
            "_________________________________________________________________\n",
            "activation_5 (Activation)    (None, 1)                 0         \n",
            "=================================================================\n",
            "Total params: 189,921\n",
            "Trainable params: 189,921\n",
            "Non-trainable params: 0\n",
            "_________________________________________________________________\n",
            "None\n"
          ],
          "name": "stdout"
        }
      ]
    },
    {
      "cell_type": "markdown",
      "metadata": {
        "id": "2s7wKZ4PGwdz",
        "colab_type": "text"
      },
      "source": [
        "Training process"
      ]
    },
    {
      "cell_type": "code",
      "metadata": {
        "id": "qI_MnAmiGqZz",
        "colab_type": "code",
        "colab": {
          "base_uri": "https://localhost:8080/",
          "height": 759
        },
        "outputId": "54539cee-2556-4b5d-dee6-2abb63ae1908"
      },
      "source": [
        "epoch = 20\n",
        "batch_size = 128\n",
        "history=model.fit(X_train, Y_train, epochs = epoch, batch_size=batch_size, verbose = 2, validation_split=0.2)"
      ],
      "execution_count": 79,
      "outputs": [
        {
          "output_type": "stream",
          "text": [
            "/usr/local/lib/python3.6/dist-packages/tensorflow/python/framework/indexed_slices.py:434: UserWarning: Converting sparse IndexedSlices to a dense Tensor of unknown shape. This may consume a large amount of memory.\n",
            "  \"Converting sparse IndexedSlices to a dense Tensor of unknown shape. \"\n"
          ],
          "name": "stderr"
        },
        {
          "output_type": "stream",
          "text": [
            "Train on 16026 samples, validate on 4007 samples\n",
            "Epoch 1/20\n",
            " - 4s - loss: 0.5558 - accuracy: 0.6937 - val_loss: 0.4320 - val_accuracy: 0.8151\n",
            "Epoch 2/20\n",
            " - 4s - loss: 0.3746 - accuracy: 0.8412 - val_loss: 0.3898 - val_accuracy: 0.8238\n",
            "Epoch 3/20\n",
            " - 4s - loss: 0.3313 - accuracy: 0.8575 - val_loss: 0.3851 - val_accuracy: 0.8303\n",
            "Epoch 4/20\n",
            " - 4s - loss: 0.3101 - accuracy: 0.8692 - val_loss: 0.3823 - val_accuracy: 0.8281\n",
            "Epoch 5/20\n",
            " - 4s - loss: 0.2912 - accuracy: 0.8758 - val_loss: 0.3924 - val_accuracy: 0.8271\n",
            "Epoch 6/20\n",
            " - 4s - loss: 0.2758 - accuracy: 0.8829 - val_loss: 0.4081 - val_accuracy: 0.8263\n",
            "Epoch 7/20\n",
            " - 4s - loss: 0.2577 - accuracy: 0.8929 - val_loss: 0.4016 - val_accuracy: 0.8256\n",
            "Epoch 8/20\n",
            " - 4s - loss: 0.2444 - accuracy: 0.8995 - val_loss: 0.4293 - val_accuracy: 0.8213\n",
            "Epoch 9/20\n",
            " - 4s - loss: 0.2350 - accuracy: 0.9047 - val_loss: 0.4479 - val_accuracy: 0.8173\n",
            "Epoch 10/20\n",
            " - 4s - loss: 0.2259 - accuracy: 0.9077 - val_loss: 0.4643 - val_accuracy: 0.8206\n",
            "Epoch 11/20\n",
            " - 4s - loss: 0.2160 - accuracy: 0.9115 - val_loss: 0.4816 - val_accuracy: 0.8163\n",
            "Epoch 12/20\n",
            " - 4s - loss: 0.2090 - accuracy: 0.9118 - val_loss: 0.5004 - val_accuracy: 0.8168\n",
            "Epoch 13/20\n",
            " - 4s - loss: 0.2037 - accuracy: 0.9154 - val_loss: 0.5337 - val_accuracy: 0.8163\n",
            "Epoch 14/20\n",
            " - 4s - loss: 0.1930 - accuracy: 0.9206 - val_loss: 0.5360 - val_accuracy: 0.8043\n",
            "Epoch 15/20\n",
            " - 4s - loss: 0.1870 - accuracy: 0.9241 - val_loss: 0.5741 - val_accuracy: 0.8141\n",
            "Epoch 16/20\n",
            " - 4s - loss: 0.1763 - accuracy: 0.9279 - val_loss: 0.6157 - val_accuracy: 0.8093\n",
            "Epoch 17/20\n",
            " - 4s - loss: 0.1709 - accuracy: 0.9302 - val_loss: 0.6308 - val_accuracy: 0.8116\n",
            "Epoch 18/20\n",
            " - 4s - loss: 0.1661 - accuracy: 0.9299 - val_loss: 0.6295 - val_accuracy: 0.8133\n",
            "Epoch 19/20\n",
            " - 4s - loss: 0.1602 - accuracy: 0.9359 - val_loss: 0.6340 - val_accuracy: 0.8126\n",
            "Epoch 20/20\n",
            " - 4s - loss: 0.1533 - accuracy: 0.9358 - val_loss: 0.6873 - val_accuracy: 0.8051\n"
          ],
          "name": "stdout"
        }
      ]
    },
    {
      "cell_type": "markdown",
      "metadata": {
        "id": "Oy9FCADnKkBs",
        "colab_type": "text"
      },
      "source": [
        "# ***Model Evaluation***"
      ]
    },
    {
      "cell_type": "code",
      "metadata": {
        "id": "mz7_8IMcHAuu",
        "colab_type": "code",
        "colab": {
          "base_uri": "https://localhost:8080/",
          "height": 356
        },
        "outputId": "d30954f4-02dd-4512-f5b6-5cafdd973bfe"
      },
      "source": [
        "import matplotlib.pyplot as plt\n",
        "\n",
        "fig, (ax1, ax2) = plt.subplots(1,2,figsize=(15,5))\n",
        "fig.suptitle(\"Performance of Model\")\n",
        "ax1.plot(history.history['accuracy'])\n",
        "ax1.plot(history.history['val_accuracy'])\n",
        "vline_cut = np.where(history.history['val_accuracy'] == np.max(history.history['val_accuracy']))[0][0]\n",
        "ax1.axvline(x=vline_cut, color='k', linestyle='--')\n",
        "ax1.set_title(\"Model Accuracy\")\n",
        "ax1.legend(['train', 'test'])\n",
        "\n",
        "ax2.plot(history.history['loss'])\n",
        "ax2.plot(history.history['val_loss'])\n",
        "vline_cut = np.where(history.history['val_loss'] == np.min(history.history['val_loss']))[0][0]\n",
        "ax2.axvline(x=vline_cut, color='k', linestyle='--')\n",
        "ax2.set_title(\"Model Loss\")\n",
        "ax2.legend(['train', 'test'])\n",
        "plt.show()"
      ],
      "execution_count": 80,
      "outputs": [
        {
          "output_type": "display_data",
          "data": {
            "image/png": "[encoded data removed]",
            "text/plain": [
              "<Figure size 1080x360 with 2 Axes>"
            ]
          },
          "metadata": {
            "tags": [],
            "needs_background": "light"
          }
        }
      ]
    },
    {
      "cell_type": "markdown",
      "metadata": {
        "id": "2rDyTSeNKuTz",
        "colab_type": "text"
      },
      "source": [
        "# ***Test The Model***"
      ]
    },
    {
      "cell_type": "code",
      "metadata": {
        "id": "q2bBMuEBL7rO",
        "colab_type": "code",
        "colab": {
          "base_uri": "https://localhost:8080/",
          "height": 50
        },
        "outputId": "1a473a94-7aea-4b55-9727-7b008cdf76a7"
      },
      "source": [
        "pos_cnt, neg_cnt, pos_correct, neg_correct = 0, 0, 0, 0\n",
        "for x in range(len(X_test)):\n",
        "    \n",
        "    result = model.predict(X_test[x].reshape(1,X_test.shape[1]),batch_size=1,verbose = 2)[0]\n",
        "   \n",
        "    if np.around(result) == np.around(Y_test[x]):\n",
        "        if np.around(Y_test[x]) == 0:\n",
        "            neg_correct += 1\n",
        "        else:\n",
        "            pos_correct += 1\n",
        "       \n",
        "    if np.around(Y_test[x]) == 0:\n",
        "        neg_cnt += 1\n",
        "    else:\n",
        "        pos_cnt += 1\n",
        "\n",
        "print(\"Sarcasm accuracy\\t: \", round(pos_correct/pos_cnt*100, 3),\"%\")\n",
        "print(\"Non-sarcasm accuracy\\t: \", round(neg_correct/neg_cnt*100, 3),\"%\")"
      ],
      "execution_count": 81,
      "outputs": [
        {
          "output_type": "stream",
          "text": [
            "Sarcasm accuracy\t:  77.511 %\n",
            "Non-sarcasm accuracy\t:  82.604 %\n"
          ],
          "name": "stdout"
        }
      ]
    },
    {
      "cell_type": "markdown",
      "metadata": {
        "id": "p4-dM4xIw__q",
        "colab_type": "text"
      },
      "source": [
        "# **Use Another ML Algorithms to Classify**"
      ]
    },
    {
      "cell_type": "markdown",
      "metadata": {
        "id": "n2-6Nug-QgGI",
        "colab_type": "text"
      },
      "source": [
        "Preparing the Data"
      ]
    },
    {
      "cell_type": "code",
      "metadata": {
        "id": "QM47PsYO83eO",
        "colab_type": "code",
        "colab": {}
      },
      "source": [
        "from sklearn.feature_extraction.text import TfidfVectorizer\n",
        "from sklearn import model_selection, naive_bayes, svm\n",
        "from sklearn.metrics import accuracy_score"
      ],
      "execution_count": 0,
      "outputs": []
    },
    {
      "cell_type": "code",
      "metadata": {
        "id": "KIjcBAC6_WVt",
        "colab_type": "code",
        "colab": {}
      },
      "source": [
        "X = [\" \".join(x) for x in hl_lemmatized]\n",
        "Train_X, Test_X, Train_Y, Test_Y = train_test_split(X,df['is_sarcastic'],test_size=0.3)"
      ],
      "execution_count": 0,
      "outputs": []
    },
    {
      "cell_type": "markdown",
      "metadata": {
        "id": "ni46V7Q9QnON",
        "colab_type": "text"
      },
      "source": [
        "Word Vectorization using TF-IDF"
      ]
    },
    {
      "cell_type": "code",
      "metadata": {
        "id": "o85tKZX8_oXa",
        "colab_type": "code",
        "colab": {}
      },
      "source": [
        "Tfidf_vect = TfidfVectorizer(max_features=5000)\n",
        "Tfidf_vect.fit(X)\n",
        "Train_X_Tfidf = Tfidf_vect.transform(Train_X)\n",
        "Test_X_Tfidf = Tfidf_vect.transform(Test_X)"
      ],
      "execution_count": 0,
      "outputs": []
    },
    {
      "cell_type": "markdown",
      "metadata": {
        "id": "fmPNXvnXQzml",
        "colab_type": "text"
      },
      "source": [
        "***Trainning on the SVM classifier***"
      ]
    },
    {
      "cell_type": "code",
      "metadata": {
        "id": "kbPdG1h3ApNq",
        "colab_type": "code",
        "colab": {
          "base_uri": "https://localhost:8080/",
          "height": 84
        },
        "outputId": "c9348610-f1f3-4308-98a5-eb6294abf505"
      },
      "source": [
        "SVM = svm.SVC(C=1.0, kernel='linear', verbose=True)\n",
        "SVM.fit(Train_X_Tfidf,Train_Y)"
      ],
      "execution_count": 90,
      "outputs": [
        {
          "output_type": "stream",
          "text": [
            "[LibSVM]"
          ],
          "name": "stdout"
        },
        {
          "output_type": "execute_result",
          "data": {
            "text/plain": [
              "SVC(C=1.0, break_ties=False, cache_size=200, class_weight=None, coef0=0.0,\n",
              "    decision_function_shape='ovr', degree=3, gamma='scale', kernel='linear',\n",
              "    max_iter=-1, probability=False, random_state=None, shrinking=True,\n",
              "    tol=0.001, verbose=True)"
            ]
          },
          "metadata": {
            "tags": []
          },
          "execution_count": 90
        }
      ]
    },
    {
      "cell_type": "markdown",
      "metadata": {
        "id": "XeGhJ-PNRKSt",
        "colab_type": "text"
      },
      "source": [
        "Predict and evaluate the SVM classifier"
      ]
    },
    {
      "cell_type": "code",
      "metadata": {
        "id": "ngEpSy_MBAOJ",
        "colab_type": "code",
        "colab": {
          "base_uri": "https://localhost:8080/",
          "height": 34
        },
        "outputId": "31d531d8-d50d-4181-8985-82acac090471"
      },
      "source": [
        "# predict the labels on validation dataset\n",
        "predictions_SVM = SVM.predict(Test_X_Tfidf)\n",
        "# Use accuracy_score function to get the accuracy\n",
        "print(\"SVM Accuracy Score -> \",accuracy_score(predictions_SVM, Test_Y)*100)"
      ],
      "execution_count": 91,
      "outputs": [
        {
          "output_type": "stream",
          "text": [
            "SVM Accuracy Score ->  83.13533659445609\n"
          ],
          "name": "stdout"
        }
      ]
    },
    {
      "cell_type": "markdown",
      "metadata": {
        "id": "fVP5iRyZRphx",
        "colab_type": "text"
      },
      "source": [
        "***Trainning on the Naive Bayes Classifier***"
      ]
    },
    {
      "cell_type": "code",
      "metadata": {
        "id": "aopXBmNsRy0c",
        "colab_type": "code",
        "colab": {
          "base_uri": "https://localhost:8080/",
          "height": 34
        },
        "outputId": "a56211e5-f025-4726-d768-9f29e1f2f910"
      },
      "source": [
        "Naive = naive_bayes.MultinomialNB()\n",
        "Naive.fit(Train_X_Tfidf,Train_Y)"
      ],
      "execution_count": 93,
      "outputs": [
        {
          "output_type": "execute_result",
          "data": {
            "text/plain": [
              "MultinomialNB(alpha=1.0, class_prior=None, fit_prior=True)"
            ]
          },
          "metadata": {
            "tags": []
          },
          "execution_count": 93
        }
      ]
    },
    {
      "cell_type": "markdown",
      "metadata": {
        "id": "9fNfVmKnR-0V",
        "colab_type": "text"
      },
      "source": [
        "Predict and evaluate the Naive Bayes Classifier"
      ]
    },
    {
      "cell_type": "code",
      "metadata": {
        "id": "HFCEuNC1R5o7",
        "colab_type": "code",
        "colab": {
          "base_uri": "https://localhost:8080/",
          "height": 34
        },
        "outputId": "1db1685d-c593-4af4-ff4e-bce183958067"
      },
      "source": [
        "# predict the labels on validation dataset\n",
        "predictions_NB = Naive.predict(Test_X_Tfidf)\n",
        "# Use accuracy_score function to get the accuracy\n",
        "print(\"Naive Bayes Accuracy Score -> \",accuracy_score(predictions_NB, Test_Y)*100)"
      ],
      "execution_count": 94,
      "outputs": [
        {
          "output_type": "stream",
          "text": [
            "Naive Bayes Accuracy Score ->  82.80922431865828\n"
          ],
          "name": "stdout"
        }
      ]
    }
  ]
}