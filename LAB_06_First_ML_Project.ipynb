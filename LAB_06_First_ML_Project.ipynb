{
  "nbformat": 4,
  "nbformat_minor": 0,
  "metadata": {
    "colab": {
      "name": "LAB_06_First_ML_Project.ipynb",
      "provenance": [],
      "authorship_tag": "ABX9TyMil9WHjviLBF+F4IydBzBP",
      "include_colab_link": true
    },
    "kernelspec": {
      "name": "python3",
      "display_name": "Python 3"
    },
    "accelerator": "GPU"
  },
  "cells": [
    {
      "cell_type": "markdown",
      "metadata": {
        "id": "view-in-github",
        "colab_type": "text"
      },
      "source": [
        "<a href=\"https://colab.research.google.com/github/ndvinh98/CS114.K21-Machine-Learning/blob/master/LAB_06_First_ML_Project.ipynb\" target=\"_parent\"><img src=\"https://colab.research.google.com/assets/colab-badge.svg\" alt=\"Open In Colab\"/></a>"
      ]
    },
    {
      "cell_type": "code",
      "metadata": {
        "id": "dYJcypgV00xf",
        "colab_type": "code",
        "colab": {}
      },
      "source": [
        "#cài đặt các lib cần thiết\n",
        "from google.colab import files\n",
        "!pip install -q kaggle"
      ],
      "execution_count": null,
      "outputs": []
    },
    {
      "cell_type": "code",
      "metadata": {
        "id": "xUh9xEYQ1Rrn",
        "colab_type": "code",
        "colab": {}
      },
      "source": [
        "#sử dụng kagle API để download dataset\n",
        "uploaded = files.upload()"
      ],
      "execution_count": null,
      "outputs": []
    },
    {
      "cell_type": "code",
      "metadata": {
        "id": "1RzgP1Fd1X7O",
        "colab_type": "code",
        "colab": {}
      },
      "source": [
        "#lấy data từ kaggle nhập sang colab\n",
        "!mkdir -p ~/.kaggle\n",
        "!cp kaggle.json ~/.kaggle/\n",
        "!chmod 600 ~/.kaggle/kaggle.json\n",
        "!kaggle datasets download -d alxmamaev/flowers-recognition"
      ],
      "execution_count": null,
      "outputs": []
    },
    {
      "cell_type": "code",
      "metadata": {
        "id": "SBH4suf31p5U",
        "colab_type": "code",
        "colab": {}
      },
      "source": [
        "#unzip dataset\n",
        "!unzip /content/flowers-recognition.zip\n",
        "%rm -rf /content/flowers/flowers"
      ],
      "execution_count": null,
      "outputs": []
    },
    {
      "cell_type": "code",
      "metadata": {
        "id": "X9KgTMNB15uG",
        "colab_type": "code",
        "colab": {}
      },
      "source": [
        "# Thêm thư viện\n",
        "from sklearn.linear_model import LogisticRegression\n",
        "from sklearn.model_selection import GridSearchCV\n",
        "from sklearn.metrics import classification_report,confusion_matrix\n",
        "from imutils import paths\n",
        "from keras.applications import VGG16\n",
        "from keras.applications import imagenet_utils\n",
        "from keras.preprocessing.image import img_to_array\n",
        "from keras.preprocessing.image import load_img\n",
        "from sklearn.preprocessing import LabelBinarizer\n",
        "from keras import models\n",
        "from keras import layers\n",
        "from keras import optimizers\n",
        "from keras.optimizers import RMSprop, Adam\n",
        "from keras.preprocessing.image import ImageDataGenerator\n",
        "from sklearn.preprocessing import LabelEncoder\n",
        "from sklearn.model_selection import train_test_split\n",
        "import numpy as np\n",
        "import random\n",
        "import os\n",
        "import pandas as pd\n",
        "import matplotlib.pyplot as plt\n",
        "from sklearn.svm import SVC\n",
        "from sklearn.externals import joblib\n",
        "import cv2\n",
        "from pathlib import Path\n",
        "import seaborn as sns\n",
        "sns.set_style('darkgrid')"
      ],
      "execution_count": null,
      "outputs": []
    },
    {
      "cell_type": "code",
      "metadata": {
        "id": "xBhfrtTg2JCA",
        "colab_type": "code",
        "colab": {}
      },
      "source": [
        "#visualize dataset\n",
        "flowers_path=Path('/content/flowers')\n",
        "flower_types = os.listdir(flowers_path)\n",
        "flowers = []\n",
        "for species in flower_types:\n",
        "    all_flowers = os.listdir(flowers_path / species)\n",
        "    for flower in all_flowers:\n",
        "        flowers.append((species, str(flowers_path /species) + '/' + flower))\n",
        "     \n",
        "flowers = pd.DataFrame(data=flowers, columns=['category', 'image'], index=None)\n",
        "fl_count = flowers['category'].value_counts()\n",
        "f, axe = plt.subplots(1,1,figsize=(14,6))\n",
        "sns.barplot(x = fl_count.index, y = fl_count.values, ax = axe)\n",
        "axe.set_title(\"Số lượng hoa mỗi class\", fontsize=16)\n",
        "#axe.set_xlabel('class', fontsize=14)\n",
        "#axe.set_ylabel('số lượng', fontsize=14)\n",
        "plt.show()"
      ],
      "execution_count": null,
      "outputs": []
    },
    {
      "cell_type": "code",
      "metadata": {
        "id": "1uIl8vAD2jpc",
        "colab_type": "code",
        "colab": {}
      },
      "source": [
        "# Lấy các đường dẫn đến ảnh.\n",
        "image_path = list(paths.list_images('/content/flowers'))\n",
        "\n",
        "# Đổi vị trí ngẫu nhiên các đường dẫn ảnh\n",
        "random.shuffle(image_path)"
      ],
      "execution_count": null,
      "outputs": []
    },
    {
      "cell_type": "code",
      "metadata": {
        "id": "hAuVWTq12prd",
        "colab_type": "code",
        "colab": {}
      },
      "source": [
        "# Đường dẫn ảnh sẽ là dataset/tên_loài_hoa/tên_ảnh ví dụ dataset/Bluebell/image_0241.jpg nên p.split(os.path.sep)[-2] sẽ lấy ra được tên loài hoa\n",
        "labels = [p.split(os.path.sep)[-2] for p in image_path]\n",
        "\n",
        "# Chuyển tên các loài hoa thành số\n",
        "le = LabelEncoder()\n",
        "labels = le.fit_transform(labels)"
      ],
      "execution_count": null,
      "outputs": []
    },
    {
      "cell_type": "code",
      "metadata": {
        "id": "IBst-5AU2yzn",
        "colab_type": "code",
        "colab": {}
      },
      "source": [
        "# Load model VGG 16 của ImageNet dataset, include_top=False để bỏ phần Fully connected layer ở cuối.\n",
        "model = VGG16(weights='imagenet', include_top=False)"
      ],
      "execution_count": null,
      "outputs": []
    },
    {
      "cell_type": "code",
      "metadata": {
        "id": "9_uQRorL25sW",
        "colab_type": "code",
        "colab": {}
      },
      "source": [
        "# Load ảnh và resize về đúng kích thước mà VGG 16 cần là (224,224)\n",
        "list_image = []\n",
        "for (j, imagePath) in enumerate(image_path):\n",
        "    image = load_img(imagePath, target_size=(224, 224))\n",
        "    image = img_to_array(image)\n",
        "    \n",
        "    image = np.expand_dims(image, 0)\n",
        "    image = imagenet_utils.preprocess_input(image)\n",
        "    \n",
        "    list_image.append(image)\n",
        "    \n",
        "list_image = np.vstack(list_image)"
      ],
      "execution_count": null,
      "outputs": []
    },
    {
      "cell_type": "code",
      "metadata": {
        "id": "UGl5hB8K3KcO",
        "colab_type": "code",
        "colab": {}
      },
      "source": [
        "# Dùng pre-trained model để lấy ra các feature của ảnh\n",
        "features = model.predict(list_image)\n",
        "\n",
        "# Giống bước flatten trong CNN, chuyển từ tensor 3 chiều sau ConvNet sang vector 1 chiều\n",
        "features = features.reshape((features.shape[0], 512*7*7))"
      ],
      "execution_count": null,
      "outputs": []
    },
    {
      "cell_type": "code",
      "metadata": {
        "id": "CdpzS1KT8fGD",
        "colab_type": "code",
        "colab": {}
      },
      "source": [
        "# Chia traing set, test set tỉ lệ 80-20\n",
        "X_train, X_test, y_train, y_test = train_test_split(features, labels, test_size=0.2, random_state=42)"
      ],
      "execution_count": 16,
      "outputs": []
    },
    {
      "cell_type": "code",
      "metadata": {
        "id": "YT96HYWE8kKL",
        "colab_type": "code",
        "colab": {
          "base_uri": "https://localhost:8080/",
          "height": 85
        },
        "outputId": "3a3082a1-2245-4ded-d8d3-3812f33618c2"
      },
      "source": [
        "#train với linearSVM\n",
        "svm_linear = SVC(kernel='linear')\n",
        "svm_linear.fit(X_train, y_train)"
      ],
      "execution_count": 17,
      "outputs": [
        {
          "output_type": "execute_result",
          "data": {
            "text/plain": [
              "SVC(C=1.0, break_ties=False, cache_size=200, class_weight=None, coef0=0.0,\n",
              "    decision_function_shape='ovr', degree=3, gamma='scale', kernel='linear',\n",
              "    max_iter=-1, probability=False, random_state=None, shrinking=True,\n",
              "    tol=0.001, verbose=False)"
            ]
          },
          "metadata": {
            "tags": []
          },
          "execution_count": 17
        }
      ]
    },
    {
      "cell_type": "code",
      "metadata": {
        "id": "c1dyD0lp-yCS",
        "colab_type": "code",
        "colab": {
          "base_uri": "https://localhost:8080/",
          "height": 340
        },
        "outputId": "fda449c7-e6b9-461b-fcd7-c4b79ad36cbe"
      },
      "source": [
        "#kiểm tra kết quả của linearSVM\n",
        "y_pred = svm_linear.predict(X_test)\n",
        "print(confusion_matrix(y_test,y_pred))\n",
        "print(\"\\n\")\n",
        "print(classification_report(y_test,y_pred))"
      ],
      "execution_count": 18,
      "outputs": [
        {
          "output_type": "stream",
          "text": [
            "[[130   8   2   2   7]\n",
            " [  8 212   1   8   4]\n",
            " [  2   2 123   4  22]\n",
            " [  6   3   4 132   5]\n",
            " [  4   4  14   3 155]]\n",
            "\n",
            "\n",
            "              precision    recall  f1-score   support\n",
            "\n",
            "           0       0.87      0.87      0.87       149\n",
            "           1       0.93      0.91      0.92       233\n",
            "           2       0.85      0.80      0.83       153\n",
            "           3       0.89      0.88      0.88       150\n",
            "           4       0.80      0.86      0.83       180\n",
            "\n",
            "    accuracy                           0.87       865\n",
            "   macro avg       0.87      0.87      0.87       865\n",
            "weighted avg       0.87      0.87      0.87       865\n",
            "\n"
          ],
          "name": "stdout"
        }
      ]
    }
  ]
}