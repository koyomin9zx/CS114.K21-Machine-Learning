{
  "nbformat": 4,
  "nbformat_minor": 0,
  "metadata": {
    "colab": {
      "name": "Python_Là_Gì.ipynb",
      "provenance": [],
      "collapsed_sections": [
        "29hjXLBmRXTP",
        "HY4_VH0DXUE7",
        "EuKRJ1JkPYcx"
      ],
      "toc_visible": true,
      "mount_file_id": "1z7C0skoZa41dGi9a-KjA_Ad5b0jn8bMz",
      "authorship_tag": "ABX9TyNFPSxiSzlLL5w7HVoihyy+",
      "include_colab_link": true
    },
    "kernelspec": {
      "name": "python3",
      "display_name": "Python 3"
    }
  },
  "cells": [
    {
      "cell_type": "markdown",
      "metadata": {
        "id": "view-in-github",
        "colab_type": "text"
      },
      "source": [
        "<a href=\"https://colab.research.google.com/github/ndvinh98/CS114.K21-Machine-Learning/blob/master/Python_L%C3%A0_G%C3%AC.ipynb\" target=\"_parent\"><img src=\"https://colab.research.google.com/assets/colab-badge.svg\" alt=\"Open In Colab\"/></a>"
      ]
    },
    {
      "cell_type": "markdown",
      "metadata": {
        "id": "tFE8lY6cRl8O",
        "colab_type": "text"
      },
      "source": [
        "Trước khi tìm hiểu xem python là ngôn ngữ như thế nào thì phải tìm hiểu qua các khái niệm ở dưới để khỏi nhầm lẫn "
      ]
    },
    {
      "cell_type": "markdown",
      "metadata": {
        "id": "29hjXLBmRXTP",
        "colab_type": "text"
      },
      "source": [
        "# **Language và Language implementation**"
      ]
    },
    {
      "cell_type": "markdown",
      "metadata": {
        "id": "1ivXFaySRzWH",
        "colab_type": "text"
      },
      "source": [
        "*   Implementation của một ngôn ngữ được hiểu đơn giản là thứ mà hiểu và chạy được ngôn ngữ đó như gcc, g++ là hai trong những implementation của C/C++, Cython, Jython, Ironthon là các implementation của Python, CLR là implementation của C#…\n",
        "\n",
        "*   Python có nhiều implementation như CPython (thông dịch), Jython (thông dịch), Pypy (biên dịch) và vỡ ra được lẽ phải rằng **ngôn ngữ không liên quan gì tới biên dịch hay thông dịch.**\n",
        "\n",
        "\n",
        "CPython khác Cython nhé :))\n"
      ]
    },
    {
      "cell_type": "markdown",
      "metadata": {
        "id": "HY4_VH0DXUE7",
        "colab_type": "text"
      },
      "source": [
        "# **Compiler và Interpreter ( trình biên dịch và thông dịch)**"
      ]
    },
    {
      "cell_type": "markdown",
      "metadata": {
        "id": "SbVMANHzYQTg",
        "colab_type": "text"
      },
      "source": [
        "\n",
        "\n",
        "\n",
        "1.   Compiler: Mã nguồn viết xong mới thực thi chạy được và báo lỗi (lúc biên dịch sẽ chậm nhưng khi tái sử dụng sẽ nhanh\n",
        "\n",
        "2.   Interpreter: mã nguồn và việc thực thi đồng thời, viết tới đâu báo lỗi tới đấy \n",
        "\n",
        "\n"
      ]
    },
    {
      "cell_type": "markdown",
      "metadata": {
        "id": "EuKRJ1JkPYcx",
        "colab_type": "text"
      },
      "source": [
        "# **Python là gì ?**\n",
        "\n",
        "\n",
        "\n",
        "\n"
      ]
    },
    {
      "cell_type": "markdown",
      "metadata": {
        "id": "_x_TUI5cQ4bD",
        "colab_type": "text"
      },
      "source": [
        "*   Python là ngôn ngữ lập trình hướng đối tượng đa năng có cấu trúc dữ liệu cấp cao mạnh mẽ và hệ thống thư viện lớn. Python hoàn toàn tạo kiểu động và sử dụng cơ chế cấp phát bộ nhớ tự động, cú pháp rõ ràng, đơn giản.\n",
        "\n",
        "*   mặt tốt của python ( Đa nền tảng, mã nguồn mở, đơn giản, cộng đồng hỗ trợ lớn...)\n",
        "\n",
        "*   Từng dòng lệnh Python không được thực thi trực tiếp, mà được biên dịch sang bytecode trước khi cho vào máy ảo để thông dịch thực thi.\n",
        "\n",
        "\n",
        "*   Quá trình dịch và thực thi bytecode là hoàn toàn tự động và ẩn, nên Python thường được gọi là ngôn ngữ lập trình kiểu thông dịch.\n",
        "\n",
        "\n",
        "\n"
      ]
    },
    {
      "cell_type": "markdown",
      "metadata": {
        "id": "ZEcoqQoWcfFw",
        "colab_type": "text"
      },
      "source": [
        "# **Chốt lại**\n",
        "\n",
        "\n",
        "*   Ngôn ngữ Python khác với Python implementation, 1 ngôn ngữ thì không có khái niệm compiled hay interpreted mà implementation của ngôn ngữ đó mới có 2 khái niệm đó.\n",
        "\n",
        "*   Ngôn ngữ python là cái trong file .py, còn python implementation là CPython ( cái hầu hết mọi người dùng), Jython, IronPython, PyPy.\n",
        "\n",
        "*   Khi chạy sẽ compile Python code ra bytecode (.pyc) rồi interpreted bytecode ra mã máy\n",
        "\n",
        "*   Quá trình dịch và thực thi bytecode là hoàn toàn tự động và ẩn, nên Python thường được gọi là ngôn ngữ lập trình **kiểu** thông dịch.\n",
        "\n",
        "\n"
      ]
    }
  ]
}