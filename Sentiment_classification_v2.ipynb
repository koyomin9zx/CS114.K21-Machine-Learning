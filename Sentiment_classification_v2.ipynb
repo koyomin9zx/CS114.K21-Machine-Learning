{
  "nbformat": 4,
  "nbformat_minor": 0,
  "metadata": {
    "colab": {
      "name": "Copy of Sentiment_classification.ipynb",
      "provenance": [],
      "collapsed_sections": [
        "JZ96xPtVUs6_",
        "dXdJg9NeU0P5",
        "tU0qnztsVFQ8",
        "-cPRMlAdv7zL",
        "aEcDp-P2WloX",
        "AM1y1cQmsxep",
        "KyZoDoOFuer8",
        "bctsDwmGunnC",
        "3W3GGFrtydIP",
        "HQw-P4G7z0e8",
        "3RGVdoWO0MTd",
        "qoyU4kK8XbIS"
      ],
      "toc_visible": true,
      "include_colab_link": true
    },
    "kernelspec": {
      "name": "python3",
      "display_name": "Python 3"
    },
    "accelerator": "GPU"
  },
  "cells": [
    {
      "cell_type": "markdown",
      "metadata": {
        "id": "view-in-github",
        "colab_type": "text"
      },
      "source": [
        "<a href=\"https://colab.research.google.com/github/koyomin9zx/CS114.K21-Machine-Learning/blob/master/Sentiment_classification_v2.ipynb\" target=\"_parent\"><img src=\"https://colab.research.google.com/assets/colab-badge.svg\" alt=\"Open In Colab\"/></a>"
      ]
    },
    {
      "cell_type": "markdown",
      "metadata": {
        "id": "gPUAEN5SUkxw",
        "colab_type": "text"
      },
      "source": [
        "# ***Preprocessing***"
      ]
    },
    {
      "cell_type": "markdown",
      "metadata": {
        "id": "JZ96xPtVUs6_",
        "colab_type": "text"
      },
      "source": [
        "### **Mount drive & install lib**"
      ]
    },
    {
      "cell_type": "code",
      "metadata": {
        "id": "KszaqnV79KhB",
        "colab_type": "code",
        "colab": {}
      },
      "source": [
        "from google.colab import drive\n",
        "drive.mount('/content/drive')\n",
        "!ln -s /content/drive/'My Drive'/Sentiment_Classification"
      ],
      "execution_count": 0,
      "outputs": []
    },
    {
      "cell_type": "code",
      "metadata": {
        "id": "m7n984Hp9tVS",
        "colab_type": "code",
        "colab": {}
      },
      "source": [
        "!pip install underthesea\n",
        "!pip install unidecode\n",
        "!pip install scikit-learn==0.23.1"
      ],
      "execution_count": 0,
      "outputs": []
    },
    {
      "cell_type": "markdown",
      "metadata": {
        "id": "dXdJg9NeU0P5",
        "colab_type": "text"
      },
      "source": [
        "### **import lib**"
      ]
    },
    {
      "cell_type": "code",
      "metadata": {
        "id": "m4potPEzU6Ix",
        "colab_type": "code",
        "colab": {}
      },
      "source": [
        "import pandas as pd\n",
        "import glob\n",
        "import seaborn as sns\n",
        "import string\n",
        "from string import digits, punctuation\n",
        "import re\n",
        "from nltk.corpus import wordnet\n",
        "from nltk.stem import WordNetLemmatizer\n",
        "from keras.preprocessing.text import Tokenizer\n",
        "from keras.preprocessing import sequence\n",
        "from keras.preprocessing.sequence import pad_sequences\n",
        "import numpy as np\n",
        "from keras.layers import LSTM, Activation, Dense, Dropout, Input, Embedding, BatchNormalization\n",
        "from keras.optimizers import RMSprop,Adam\n",
        "from keras.models import Sequential\n",
        "from keras.layers import Dense, Embedding, LSTM, SpatialDropout1D\n",
        "from keras.backend import clear_session\n",
        "import matplotlib.pyplot as plt\n",
        "from mlxtend.plotting import plot_confusion_matrix\n",
        "from sklearn.feature_extraction.text import TfidfVectorizer\n",
        "from sklearn import model_selection, naive_bayes, svm\n",
        "from sklearn.metrics import accuracy_score\n",
        "from sklearn.metrics import classification_report,confusion_matrix\n",
        "from underthesea import word_tokenize\n",
        "import unidecode\n",
        "import joblib\n",
        "import nltk\n",
        "nltk.download('averaged_perceptron_tagger')\n",
        "nltk.download('wordnet')\n",
        "nltk.download('punkt')\n",
        "nltk.download('stopwords')\n"
      ],
      "execution_count": 0,
      "outputs": []
    },
    {
      "cell_type": "markdown",
      "metadata": {
        "id": "tU0qnztsVFQ8",
        "colab_type": "text"
      },
      "source": [
        "### **Import data into Pandas**"
      ]
    },
    {
      "cell_type": "code",
      "metadata": {
        "id": "bWur2VrQVQq-",
        "colab_type": "code",
        "outputId": "0c5709ed-926e-4ea7-f0ce-91e861edea91",
        "colab": {
          "base_uri": "https://localhost:8080/",
          "height": 195
        }
      },
      "source": [
        "df_train= pd.read_csv('/content/Sentiment_Classification/data/train.csv')\n",
        "df_test= pd.read_csv('/content/Sentiment_Classification/data/test.csv')\n",
        "\n",
        "df_train.head(5)\n"
      ],
      "execution_count": 165,
      "outputs": [
        {
          "output_type": "execute_result",
          "data": {
            "text/html": [
              "<div>\n",
              "<style scoped>\n",
              "    .dataframe tbody tr th:only-of-type {\n",
              "        vertical-align: middle;\n",
              "    }\n",
              "\n",
              "    .dataframe tbody tr th {\n",
              "        vertical-align: top;\n",
              "    }\n",
              "\n",
              "    .dataframe thead th {\n",
              "        text-align: right;\n",
              "    }\n",
              "</style>\n",
              "<table border=\"1\" class=\"dataframe\">\n",
              "  <thead>\n",
              "    <tr style=\"text-align: right;\">\n",
              "      <th></th>\n",
              "      <th>cau_goc</th>\n",
              "      <th>nhan</th>\n",
              "    </tr>\n",
              "  </thead>\n",
              "  <tbody>\n",
              "    <tr>\n",
              "      <th>0</th>\n",
              "      <td>cam ơn shop nhiều lam, e nhận dc máy rồi,  sài...</td>\n",
              "      <td>1</td>\n",
              "    </tr>\n",
              "    <tr>\n",
              "      <th>1</th>\n",
              "      <td>Ngon như ăn cà</td>\n",
              "      <td>1</td>\n",
              "    </tr>\n",
              "    <tr>\n",
              "      <th>2</th>\n",
              "      <td>Ve ngoai hinh khoang 96℅,mat kinh truoc va sau...</td>\n",
              "      <td>1</td>\n",
              "    </tr>\n",
              "    <tr>\n",
              "      <th>3</th>\n",
              "      <td>lỗi vào 4G, phải khởi động lại máy thì mới chu...</td>\n",
              "      <td>0</td>\n",
              "    </tr>\n",
              "    <tr>\n",
              "      <th>4</th>\n",
              "      <td>Đã mua và nhận xét : ngoại hình khá, màn hình ...</td>\n",
              "      <td>0</td>\n",
              "    </tr>\n",
              "  </tbody>\n",
              "</table>\n",
              "</div>"
            ],
            "text/plain": [
              "                                             cau_goc  nhan\n",
              "0  cam ơn shop nhiều lam, e nhận dc máy rồi,  sài...     1\n",
              "1                                     Ngon như ăn cà     1\n",
              "2  Ve ngoai hinh khoang 96℅,mat kinh truoc va sau...     1\n",
              "3  lỗi vào 4G, phải khởi động lại máy thì mới chu...     0\n",
              "4  Đã mua và nhận xét : ngoại hình khá, màn hình ...     0"
            ]
          },
          "metadata": {
            "tags": []
          },
          "execution_count": 165
        }
      ]
    },
    {
      "cell_type": "code",
      "metadata": {
        "id": "P4-PA-aeFTt_",
        "colab_type": "code",
        "outputId": "57a9411f-155b-40ea-d147-0a6f2d71ea27",
        "colab": {
          "base_uri": "https://localhost:8080/",
          "height": 168
        }
      },
      "source": [
        "df_train.info()"
      ],
      "execution_count": 166,
      "outputs": [
        {
          "output_type": "stream",
          "text": [
            "<class 'pandas.core.frame.DataFrame'>\n",
            "RangeIndex: 10000 entries, 0 to 9999\n",
            "Data columns (total 2 columns):\n",
            " #   Column   Non-Null Count  Dtype \n",
            "---  ------   --------------  ----- \n",
            " 0   cau_goc  10000 non-null  object\n",
            " 1   nhan     10000 non-null  int64 \n",
            "dtypes: int64(1), object(1)\n",
            "memory usage: 156.4+ KB\n"
          ],
          "name": "stdout"
        }
      ]
    },
    {
      "cell_type": "code",
      "metadata": {
        "id": "eMGGObQ8FW5p",
        "colab_type": "code",
        "outputId": "63230a87-8af1-4f70-815a-c6b817f05c52",
        "colab": {
          "base_uri": "https://localhost:8080/",
          "height": 168
        }
      },
      "source": [
        "df_test.info()"
      ],
      "execution_count": 167,
      "outputs": [
        {
          "output_type": "stream",
          "text": [
            "<class 'pandas.core.frame.DataFrame'>\n",
            "RangeIndex: 2537 entries, 0 to 2536\n",
            "Data columns (total 2 columns):\n",
            " #   Column   Non-Null Count  Dtype \n",
            "---  ------   --------------  ----- \n",
            " 0   cau_goc  2537 non-null   object\n",
            " 1   nhan     2537 non-null   int64 \n",
            "dtypes: int64(1), object(1)\n",
            "memory usage: 39.8+ KB\n"
          ],
          "name": "stdout"
        }
      ]
    },
    {
      "cell_type": "markdown",
      "metadata": {
        "id": "-cPRMlAdv7zL",
        "colab_type": "text"
      },
      "source": [
        "### **Data visualization**"
      ]
    },
    {
      "cell_type": "code",
      "metadata": {
        "id": "ynV5HOxpv64-",
        "colab_type": "code",
        "outputId": "6598f83d-7032-4def-d31f-698c5885ee0b",
        "colab": {
          "base_uri": "https://localhost:8080/",
          "height": 296
        }
      },
      "source": [
        "sns.set_style(\"dark\")\n",
        "sns.countplot(df_train.nhan)"
      ],
      "execution_count": 168,
      "outputs": [
        {
          "output_type": "execute_result",
          "data": {
            "text/plain": [
              "<matplotlib.axes._subplots.AxesSubplot at 0x7f6ae740d978>"
            ]
          },
          "metadata": {
            "tags": []
          },
          "execution_count": 168
        },
        {
          "output_type": "display_data",
          "data": {
            "image/png": "[encoded data removed]",
            "text/plain": [
              "<Figure size 432x288 with 1 Axes>"
            ]
          },
          "metadata": {
            "tags": []
          }
        }
      ]
    },
    {
      "cell_type": "markdown",
      "metadata": {
        "id": "7WqDWMpLV-7F",
        "colab_type": "text"
      },
      "source": [
        "**See how comment look like**"
      ]
    },
    {
      "cell_type": "code",
      "metadata": {
        "id": "wVwRrjFcWDmF",
        "colab_type": "code",
        "outputId": "02b93091-2643-47a5-e499-d0afc728a510",
        "colab": {
          "base_uri": "https://localhost:8080/",
          "height": 406
        }
      },
      "source": [
        "for i,content in enumerate (df_train['cau_goc'], 1):\n",
        "    if i > 20:\n",
        "        break\n",
        "    else:\n",
        "        print(i, content)"
      ],
      "execution_count": 169,
      "outputs": [
        {
          "output_type": "stream",
          "text": [
            "1 cam ơn shop nhiều lam, e nhận dc máy rồi,  sài ok lam, 😄😄😄😄\n",
            "2 Ngon như ăn cà\n",
            "3 Ve ngoai hinh khoang 96℅,mat kinh truoc va sau may co vet xuoc.loa e nay hoi be,xet ve gia tien oke.mih dung chi nghe goi,quan trong ben la oke.\n",
            "4 lỗi vào 4G, phải khởi động lại máy thì mới chuyển E thành 4G, chuyển địa điểm khác bật 4G lên hiện E thì khởi động lại tiếp thì ok\n",
            "5 Đã mua và nhận xét : ngoại hình khá, màn hình rất rỗ, ý kiến cá nhân mình thì nên bỏ cam trước và tăng độ phân giải màn hình lên tí nữa vì cam trước độ phân giải quá thấp nên chẳng mấy ai chụp hình với nó cả \n",
            "6 Máy bị lỗi giải quyết như thế nào shop oi.\n",
            "7 Máy lướt web mau nóng máy,mặt lưng bám vân tay khá nhiều,cầm trơn trượt rất dễ rơi.pin mau hết..hơi thất vọng \n",
            "8 Sai lầm khi mua máy này. Sản phẩm bị lỗi quá nhiều. Đơ liên tục.ra tgdd họ k đổi cho mình đập luôn máy tại cửa hàng vì sản phẩm lừa khách hàng.k phát trực tiếp trên face.pjn 5k mà k bằng pin 2k.sắc mặt 5 tiếng .dùng chưa đến 2 tương hết pin\n",
            "9 Máy xài rất ok Với giá tiền vậy thì khg chê vào đâu\n",
            "10 Đôi lúc có vẻ máy phản hồi cảm ứng hơi bị đơ, Hay cảm ứng kém thì không rõ nhưng thao tác hơi bị ức chế. Về cảm biến vân tay thì cực ức chế, cực kỳ kém nhạy. Tối đa ba vân tay chỉ ép cho một ngón thì cũng chỉ cải thiện đc 50%, vẫn 4  - 5 lần mới mở đc máy. Một số app thông dụng chạy tí thì  có phát sinh lỗi. Thiết kế và cảm nhận thì ko như kỳ vọng. Đc cái sạc nhanh, game vừa vẫn ổn. \n",
            "11 Chơi game không được mướt \n",
            "Pin không trâu lắm.\n",
            "Tầm 6 tr 9 thì vừa camera chụp tối \n",
            "12 Sản phẩm tuyệt vời đúng như quảng cáo trên trang web\n",
            "13 Hàng đóng gói cẩn thận giao hàng nhanh. Hiện tại xài rất OK cho shop 5 sao\n",
            "14 Chất lượng tốt so với giá, nghe gọi to rõ, sóng ổn.\n",
            "15 sản phẩm tốt hơn mong đợi  máy rất đẹp chiến game  khá mượt mà mà  pin lại trâu nói chung là rat hài lòng  lãnh lương sẻ mua thêm 1cai nữa cho e  tks nhé\n",
            "16 Ko s.dụng nhiều, nên ko rõ cái lỗi của pin. Nhưng: CAM selfie xấu lắm, 4G hay LTE chỉ xài đc từ SIM2 còn SIM1 không, loa ngoài có lúc to lúc nhỏ, cái thanh cuộn trên xuống hôm rồi bị tràng mất 1 phần rìa (nay thì ko bị nữa) ưu điểm có nhưng ko nhiều. \n",
            "17 Mua máy về xài mang thêm bệnh tức.thua đồ TQ. Xài lâu thêm hại thân do amoled xuống cấp làm hại mắt. Samsung xưa xài ok giờ xài lỗi liên tục .ai mún mua nên suy nghĩ kĩ lại.đừng vì thương hiệu mà lầm.đồ nào cũng xài đc quan trọng cái nào đáp ứng đúng nhu cầu.mua con này về tức thêm\n",
            "18 Phải chỉnh sim lệch sang trái như này mới nhận sim. Máy dùng ngon nhé. Shop phục vụ nhiệt tình 😆😆\n",
            "19 Gửi rất cẩn thận ạ , máy rất đẹp ,rất hài lòng \n",
            "20 Lúc đầu sài thấy ổn, chỉ pin tụt nhanh, cảm ứng bàn phím hay bị lỗi văng ra ngoài, hay bị đơ khi chat face, zalo, nhận cuộc gọi khi đang chat, sóng wifi thì ổn, 4G thì tào lao quá so với các sản phẩm cùng tầm giá, chụp hình bông hoa, phong cảnh lúc đưa vào camera màu sắc rất đẹp, nhưng khi xem hình thì 7/10 với lúc chụp.\n"
          ],
          "name": "stdout"
        }
      ]
    },
    {
      "cell_type": "markdown",
      "metadata": {
        "id": "aEcDp-P2WloX",
        "colab_type": "text"
      },
      "source": [
        "### **Text cleansing**"
      ]
    },
    {
      "cell_type": "code",
      "metadata": {
        "id": "eVl0JP_3WoKH",
        "colab_type": "code",
        "outputId": "2a8bd52f-9a4f-4cca-e92a-a49f1ba60203",
        "colab": {
          "base_uri": "https://localhost:8080/",
          "height": 101
        }
      },
      "source": [
        "def standardize_data(df):\n",
        "    hl_cleansed=[]\n",
        "    for row in df:\n",
        "        row = re.sub(r\"[\\.,\\?]+$-\", \"\", row)\n",
        "        row = row.replace(\",\", \" \").replace(\".\", \" \") \\\n",
        "            .replace(\";\", \" \").replace(\"“\", \" \") \\\n",
        "            .replace(\":\", \" \").replace(\"”\", \" \") \\\n",
        "            .replace('\"', \" \").replace(\"'\", \" \") \\\n",
        "            .replace(\"!\", \" \").replace(\"?\", \" \") \\\n",
        "            .replace(\"-\", \" \").replace(\"?\", \" \")\n",
        "        row = row.strip()\n",
        "        hl_cleansed.append(row)\n",
        "    return hl_cleansed\n",
        "\n",
        "hl_cleansed=standardize_data(df_train['cau_goc'])\n",
        "hl_cleansed_test=standardize_data(df_test['cau_goc'])\n",
        "    \n",
        "    \n",
        "# View comparison\n",
        "index=0\n",
        "print('Original texts :')\n",
        "print(df_train['cau_goc'][index])\n",
        "print('\\nAfter cleansed :')\n",
        "print(hl_cleansed[index])"
      ],
      "execution_count": 170,
      "outputs": [
        {
          "output_type": "stream",
          "text": [
            "Original texts :\n",
            "cam ơn shop nhiều lam, e nhận dc máy rồi,  sài ok lam, 😄😄😄😄\n",
            "\n",
            "After cleansed :\n",
            "cam ơn shop nhiều lam  e nhận dc máy rồi   sài ok lam  😄😄😄😄\n"
          ],
          "name": "stdout"
        }
      ]
    },
    {
      "cell_type": "markdown",
      "metadata": {
        "id": "dpY1y859XO4u",
        "colab_type": "text"
      },
      "source": [
        "**Tokenization, remove accents, remove stopwords**"
      ]
    },
    {
      "cell_type": "code",
      "metadata": {
        "id": "nPTwGHaXXNTp",
        "colab_type": "code",
        "colab": {}
      },
      "source": [
        "def vi_tokenizer(row):\n",
        "    row=row.lower()\n",
        "    return word_tokenize(row, format=\"text\")\n",
        "\n",
        "def remove_accents(row):\n",
        "  return unidecode.unidecode(row)\n",
        "\n",
        "def remove_stopwords(stopwords,hl_split):\n",
        "  sent = [s for s in hl_split if s not in stopwords ]\n",
        "  return sent\n",
        "\n",
        "stopwords=set(open('/content/Sentiment_Classification/data/stopwords.txt').read().split(' ')[:-1])\n",
        "\n",
        "#for training set\n",
        "hl_tokens = []\n",
        "for hl in hl_cleansed:\n",
        "    hl=vi_tokenizer(hl)\n",
        "    clean=remove_stopwords(stopwords,hl.split())\n",
        "    #clean=[remove_accents(s) for s in clean]\n",
        "    hl_tokens.append(clean)\n",
        "\n",
        "#for testing set\n",
        "hl_tokens_test = []\n",
        "for hl in hl_cleansed_test:\n",
        "    hl=vi_tokenizer(hl)\n",
        "    clean=remove_stopwords(stopwords,hl.split())\n",
        "    #clean=[remove_accents(s) for s in clean]\n",
        "    hl_tokens_test.append(clean)\n",
        "\n",
        "\n",
        "# View Comparison\n",
        "index=3\n",
        "print('Before tokenization :')\n",
        "print(hl_cleansed[index])\n",
        "print('\\nAfter tokenization :')\n",
        "print(hl_tokens[index])"
      ],
      "execution_count": 0,
      "outputs": []
    },
    {
      "cell_type": "code",
      "metadata": {
        "id": "9k4zYUPu8OXY",
        "colab_type": "code",
        "colab": {}
      },
      "source": [
        "hl_tokens_test[10]"
      ],
      "execution_count": 0,
      "outputs": []
    },
    {
      "cell_type": "markdown",
      "metadata": {
        "id": "TlwzaN0MlsVL",
        "colab_type": "text"
      },
      "source": [
        "### **Data Vectorization**"
      ]
    },
    {
      "cell_type": "code",
      "metadata": {
        "id": "CWpLqv9emfel",
        "colab_type": "code",
        "outputId": "1252b034-30c3-4e61-8e6e-ecbc18f5f3fc",
        "colab": {
          "base_uri": "https://localhost:8080/",
          "height": 386
        }
      },
      "source": [
        "max_features = 3000\n",
        "max_token = len(max(hl_tokens,key=len))\n",
        "tokenizer = Tokenizer(num_words=max_features)\n",
        "tokenizer.fit_on_texts(hl_tokens)\n",
        "sequences = tokenizer.texts_to_sequences(hl_tokens)\n",
        "sequences_test = tokenizer.texts_to_sequences(hl_tokens_test)\n",
        "X_Train = pad_sequences(sequences, maxlen=max_token)\n",
        "X_test=pad_sequences(sequences_test, maxlen=max_token)\n",
        "\n",
        "# View comparison\n",
        "index=3\n",
        "print('Original texts :')\n",
        "print(df_train['cau_goc'][index])\n",
        "print('\\nAfter vectorization :')\n",
        "print(X_Train[index])"
      ],
      "execution_count": 203,
      "outputs": [
        {
          "output_type": "stream",
          "text": [
            "Original texts :\n",
            "lỗi vào 4G, phải khởi động lại máy thì mới chuyển E thành 4G, chuyển địa điểm khác bật 4G lên hiện E thì khởi động lại tiếp thì ok\n",
            "\n",
            "After vectorization :\n",
            "[   0    0    0    0    0    0    0    0    0    0    0    0    0    0\n",
            "    0    0    0    0    0    0    0    0    0    0    0    0    0    0\n",
            "    0    0    0    0    0    0    0    0    0    0    0    0    0    0\n",
            "    0    0    0    0    0    0    0    0    0    0    0    0    0    0\n",
            "    0    0    0    0    0    0    0    0    0    0    0    0    0    0\n",
            "    0    0    0    0    0    0    0    0    0    0    0    0    0    0\n",
            "    0    0    0    0    0    0    0    0    0    0    0    0    0    0\n",
            "    0    0    0    0    0    0    0    0    0    0    0    0    0    0\n",
            "    0    0    0    0    0    0    0    0    0    0    0    0    0    0\n",
            "    0    0    0    0    0    0    0    0    0    0    0    0    0    0\n",
            "    0    0    0    0    0    0    0    0    0    0    0    0    0    0\n",
            "    0    0    0    0    0    0    0    0    0    0    0    0    0    0\n",
            "    0    0    0    0    0    0    0    0    0    0    0    0    0    0\n",
            "    0    0    0    0    0    0    0    0    0    0    0    0    0    0\n",
            "    0    0    0    0    0    0    0    0    0    0    0    0    0    0\n",
            "    0    0    0    0    0    0    0    0    0    0    0    0    0    0\n",
            "    0    0    0    0    0    0   22   89  237    1    7  309  163  812\n",
            "   89  309 2149   68  231   89  359  163  237  282   12]\n"
          ],
          "name": "stdout"
        }
      ]
    },
    {
      "cell_type": "markdown",
      "metadata": {
        "id": "AM1y1cQmsxep",
        "colab_type": "text"
      },
      "source": [
        "# **Training with RNN**"
      ]
    },
    {
      "cell_type": "markdown",
      "metadata": {
        "id": "hDjT4knoV52K",
        "colab_type": "text"
      },
      "source": [
        "## **Building the Model**"
      ]
    },
    {
      "cell_type": "code",
      "metadata": {
        "id": "fuWARJQWWhN-",
        "colab_type": "code",
        "colab": {}
      },
      "source": [
        "Y_Train=df_train['nhan'].values\n",
        "Y_Train = np.vstack(Y_Train)\n",
        "\n",
        "Y_test=df_test['nhan'].values\n",
        "Y_test=np.vstack(Y_test)"
      ],
      "execution_count": 0,
      "outputs": []
    },
    {
      "cell_type": "code",
      "metadata": {
        "id": "0pSGmoFTnRLz",
        "colab_type": "code",
        "colab": {}
      },
      "source": [
        "clear_session()"
      ],
      "execution_count": 0,
      "outputs": []
    },
    {
      "cell_type": "code",
      "metadata": {
        "id": "lFDFFq9kuM0C",
        "colab_type": "code",
        "outputId": "ff4ee96f-c0be-474d-890b-68145cdbf834",
        "colab": {
          "base_uri": "https://localhost:8080/",
          "height": 403
        }
      },
      "source": [
        "embed_dim = 64\n",
        "model = Sequential()\n",
        "model.add(Embedding(max_features, embed_dim,input_length = max_token))\n",
        "model.add(LSTM(96, dropout=0.2, recurrent_dropout=0.2, activation='relu'))\n",
        "model.add(Dense(100))\n",
        "#model.add(Activation('relu'))\n",
        "model.add(BatchNormalization())\n",
        "model.add(Dropout(0.5))\n",
        "model.add(Dense(1))\n",
        "model.add(Activation('sigmoid'))\n",
        "model.compile(loss = 'binary_crossentropy', optimizer='adam',metrics = ['accuracy'])\n",
        "print(model.summary())"
      ],
      "execution_count": 190,
      "outputs": [
        {
          "output_type": "stream",
          "text": [
            "Model: \"sequential_1\"\n",
            "_________________________________________________________________\n",
            "Layer (type)                 Output Shape              Param #   \n",
            "=================================================================\n",
            "embedding_1 (Embedding)      (None, 249, 64)           192000    \n",
            "_________________________________________________________________\n",
            "lstm_1 (LSTM)                (None, 96)                61824     \n",
            "_________________________________________________________________\n",
            "dense_1 (Dense)              (None, 100)               9700      \n",
            "_________________________________________________________________\n",
            "batch_normalization_1 (Batch (None, 100)               400       \n",
            "_________________________________________________________________\n",
            "dropout_1 (Dropout)          (None, 100)               0         \n",
            "_________________________________________________________________\n",
            "dense_2 (Dense)              (None, 1)                 101       \n",
            "_________________________________________________________________\n",
            "activation_1 (Activation)    (None, 1)                 0         \n",
            "=================================================================\n",
            "Total params: 264,025\n",
            "Trainable params: 263,825\n",
            "Non-trainable params: 200\n",
            "_________________________________________________________________\n",
            "None\n"
          ],
          "name": "stdout"
        }
      ]
    },
    {
      "cell_type": "markdown",
      "metadata": {
        "id": "kIVsgjeSuVzt",
        "colab_type": "text"
      },
      "source": [
        "## **Training process**"
      ]
    },
    {
      "cell_type": "code",
      "metadata": {
        "id": "s0efz9cCuWA7",
        "colab_type": "code",
        "outputId": "cc5d4739-790e-4a58-d5c7-481bc342daf0",
        "colab": {
          "base_uri": "https://localhost:8080/",
          "height": 356
        }
      },
      "source": [
        "epoch = 8\n",
        "batch_size = 512\n",
        "history=model.fit(X_Train, Y_Train, epochs = epoch, batch_size=batch_size, verbose = 2, validation_split=0.2)"
      ],
      "execution_count": 191,
      "outputs": [
        {
          "output_type": "stream",
          "text": [
            "/usr/local/lib/python3.6/dist-packages/tensorflow/python/framework/indexed_slices.py:434: UserWarning: Converting sparse IndexedSlices to a dense Tensor of unknown shape. This may consume a large amount of memory.\n",
            "  \"Converting sparse IndexedSlices to a dense Tensor of unknown shape. \"\n"
          ],
          "name": "stderr"
        },
        {
          "output_type": "stream",
          "text": [
            "Train on 8000 samples, validate on 2000 samples\n",
            "Epoch 1/8\n",
            " - 13s - loss: 0.4933 - accuracy: 0.7600 - val_loss: 0.6513 - val_accuracy: 0.7440\n",
            "Epoch 2/8\n",
            " - 12s - loss: 0.2395 - accuracy: 0.9022 - val_loss: 0.6105 - val_accuracy: 0.9220\n",
            "Epoch 3/8\n",
            " - 12s - loss: 0.1630 - accuracy: 0.9379 - val_loss: 0.5780 - val_accuracy: 0.9360\n",
            "Epoch 4/8\n",
            " - 12s - loss: 0.1228 - accuracy: 0.9554 - val_loss: 0.5544 - val_accuracy: 0.9225\n",
            "Epoch 5/8\n",
            " - 12s - loss: 0.0921 - accuracy: 0.9679 - val_loss: 0.5243 - val_accuracy: 0.9365\n",
            "Epoch 6/8\n",
            " - 12s - loss: 0.0765 - accuracy: 0.9732 - val_loss: 0.4724 - val_accuracy: 0.9390\n",
            "Epoch 7/8\n",
            " - 12s - loss: 0.0658 - accuracy: 0.9770 - val_loss: 0.4582 - val_accuracy: 0.9325\n",
            "Epoch 8/8\n",
            " - 12s - loss: 0.0584 - accuracy: 0.9790 - val_loss: 0.4080 - val_accuracy: 0.9355\n"
          ],
          "name": "stdout"
        }
      ]
    },
    {
      "cell_type": "markdown",
      "metadata": {
        "id": "KyZoDoOFuer8",
        "colab_type": "text"
      },
      "source": [
        "# ***Model Evaluation***\n",
        "\n"
      ]
    },
    {
      "cell_type": "code",
      "metadata": {
        "id": "vulxXnegue6e",
        "colab_type": "code",
        "outputId": "f343a014-4672-4a58-8186-0eba012fad31",
        "colab": {
          "base_uri": "https://localhost:8080/",
          "height": 356
        }
      },
      "source": [
        "fig, (ax1, ax2) = plt.subplots(1,2,figsize=(15,5))\n",
        "fig.suptitle(\"Performance of Model\")\n",
        "ax1.plot(history.history['accuracy'])\n",
        "ax1.plot(history.history['val_accuracy'])\n",
        "vline_cut = np.where(history.history['val_accuracy'] == np.max(history.history['val_accuracy']))[0][0]\n",
        "ax1.axvline(x=vline_cut, color='k', linestyle='--')\n",
        "ax1.set_title(\"Model Accuracy\")\n",
        "ax1.legend(['train', 'test'])\n",
        "\n",
        "ax2.plot(history.history['loss'])\n",
        "ax2.plot(history.history['val_loss'])\n",
        "vline_cut = np.where(history.history['val_loss'] == np.min(history.history['val_loss']))[0][0]\n",
        "ax2.axvline(x=vline_cut, color='k', linestyle='--')\n",
        "ax2.set_title(\"Model Loss\")\n",
        "ax2.legend(['train', 'test'])\n",
        "plt.show()"
      ],
      "execution_count": 192,
      "outputs": [
        {
          "output_type": "display_data",
          "data": {
            "image/png": "[encoded data removed]",
            "text/plain": [
              "<Figure size 1080x360 with 2 Axes>"
            ]
          },
          "metadata": {
            "tags": []
          }
        }
      ]
    },
    {
      "cell_type": "code",
      "metadata": {
        "id": "QdXPIWqX5ZV9",
        "colab_type": "code",
        "outputId": "b40165d3-83d1-484e-93c3-336cb2623ba1",
        "colab": {
          "base_uri": "https://localhost:8080/",
          "height": 279
        }
      },
      "source": [
        "pred=np.around(model.predict(X_test))\n",
        "fig, ax = plot_confusion_matrix(conf_mat=confusion_matrix(Y_test,pred))\n",
        "plt.show()"
      ],
      "execution_count": 204,
      "outputs": [
        {
          "output_type": "display_data",
          "data": {
            "image/png": "[encoded data removed]",
            "text/plain": [
              "<Figure size 432x288 with 1 Axes>"
            ]
          },
          "metadata": {
            "tags": []
          }
        }
      ]
    },
    {
      "cell_type": "code",
      "metadata": {
        "id": "C4titeOt6WVX",
        "colab_type": "code",
        "outputId": "d539f454-db6b-44ef-ecaf-de543860650e",
        "colab": {
          "base_uri": "https://localhost:8080/",
          "height": 168
        }
      },
      "source": [
        "print(classification_report(Y_test,pred))"
      ],
      "execution_count": 206,
      "outputs": [
        {
          "output_type": "stream",
          "text": [
            "              precision    recall  f1-score   support\n",
            "\n",
            "           0       0.91      0.95      0.93      1243\n",
            "           1       0.95      0.91      0.93      1294\n",
            "\n",
            "    accuracy                           0.93      2537\n",
            "   macro avg       0.93      0.93      0.93      2537\n",
            "weighted avg       0.93      0.93      0.93      2537\n",
            "\n"
          ],
          "name": "stdout"
        }
      ]
    },
    {
      "cell_type": "markdown",
      "metadata": {
        "id": "3W3GGFrtydIP",
        "colab_type": "text"
      },
      "source": [
        "# ***Use Another ML Algorithms to Training***"
      ]
    },
    {
      "cell_type": "markdown",
      "metadata": {
        "id": "hc6yudU6yiTr",
        "colab_type": "text"
      },
      "source": [
        "**Convert Data**"
      ]
    },
    {
      "cell_type": "code",
      "metadata": {
        "id": "dHQmHnP8ytNr",
        "colab_type": "code",
        "colab": {}
      },
      "source": [
        "X_Train = [\" \".join(x) for x in hl_tokens]\n",
        "X_test = [\" \".join(x) for x in hl_tokens_test]\n",
        "Y_Train=df_train['nhan'].values\n",
        "Y_test=df_test['nhan'].values"
      ],
      "execution_count": 0,
      "outputs": []
    },
    {
      "cell_type": "markdown",
      "metadata": {
        "id": "QHwx3tOFy49L",
        "colab_type": "text"
      },
      "source": [
        "**Word Vectorization using TF-IDF**"
      ]
    },
    {
      "cell_type": "code",
      "metadata": {
        "id": "3vbnbytFyxAb",
        "colab_type": "code",
        "colab": {}
      },
      "source": [
        "Tfidf_vect = TfidfVectorizer(max_features=3000)\n",
        "Tfidf_vect.fit(X_Train)\n",
        "Train_X_Tfidf = Tfidf_vect.transform(X_Train)\n",
        "Test_X_Tfidf = Tfidf_vect.transform(X_test)"
      ],
      "execution_count": 0,
      "outputs": []
    },
    {
      "cell_type": "code",
      "metadata": {
        "id": "XYYPzaVW9rvE",
        "colab_type": "code",
        "outputId": "ef7ca61b-1633-416e-c288-1644c1e5bfcf",
        "colab": {
          "base_uri": "https://localhost:8080/",
          "height": 54
        }
      },
      "source": [
        "print(Tfidf_vect.vocabulary_)"
      ],
      "execution_count": 209,
      "outputs": [
        {
          "output_type": "stream",
          "text": [
            "{'cam': 374, 'lam': 1257, 'nhận': 1718, 'dc': 676, 'máy': 1486, 'sài': 2082, 'ok': 1824, 'ngon': 1602, 'ăn': 2783, 'cà': 559, 've': 2572, 'ngoai': 1601, 'hinh': 939, 'khoang': 1127, '96': 179, 'mat': 1418, 'kinh': 1188, 'truoc': 2360, 'va': 2563, 'may': 1421, 'co': 535, 'loa': 1294, 'nay': 1581, 'hoi': 960, 'be': 246, 'gia': 828, 'tien': 2296, 'oke': 1826, 'mih': 1436, 'dung': 700, 'chi': 397, 'nghe': 1592, 'goi': 880, 'quan': 1915, 'trong': 2354, 'ben': 247, 'la': 1253, 'lỗi': 1387, '4g': 111, 'khởi_động': 1177, 'mới': 1560, 'chuyển': 428, 'thành': 2212, 'địa_điểm': 2910, 'khác': 1147, 'bật': 332, 'hiện': 942, 'tiếp': 2309, 'mua': 1465, 'nhận_xét': 1721, 'ngoại_hình': 1607, 'khá': 1146, 'màn_hình': 1476, 'rỗ': 2004, 'ý_kiến': 2780, 'cá_nhân': 566, 'mình': 1500, 'bỏ': 350, 'tăng': 2471, 'độ': 2938, 'phân_giải': 1865, 'tí': 2451, 'quá': 1928, 'thấp': 2247, 'chẳng': 491, 'mấy': 1530, 'ai': 207, 'chụp': 517, 'hình': 1006, 'nó': 1776, 'giải_quyết': 857, 'thế_nào': 2266, 'shop': 2044, 'oi': 1823, 'lướt': 1359, 'web': 2669, 'mau': 1419, 'nóng': 1782, 'mặt': 1540, 'lưng': 1355, 'bám': 285, 'vân': 2613, 'tay': 2148, 'cầm': 630, 'trơn': 2379, 'trượt': 2384, 'dễ': 748, 'rơi': 1993, 'pin': 1900, 'thất_vọng': 2250, 'sai_lầm': 2016, 'sản_phẩm': 2106, 'đơ': 2867, 'liên_tục': 1286, 'tgdd': 2159, 'họ': 1049, 'đổi': 2934, 'đập': 2889, 'luôn': 1318, 'cửa_hàng': 661, 'lừa': 1398, 'khách_hàng': 1150, 'phát': 1856, 'trực_tiếp': 2408, 'face': 784, 'pjn': 1904, '5k': 130, 'bằng': 340, 'tiếng': 2308, 'dùng': 730, 'tương': 2476, 'hết': 1041, 'xài': 2708, 'giá': 842, 'tiền': 2316, 'khg': 1122, 'chê': 449, 'đâu': 2843, 'đôi': 2858, 'có_vẻ': 584, 'phản_hồi': 1881, 'cảm_ứng': 624, 'hơi': 1020, 'hay': 926, 'kém': 1215, 'rõ': 1987, 'thao_tác': 2176, 'ức_chế': 2997, 'về': 2650, 'cảm_biến': 618, 'cực': 662, 'cực_kỳ': 664, 'nhạy': 1706, 'tối_đa': 2520, 'ba': 231, 'ép': 2768, 'ngón': 1630, 'cải_thiện': 615, 'đc': 2791, '50': 119, 'lần': 1367, 'mở': 1570, 'một_số': 1557, 'app': 226, 'chạy': 472, 'phát_sinh': 1860, 'thiết_kế': 2191, 'cảm_nhận': 620, 'ko': 1205, 'kỳ_vọng': 1247, 'sạc': 2101, 'nhanh': 1650, 'game': 809, 'vừa': 2664, 'ổn': 2989, 'chơi': 468, 'mướt': 1514, 'trâu': 2368, 'lắm': 1372, 'tầm': 2497, 'tr': 2340, 'camera': 378, 'tối': 2517, 'tuyệt_vời': 2421, 'đúng': 2863, 'quảng_cáo': 1943, 'trang': 2343, 'hàng': 992, 'đóng_gói': 2856, 'cẩn_thận': 636, 'giao': 832, 'hiện_tại': 945, 'sao': 2024, 'chất_lượng': 482, 'tốt': 2524, 'gọi': 902, 'to': 2329, 'sóng': 2090, 'hơn': 1021, 'mong_đợi': 1460, 'đẹp': 2900, 'chiến': 405, 'mượt_mà': 1518, 'nói_chung': 1779, 'rat': 1956, 'hài_lòng': 990, 'lương': 1358, 'sẻ': 2117, 'thêm': 2223, 'nhé': 1687, 'dụng': 763, 'selfie': 2034, 'xấu': 2724, 'lte': 1308, 'còn': 580, 'ngoài': 1604, 'nhỏ': 1735, 'thanh': 2169, 'xuống': 2706, 'hôm': 1015, 'mất': 1526, 'phần': 1885, 'ưu_điểm': 2965, 'mang': 1415, 'bệnh': 345, 'tức': 2539, 'thua': 2205, 'đồ': 2920, 'tq': 2339, 'lâu': 1333, 'hại': 1025, 'thân': 2219, 'amoled': 213, 'xuống_cấp': 2707, 'mắt': 1537, 'samsung': 2020, 'xưa': 2719, 'giờ': 874, 'mún': 1510, 'suy_nghĩ': 2078, 'kĩ': 1228, 'đừng': 2957, 'thương_hiệu': 2243, 'lầm': 1366, 'nào': 1766, 'quan_trọng': 1916, 'đáp_ứng': 2841, 'nhu_cầu': 1674, 'con': 540, 'chỉnh': 498, 'sim': 2052, 'lệch': 1378, 'sang': 2022, 'trái': 2365, 'phục_vụ': 1899, 'nhiệt_tình': 1667, 'gửi': 910, 'đầu': 2882, 'thấy': 2251, 'tụt': 2537, 'bàn_phím': 281, 'văng': 2633, 'chat': 392, 'zalo': 2748, 'cuộc': 557, 'wifi': 2676, 'tào_lao': 2432, 'đưa': 2871, 'màu_sắc': 1479, 'xem': 2685, '10': 2, 'đợt': 2948, 'tiết_kiệm': 2315, 'thùng': 2237, 'sử_dụng': 2133, 'điện_thoại': 2811, 'mọi': 1549, 'thứ': 2285, 'trừ': 2407, 'cổng': 649, 'lởm': 1395, 'cắm': 640, 'uổng': 2560, 'full': 804, 'hộp': 1064, 'hoàn_hảo': 970, 'tuần': 2423, 'âm_thanh': 2765, 'tai_nghe': 2142, 'tai': 2141, 'kiểu': 1199, 'vọng': 2654, 'sp': 2071, 'nguồn': 1619, 'trả': 2386, 'địa_chỉ': 2909, 'xl': 2694, 'phiền': 1847, 'chị': 499, 'thật_sự': 2257, 'muốn': 1472, 'lời': 1394, 'giải_đáp': 860, 'bắt': 335, 'giật': 865, 'cùi': 594, 'bắn': 334, 'pupg': 1911, 'liên_quân': 1284, 'mai': 1409, 'pk': 1905, 'thế_giới': 2263, 'di_động': 687, 'coi': 537, 'k_thể': 1109, '5tr': 137, 'thế': 2262, 'a50': 192, 'đầu_tiên': 2884, 'tháng': 2217, 'tắt': 2504, 'dù': 725, 'nhân_viên': 1684, 'gởi': 907, 'nói': 1778, 'cong': 543, 'nhẹ': 1730, 'xin': 2690, 'hỏi': 1052, 'bạn': 313, 'dt': 698, 'cục': 653, 'đá': 2832, 'ngta': 1609, 'ốp': 2985, '250k': 58, 'rớt': 2006, 'chẳng_lẽ': 493, 'thôi': 2229, 'báo': 288, 'đi': 2800, 'thợ': 2282, 'chuyên_nghiệp': 427, 'thật': 2255, 'lòng': 1342, 'dòng': 723, 'già': 841, '8tr': 173, 'pit': 1902, 'ngồi': 1642, 'đợi': 2947, 'kiếm': 1195, 'bực': 365, 'bước_đầu': 311, 'lâu_dài': 1334, 'biết': 256, 'thân_thiện': 2220, 'test': 2154, 'yếu': 2746, '1000': 4, 'hêt': 1003, 'chon': 411, 'unlock': 2552, 'việt': 2587, 'nua': 1762, 'xứng': 2726, 'voi': 2592, '1sao': 36, 'ma': 1405, 'thoi': 2198, 'ghim': 818, 'vô': 2622, 'nổ': 1810, 'tưởng': 2484, 'kêu': 1219, 'ship': 2040, 'thằng': 2259, 'chắc': 488, 'cty': 546, 'bố': 353, 'máy_móc': 1488, 'chính': 450, 'hãng': 999, 'tin_tưởng': 2302, 'ram': 1954, '3gb': 90, 'on': 1829, 'ban_đầu': 236, 'hữu_ích': 1075, 'nằm': 1801, 'ngang': 1590, 'đứng': 2954, 'khó_chịu': 1155, 'khó': 1154, 'vuốt': 2606, 'nhận_diện': 1719, 'khuôn_mặt': 1145, 'mức': 1574, 'ám': 2758, 'vàng': 2609, 'bấm': 321, 'bên': 298, 'huawei': 983, 'tóm': 2459, 'thích_hợp': 2226, 'người': 1632, 'phổ_thông': 1895, 'ít': 2770, 'tùy': 2466, 'biến': 255, 'icon': 1078, 'phù_hợp': 1876, 'người_lớn': 1633, 'tuổi': 2424, 'điểm': 2808, 'lớn': 1391, 'nhất': 1713, 'riêng': 1970, 'thích': 2225, 'nova': 1755, '3i': 92, 'fpt': 802, 'sai': 2015, 'màu': 1478, 'vs': 2598, 'len': 1269, 'ghép': 823, 'cx': 558, 'bán': 286, 'chuẩn': 432, 'mượt': 1517, 'hôm_qua': 1017, 'giữa': 877, 'thành_phố': 2214, 'cũ': 599, 'vạch': 2638, 'căng': 598, 'mạng': 1523, 'xong': 2697, 'youtube': 2741, 'tự_nhiên': 2546, 'mang_tiếng': 1416, '6g': 146, 'hiện_nay': 943, 'căn': 597, 'nhắc': 1726, 'đặt': 2898, '1280': 15, 'tốn': 2522, 'ngu': 1610, '20': 43, 'hang': 920, 'tot': 2332, 'messenger': 1431, 'không_thể': 1162, 'khắc_phục': 1171, 'như_ý': 1700, 'tải': 2492, 'dán': 713, 'tgian': 2162, 'bảo_hành': 318, 'khoẻ': 1134, 'hnay': 954, 'hở': 1066, 'sáng': 2084, 'ảnh_hưởng': 2971, 'trải_nghiệm': 2390, 'hồi': 1057, 'phát_hiện': 1858, 'cách': 567, 'fix': 797, 'cài_đặt': 562, 'quản_lý': 1941, 'ứng_dụng': 2999, 'chọn': 502, 'hạn_chế': 1027, 'chai': 389, 'ảo': 2972, 'cận': 637, 'mờ': 1567, 'nhòe': 1694, 'pubg': 1910, 'tạm': 2488, 'dở': 758, 'chỗ': 508, '4gb': 112, 'hệ_thống': 1046, '2gb': 66, 'max': 1420, 'setting': 2038, 'một_chút': 1556, 'kiểm_tra': 1197, 'xác_nhận': 2711, 'so_sánh': 2066, 'bảo': 317, 'kiểm_định': 1198, '30': 74, 'ngày': 1621, 'trả_lời': 2388, 'đk': 2813, 'năm': 1787, '2019': 48, 'dep': 682, 'đt': 2820, 'thường': 2244, 'nhảy': 1708, 'loạn_xạ': 1305, 'giúp': 853, 'khoảng': 1132, 'tháo': 2218, 'bộ': 357, 'xuất_hiện': 2704, 'sam': 2018, 'sung': 2076, 'tiếp_tục': 2312, 'hiểu': 941, 'tôi': 2462, 'gần': 899, 'mức_độ': 1575, 'trung_bình': 2356, 'nhắn_tin': 1729, 'fb': 789, 'hao': 923, 'chấp_nhận': 480, 'nấy': 1796, 'đấy': 2880, 'có_thể': 583, 'lắp': 1373, 'làm': 1322, 'chủ_shop': 520, 'hình_thức': 1009, 'chập': 486, 'chập_chờn': 487, 'đáng': 2834, 'mua_shop': 1468, 'uy_tín': 2558, 'đít': 2852, 'tui': 2412, 'clip': 533, 'bốc': 354, '128gb': 17, 'cạnh_tranh': 613, 'nguyên': 1615, 'seal': 2031, 'trung': 2355, 'anh': 221, 'ý_định': 2782, 'chờ': 513, 'rom': 1973, 'lưu_ý': 1357, 'thời_gian': 2277, '17': 28, 'rẻ': 1998, 'tệ': 2511, 'sống': 2122, 'tuột': 2426, 'chịu': 500, 'lấy': 1365, 'cảm_ơn': 623, 'lần_lần': 1368, '18': 29, 'rùi': 1990, 'tin': 2300, 'nhắn': 1728, 'ứng': 2998, 'thường_xuyên': 2245, 'loạn': 1304, 'mặc_dù': 1539, 'khóa': 1158, 'bảo_mật': 319, 'tránh': 2366, 'vô_tình': 2625, 'bỏ_túi': 352, 'tự': 2543, 'chạm': 471, 'lazada': 1264, 'kích': 1222, 'chủ': 518, 'tinh': 2303, 'bóc': 305, 'gõ': 895, 'văn_bản': 2631, 'bình_luận': 300, 'soạn': 2070, 'tìm_kiếm': 2447, 'số': 2119, 'lác': 1330, 'hihi': 938, 'ưng': 2961, 'kết_nối': 1238, 'bluetooth': 261, 'nhạc': 1703, 'cài': 561, 'thay': 2178, 'trường_hợp': 2383, 'giựt': 878, 'bạn_bè': 314, 'đủ': 2951, 'nha': 1645, 'mong': 1456, 'chắc_chắn': 489, 'tem': 2151, 'nhà_sản_xuất': 1679, 'nhợt_nhạt': 1741, 'trung_thực': 2358, 'mãi': 1496, 'tâm': 2437, 'hình_như': 1007, 'dien': 688, 'thoai': 2197, 'mot': 1461, 'sat': 2026, 'nhat': 1654, 'bay': 245, 'gio': 837, 'minh': 1438, 'han': 919, 'tuong': 2415, 'roi': 1972, 'kg': 1115, 'hư': 1022, 'lag': 1255, 'cảm': 617, 'hỗ_trợ': 1061, 'tình': 2448, 'xanh': 2682, 'đen': 2794, 'cám_ơn': 569, 'not': 1750, 'cảm_thấy': 622, 'chán': 437, 'nản': 1794, 'phút': 1877, 'màng': 1477, 'quản': 1940, 'cáo': 570, 'bực_bội': 366, 'bít': 302, 'dùm': 728, 'đầy': 2885, 'làm_ăn': 1326, 'đàng_hoàng': 2829, 'liệt': 1288, 'nút': 1786, 'lm': 1290, 'như_thế': 1698, 'khách': 1149, 'phụ_kiện': 1897, 'đầy_đủ': 2886, 'ưng_ý': 2962, 'thử': 2288, 'chức_năng': 524, 'tội': 2533, 'em': 775, 'kế': 1234, 'hai': 913, 'den': 681, 'da': 666, 'nhiệm': 1665, 'thông_báo': 2230, 'nắng': 1799, 'nổi': 1811, '97': 180, 'nhìn': 1690, 'tư_vấn': 2474, '13': 20, 'hn': 953, 'đánh_giá': 2839, 'chậm': 484, 'chăm_sóc': 466, 'tốc_độ': 2516, 'cao': 381, '2g': 65, 'fim': 794, 'hd': 929, 'quay': 1919, 'tròn': 2373, 'lâu_lâu': 1335, 'mầu': 1531, 'tiệm_cận': 2318, 'điện': 2809, 'thiệt': 2196, 'dỡ': 761, 'tác': 2434, 'vụ': 2662, 'bình_thường': 301, 'wa': 2667, 'làm_sao': 1324, 'tôt': 2463, 'kiện': 1201, 'tiếc': 2306, 'khuyến_mãi': 1142, 'vivo': 2583, 'nhược_điểm': 1702, 'ảnh': 2970, 'oki': 1827, 'thoát': 2199, 'ra_vào': 1952, 'cập_nhật': 639, 'trạng_thái': 2385, 'chuẩn_bị': 433, 'tặng': 2509, 'kèm': 1214, 'cường_lực': 609, 'đăng': 2865, 'video': 2576, '4000': 101, 'mah': 1408, 'đêm': 2849, 'vài': 2608, 'cân_nhắc': 574, 'nửa_ngày': 1819, 'tối_thui': 2519, 'bi': 250, 'bể': 344, 'thây': 2221, 'tuy_nhiên': 2418, '3g': 89, 'mà_còn': 1474, 'nhạt': 1705, 'tới': 2534, 'hổ': 1059, 'trợ': 2404, 'thẻ': 2261, 'nhớ': 1737, 'dung_lượng': 701, 'chả': 474, 'mi': 1433, 'mô_tả': 1505, 'zin': 2751, '100': 3, 'ủng_hộ': 2995, 'dài_dài': 708, 'nhoè': 1672, 'sắc': 2111, 'nét': 1774, 'giả': 855, 'trả_góp': 2387, '200k': 44, 'phía': 1870, 'nêu': 1775, 'tưởng_tượng': 2485, 'tuy': 2417, 'chút': 464, '92': 175, 'đéo': 2847, 'nắp': 1800, 'vòng': 2620, 'túi': 2467, 'thực_sự': 2293, 'mỏi': 1550, 'cảm_giác': 619, 'mất_toi': 1529, '1tr': 41, 'thề': 2268, 'duy_nhất': 704, 'cuối_cùng': 556, 'nokia': 1748, 'cực_kì': 663, 'thà': 2211, 'trung_quốc': 2357, 'choi': 410, 'lang': 1259, 'oppo': 1834, 'nặng': 1802, 'chốt': 505, 'tình_trạng': 2450, 'nhúc_nhích': 1696, 'khiến': 1123, 'hok': 961, 'nảy': 1795, 'lượt': 1362, 'va_đập': 2564, 'mạnh': 1525, 'galaxy': 807, 'note': 1751, 'hề': 1044, 'dính': 721, 'vết': 2649, 'trầy': 2393, 'xước': 2720, 'sọc': 2118, 'siêu_phẩm': 2056, 'f5': 781, 'kính': 1225, 'vỡ': 2660, 'nát': 1767, 'khuyên': 1139, 'kinh_tế': 1191, 'đẳng_cấp': 2895, 'kaios': 1110, '512': 125, 'cây': 577, 'cơ': 601, 'rùa': 1989, 'hệ': 1045, 'điều_hành': 2805, 'tự_động': 2547, 'linh_tinh': 1275, 'kể_cả': 1242, 'lẫn': 1369, 'bt': 267, 'thực_hiện': 2291, 'restart': 1967, 'nhập': 1722, 'kịp': 1245, 'tràn': 2362, 'viền': 2586, 'góc': 891, 'siêu': 2055, 'tất_cả': 2495, 'đỉnh': 2908, 'hiện_tượng': 944, 'ch': 387, 'play': 1906, 'out': 1837, 'giảm_giá': 862, 'xinh': 2692, 'plus': 1907, 'bh': 249, 'trẻ': 2396, 'mic': 1434, 'rõ_ràng': 1988, 'on_shop': 1830, 'yên_tâm': 2743, 'khung': 1138, 'hợp_lí': 1068, 'bổ': 355, 'he': 930, 'dễ_tính': 752, 'chúc_shop': 461, 'đắt': 2892, 'ngầm': 1638, 'nhòa': 1693, 'trc': 2347, 'triệu': 2350, 'gấp': 898, 'trăm': 2378, 'hối_hận': 1055, 'a10s': 186, 'bước': 310, 'đag': 2788, 'màn': 1475, 'trog': 2352, 'loại': 1303, 'dùg': 727, 'thág': 2215, '1ngày': 35, 'đóng': 2855, 'gói': 892, 'ạ_shop': 2969, 'khoá': 1130, 'xiaomi': 2689, 'bọn': 349, 'thi': 2185, 'nhau': 1655, 'nói_xấu': 1781, '7tr': 159, 'chủ_yếu': 521, 'phim': 1843, 'dở_tệ': 759, 'vien': 2578, 'doi': 696, 'nhung': 1677, 'dong': 697, 'khac': 1118, 'se': 2030, 'ung': 2551, 'ho': 955, 'tiep': 2298, 'mk': 1448, 'vi': 2574, 'bền': 343, 'ghê': 825, 'vcl': 2570, 'nut': 1763, 'home': 963, 'luc': 1310, 'duoc': 702, 'khong': 1129, 'chay': 394, 'nghĩ': 1597, 'củ': 655, 'xạc': 2722, 'siu': 2054, 'nao': 1580, 'đoi': 2817, 'hiệu_năng': 948, 'chip': 403, 'hẻo': 1040, 'lắc': 1371, 'đôi_khi': 2859, 'load': 1295, 'rành': 1977, 'phần_mềm': 1888, 'về_phần': 2651, 'id': 1079, 'đem': 2793, 'kỹ_thuật': 1251, 'e_đổi': 774, 'liền': 1287, 'vậy_mà': 2646, 'giống': 870, 'kéo_dài': 1217, 'khít': 1153, 'hy_vọng': 985, 'nhầm': 1715, 'đơn': 2868, 'mong_shop': 1459, 'sớm': 2125, 'đẹp_shop': 2902, 'sẵn': 2114, 'ae': 205, 'tương_đối': 2481, 'áp_suất': 2762, 'lưu': 1356, 'chữ': 529, 's6': 2011, 'active': 202, 'lun': 1311, 'nhấn': 1710, 'ơi': 2958, 'khớp': 1175, 'bit': 254, 'sd': 2028, '95': 178, '99': 182, 'tính': 2457, '40': 100, 'cỡ': 652, 'chu_đáo': 417, 'lỗi_lầm': 1388, 'ghé': 822, 'tuyệt': 2420, 'bản': 315, 'đẹp_mắt': 2901, 'dễ_thương': 751, 'hoặc': 978, 'rước': 1995, 'f9': 783, 'dịch_vụ': 753, 'vui_lòng': 2603, 'thank': 2172, 'cấu_hình': 629, 'trận': 2394, '15': 23, 'bá_đạo': 283, 'công_bố': 588, '70': 151, '60': 138, 'giữ': 876, '7h': 157, 'rút': 1991, 'cmt': 534, 'bik': 252, 'chấm': 477, 'antutu': 224, 'vấn_đề': 2641, 'bn': 263, 'mao': 1417, 's8': 2013, 'xa': 2679, 'vong': 2596, 'đx': 2826, 'hầu_như': 1034, 'thanks': 2174, 'order': 1835, 'đa': 2785, 'đuợc': 2825, 'ròi': 1985, 'xảy': 2723, 'ok_shop': 1825, 'kỹ_lưỡng': 1250, 'mời': 1569, 'êm': 2769, 'delay': 679, '11': 12, 'kể': 1241, 'xóa': 2718, 'font': 800, 'duy': 703, 'tại_sao': 2487, '2a': 64, 'im': 1080, 'phone': 1848, 'ra_sao': 1951, 'quốc': 1946, 'bất': 323, 'phụ': 1896, 'tận_tình': 2501, 'tối_qua': 2518, 'good': 882, 'and': 218, 'chờ_đợi': 514, 'quà': 1926, 'trễ': 2398, 'dự_kiến': 768, 'lien': 1272, 'quài': 1927, 'thì_ra': 2224, 'chíp': 454, '660': 144, '450': 105, 'bao': 239, 'có_khi': 581, 'vãi': 2615, 'nt': 1759, 'sụt': 2130, 'sơ': 2094, '4000mah': 102, 'lo_lắng': 1292, 'mới_nguyên': 1562, 'toàn': 2333, 'seri': 2037, 'f11': 778, 'bé': 296, 'hi_vọng': 935, 'vui_vẻ': 2605, 'lăn_tăn': 1353, 'sợ': 2128, 'hãy': 1000, 'nhé_shop': 1688, 'hàg': 988, 'máy_tính': 1491, 'tao': 2146, '93': 176, 'hết_sạch': 1042, '30p': 79, 'đểu': 2907, 'ổn_định': 2992, 'redmi': 1962, '500': 120, 'anh_em': 222, 'me': 1426, 'realme': 1959, 'a30': 189, '87': 166, 'rè': 1983, 'bụi': 361, 'móp': 1503, '24': 55, 'mở_máy': 1572, 'mái': 1483, 'thui': 2206, 'sóng_sánh': 2091, 'android': 220, 'cáp': 571, 'hình_ảnh': 1010, 'trắng': 2395, 'nhận_dạng': 1720, 'nhìn_chung': 1691, '9tr': 183, 'ad': 203, 'sale': 2017, 'đòi_hỏi': 2854, 'seal_shop': 2032, 'tệ_hại': 2512, 'tốt_đẹp': 2527, 'bù': 307, 'kết': 1235, 'nỗi': 1813, 'ấy': 2976, 'xoay': 2695, 'nhà': 1678, 'ss': 2072, 'ip': 1087, 'tươi': 2475, 'nồi': 1809, 'm20': 1404, 'ngoài_ra': 1605, 'dò': 722, 'tham_khảo': 2166, 'kỹ': 1249, 'tốt_shop': 2526, 'cạnh': 612, 'hứa': 1074, 'bớt': 360, 'gọi_là': 903, 'thi_thoảng': 2186, 'note8': 1753, 'khoảng_cách': 1133, 'phím': 1871, 'đánh': 2838, 'toàn_bị': 2334, 'add': 204, '12h': 18, 'đề': 2904, 'xem_lại': 2686, 'đơn_vị': 2870, 'check': 396, 'yêu_cầu': 2745, 'động': 2942, 'xem_xét': 2687, 'smart': 2061, 'tìm': 2445, 'phù': 1875, 'hịn': 1048, 'khỏe': 1172, 'vv': 2607, 'ngày_càng': 1622, 'đắt_hàng': 2893, 'tung': 2414, 'chảo': 476, '5000': 121, 'cày': 565, 'máy_ảnh': 1492, 'mờ_mờ': 1568, 'f3': 780, 'hay_là': 927, 'mặc': 1538, 'định': 2911, 'giá_cả': 844, 'hợp_lý': 1069, 'hàng_hàng': 993, 'phẩm': 1890, 'gây': 887, 'xử_lý': 2730, 'độ_nhạy': 2939, 'di_chuyển': 686, 'dk': 693, 'phóng': 1873, 'thông_tin': 2235, 'khe': 1120, 'a70': 197, 'yt': 2742, 'xíu': 2716, '4500': 106, 'bất_tiện': 328, 'nhac': 1647, 'củng': 656, 'san': 2021, 'dùn': 729, 'gui': 885, 'man': 1414, 'bj': 259, 'vo': 2591, 'kinh_khủng': 1190, '4k': 114, '3k': 93, 'nhân': 1683, 'buồn': 273, 'hết_sức': 1043, 'new': 1588, 'vận_chuyển': 2643, 'giảm': 861, 'ngoài_trời': 1606, 'reset': 1966, 'chất': 481, 'kh': 1116, 'an_tâm': 216, 'fan': 788, 'tính_năng': 2458, 'kia': 1182, 'phân_vân': 1867, 'nóng_ran': 1785, 'ak': 210, 'hẹn': 1039, 'cùi_bắp': 595, 'chục': 516, 'đỡ': 2946, 'khỏi': 1173, 'bực_mình': 367, 'kích_hoạt': 1223, 'huhu': 984, 'mẫu_mã': 1534, 'mỏng': 1551, 'dài': 707, 'qc': 1913, 'nhậy': 1725, 'mới_đầu': 1566, 'ngại': 1637, 'nói_chuyện': 1780, 'chọn_shop': 503, 'viết': 2585, 'chính_xác': 453, 'quen': 1922, 'phê': 1868, 'lý_do': 1351, 'bấm_nút': 322, 'ưa': 2960, 'thái_độ': 2216, 'bề_ngoài': 342, 'niềm': 1745, 'keo': 1114, 'cốc': 647, 'dây': 716, 'cháy': 440, 'ng': 1589, 'van': 2565, 'vặt': 2647, 'hon': 964, 'xứng_đáng': 2727, 'vừa_ý': 2666, 'chúc': 460, 'buôn': 271, 'bán_đắt': 287, 'qa': 1912, 'danh_bạ': 670, 'thank_shop': 2173, 'hậu_mãi': 1037, 'vời': 2659, 'niêm': 1743, 'liên_hệ': 1281, 'em_gái': 776, 'thoại': 2200, 'cập': 638, 'bến': 341, 'hen': 932, 'mục': 1573, '2018': 47, 'liên_lạc': 1282, 'cuc': 549, 'ki': 1181, 'che': 395, 'moi': 1455, 'viet': 2579, 'day': 675, 'hét': 1001, 'fin': 795, 'nghiêm_trọng': 1595, 'hướng_dẫn': 1024, 'thegioididong': 2182, '5p': 133, 'facebook': 785, 'tiên': 2304, 'online': 1833, 'nguy_hiểm': 1613, 'đăng_kí': 2866, 'sở_hữu': 2127, 'ace': 201, 'y17': 2732, 'cố': 644, 'tót': 2461, 'quân': 1934, 'ff': 791, 'giật_giật': 866, 'ghi': 815, '5h': 129, 'sâu': 2086, 'lồi': 1383, 'nhựa': 1742, 'hỏng': 1053, 'mn': 1449, 'người_ta': 1634, 'tàu': 2433, 'sập': 2110, 'nửa': 1818, 'giây': 851, 'dep_shop': 683, 'lai': 1256, 'nhiet': 1659, 're': 1957, 'hướng': 1023, 'xịn': 2725, 'sò': 2088, 'đời': 2945, 'cẩm': 634, 'chăng': 467, 'thiếu': 2194, 'ánh_sáng': 2759, 'ấn': 2974, 'nhỏ_xíu': 1736, 'nhanh_shop': 1653, 'thời_lượng': 2279, 'shop_shop': 2045, 'luợng': 1320, '25': 57, 'lựa_chọn': 1402, 'méo': 1497, '10h': 8, '5s': 134, 'thời': 2276, 'cơ_bản': 602, 'khui': 1137, 'giáo': 850, '3th': 97, 'dật': 742, 'nghiệm': 1596, 'vỏ': 2655, 'gãy': 888, 'hoạt_động': 976, 'chplay': 413, 'buổi': 274, 'lỡ': 1396, 'a7': 196, 'bin': 253, 'xử': 2728, 'nhờ': 1738, 'điện_tử': 2812, 'giùm': 852, 'đồ_hoạ': 2922, 'phí': 1869, 'phân': 1864, 'khúc': 1165, 'chung': 422, '6gb': 147, 'iphone': 1093, 'thực': 2289, 'androi': 219, 'ios': 1086, 'bây_giờ': 292, 'mất_mạng': 1528, 'mây': 1494, 'nguon': 1612, 'bat': 244, 'đáng_giá': 2835, 'dự_phòng': 769, 'vị_trí': 2652, 'cọc': 643, 'like': 1273, 'y_hình': 2736, 'lan': 1258, 'vote': 2597, '105': 6, 'que': 1921, 'chọc': 501, 'ko_thể': 1207, 'phiên_bản': 1845, '32': 80, 'gb': 811, 'đảm_bảo': 2878, 'ủng': 2994, 'bắt_đầu': 338, 'lung_tung': 1314, 'cấn': 627, 'gặp': 901, 'như_vậy': 1699, 'lẽ': 1377, 'đằng': 2894, '64gb': 142, 'chết': 497, 'dám': 712, 'xaomi': 2683, 'chế_độ': 496, 'hiển_thị': 940, 'banh': 238, 'ưu_đãi': 2966, '1h': 32, '35': 86, 'long_lanh': 1301, 'nhah': 1648, 'góp': 893, 'với_lại': 2658, 'sửa': 2134, 'kết_quả': 1239, 'dịp': 754, 'nhảy_tùm_lum': 1709, 'đành': 2830, 'cưng': 606, 'pham': 1841, 'cung': 551, 'loi': 1298, '75': 155, 'cai': 372, 'nen': 1586, 'hom': 962, 'biết_sao': 257, 'phâm': 1863, 'leng_keng': 1270, 'nhiễu': 1664, 'mã': 1495, 'cột': 651, 'trở_lại': 2403, 'can': 379, 'than': 2167, 'sạt': 2104, 'toi': 2330, 'đến_nỗi': 2903, 'update': 2554, 'bà': 276, 'sản_xuất': 2108, 'thèm': 2222, 'khen': 1121, 'đối_với': 2917, 'hợp': 1067, 'khủng_khiếp': 1179, 'chuông': 431, 'nv': 1764, 'nọ': 1807, 'câu': 576, 'tổng_đài': 2532, 'tùm_lum': 2465, 'tn': 2328, 'box': 266, 'cải': 614, 'hoàn_toàn': 972, 'lực': 1403, 'tuyệt_đối': 2422, 'htc': 981, 'vô_địch': 2627, 'hoàn_thiện': 971, 'chân': 442, 'usb': 2556, 'time': 2299, 'tl': 2327, 'qá': 1948, 'rưỡi': 1996, 'thủ_tục': 2284, 'thỉnh_thoảng': 2270, 'đồng_tiền': 2929, 'bát': 291, 'gạo': 897, 'tggd': 2161, 'âm': 2763, 'miếng': 1443, 'bẩn': 330, 'lỗ': 1386, '2tr': 73, 'nãn': 1770, 'ông': 2776, 'công_nhận': 591, 'wf': 2672, 'bong': 265, 'tróc': 2374, 'quay_phim': 1920, 'ban_đêm': 235, 'trở': 2402, 'mật_khẩu': 1535, 'khu_vực': 1136, 'sụp': 2129, 'khoản': 1131, 'treo': 2349, 'kết_luận': 1237, 'toàn_tập': 2336, 'mẫu': 1533, 'làm_việc': 1325, 'sh': 2039, 'okie': 1828, 'tiếp_theo': 2311, '32gb': 82, 'dmx': 694, '1h30p': 34, '2h': 67, 'google': 883, 'gọn': 904, 'rẻ_shop': 1999, 'tạo': 2490, 'giá_trị': 848, 'rôi': 1986, 'kich': 1183, 'hoat': 959, 'phin': 1844, 'dang': 669, 'am': 212, 'hợp_lý_shop': 1070, 'kô': 1226, 'mik': 1437, 'lo': 1291, 'vù_vù': 2629, 'nếu_như': 1805, 'hiện_đại': 946, 'smartphone': 2062, 'đoạn': 2819, 'không_đổi': 1163, '27': 60, 'tối_ưu': 2521, 'kéo': 1216, '22': 52, 'tìm_hiểu': 2446, 'kỉ': 1244, 'fps': 801, '45': 104, 'may_mắn': 1423, 'thành_công': 2213, 'công': 587, 'ty': 2429, 'chiều': 406, 'chán_nản': 438, 'trời': 2401, 'hoài': 968, 'diện': 692, 'hk': 952, 'kỳ': 1246, 'ngã': 1629, 'tư': 2473, 'ta': 2140, 'ấm': 2973, 'chói': 456, 'dần': 740, 'bao_nhiêu': 243, 'review': 1968, 'ban': 233, 'lg': 1271, 'thu_hồi': 2204, 'chính_sách': 451, 'kiểu_dáng': 1200, 'nhét': 1689, 'khay': 1119, 'wed': 2670, 'the': 2181, 'received': 1961, 'it': 1096, '2pm': 71, 'super': 2077, 'nhìu': 1692, 'giới_thiệu': 873, 'fullbox': 805, 'góp_ý': 894, 'gioi': 838, 'quán': 1933, 'lịch_sự': 1380, 'quang': 1918, 'kì': 1220, 'mong_muốn': 1458, 'ghi_âm': 817, 'để_ý': 2906, 'cho_dù': 408, 'điên': 2803, 'liệu': 1289, 'lớn_nhỏ': 1392, 'reb': 1960, 'thông_số': 2233, 'sát': 2085, 'gps': 884, 'định_vị': 2912, 'thời_tiết': 2280, 'tết': 2510, 'net': 1587, 'cần_thiết': 632, 'đien': 2801, 'nhu': 1673, 'du': 699, 'phu': 1851, 'kien': 1185, 'tam': 2143, 'long': 1300, 'khựng': 1180, 'y_như': 2737, 'chồng': 506, 'cứng': 657, 'ngắt': 1640, 'bất_kỳ': 326, 'đống': 2919, 'vè': 2616, 'shopee': 2046, '1tg': 37, 'đỏ': 2915, 'đổ': 2931, 'nhiệt_tình_cảm_ơn': 1668, 'buôn_bán': 272, 'gạch': 896, 'bó_tay': 304, 'vượt': 2636, 'ah': 206, 'bệt': 346, 'điều_kiện': 2807, 'cố_gắng': 645, 'miến': 1442, 'nc': 1582, 'tks_shop': 2326, 'phát_đạt': 1862, 'mượn': 1516, 'chua': 418, 'vá': 2610, 'thận': 2254, 'giá_thành': 847, 'fake': 787, 'sony': 2068, 'vsmart': 2599, 'live': 1278, 'nháy': 1682, 'ti': 2295, 'tín_hiệu': 2456, 'ngày_xưa': 1626, 'a3s': 190, 'nước': 1791, 'môi_trường': 1506, 'ẩm': 2978, 'có_lẽ': 582, 'cuối': 555, 'kết_thúc': 1240, '3s': 96, 'ngờ': 1643, 'thik': 2188, 'gái': 886, 'tè': 2439, 'le': 1266, 'khoe': 1128, 'chó': 455, 'lõm': 1347, 'quên': 1936, 'dân': 715, 'chuyen': 425, 'deu': 684, 'bộ_nhớ': 358, 'bất_cứ': 324, 'ngoại_trừ': 1608, 'tgdđ': 2160, '6s': 149, 'gắn': 900, 'dao': 671, 'thực_ra': 2292, '665': 145, 'phàn_nàn': 1854, 'lq': 1306, 'nhưg': 1701, 'ms': 1464, 'ap': 225, 'vải': 2639, 'mát': 1484, 'thanks_shop': 2175, '16gb': 27, 'kho': 1126, 'nền': 1806, 'tên': 2443, 'back': 232, '37': 88, 'tê': 2441, 'sang_trọng': 2023, 'shipper': 2042, 'vui_tính': 2604, 'xác': 2710, 'mới_đây': 1565, 'tật': 2502, 'cho_phép': 409, 'chan': 391, 'điện_máy': 2810, 'biet': 251, 'hạt': 1029, 'mạng_di_động': 1524, 'bài': 278, 'giới': 871, 'vê': 2618, 'vay': 2568, 'ngắn': 1639, 'ây': 2766, '300': 75, 'nghỉ': 1599, 'bao_lâu': 242, 'chi_là': 398, 'iu': 1097, 'cầu': 633, 'thanh_lý': 2170, 'hợp_đồng': 1071, 'dược': 733, 'công_nghệ': 590, 'dẹp': 745, 'radio': 1953, 'lí_do': 1340, 'nam': 1579, 'vấn': 2640, 'cộng': 650, 'túm': 2469, 'hối': 1054, 'hàn': 991, 'khí': 1152, 'siêu_thị': 2057, 'haizzzz': 917, 'hôm_nay': 1016, 'chinh': 402, 'nhan': 1649, 'uy': 2557, 'xe': 2684, 'nguoi': 1611, 'ho_shop': 956, 'lỏng': 1381, '8g': 168, 'thừa': 2287, 'chổ': 507, 'ha': 911, 'j7': 1102, 'prime': 1908, 'hiệu_ứng': 950, 'f1s': 779, '5000mah': 122, 'con_số': 542, 'đep': 2798, 'muot': 1471, 'nhieu': 1660, 'chuyển_đổi': 429, 'jack': 1104, 'quá_trình': 1929, 'vui': 2602, '3h': 91, 'cam_kết': 375, '5sao': 135, 'lòi': 1341, '79': 156, 'free': 803, 'fire': 796, 'bao_giờ': 241, 'rách': 1979, 'tóm_lại': 2460, 'đồ_họa': 2923, 'ai_dè': 208, 'khu': 1135, 'đau': 2789, 'chã': 447, 'hìh': 1005, 'đắc': 2890, 'luong': 1316, 'giong': 839, 'rè_rè': 1984, '85': 165, 'chug': 420, 'đọc': 2914, 'giá_bán': 843, 'đèn': 2845, 'led': 1267, 'pay': 1839, 'tất': 2494, '4h': 113, 'tạm_thời': 2489, 'thời_trang': 2281, 'cơ_mà': 604, 'inch': 1084, 'snapdragon': 2065, '64': 140, 'đạt': 2876, 'mp': 1463, 'quần': 1944, 'chắc_tay': 490, 'flash': 798, 'bỏ_qua': 351, 'áp': 2761, 'xuất': 2703, 'logo': 1297, '48mp': 110, 'thực_tế': 2294, 'selfi': 2033, 'thị_trường': 2272, 'nhỉ': 1732, 'ntn': 1761, 'sơn': 2096, 'chi_tiết': 399, 'đường': 2873, 'đặt_hàng': 2899, 'ưngg': 2963, 'đươc': 2872, 'lát': 1331, 'đinh': 2802, 'sử': 2132, 'lý': 1350, 'tắt_máy': 2506, 'bản_thân': 316, 'mobile': 1453, '19': 30, 'vật': 2645, 'chế': 495, 'đọ': 2913, 'khôi_phục': 1161, 'gốc': 905, 'thiết': 2189, 'tắt_wifi': 2508, 'chát': 439, 'đèn_pin': 2846, 'dè': 719, 'imei': 1081, 'đmx': 2815, 'đồng_bộ': 2926, 'lừa_đảo': 1399, 'xát': 2715, 'mẻ': 1544, 'âm_lượng': 2764, 'kênh': 1218, 'ốc': 2984, 'đáy': 2842, '1tr2': 42, 'cc': 386, 'xai': 2681, 'đong': 2818, 'rât': 1982, 'tự_dưng': 2545, 'đặc_biệt': 2897, 'tê_tê': 2442, 'chút_xíu': 465, 'đáng_kể': 2836, 'dạo': 737, 'nhôm': 1695, 'khối': 1174, 'mệt': 1547, '80': 160, 'rỏ': 2002, 'sướt': 2100, 'dăm': 731, 'lượng': 1361, 'cứng_cáp': 658, 'lổi': 1385, 'chân_thật': 445, 'tím': 2453, 'k20': 1107, '710': 154, 'hít': 1011, 'khói': 1159, 'tương_lai': 2477, 'từ_chối': 2541, 'tý': 2470, '28': 61, 'theo_dõi': 2184, 'gỡ': 908, 'tuộc': 2425, 'thu': 2203, 'tình_hình': 2449, 'mong_manh': 1457, 'trẻ_em': 2397, 'cành': 564, 'kiểm': 1196, 'luon': 1315, '10tr': 11, 'von': 2595, 'sắp': 2113, 'dày': 711, 'trông': 2375, 'hẳn': 1038, 'dữ_liệu': 766, 'kem': 1112, 'nâng_cấp': 1769, 'tay_phải': 2149, 'trang_bị': 2344, 'phát_huy': 1859, 'nha_shop': 1646, 'nguyen': 1614, 'dọn_dẹp': 756, 'mơ': 1511, 'vi_vu': 2575, 'bóng': 306, 'vứt': 2663, 'ip6s': 1090, 'bấy_nhiêu': 329, 'ghiền': 819, 'ip7': 1091, 'cạch': 610, 'chặn': 494, 'thị': 2271, 'châm': 441, 'ca': 370, 'mồ_hôi': 1553, 'buộc': 275, 'micro': 1435, 'chạy_loạn': 473, 'call': 373, 'tịt': 2514, 'quá_trời': 1930, 'sướng': 2099, 'ưu_tiên': 2964, 'đồng_ý': 2930, 'chú_ý': 459, 'tv': 2428, 'gia_đình': 830, 'hận': 1035, 'khj': 1125, 'yêu': 2744, 'thư': 2239, 'zing': 2752, 'you': 2739, 'internet': 1085, 'hi': 934, 'vây': 2614, 'vận_hành': 2644, 'mược': 1515, 'khó_khăn': 1156, '98': 181, 'lưa': 1354, 'chớ': 510, 'nhạn': 1704, 'giọt': 869, 'thô': 2228, '12mp': 19, 'phản_ánh': 1882, 'lúc_nào': 1349, 'nhẽ': 1731, 'shit': 2043, 'sx': 2081, '2016': 45, 'xung_quanh': 2701, 'cãm': 579, 'phục': 1898, '65': 143, 'hanh': 922, 'fai': 786, 'tín': 2454, 'bộ_phận': 359, 'hảng': 1031, 'hời': 1065, 'lung': 1312, '29': 62, 'jo': 1106, 'suốt': 2080, 'vừa_tay': 2665, 'trưng_bày': 2381, 'chớp': 512, 'tuyet': 2419, 'hangf': 921, 'có_điều': 585, 'hoá_đơn': 974, 'auto': 230, 'chày': 436, 'mink': 1440, 'cấp': 628, 'nhật': 1724, 'china': 401, 'nứt': 1817, 'hô': 1014, 'ráp': 1980, 'ngon_lành': 1603, 'mở_màn_hình': 1571, 'hồng': 1058, 'is': 1095, 'very': 2573, '12': 13, 'sơ_bộ': 2095, 'túi_tiền': 2468, 'hình_shop': 1008, 'mới_cứng': 1561, 'nguyên_nhân': 1617, 'trách_nhiệm': 2364, 'bác': 284, 'ơn': 2959, '4tr': 117, 'dỏm': 757, 'bắt_mắt': 336, 'súng': 2092, 'tắc': 2503, '22h': 53, '6h': 148, 'quả': 1939, 'pro': 1909, 'lỗi_shop': 1389, 'đỗi': 2937, 'tổng_quan': 2531, 'mùa': 1509, 'thông_minh': 2232, 'thich': 2187, 'mạch': 1520, 'sop': 2069, 'ping': 1901, 'tương_tự': 2479, 'lỏng_lẻo': 1382, '100k': 5, 'tft': 2157, '48': 108, 'reno': 1963, 'bạc': 312, 'bọc': 348, 'hic': 936, '32g': 81, 'up': 2553, 'tin_cậy': 2301, 'hoàn_trả': 973, 'mưa': 1513, 'an': 214, 'đeo': 2797, 'chương_trình': 469, 'rung': 1976, 'ai_ngờ': 209, 'xac': 2680, 'chống': 504, 'xám': 2714, '23': 54, 'lí': 1339, 'mới_tinh': 1564, 'tận': 2499, 'đốm': 2918, 'hả': 1030, 'úp': 2779, '150': 24, 'vợ': 2661, 'rời': 2009, 'gi': 827, 'ngàn': 1620, 'nại': 1792, 'ầm_ầm': 2977, 'nghịch': 1600, 'sản': 2105, 'nhãy': 1685, 'đào': 2831, 'xog': 2696, 'rơi_rớt': 1994, 'bảo_vệ': 320, 'đứa': 2952, 'may_ra': 1424, 'gian': 831, 'su': 2075, 'miui': 1441, 'onl': 1832, 'thể': 2269, 'vina': 2582, 'tk': 2323, 'lzd': 1321, 'lẹ': 1375, 'lol': 1299, 'nhe': 1657, 'loan': 1296, 'quảng': 1942, 'chèn': 448, 'dởm': 760, 'cắt': 641, 'rin': 1969, 'đất': 2879, 'tương_thích': 2478, 'sốp': 2123, 'a20': 187, 'c1': 368, 'ck': 532, 'vk': 2588, 'né': 1772, 'tả': 2491, 'kb': 1111, 'thay_thế': 2179, 'nhiễm': 1663, 'kỷ': 1248, 'top': 2331, 'giao_dịch': 834, 'nốt': 1808, 'độ_ẩm': 2941, 'đụng': 2950, 'tắt_nguồn': 2507, 'đề_nghị': 2905, 'gồm': 906, '14': 22, '16': 26, 'tra': 2341, '5g': 128, 'viettel': 2580, 'root': 1974, 'xui': 2700, 'chẳng_hạn': 492, 'nt_shop': 1760, 'phạm': 1878, 'de': 678, 'thuong': 2207, 'nho': 1671, '8h': 170, '20p': 50, 'dàn': 709, 'mắc': 1536, 'mobell': 1451, 'hàng_không': 994, 'an_ủi': 217, 'nóng_hổi': 1784, 'tiện_ích': 2322, 'anroid': 223, 'a9': 200, 'thiết_bị': 2190, '84': 164, 'wi': 2674, 'fi': 792, 'hsau': 980, 'giục': 875, 'chúng': 462, 'data': 673, 'quốc_tế': 1947, 'mẹ': 1543, 'luân': 1317, 'giá_như': 845, 'sét': 2087, 'cố_tình': 646, 'sữa': 2138, 'chữa': 530, 'chợ': 515, 'xuất_sắc': 2705, 'đồng': 2925, 'mày': 1480, 'nx': 1765, 'thất': 2248, 'vọg': 2653, 'troi': 2353, '13h': 21, 'ham': 918, 'that': 2177, 'tục': 2535, 'chấm_đen': 479, 'tồi': 2528, 'snap': 2064, 'hà': 986, 'nội': 1814, 'cẩn': 635, 'uống': 2559, 'cúp': 596, 'kinh_doanh': 1189, 'thanh_toán': 2171, 'citibank': 531, 'one': 1831, 'lóa': 1343, 'phuc': 1852, 'mjk': 1447, 'con_gái': 541, 'feedback': 790, 'tì_vết': 2444, 'liên': 1280, 'mua_cái': 1467, 'rui': 1975, 'hộ': 1062, 'laz': 1263, 'vùng': 2630, 'lite': 1277, 'nhanh_chóng': 1651, 'niêm_phong': 1744, 'hành': 997, 'môt': 1507, 'trưa': 2380, 'a10': 185, 'bàn': 279, 'nhá': 1680, 'đặc': 2896, 'mô': 1504, 'nghi_ngờ': 1594, 'dựng': 771, 'yen': 2738, 'chú': 458, 'đáp': 2840, 'thắc_mắc': 2258, 'phong_cách': 1850, 'trục_trặc': 2406, 'mini': 1439, 'kkk': 1202, 'lập': 1370, 'icloud': 1077, 'ọp_ẹp': 2983, 'dấu': 738, 'khuân': 1144, 'bắt_sống': 337, 'sdt': 2029, '24h': 56, 'cpu': 544, 'bao_bọc': 240, 'tự_cảm_ứng': 2544, 'nè': 1771, 'lô': 1344, 'tiếp_xúc': 2313, 'ước': 2967, 'thế_hệ': 2264, '800k': 162, 'a8': 198, 'nổi_bật': 1812, 'viên': 2584, 'chân_dung': 443, 'giới_hạn': 872, 'a50s': 193, 'máy_nghe': 1489, 'lém': 1337, '3tháng': 98, 'cu': 547, 'sac': 2014, 'oan': 1821, 'menu': 1427, 'đả': 2877, 'sước': 2098, 'ghét': 824, 'sộp': 2124, 'giám': 849, 'nhầm_lẫn': 1716, 'xử_lí': 2729, 'wiffi': 2675, 'ngày_mai': 1623, 'quái': 1932, 'giấy': 863, 'tg': 2158, 'youtobe': 2740, 'tieng': 2297, 'đổi_mới': 2935, 'zay': 2749, 'mất_công': 1527, 'vẻ': 2648, 'chử': 527, 'dô': 724, 'từ_từ': 2542, '1tháng': 39, 'àh': 2757, 'truy_cập': 2361, 'thích_shop': 2227, 'ktra': 1210, 'tốc': 2515, 'bổ_sung': 356, 'lớp': 1393, 'mess': 1429, 'dấu_hiệu': 739, 'cô': 586, 'code': 536, 'xàm': 2709, 'hên': 1002, '3tr': 99, 'bá': 282, 'mỗi_tội': 1555, 'type': 2430, 'mượt_shop': 1519, '55': 126, '3310': 83, '2017': 46, 'hài': 989, 'kute': 1211, 'liên_quan': 1283, 'ib': 1076, 'khuyến_khích': 1141, 'e72': 773, 'giải_thích': 858, 'reply': 1965, 'duyệt': 705, 'nâng': 1768, 'sảng': 2109, 'an_toàn': 215, 'lâu_shop': 1336, 'rớt_giá': 2007, 'ns': 1757, 'vn': 2590, 'phân_phối': 1866, 'nsx': 1758, 'keng': 1113, '5mm': 131, '3500': 87, 'cao_cấp': 382, 'ít_nhất': 2771, 'bèo': 295, 'ướt': 2968, 'mặt_trời': 1542, 'sửa_lỗi': 2136, 'đức': 2953, 'vô_cùng': 2623, 'bận': 331, 'phiếu': 1846, 'nguyên_bản': 1616, 'làm_ơn': 1327, 'tài_khoản': 2431, 'store': 2074, 'gủi': 909, 'đa_phần': 2787, 'quét': 1935, 'a80': 199, '34': 84, 'ky': 1212, 'haiz': 914, 'vèo': 2617, 'phầm': 1884, 'rác': 1978, 'cơ_hội': 603, 'xác_định': 2712, 'bữa': 363, 'chiếm': 404, 'mua_bán': 1466, 'j7pro': 1103, 'dại': 735, 'ghê_gớm': 826, 'cảnh': 625, 'livestream': 1279, 'hoàn': 969, 'lay': 1262, 'qúa': 1949, 'chs': 415, 'hỗ': 1060, 'dựt': 772, 'linh_kiện': 1274, 'dạng': 736, 'thời_hạn': 2278, 'thuê_bao': 2208, 'khôg': 1160, 'trung_tâm': 2359, '1h30': 33, 'k3': 1108, 'sóg': 2089, 'cũg': 600, 'đét': 2848, 'tướng': 2482, 'chừng': 526, 'cã': 578, 'lăm': 1352, 'hàng_đầu': 996, 'bà_con': 277, 'kick': 1184, 'hoạt': 975, '90': 174, 'trãi': 2370, 'trò': 2371, 'đông': 2860, 'ji': 1105, 'vớ_vẩn': 2657, 'kha': 1117, 'quyết_định': 1924, 'tẩy_chay': 2498, 'sắm': 2112, '5t': 136, 'đứt': 2956, 'tụi': 2536, 'đa_nhiệm': 2786, 'khởi': 1176, 'sieu': 2050, 'nge': 1591, 'hop': 966, 'quet': 1923, 'lua': 1309, 'them': 2183, 'cua': 548, 'phai': 1840, 'noi': 1747, 'cac': 371, 'muon': 1470, 'phong': 1849, 'muộn': 1473, 'vd': 2571, 'tren': 2348, 'shiper': 2041, 'khó_tính': 1157, 'nhất_định': 1714, 'thoải_mái': 2201, 'dể': 747, 'trai': 2342, 'nhịu': 1733, 'mẩu': 1532, 'thế_này': 2267, 'xin_lỗi': 2691, 'a6': 195, '3000': 76, 'tốt_lành': 2525, '7plus': 158, 'đuối': 2824, 'apple': 227, 'chân_thành': 444, 'sap': 2025, 'no': 1746, 'đậm': 2888, 'chut': 424, 'nhu_quang': 1675, 'made': 1406, 'in': 1082, 'quan_tâm': 1917, 'sau_này': 2027, 'éo': 2767, 'dem': 680, 'di': 685, '3p': 95, 'chửi': 528, 'a20s': 188, 'km': 1203, 'rộng': 2005, 'luọng': 1319, 'đóng_góp': 2857, 'model': 1454, 'shops': 2048, 'trần': 2392, 'thật_ra': 2256, 'mag': 1407, 'mơi': 1512, 'vơi': 2634, 'vao': 2567, 'kiêu': 1194, 'thang': 2168, 'háo': 998, 'thông_cảm': 2231, 'kiên': 1193, 'tiện': 2319, 'ngán': 1627, 'kirin': 1192, 'khả_năng': 1167, 'nhiệt': 1666, 'lạ': 1363, 'chảnh': 475, 'dễ_sợ': 750, 'chóng_mặt': 457, '300k': 78, '3400': 85, 'het': 933, 'phẩy': 1891, 'thiếu_phụ_kiện': 2195, 'học': 1050, 'tp': 2338, 'offline': 1822, 'slow': 2060, 'motion': 1462, 'nhay': 1656, 'view': 2581, 'go': 879, 'vu': 2600, 'chrome': 414, 'giấy_tờ': 864, 'đung': 2821, 'chướng': 470, 'ném': 1773, 'tiệm': 2317, 'đầm': 2881, 'cụm': 654, 'lành': 1329, 'v20': 2562, 'song': 2067, 'chuôi': 430, 'hay_sao': 928, 'nhờ_shop': 1739, 'nhiệt_độ': 1670, 'giao_diện': 833, 'mh': 1432, 'đen_shop': 2795, 'bất_thường': 327, 'gem': 813, 'cấm': 626, 't2': 2139, 'mail': 1410, 'vô_lại': 2624, 'giúp_đỡ': 854, '_shop': 184, 'quăng': 1938, 'sặc': 2116, '1tiếng': 40, 'nóng_bỏng': 1783, 'tiết': 2314, 'giải': 856, 'mổi': 1554, 'khẩn_cấp': 1168, 'đồng_thời': 2928, 'ngược': 1636, 'đổ_thừa': 2933, 'thậm_chí': 2253, 'đổ_lỗi': 2932, 'đơn_giản': 2869, 'ùng': 2777, 'hụt': 1072, 'mjh': 1446, 'dù_sao': 726, 'thỏ': 2275, 'haizz': 915, 'phanh': 1842, 'máy_thường': 1490, 'lâm': 1332, 'tương_đương': 2480, 'chầy': 483, 'tang': 2145, 'độ_nét': 2940, 'nóg': 1777, 'tiêu_dùng': 2305, 'can_thiệp': 380, 'giá_shop': 846, '48m': 109, 'cử_chỉ': 659, 'thay_đổi': 2180, 'tes': 2153, 'thuận_lợi': 2210, 'haizzz': 916, 's10': 2010, 'biển': 258, 'hiệu_quả': 949, 'mỏng_manh': 1552, 'đòi': 2853, 'làm_phiền': 1323, 'giật_mình': 867, 'càg': 560, 'bo': 264, 'phát_triển': 1861, '460': 107, '89': 167, 'hộ_shop': 1063, 'nũa': 1789, 'xinh_xắn': 2693, 'vượt_trội': 2637, 'họp': 1051, '400k': 103, 'hì': 1004, 'mới_shop': 1563, 'miết': 1444, '8plus': 172, 'đầu_máy': 2883, 'máu': 1485, 'iphon': 1092, 'cạn': 611, 'đùng': 2861, 'chộp': 509, 'tiếg': 2307, 'kết_hợp': 1236, 'bé_tí': 297, 'vl': 2589, 'ồn': 2986, 'khuyết_điểm': 1143, 'dat': 672, '2900': 63, 'ips': 1094, 'lcd': 1265, 'chu': 416, 'zo': 2753, 'cug': 550, 'hóa_ra': 1013, 'sạch': 2102, 'cute': 554, 'tk_shop': 2324, '02': 1, 'dẽ': 746, 'tro': 2351, 'ôm': 2774, 'mềm': 1545, 'thế_là': 2265, '625': 139, 'chới': 511, 'tỉnh': 2513, 'dữ': 765, 'bão': 294, 'cám': 568, 'nhiêu': 1662, 'nhiu': 1661, 'tứ_tung': 2538, '4s': 115, 'ság': 2083, 'xướt': 2721, 'camara': 376, 'lặng': 1374, 'hông': 1018, 'dì': 720, 'phông': 1874, 'rẻ_tiền': 2000, 'hu': 982, 'ngủ': 1644, 'dậy': 743, 'bằg': 339, 'nhug': 1676, 'đàm_thoại': 2828, 'tube': 2411, 'shou': 2049, 'máy_bay': 1487, 'mìh': 1499, 'thông_thường': 2234, 'ngày_nay': 1624, 'a5': 191, '5mp': 132, 'áo': 2760, 'bùn': 308, 'gía': 890, 'chata': 393, 'note9': 1754, 'toàn_bộ': 2335, 'dụ': 762, 'best': 248, 'đám': 2833, 'hoả_tốc': 977, 'chuc_shop': 419, 'buon': 269, 'đài': 2827, 'fm': 799, 'ẩn': 2980, 'lau': 1261, 'blutooth': 262, 'chấm_than': 478, 'sốc': 2121, 'số_lượng': 2120, 'thức': 2286, 'tiện_lợi': 2321, 'sủ': 2131, 'hiệu': 947, 'khẩu_độ': 1169, 'đục': 2949, 'tích_hợp': 2452, 'dac': 667, 'y9': 2734, '26': 59, 'ộp': 2993, 'ẹp': 2981, 'ngưng': 1631, 'đính': 2851, 'zoom': 2754, 'gê': 889, 'thảm_họa': 2246, 'đè': 2844, 'tat': 2147, 'tác_động': 2436, 'tường': 2483, 'came': 377, 'đuọc': 2823, 'sent': 2036, 'was': 2668, 'but': 270, 'upgrade': 2555, 'happy': 924, 'ký': 1227, '10s': 10, 'y7': 2733, 'ngốn': 1641, 'bắc': 333, 'kĩ_càng': 1229, 'nhấp_nháy': 1712, 'nhạy_cảm_ứng': 1707, 'shoppe': 2047, 'cầm_nắm': 631, 'càng_ngày_càng': 563, 'năng': 1788, 'message': 1430, 'lqm': 1307, 'dự_định': 770, 'báo_thức': 290, 'lười': 1360, '15p': 25, 'đỗ': 2936, 'câp': 575, 'nai': 1578, 'zô': 2756, 'ức': 2996, 'tốn_phí': 2523, 'sửa_chữa': 2135, 'nhái': 1681, 'răng_cưa': 1992, 'wep': 2671, 'mo': 1450, 'hoang_mang': 958, 'kog': 1208, 'sản_phẩm_giá': 2107, 'ram4': 1955, 'cham': 390, 'thơm': 2238, 'ro': 1971, 'zòng': 2755, 'cung_cấp': 552, 'cổ': 648, 'hard': 925, 'hag': 912, 'tắt_màng': 2505, 'bình': 299, 'laq': 1260, 'loá': 1302, 'nữ': 1820, 'cap': 383, 'xoá': 2698, 'xách': 2713, '64g': 141, 'main': 1411, 'chậm_chạp': 485, 'bla': 260, 'trầm_trọng': 2391, 'động_thái': 2943, 'cực_mạnh': 665, 'thực_chất': 2290, '1thang': 38, 'ip6': 1089, 'người_thân': 1635, 'nhg': 1658, 'p60': 1838, 'hảo': 1032, 'tum': 2413, 'cười': 608, 'au': 229, 'võ': 2628, 'sin': 2053, 'nầy': 1797, 'phát_chán': 1857, 'quận': 1945, 'dã_man': 717, 'tận_tâm': 2500, 'lên_đời': 1338, 'tràn_trề': 2363, '1g': 31, 'món': 1502, 'kẻo': 1233, 'văn_phòng': 2632, 'nẻo': 1804, 'thọai': 2274, 'tồi_tệ': 2529, 'tác_dụng': 2435, 'videos': 2577, '94': 177, 'phần_cảm_ứng': 1886, 'chuyên': 426, 'nặng_tay': 1803, 'thần': 2252, 'ổn_shop': 2990, 'tkj': 2325, 'chup': 423, 'trống': 2400, 'chào': 435, 'dành': 710, 'rổ': 2003, 'trò_chơi': 2372, 'vì_sao': 2619, 'dừng': 764, 'tet': 2155, 'vang': 2566, 'chorme': 412, 'trang_web': 2345, 'phà': 1853, 'trúng': 2377, 'mỹ': 1577, 'lac': 1254, 'sẵn_sàng': 2115, 'phần_trăm': 1889, 'ngân_hàng': 1628, 'tu': 2410, 'xu': 2699, 'khâu': 1151, 'cặp': 642, 'thẳng': 2260, 'link': 1276, 'all': 211, 'đg': 2799, 'rờ': 2008, 'hấp_dẫn': 1033, 'lộn': 1390, 'đứng_máy': 2955, 'phản': 1880, 'dạ': 734, '2s': 72, 'tất_nhiên': 2496, 'tựa': 2548, 'một_vài': 1558, 'thưa': 2241, 'dọc': 755, 'lửa': 1400, 'hối_tiếc': 1056, 'tùm': 2464, '01': 0, 'đẩy': 2887, 'dc_shop': 677, 'chia_tay': 400, 'nghệ': 1598, 'diss': 690, 'ra_mắt': 1950, 'khủng': 1178, 's7': 2012, '2i': 69, 'khác_biệt': 1148, 'dặn': 744, 'samsum': 2019, '6tr': 150, 'mạg': 1521, 'y_chang': 2735, 'ấn_tượng': 2975, 'trùng': 2376, 'chủ_nhật': 519, 'nhiệt_tình_shop': 1669, 'te': 2150, 'real': 1958, 'như_là': 1697, 'kín': 1224, 'toẹt': 2337, 'tây': 2438, 'f7': 782, 'mịn': 1548, 'mớ': 1559, 'mù': 1508, 'phản_ứng': 1883, 'asus': 228, 'bàn_cãi': 280, 'lúa': 1348, 'công_cụ': 589, 'ui': 2550, 'xò': 2717, 'gia_công': 829, 'may_mà': 1422, 'ghn': 820, 'đúi': 2862, 'combat': 538, 'nhanh_lẹ': 1652, 'thù': 2236, 'đồ_chơi': 2921, 'đen_thui': 2796, 'tam_gia': 2144, 'voi_shop': 2593, 'tiện_dụng': 2320, 'thiết_nghĩ': 2193, 'hoai': 957, '2h30p': 68, 'kim_loại': 1187, 'mặt_kính': 1541, '2020': 49, '8gb': 169, 'điều_khiển': 2806, 'phòng': 1872, 'công_ty': 592, 'tượng': 2486, 'dáng': 714, 'cải_tiến': 616, 'ôk': 2773, 'ghtk': 821, 'g6': 806, 'lạy': 1364, 'trâu_bò': 2369, 'cảm_quan': 621, 'hà_nội': 987, 'vua': 2601, 'suất': 2079, 'ghi_chú': 816, 'chât': 446, 'bức': 362, 'gim': 836, 'ẹt': 2982, 'giup': 840, 'nắm': 1798, 'bang': 237, 'ổn_áp': 2991, 'đắn_đo': 2891, 'cskh': 545, 'rắc_rối': 1997, 'má': 1481, '1080p': 7, 'sđt': 2093, 'cân_bằng': 573, 'mực': 1576, 'silicon': 2051, 'hậu': 1036, 'bung': 268, 'giat': 835, 'miễn_phí': 1445, 'sữ': 2137, 'đo': 2816, 'phải_chăng': 1879, 'trước_mắt': 2382, 'rẽ': 2001, 'công_việc': 593, 'trợ_giúp': 2405, 'mò': 1501, 'hotline': 967, 'rát': 1981, 'hỉu': 1047, 'điều_chỉnh': 2804, 'lõi': 1346, 'dieu': 689, 'v15': 2561, 'đuoc': 2822, 'kệ': 1243, 'nch': 1583, 'ăn_thua': 2784, 'kì_vọng': 1221, 'khuyến_cáo': 1140, 'wfi': 2673, 'j4': 1099, 'băt': 309, 'tăt': 2472, 'đay': 2790, 'xi': 2688, '700k': 153, 'nhẩy': 1717, 'ban_ngày': 234, 'volum': 2594, 'file': 793, 'tổng': 2530, 'ncl': 1585, 'kt': 1209, 'diễn_tả': 691, 'tiếp_nhận': 2310, 'tray': 2346, 'bất_kì': 325, 'exynos': 777, 'dx': 706, 'mall': 1413, 'cước': 607, 'phẫm': 1892, 'phần_cứng': 1887, 'sương': 2097, 'ko_lẽ': 1206, 'đồn': 2924, 'lo_ngại': 1293, 'hong': 965, 'phồng': 1894, 'báo_shop': 289, 'chiệu': 407, 'nhắm': 1727, 'chủ_đề': 522, 'kĩ_thuật': 1230, 'thất_bại': 2249, 'ồn_ào': 2987, '2ngày': 70, 'nội_địa': 1816, 'bự': 364, 'ôi': 2772, '128g': 16, 'chính_thức': 452, 'thương': 2242, 'lôi': 1345, 'vưa': 2635, 'mât': 1493, 'chủng_loại': 523, 'uh_shop': 2549, 'tgđ': 2163, 'mes': 1428, 'phán': 1855, 'th': 2164, 'siêu_tốc': 2058, 'cân': 572, 'đút_túi': 2864, 'star': 2073, 'games': 810, 'mobi': 1452, 'đên': 2850, 'đại': 2875, 'đồng_hồ': 2927, 'nguyên_vẹn': 1618, 'chac': 388, 'tét': 2440, 'đm': 2814, 'docomo': 695, '4sao': 116, 'lồn': 1384, 'inbox': 1083, 'ôn': 2775, 'gam': 808, 'nội_dung': 1815, 'combo': 539, 'đường_nét': 2874, '82': 163, 'cửa': 660, 'lem': 1268, 'nghi': 1593, 'thịt': 2273, 'mua_sắm': 1469, 'j5': 1100, 'tuỳ': 2427, 'dẫn': 741, 'tín_dụng': 2455, 'hóa': 1012, 'trải': 2389, 'ván': 2612, 'lẻ': 1376, 'rep': 1964, 'tt': 2409, 'chúng_tôi': 463, 'nova3i': 1756, 'đột_ngột': 2944, 'xung_đột': 2702, 'quá_xá': 1931, '500k': 123, 'nhè': 1686, 'hút': 1019, 'phết': 1893, 'bò': 303, 'mak': 1412, '3000mah': 77, 'dau': 674, 'yếu_tố': 2747, 'liên_quân_bị': 1285, 'chuẩn_shop': 434, 'mb': 1425, 'zenfone': 2750, 'qtv': 1914, 'tức_là': 2540, 'kim': 1186, 'hạng': 1028, 'ngày_ngày': 1625, 'kẻ': 1232, '700': 152, 'thuần': 2209, 'hien': 937, 'dan': 668, 'giọng': 868, 'skill': 2059, 'wua': 2678, 'card': 384, 'mê_hồn': 1498, 'hjhj': 951, 'sạch_sẽ': 2103, '800': 161, 'sms': 2063, 'y11': 2731, 'bịt': 347, 'kái': 1213, 'ổi': 2988, 'khiếu_nại': 1124, '8m': 171, 'bây_h': 293, 'nhập_khẩu': 1723, '5c': 127, 'cơn': 605, 'ip5': 1088, 'nưa': 1790, 'vô_tư': 2626, 'helio': 931, 'j6': 1101, 'tets': 2156, 'wiko': 2677, 'nhỡ': 1740, 'mền': 1546, 'a5s': 194, 'vội': 2656, 'khả_dụng': 1166, 'mác': 1482, 'chứng_tỏ': 525, 'làng': 1328, 'cuong': 553, 'sờ': 2126, 'kn': 1204, 'gg': 814, '50k': 124, 'hạn': 1026, 'chui': 421, 'nchung': 1584, 'j2': 1098, 'nong': 1749, '21': 51, 'vói': 2621, 'tham': 2165, 'dự': 767, 'tut': 2416, 'pixel': 1903, 'tấm': 2493, 'thiết_lập': 2192, 'geam': 812, 'sell': 2035, 'cay': 385, 'hqua': 979, 'lựa': 1401, 'hụt_hẫng': 1073, '3m': 94, 'otg': 1836, 'đc_shop': 2792, 'gon': 881, '10p': 9, 'thụt': 2283, 'tráo': 2367, 'giải_trí': 859, 'ý_muốn': 2781, 'nhọ': 1734, 'vc': 2569, 'c2': 369, 'lỡ_tay': 1397, '128': 14, 'đáng_lẽ': 2837, 'úng': 2778, 'vá_lỗi': 2611, 'mại': 1522, 'hàng_xách': 995, 'nhấp': 1711, 'khôq': 1164, 'quyền': 1925, 'lung_linh': 1313, 'kỹ_thuật_viên': 1252, 'thoảng': 2202, 'đối': 2916, 'trọng': 2399, 'dãy': 718, '4x': 118, 'nạp': 1793, 'lịch': 1379, 'thư_mục': 2240, 'dễ_dàng': 749, 'quý_khách': 1937, 'vẩn': 2642, 'note7': 1752, 'khắc': 1170, 'ten': 2152, 'ẩm_ướt': 2979, 'dơ': 732, 'kẹt': 1231}\n"
          ],
          "name": "stdout"
        }
      ]
    },
    {
      "cell_type": "markdown",
      "metadata": {
        "id": "HQw-P4G7z0e8",
        "colab_type": "text"
      },
      "source": [
        "## **Trainning on the SVM classifier**"
      ]
    },
    {
      "cell_type": "code",
      "metadata": {
        "id": "2-e_KuT0yzW7",
        "colab_type": "code",
        "outputId": "3e47f693-e012-43b1-f074-464044091eb2",
        "colab": {
          "base_uri": "https://localhost:8080/",
          "height": 34
        }
      },
      "source": [
        "SVM = svm.SVC(C=1.0, kernel='linear', verbose=True)\n",
        "SVM.fit(Train_X_Tfidf,Y_Train)"
      ],
      "execution_count": 210,
      "outputs": [
        {
          "output_type": "stream",
          "text": [
            "[LibSVM]"
          ],
          "name": "stdout"
        },
        {
          "output_type": "execute_result",
          "data": {
            "text/plain": [
              "SVC(kernel='linear', verbose=True)"
            ]
          },
          "metadata": {
            "tags": []
          },
          "execution_count": 210
        }
      ]
    },
    {
      "cell_type": "markdown",
      "metadata": {
        "id": "oeab3kwjzwHe",
        "colab_type": "text"
      },
      "source": [
        "**Predict and evaluate the SVM classifier**"
      ]
    },
    {
      "cell_type": "code",
      "metadata": {
        "id": "uNH9Szb41Lxi",
        "colab_type": "code",
        "outputId": "24262f85-1999-4dfe-a8dd-f49d607fdd98",
        "colab": {
          "base_uri": "https://localhost:8080/",
          "height": 279
        }
      },
      "source": [
        "predictions_SVM=SVM.predict(Test_X_Tfidf)\n",
        "fig, ax = plot_confusion_matrix(conf_mat=confusion_matrix(Y_test,predictions_SVM))\n",
        "plt.show()"
      ],
      "execution_count": 211,
      "outputs": [
        {
          "output_type": "display_data",
          "data": {
            "image/png": "[encoded data removed]",
            "text/plain": [
              "<Figure size 432x288 with 1 Axes>"
            ]
          },
          "metadata": {
            "tags": []
          }
        }
      ]
    },
    {
      "cell_type": "code",
      "metadata": {
        "id": "-e2OwAKO9eJF",
        "colab_type": "code",
        "outputId": "2a322847-e025-4105-c91f-6a6106170d88",
        "colab": {
          "base_uri": "https://localhost:8080/",
          "height": 168
        }
      },
      "source": [
        "print(classification_report(Y_test,predictions_SVM))"
      ],
      "execution_count": 212,
      "outputs": [
        {
          "output_type": "stream",
          "text": [
            "              precision    recall  f1-score   support\n",
            "\n",
            "           0       0.94      0.95      0.94      1243\n",
            "           1       0.95      0.94      0.94      1294\n",
            "\n",
            "    accuracy                           0.94      2537\n",
            "   macro avg       0.94      0.94      0.94      2537\n",
            "weighted avg       0.94      0.94      0.94      2537\n",
            "\n"
          ],
          "name": "stdout"
        }
      ]
    },
    {
      "cell_type": "markdown",
      "metadata": {
        "id": "3RGVdoWO0MTd",
        "colab_type": "text"
      },
      "source": [
        "## **Trainning on the Naive Bayes Classifier**"
      ]
    },
    {
      "cell_type": "code",
      "metadata": {
        "id": "9xSLTar-z-k6",
        "colab_type": "code",
        "outputId": "db983c59-7079-4287-9085-848711092a81",
        "colab": {
          "base_uri": "https://localhost:8080/",
          "height": 34
        }
      },
      "source": [
        "Naive = naive_bayes.MultinomialNB()\n",
        "Naive.fit(Train_X_Tfidf,Y_Train)"
      ],
      "execution_count": 231,
      "outputs": [
        {
          "output_type": "execute_result",
          "data": {
            "text/plain": [
              "MultinomialNB()"
            ]
          },
          "metadata": {
            "tags": []
          },
          "execution_count": 231
        }
      ]
    },
    {
      "cell_type": "markdown",
      "metadata": {
        "id": "_8QLv_Zz0P9j",
        "colab_type": "text"
      },
      "source": [
        "**Predict and evaluate the Naive Bayes Classifier**"
      ]
    },
    {
      "cell_type": "code",
      "metadata": {
        "id": "mPbuOVdN-Oe-",
        "colab_type": "code",
        "outputId": "06d9bf05-1784-45f9-91b7-66929f157844",
        "colab": {
          "base_uri": "https://localhost:8080/",
          "height": 279
        }
      },
      "source": [
        "predictions_NB=Naive.predict(Test_X_Tfidf)\n",
        "fig, ax = plot_confusion_matrix(conf_mat=confusion_matrix(Y_test,predictions_NB))\n",
        "plt.show()"
      ],
      "execution_count": 232,
      "outputs": [
        {
          "output_type": "display_data",
          "data": {
            "image/png": "[encoded data removed]",
            "text/plain": [
              "<Figure size 432x288 with 1 Axes>"
            ]
          },
          "metadata": {
            "tags": []
          }
        }
      ]
    },
    {
      "cell_type": "code",
      "metadata": {
        "id": "9k22ldOj0CAa",
        "colab_type": "code",
        "outputId": "af929a51-63aa-4672-afb9-5f96e8510215",
        "colab": {
          "base_uri": "https://localhost:8080/",
          "height": 168
        }
      },
      "source": [
        "print(classification_report(Y_test,predictions_NB))"
      ],
      "execution_count": 233,
      "outputs": [
        {
          "output_type": "stream",
          "text": [
            "              precision    recall  f1-score   support\n",
            "\n",
            "           0       0.92      0.93      0.93      1243\n",
            "           1       0.93      0.93      0.93      1294\n",
            "\n",
            "    accuracy                           0.93      2537\n",
            "   macro avg       0.93      0.93      0.93      2537\n",
            "weighted avg       0.93      0.93      0.93      2537\n",
            "\n"
          ],
          "name": "stdout"
        }
      ]
    },
    {
      "cell_type": "markdown",
      "metadata": {
        "id": "qoyU4kK8XbIS",
        "colab_type": "text"
      },
      "source": [
        "# ***Save model***"
      ]
    },
    {
      "cell_type": "code",
      "metadata": {
        "id": "ONzqnF8tXpXZ",
        "colab_type": "code",
        "outputId": "6b180f2a-90de-4cb8-943a-ea901d1c6d8e",
        "colab": {
          "base_uri": "https://localhost:8080/",
          "height": 34
        }
      },
      "source": [
        "joblib.dump(Tfidf_vect, '/content/Sentiment_Classification/model/tfidf.pkl')\n",
        "joblib.dump(tokenizer, '/content/Sentiment_Classification/model/tokenizer_LSTM.pkl')\n",
        "joblib.dump(model, '/content/Sentiment_Classification/model/LSTM_model.pkl')\n",
        "joblib.dump(SVM, '/content/Sentiment_Classification/model/SVM_model.pkl')\n",
        "joblib.dump(Naive, '/content/Sentiment_Classification/model/NB_model.pkl')\n",
        "joblib.dump(Tfidf_vect.vocabulary_, '/content/Sentiment_Classification/model/vocabulary.pkl')\n",
        "joblib.dump(max_token, '/content/Sentiment_Classification/model/max_token.pkl')"
      ],
      "execution_count": 234,
      "outputs": [
        {
          "output_type": "execute_result",
          "data": {
            "text/plain": [
              "['/content/Sentiment_Classification/model/max_token.pkl']"
            ]
          },
          "metadata": {
            "tags": []
          },
          "execution_count": 234
        }
      ]
    },
    {
      "cell_type": "markdown",
      "metadata": {
        "id": "cs1wBCBUFYFu",
        "colab_type": "text"
      },
      "source": [
        "# ***Enter comment and test***"
      ]
    },
    {
      "cell_type": "markdown",
      "metadata": {
        "id": "g78HI7WyOQ4k",
        "colab_type": "text"
      },
      "source": [
        "## *utils*"
      ]
    },
    {
      "cell_type": "code",
      "metadata": {
        "colab_type": "code",
        "id": "Hc1u-IBAfx3X",
        "colab": {}
      },
      "source": [
        "from google.colab import drive\n",
        "drive.mount('/content/drive')\n",
        "!ln -s /content/drive/'My Drive'/Sentiment_Classification"
      ],
      "execution_count": 0,
      "outputs": []
    },
    {
      "cell_type": "code",
      "metadata": {
        "id": "KlcAZo9d_CCh",
        "colab_type": "code",
        "colab": {}
      },
      "source": [
        "!pip install underthesea\n",
        "!pip install unidecode"
      ],
      "execution_count": 0,
      "outputs": []
    },
    {
      "cell_type": "code",
      "metadata": {
        "id": "4X0Mls8WJNDR",
        "colab_type": "code",
        "colab": {}
      },
      "source": [
        "!pip install scikit-learn==0.23.1"
      ],
      "execution_count": 0,
      "outputs": []
    },
    {
      "cell_type": "code",
      "metadata": {
        "id": "kT94GCJ2Ur30",
        "colab_type": "code",
        "colab": {
          "base_uri": "https://localhost:8080/",
          "height": 70
        },
        "outputId": "f78ffbac-8441-42e3-aeba-7ba7a7197155"
      },
      "source": [
        "from nltk.corpus import wordnet\n",
        "from nltk.stem import WordNetLemmatizer\n",
        "from underthesea import word_tokenize\n",
        "from keras.preprocessing.sequence import pad_sequences\n",
        "import numpy as np\n",
        "import unidecode\n",
        "import re\n",
        "import joblib\n",
        "\n",
        "\n",
        "path='/content/Sentiment_Classification/'\n",
        "stopwords=set(open(path+'data/stopwords.txt').read().split(' ')[:-1])\n",
        "\n",
        "max_token=joblib.load(path+'model/max_token.pkl')\n",
        "RNN_model=joblib.load(path+'model/LSTM_model.pkl')\n",
        "RNN_embedding=joblib.load(path+'model/tokenizer_LSTM.pkl')\n",
        "SVM_model=joblib.load(path+'model/SVM_model.pkl')\n",
        "NB_model=joblib.load(path+'model/NB_model.pkl')\n",
        "TFIDF_embedding=joblib.load(path+'model/tfidf.pkl')\n",
        "\n",
        "\n",
        "def vi_tokenizer(row):\n",
        "  return word_tokenize(row, format=\"text\")\n",
        "\n",
        "def remove_accents(row):\n",
        "  return unidecode.unidecode(row)\n",
        "\n",
        "def remove_stopwords(hl_split):\n",
        "  sent = [s for s in hl_split if s not in stopwords]\n",
        "  return sent\n",
        "\n",
        "def text_cleasing(row):\n",
        "  row = re.sub(r\"[\\.,\\?]+$-\", \"\", row)\n",
        "  row = row.replace(\",\", \" \").replace(\".\", \" \") \\\n",
        "      .replace(\";\", \" \").replace(\"“\", \" \") \\\n",
        "      .replace(\":\", \" \").replace(\"”\", \" \") \\\n",
        "      .replace('\"', \" \").replace(\"'\", \" \") \\\n",
        "      .replace(\"!\", \" \").replace(\"?\", \" \") \\\n",
        "      .replace(\"-\", \" \").replace(\"?\", \" \")\n",
        "  row = row.strip()\n",
        "  row=vi_tokenizer(row)\n",
        "  row=remove_stopwords(row.split())\n",
        "  #row=[remove_accents(s) for s in row]\n",
        "  #row=[\" \".join(x) for x in row]\n",
        "  return row\n",
        "\n",
        "def input_vectorization(input_token,w_embedding):\n",
        "  arr_token=[]\n",
        "  arr_token.append(input_token)\n",
        "  sequences = w_embedding.texts_to_sequences(arr_token)\n",
        "  X = pad_sequences(sequences, maxlen=max_token)\n",
        "  return X\n",
        "       \n",
        "\n",
        "def LSTM_predict(text,model,w_embedding):\n",
        "  token=text_cleasing(text)\n",
        "  X=input_vectorization(token,w_embedding)\n",
        "  if np.around(model.predict(X))==1:\n",
        "    print(text)\n",
        "    print(\"=============> Positive\\n\")\n",
        "  else:\n",
        "    print(text)\n",
        "    print(\"=============> Negative\\n\")\n",
        "\n",
        "def predict(text,model,w_embedding):\n",
        "  token=text_cleasing(text)\n",
        "  token=[' '.join(token)]\n",
        "  X_Tfidf = w_embedding.transform(token)\n",
        "  if model.predict(X_Tfidf)[0]==1:\n",
        "    print(text)\n",
        "    print(\"=============> Positive\\n\")\n",
        "  else:\n",
        "    print(text)\n",
        "    print(\"=============> Negative\\n\")\n",
        "\n",
        "def standardize_data(df):\n",
        "    hl_cleansed=[]\n",
        "    for row in df:\n",
        "        row = re.sub(r\"[\\.,\\?]+$-\", \"\", row)\n",
        "        row = row.replace(\",\", \" \").replace(\".\", \" \") \\\n",
        "            .replace(\";\", \" \").replace(\"“\", \" \") \\\n",
        "            .replace(\":\", \" \").replace(\"”\", \" \") \\\n",
        "            .replace('\"', \" \").replace(\"'\", \" \") \\\n",
        "            .replace(\"!\", \" \").replace(\"?\", \" \") \\\n",
        "            .replace(\"-\", \" \").replace(\"?\", \" \")\n",
        "        row = row.strip()\n",
        "        hl_cleansed.append(row)\n",
        "    return hl_cleansed\n",
        "\n",
        "\n",
        "def multi_predict(list_data,choice):\n",
        "  result=dict()\n",
        "  hl_cleansed=standardize_data(list_data)\n",
        "  rs=[]\n",
        "  num_positive=None\n",
        "  num_negative=None\n",
        "  hl_tokens = []\n",
        "  for hl in hl_cleansed:\n",
        "      hl=vi_tokenizer(hl)\n",
        "      clean=remove_stopwords(hl.split())\n",
        "      #clean=[remove_accents(s) for s in clean]\n",
        "      hl_tokens.append(clean)\n",
        "\n",
        "  #choice == RNN using RNN model\n",
        "  if choice=='RNN':\n",
        "    sequences = RNN_embedding.texts_to_sequences(hl_tokens)\n",
        "    X = pad_sequences(sequences, maxlen=max_token)\n",
        "    rs=np.around(RNN_model.predict(X))\n",
        "\n",
        "    \n",
        "  #choice ==SVM using SVM classifer\n",
        "  elif choice=='SVM':\n",
        "    X = [\" \".join(x) for x in hl_tokens]\n",
        "    X = TFIDF_embedding.transform(X)\n",
        "    rs = SVM_model.predict(X)\n",
        "  \n",
        "\n",
        "  elif choice=='NB':\n",
        "    X = [\" \".join(x) for x in hl_tokens]\n",
        "    X = TFIDF_embedding.transform(X)\n",
        "    rs = NB_model.predict(X)\n",
        "    \n",
        "\n",
        "  num_positive=np.count_nonzero(rs == 1)\n",
        "  num_negative=np.count_nonzero(rs == 0)\n",
        "  rs=rs.flatten().astype(int)\n",
        "  \n",
        "  percentage_of_positive= round(num_positive/(num_positive + num_negative)*100,2)\n",
        "  index_of_positive=[i for i, e in enumerate(rs) if e == 1]\n",
        "  index_of_negative=[i for i, e in enumerate(rs) if e == 0]\n",
        "  recommend='Máy được khen trên '+str(percentage_of_positive)+'%, mua đi !!' if percentage_of_positive > 65 \\\n",
        "                            else 'Máy bị chê quá nhiều ('+str(100-percentage_of_positive)+'%), không nên mua'\n",
        "\n",
        "  result['Number of positive']=num_positive\n",
        "  result['Number of negative']=num_negative\n",
        "  result['Recommend']=recommend\n",
        "  result['Index of positive']= index_of_positive\n",
        "  result['Index of negative']= index_of_negative\n",
        "  result['Model']= choice\n",
        "\n",
        "\n",
        "  return result\n",
        "\n",
        "  \n"
      ],
      "execution_count": 239,
      "outputs": [
        {
          "output_type": "stream",
          "text": [
            "/usr/local/lib/python3.6/dist-packages/tensorflow/python/framework/indexed_slices.py:434: UserWarning: Converting sparse IndexedSlices to a dense Tensor of unknown shape. This may consume a large amount of memory.\n",
            "  \"Converting sparse IndexedSlices to a dense Tensor of unknown shape. \"\n"
          ],
          "name": "stderr"
        }
      ]
    },
    {
      "cell_type": "code",
      "metadata": {
        "id": "vVG6diH_LtKV",
        "colab_type": "code",
        "colab": {}
      },
      "source": [
        "cmt0='máy bắt wifi như lolllllllllllll'\n",
        "\n",
        "cmt1='Quá buồn khi mua em này, loa cuộc gọi siêu bé, không nghe được, vân tay không nhạy 1 tí gì. Mình mua được 2 tuần. Giờ mình phải làm sao????'\n",
        "\n",
        "cmt2='ngon quá, sẽ ủng hộ shop dài dài.'\n",
        "\n",
        "cmt3='Quá tuyệt, siêu phẩm 2020 là đây, giá rẻ mà cấu hình lại cao nữa.'\n",
        "\n",
        "cmt4='Rất buồn,máy ok đó nhưng TGDĐ làm ăn bảo hành như cc, mang ra đổi trả không chịu !!!'\n",
        "\n",
        "cmt5='quá là tốt lun bà con ơi'\n",
        "\n",
        "cmt6='may nhu dau buoi, mua ve ton ca tien'\n",
        "\n",
        "cmt=[cmt0,cmt1,cmt2,cmt3,cmt4,cmt5,cmt6]"
      ],
      "execution_count": 0,
      "outputs": []
    },
    {
      "cell_type": "code",
      "metadata": {
        "id": "XDiknCMGL1vh",
        "colab_type": "code",
        "outputId": "5fc2040c-e3c4-4233-f406-e47e33ee94e8",
        "colab": {
          "base_uri": "https://localhost:8080/",
          "height": 118
        }
      },
      "source": [
        "a=multi_predict(cmt,'RNN')\n",
        "a"
      ],
      "execution_count": 247,
      "outputs": [
        {
          "output_type": "execute_result",
          "data": {
            "text/plain": [
              "{'Index of negative': [0, 1, 4],\n",
              " 'Index of positive': [2, 3, 5, 6],\n",
              " 'Model': 'RNN',\n",
              " 'Number of negative': 3,\n",
              " 'Number of positive': 4,\n",
              " 'Recommend': 'Máy bị chê quá nhiều (42.86%), không nên mua'}"
            ]
          },
          "metadata": {
            "tags": []
          },
          "execution_count": 247
        }
      ]
    },
    {
      "cell_type": "markdown",
      "metadata": {
        "id": "zzUTRbrYOXMC",
        "colab_type": "text"
      },
      "source": [
        "## Predict"
      ]
    },
    {
      "cell_type": "markdown",
      "metadata": {
        "id": "nR7m-FhFhB8H",
        "colab_type": "text"
      },
      "source": [
        "Using LSTM model to predict"
      ]
    },
    {
      "cell_type": "code",
      "metadata": {
        "id": "k6eBwP2kYvpl",
        "colab_type": "code",
        "outputId": "47dc82ad-5e57-4ea2-a386-8873a9466f7c",
        "colab": {
          "base_uri": "https://localhost:8080/",
          "height": 168
        }
      },
      "source": [
        "cmt='máy bắt wifi như lolllllllllllll'\n",
        "\n",
        "cmt2='Quá buồn khi mua em này, loa cuộc gọi siêu bé, không nghe được, vân tay không nhạy 1 tí gì. Mình mua được 2 tuần. Giờ mình phải làm sao????'\n",
        "\n",
        "cmt3='ngon quá, sẽ ủng hộ shop dài dài'\n",
        "\n",
        "\n",
        "\n",
        "LSTM_predict(cmt,RNN_model,RNN_embedding)\n",
        "LSTM_predict(cmt2,RNN_model,RNN_embedding)\n",
        "LSTM_predict(cmt3,RNN_model,RNN_embedding)\n",
        "\n"
      ],
      "execution_count": 161,
      "outputs": [
        {
          "output_type": "stream",
          "text": [
            "máy bắt wifi như lolllllllllllll\n",
            "=============> Negative\n",
            "\n",
            "Quá buồn khi mua em này, loa cuộc gọi siêu bé, không nghe được, vân tay không nhạy 1 tí gì. Mình mua được 2 tuần. Giờ mình phải làm sao????\n",
            "=============> Negative\n",
            "\n",
            "ngon quá, sẽ ủng hộ shop dài dài\n",
            "=============> Positive\n",
            "\n"
          ],
          "name": "stdout"
        }
      ]
    },
    {
      "cell_type": "markdown",
      "metadata": {
        "id": "ZtvPXsE4Gkk8",
        "colab_type": "text"
      },
      "source": [
        "Using SVM clasifier"
      ]
    },
    {
      "cell_type": "code",
      "metadata": {
        "id": "YUbY0NyEQf21",
        "colab_type": "code",
        "outputId": "a684de04-ac08-4c48-e3cb-a958bccaa08d",
        "colab": {
          "base_uri": "https://localhost:8080/",
          "height": 168
        }
      },
      "source": [
        "predict(cmt,SVM_model,TFIDF_embedding)\n",
        "predict(cmt2,SVM_model,TFIDF_embedding)\n",
        "predict(cmt3,SVM_model,TFIDF_embedding)"
      ],
      "execution_count": 162,
      "outputs": [
        {
          "output_type": "stream",
          "text": [
            "máy bắt wifi như lolllllllllllll\n",
            "=============> Negative\n",
            "\n",
            "Quá buồn khi mua em này, loa cuộc gọi siêu bé, không nghe được, vân tay không nhạy 1 tí gì. Mình mua được 2 tuần. Giờ mình phải làm sao????\n",
            "=============> Negative\n",
            "\n",
            "ngon quá, sẽ ủng hộ shop dài dài\n",
            "=============> Positive\n",
            "\n"
          ],
          "name": "stdout"
        }
      ]
    },
    {
      "cell_type": "markdown",
      "metadata": {
        "id": "HIZ2FvNdGy6t",
        "colab_type": "text"
      },
      "source": [
        "Using NB clasifier\n"
      ]
    },
    {
      "cell_type": "code",
      "metadata": {
        "id": "noKaA-8xVRE9",
        "colab_type": "code",
        "outputId": "bdad5bff-a801-4d83-ed08-6a337b778f6c",
        "colab": {
          "base_uri": "https://localhost:8080/",
          "height": 168
        }
      },
      "source": [
        "predict(cmt,NB_model,TFIDF_embedding)\n",
        "predict(cmt2,NB_model,TFIDF_embedding)\n",
        "predict(cmt3,NB_model,TFIDF_embedding)"
      ],
      "execution_count": 163,
      "outputs": [
        {
          "output_type": "stream",
          "text": [
            "máy bắt wifi như lolllllllllllll\n",
            "=============> Negative\n",
            "\n",
            "Quá buồn khi mua em này, loa cuộc gọi siêu bé, không nghe được, vân tay không nhạy 1 tí gì. Mình mua được 2 tuần. Giờ mình phải làm sao????\n",
            "=============> Negative\n",
            "\n",
            "ngon quá, sẽ ủng hộ shop dài dài\n",
            "=============> Positive\n",
            "\n"
          ],
          "name": "stdout"
        }
      ]
    }
  ]
}