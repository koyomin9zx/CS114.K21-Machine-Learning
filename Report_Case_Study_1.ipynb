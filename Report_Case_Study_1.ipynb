{
  "nbformat": 4,
  "nbformat_minor": 0,
  "metadata": {
    "colab": {
      "name": "Report_Case_Study_1.ipynb",
      "provenance": [],
      "include_colab_link": true
    },
    "kernelspec": {
      "name": "python3",
      "display_name": "Python 3"
    },
    "accelerator": "GPU"
  },
  "cells": [
    {
      "cell_type": "markdown",
      "metadata": {
        "id": "view-in-github",
        "colab_type": "text"
      },
      "source": [
        "<a href=\"https://colab.research.google.com/github/koyomin9zx/CS114.K21-Machine-Learning/blob/master/Report_Case_Study_1.ipynb\" target=\"_parent\"><img src=\"https://colab.research.google.com/assets/colab-badge.svg\" alt=\"Open In Colab\"/></a>"
      ]
    },
    {
      "cell_type": "markdown",
      "metadata": {
        "id": "Z8njBTngbB8a",
        "colab_type": "text"
      },
      "source": [
        "# **Báo Cáo Case Study 1: Sacarsm detection** \n",
        "---\n",
        "***Sinh viên thực hiện***:\n",
        "*   Nguyễn Đình Vinh - 16521582\n",
        "*   Phan Đăng Lâm - 16521710\n",
        "---\n",
        "***Bài toán***:\n",
        "Phát hiện tiêu đề của một bài báo có mang tính châm biếm, mỉa mai hay không. \n",
        "\n",
        "\n",
        "***Dữ liệu***: Dữ liệu được thu thập từ 2 website là [TheOnion](https://www.theonion.com/) và [Huffpost](https://www.huffpost.com/) trong đó :\n",
        "\n",
        "*   Dữ liệu từ trang [TheOnion](https://www.theonion.com/) là dữ liệu mang tính châm biếm, được thu thập từ thể loại tin tóm tắt và thể loại tin hình ảnh\n",
        "\n",
        "*   Dữ liệu từ trang [Huffpost](https://www.huffpost.com/) là dữ liệu thật, không mang tính châm biếm \n",
        "\n",
        "\n",
        "\n"
      ]
    },
    {
      "cell_type": "markdown",
      "metadata": {
        "id": "BPXbNXcGnVEm",
        "colab_type": "text"
      },
      "source": [
        "# **Tiền xử lý dữ liệu**"
      ]
    },
    {
      "cell_type": "code",
      "metadata": {
        "id": "j02SClP7nWpd",
        "colab_type": "code",
        "colab": {}
      },
      "source": [
        "#cài đặt các lib cần thiết\n",
        "from google.colab import files\n",
        "!pip install -q kaggle"
      ],
      "execution_count": null,
      "outputs": []
    },
    {
      "cell_type": "code",
      "metadata": {
        "id": "dcScsaKyibhk",
        "colab_type": "code",
        "colab": {
          "resources": {
            "http://localhost:8080/nbextensions/google.colab/files.js": {
              "data": "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",
              "ok": true,
              "headers": [
                [
                  "content-type",
                  "application/javascript"
                ]
              ],
              "status": 200,
              "status_text": ""
            }
          },
          "base_uri": "https://localhost:8080/",
          "height": 72
        },
        "outputId": "b8b85009-ad25-46fb-b44c-26bb58e72641"
      },
      "source": [
        "#sử dụng kagle API để download dataset\n",
        "uploaded = files.upload()"
      ],
      "execution_count": null,
      "outputs": [
        {
          "output_type": "display_data",
          "data": {
            "text/html": [
              "\n",
              "     <input type=\"file\" id=\"files-a53a6a1e-0ef5-4845-b9e8-4645d6b3d77e\" name=\"files[]\" multiple disabled\n",
              "        style=\"border:none\" />\n",
              "     <output id=\"result-a53a6a1e-0ef5-4845-b9e8-4645d6b3d77e\">\n",
              "      Upload widget is only available when the cell has been executed in the\n",
              "      current browser session. Please rerun this cell to enable.\n",
              "      </output>\n",
              "      <script src=\"/nbextensions/google.colab/files.js\"></script> "
            ],
            "text/plain": [
              "<IPython.core.display.HTML object>"
            ]
          },
          "metadata": {
            "tags": []
          }
        },
        {
          "output_type": "stream",
          "text": [
            "Saving kaggle.json to kaggle.json\n"
          ],
          "name": "stdout"
        }
      ]
    },
    {
      "cell_type": "code",
      "metadata": {
        "id": "z61VEMTHjIY0",
        "colab_type": "code",
        "colab": {
          "base_uri": "https://localhost:8080/",
          "height": 68
        },
        "outputId": "a4bef6de-c07b-40a2-f1e2-ccece400d6b1"
      },
      "source": [
        "#lấy data từ kaggle nhập sang colab\n",
        "!mkdir -p ~/.kaggle\n",
        "!cp kaggle.json ~/.kaggle/\n",
        "!chmod 600 ~/.kaggle/kaggle.json\n",
        "!kaggle datasets download -d rmisra/news-headlines-dataset-for-sarcasm-detection"
      ],
      "execution_count": null,
      "outputs": [
        {
          "output_type": "stream",
          "text": [
            "Downloading news-headlines-dataset-for-sarcasm-detection.zip to /content\n",
            "\r  0% 0.00/3.30M [00:00<?, ?B/s]\n",
            "\r100% 3.30M/3.30M [00:00<00:00, 110MB/s]\n"
          ],
          "name": "stdout"
        }
      ]
    },
    {
      "cell_type": "code",
      "metadata": {
        "id": "kzXnFAZajgb0",
        "colab_type": "code",
        "colab": {
          "base_uri": "https://localhost:8080/",
          "height": 68
        },
        "outputId": "0315436e-f8a0-495c-ee5f-b93dd7a69a8e"
      },
      "source": [
        "#unzip dataset\n",
        "!unzip /content/news-headlines-dataset-for-sarcasm-detection.zip"
      ],
      "execution_count": null,
      "outputs": [
        {
          "output_type": "stream",
          "text": [
            "Archive:  /content/news-headlines-dataset-for-sarcasm-detection.zip\n",
            "  inflating: Sarcasm_Headlines_Dataset.json  \n",
            "  inflating: Sarcasm_Headlines_Dataset_v2.json  \n"
          ],
          "name": "stdout"
        }
      ]
    },
    {
      "cell_type": "code",
      "metadata": {
        "id": "P0s4gHVuj25d",
        "colab_type": "code",
        "colab": {
          "base_uri": "https://localhost:8080/",
          "height": 204
        },
        "outputId": "3e6649f0-4e2f-4d1f-8331-e15cd787ca30"
      },
      "source": [
        "#đọc dataset vào data frame\n",
        "import pandas as pd\n",
        "df = pd.read_json(\"/content/Sarcasm_Headlines_Dataset_v2.json\", lines=True)\n",
        "df.head(5)"
      ],
      "execution_count": null,
      "outputs": [
        {
          "output_type": "execute_result",
          "data": {
            "text/html": [
              "<div>\n",
              "<style scoped>\n",
              "    .dataframe tbody tr th:only-of-type {\n",
              "        vertical-align: middle;\n",
              "    }\n",
              "\n",
              "    .dataframe tbody tr th {\n",
              "        vertical-align: top;\n",
              "    }\n",
              "\n",
              "    .dataframe thead th {\n",
              "        text-align: right;\n",
              "    }\n",
              "</style>\n",
              "<table border=\"1\" class=\"dataframe\">\n",
              "  <thead>\n",
              "    <tr style=\"text-align: right;\">\n",
              "      <th></th>\n",
              "      <th>is_sarcastic</th>\n",
              "      <th>headline</th>\n",
              "      <th>article_link</th>\n",
              "    </tr>\n",
              "  </thead>\n",
              "  <tbody>\n",
              "    <tr>\n",
              "      <th>0</th>\n",
              "      <td>1</td>\n",
              "      <td>thirtysomething scientists unveil doomsday clo...</td>\n",
              "      <td>https://www.theonion.com/thirtysomething-scien...</td>\n",
              "    </tr>\n",
              "    <tr>\n",
              "      <th>1</th>\n",
              "      <td>0</td>\n",
              "      <td>dem rep. totally nails why congress is falling...</td>\n",
              "      <td>https://www.huffingtonpost.com/entry/donna-edw...</td>\n",
              "    </tr>\n",
              "    <tr>\n",
              "      <th>2</th>\n",
              "      <td>0</td>\n",
              "      <td>eat your veggies: 9 deliciously different recipes</td>\n",
              "      <td>https://www.huffingtonpost.com/entry/eat-your-...</td>\n",
              "    </tr>\n",
              "    <tr>\n",
              "      <th>3</th>\n",
              "      <td>1</td>\n",
              "      <td>inclement weather prevents liar from getting t...</td>\n",
              "      <td>https://local.theonion.com/inclement-weather-p...</td>\n",
              "    </tr>\n",
              "    <tr>\n",
              "      <th>4</th>\n",
              "      <td>1</td>\n",
              "      <td>mother comes pretty close to using word 'strea...</td>\n",
              "      <td>https://www.theonion.com/mother-comes-pretty-c...</td>\n",
              "    </tr>\n",
              "  </tbody>\n",
              "</table>\n",
              "</div>"
            ],
            "text/plain": [
              "   is_sarcastic  ...                                       article_link\n",
              "0             1  ...  https://www.theonion.com/thirtysomething-scien...\n",
              "1             0  ...  https://www.huffingtonpost.com/entry/donna-edw...\n",
              "2             0  ...  https://www.huffingtonpost.com/entry/eat-your-...\n",
              "3             1  ...  https://local.theonion.com/inclement-weather-p...\n",
              "4             1  ...  https://www.theonion.com/mother-comes-pretty-c...\n",
              "\n",
              "[5 rows x 3 columns]"
            ]
          },
          "metadata": {
            "tags": []
          },
          "execution_count": 80
        }
      ]
    },
    {
      "cell_type": "code",
      "metadata": {
        "id": "To9wzk6Vpxjb",
        "colab_type": "code",
        "colab": {
          "base_uri": "https://localhost:8080/",
          "height": 331
        },
        "outputId": "756a898a-9e86-4f7d-9ede-5373cd563bad"
      },
      "source": [
        "#visualize dữ liệu\n",
        "import seaborn as sns\n",
        "sns.set_style(\"dark\")\n",
        "sns.countplot(df.is_sarcastic\t)"
      ],
      "execution_count": null,
      "outputs": [
        {
          "output_type": "stream",
          "text": [
            "/usr/local/lib/python3.6/dist-packages/statsmodels/tools/_testing.py:19: FutureWarning: pandas.util.testing is deprecated. Use the functions in the public API at pandas.testing instead.\n",
            "  import pandas.util.testing as tm\n"
          ],
          "name": "stderr"
        },
        {
          "output_type": "execute_result",
          "data": {
            "text/plain": [
              "<matplotlib.axes._subplots.AxesSubplot at 0x7f02aee2ed30>"
            ]
          },
          "metadata": {
            "tags": []
          },
          "execution_count": 81
        },
        {
          "output_type": "display_data",
          "data": {
            "image/png": "[encoded data removed]",
            "text/plain": [
              "<Figure size 432x288 with 1 Axes>"
            ]
          },
          "metadata": {
            "tags": []
          }
        }
      ]
    },
    {
      "cell_type": "code",
      "metadata": {
        "id": "5tukVXaXkMxM",
        "colab_type": "code",
        "colab": {
          "base_uri": "https://localhost:8080/",
          "height": 357
        },
        "outputId": "539517ab-8c5b-41be-a220-3c9d1f426dcc"
      },
      "source": [
        "#xem thử 20 headlines đầu tiên nó thư thế nào\n",
        "for i,headline in enumerate (df['headline'], 1):\n",
        "    if i > 20:\n",
        "        break\n",
        "    else:\n",
        "        print(i, headline)"
      ],
      "execution_count": null,
      "outputs": [
        {
          "output_type": "stream",
          "text": [
            "1 thirtysomething scientists unveil doomsday clock of hair loss\n",
            "2 dem rep. totally nails why congress is falling short on gender, racial equality\n",
            "3 eat your veggies: 9 deliciously different recipes\n",
            "4 inclement weather prevents liar from getting to work\n",
            "5 mother comes pretty close to using word 'streaming' correctly\n",
            "6 my white inheritance\n",
            "7 5 ways to file your taxes with less stress\n",
            "8 richard branson's global-warming donation nearly as much as cost of failed balloon trips\n",
            "9 shadow government getting too large to meet in marriott conference room b\n",
            "10 lots of parents know this scenario\n",
            "11 this lesbian is considered a father in indiana (and an amazing one at that)\n",
            "12 amanda peet told her daughter sex is 'a special hug'\n",
            "13 what to know regarding current treatments for ebola\n",
            "14 chris christie suggests hillary clinton was to blame for boko haram's kidnapping of hundreds of schoolgirls\n",
            "15 ford develops new suv that runs purely on gasoline\n",
            "16 uber ceo travis kalanick stepping down from trump economic advisory council\n",
            "17 area boy enters jumping-and-touching-tops-of-doorways phase\n",
            "18 area man does most of his traveling by gurney\n",
            "19 leave no person with disabilities behind\n",
            "20 lin-manuel miranda would like to remind you to put your phone away\n"
          ],
          "name": "stdout"
        }
      ]
    },
    {
      "cell_type": "markdown",
      "metadata": {
        "id": "4vBD69MhmEme",
        "colab_type": "text"
      },
      "source": [
        "***Lọc nhiễu cho dữ liệu (loại bỏ kí tự đặc biệt, chữ số)***"
      ]
    },
    {
      "cell_type": "code",
      "metadata": {
        "id": "I0QWv-oVlITB",
        "colab_type": "code",
        "colab": {
          "base_uri": "https://localhost:8080/",
          "height": 102
        },
        "outputId": "1ad13650-e465-4df0-c854-07624c22d8b5"
      },
      "source": [
        "import string\n",
        "from string import digits, punctuation\n",
        "\n",
        "hl_cleansed = []\n",
        "for hl in df['headline']:\n",
        "    #Xóa kí tự đặc biệt\n",
        "    clean = hl.translate(str.maketrans('', '', punctuation))\n",
        "    #Xóa số\n",
        "    clean = clean.translate(str.maketrans('', '', digits))\n",
        "    hl_cleansed.append(clean)\n",
        "    \n",
        "#Xem sự thay đổi\n",
        "print('Original texts :')\n",
        "print(df['headline'][2])\n",
        "print('\\nAfter cleansed :')\n",
        "print(hl_cleansed[2])"
      ],
      "execution_count": null,
      "outputs": [
        {
          "output_type": "stream",
          "text": [
            "Original texts :\n",
            "eat your veggies: 9 deliciously different recipes\n",
            "\n",
            "After cleansed :\n",
            "eat your veggies  deliciously different recipes\n"
          ],
          "name": "stdout"
        }
      ]
    },
    {
      "cell_type": "markdown",
      "metadata": {
        "id": "U7Ig6QZBl8-O",
        "colab_type": "text"
      },
      "source": [
        "***Tokenization (tách từ) ***"
      ]
    },
    {
      "cell_type": "code",
      "metadata": {
        "id": "gYwLpKpkl4Qq",
        "colab_type": "code",
        "colab": {
          "base_uri": "https://localhost:8080/",
          "height": 102
        },
        "outputId": "94c453ed-d316-432b-9164-aa681c4ca947"
      },
      "source": [
        "hl_tokens = []\n",
        "for hl in hl_cleansed:\n",
        "    hl_tokens.append(hl.split())\n",
        "\n",
        "# Xem sự thay đổi\n",
        "print('Before tokenization :')\n",
        "print(hl_cleansed[100])\n",
        "print('\\nAfter tokenization :')\n",
        "print(hl_tokens[100])"
      ],
      "execution_count": null,
      "outputs": [
        {
          "output_type": "stream",
          "text": [
            "Before tokenization :\n",
            "report  of trump endorsements made after staring at bedroom ceiling for  hours\n",
            "\n",
            "After tokenization :\n",
            "['report', 'of', 'trump', 'endorsements', 'made', 'after', 'staring', 'at', 'bedroom', 'ceiling', 'for', 'hours']\n"
          ],
          "name": "stdout"
        }
      ]
    },
    {
      "cell_type": "markdown",
      "metadata": {
        "id": "fKUUC5rcmgbv",
        "colab_type": "text"
      },
      "source": [
        "***Lemmatization (chuẩn hóa từ về dạng nguyên mẫu)***"
      ]
    },
    {
      "cell_type": "code",
      "metadata": {
        "id": "HAtb10v7m-fn",
        "colab_type": "code",
        "colab": {
          "base_uri": "https://localhost:8080/",
          "height": 187
        },
        "outputId": "f9488e8e-5742-4e4c-96f2-097044413fc6"
      },
      "source": [
        "import nltk\n",
        "nltk.download('averaged_perceptron_tagger')\n",
        "nltk.download('wordnet')\n",
        "nltk.download('punkt')\n",
        "nltk.download('stopwords')"
      ],
      "execution_count": null,
      "outputs": [
        {
          "output_type": "stream",
          "text": [
            "[nltk_data] Downloading package averaged_perceptron_tagger to\n",
            "[nltk_data]     /root/nltk_data...\n",
            "[nltk_data]   Unzipping taggers/averaged_perceptron_tagger.zip.\n",
            "[nltk_data] Downloading package wordnet to /root/nltk_data...\n",
            "[nltk_data]   Unzipping corpora/wordnet.zip.\n",
            "[nltk_data] Downloading package punkt to /root/nltk_data...\n",
            "[nltk_data]   Unzipping tokenizers/punkt.zip.\n",
            "[nltk_data] Downloading package stopwords to /root/nltk_data...\n",
            "[nltk_data]   Unzipping corpora/stopwords.zip.\n"
          ],
          "name": "stdout"
        },
        {
          "output_type": "execute_result",
          "data": {
            "text/plain": [
              "True"
            ]
          },
          "metadata": {
            "tags": []
          },
          "execution_count": 11
        }
      ]
    },
    {
      "cell_type": "code",
      "metadata": {
        "id": "I8156yLYmkG1",
        "colab_type": "code",
        "colab": {
          "base_uri": "https://localhost:8080/",
          "height": 51
        },
        "outputId": "80f34f28-1335-42cc-a4f7-78a88f315b82"
      },
      "source": [
        "from nltk.corpus import wordnet\n",
        "from nltk.stem import WordNetLemmatizer\n",
        "\n",
        "def get_wordnet_pos(word):\n",
        "    \"\"\"Map POS tag to first character lemmatize() accepts\"\"\"\n",
        "    tag = nltk.pos_tag([word])[0][1][0].upper()\n",
        "    tag_dict = {\"J\": wordnet.ADJ,\n",
        "                \"N\": wordnet.NOUN,\n",
        "                \"V\": wordnet.VERB,\n",
        "                \"R\": wordnet.ADV}\n",
        "\n",
        "    return tag_dict.get(tag, wordnet.NOUN)\n",
        "\n",
        "# khởi tạo Lemmatizer\n",
        "lemmatizer = WordNetLemmatizer()\n",
        "\n",
        "hl_lemmatized = []\n",
        "for tokens in hl_tokens:\n",
        "    lemm = [lemmatizer.lemmatize(w, get_wordnet_pos(w)) for w in tokens]\n",
        "    hl_lemmatized.append(lemm)\n",
        "    \n",
        "# xem sự thay đổi\n",
        "word_1 = ['skyrim','dragons', 'are', 'having', 'parties']\n",
        "word_2 = [lemmatizer.lemmatize(w, get_wordnet_pos(w)) for w in word_1]\n",
        "print('Before lemmatization :\\t',word_1)\n",
        "print('After lemmatization :\\t',word_2)"
      ],
      "execution_count": null,
      "outputs": [
        {
          "output_type": "stream",
          "text": [
            "Before lemmatization :\t ['skyrim', 'dragons', 'are', 'having', 'parties']\n",
            "After lemmatization :\t ['skyrim', 'dragon', 'be', 'have', 'party']\n"
          ],
          "name": "stdout"
        }
      ]
    },
    {
      "cell_type": "markdown",
      "metadata": {
        "id": "Zb_UdY5mnPK0",
        "colab_type": "text"
      },
      "source": [
        "# ***Feature Engineering và Training với RNN***"
      ]
    },
    {
      "cell_type": "markdown",
      "metadata": {
        "id": "EUCIfuFNoE89",
        "colab_type": "text"
      },
      "source": [
        "Sử dụng pp count vectorize để tiến hành word embedding"
      ]
    },
    {
      "cell_type": "code",
      "metadata": {
        "id": "Gb4ZA6dSGehI",
        "colab_type": "code",
        "colab": {}
      },
      "source": [
        "from keras.preprocessing.text import Tokenizer\n",
        "from keras.preprocessing import sequence\n",
        "from keras.preprocessing.sequence import pad_sequences\n",
        "import numpy as np\n",
        "\n",
        "# Sử dụng top 2000 từ làm tập từ vựng \n",
        "max_features = 2000\n",
        "\n",
        "#tìm ra input có kích thước lớn nhất\n",
        "max_token = len(max(hl_lemmatized))\n",
        "\n",
        "#khởi tạo tokenizer\n",
        "tokenizer = Tokenizer(num_words=max_features)\n",
        "\n",
        "#word embedding\n",
        "tokenizer.fit_on_texts(hl_lemmatized)\n",
        "sequences = tokenizer.texts_to_sequences(hl_lemmatized)\n",
        "\n",
        "#padding zero để cùng có 1 kích thước input\n",
        "X = pad_sequences(sequences, maxlen=max_token)"
      ],
      "execution_count": null,
      "outputs": []
    },
    {
      "cell_type": "markdown",
      "metadata": {
        "id": "b071GztltQW-",
        "colab_type": "text"
      },
      "source": [
        "Split Train, test"
      ]
    },
    {
      "cell_type": "code",
      "metadata": {
        "id": "Fbqh-LsPtMJz",
        "colab_type": "code",
        "colab": {}
      },
      "source": [
        "from sklearn.model_selection import train_test_split\n",
        "\n",
        "Y = df['is_sarcastic'].values\n",
        "Y = np.vstack(Y)\n",
        "X_train,X_test,Y_train,Y_test = train_test_split(X,Y,test_size=0.3, random_state = 42)"
      ],
      "execution_count": null,
      "outputs": []
    },
    {
      "cell_type": "code",
      "metadata": {
        "id": "l0AT5fYQ3ZsK",
        "colab_type": "code",
        "colab": {}
      },
      "source": [
        "X_train[0]"
      ],
      "execution_count": null,
      "outputs": []
    },
    {
      "cell_type": "markdown",
      "metadata": {
        "id": "pKtunbWIGh0r",
        "colab_type": "text"
      },
      "source": [
        "Building the Model"
      ]
    },
    {
      "cell_type": "code",
      "metadata": {
        "id": "f8wYpSlPGmYt",
        "colab_type": "code",
        "colab": {
          "base_uri": "https://localhost:8080/",
          "height": 408
        },
        "outputId": "fb460b8b-43d9-4081-c2b8-c496e9b2f59e"
      },
      "source": [
        "from keras.layers import LSTM, Activation, Dense, Dropout, Input, Embedding, BatchNormalization\n",
        "from keras.optimizers import RMSprop, Adam\n",
        "from keras.models import Sequential\n",
        "from keras.layers import Dense, Embedding, LSTM, SpatialDropout1D\n",
        "from keras.backend import clear_session\n",
        "\n",
        "clear_session()\n",
        "embed_dim = 64\n",
        "\n",
        "model = Sequential()\n",
        "model.add(Embedding(max_features, embed_dim,input_length = max_token))\n",
        "model.add(LSTM(96, dropout=0.2, recurrent_dropout=0.2, activation='relu'))\n",
        "model.add(Dense(150))\n",
        "model.add(BatchNormalization())\n",
        "model.add(Dropout(0.3))\n",
        "model.add(Dense(1))\n",
        "model.add(Activation('sigmoid'))\n",
        "\n",
        "model.compile(loss = 'binary_crossentropy', optimizer=Adam(1e-4),metrics = ['accuracy'])\n",
        "print(model.summary())"
      ],
      "execution_count": null,
      "outputs": [
        {
          "output_type": "stream",
          "text": [
            "Model: \"sequential_1\"\n",
            "_________________________________________________________________\n",
            "Layer (type)                 Output Shape              Param #   \n",
            "=================================================================\n",
            "embedding_1 (Embedding)      (None, 14, 64)            128000    \n",
            "_________________________________________________________________\n",
            "lstm_1 (LSTM)                (None, 96)                61824     \n",
            "_________________________________________________________________\n",
            "dense_1 (Dense)              (None, 150)               14550     \n",
            "_________________________________________________________________\n",
            "batch_normalization_1 (Batch (None, 150)               600       \n",
            "_________________________________________________________________\n",
            "dropout_1 (Dropout)          (None, 150)               0         \n",
            "_________________________________________________________________\n",
            "dense_2 (Dense)              (None, 1)                 151       \n",
            "_________________________________________________________________\n",
            "activation_1 (Activation)    (None, 1)                 0         \n",
            "=================================================================\n",
            "Total params: 205,125\n",
            "Trainable params: 204,825\n",
            "Non-trainable params: 300\n",
            "_________________________________________________________________\n",
            "None\n"
          ],
          "name": "stdout"
        }
      ]
    },
    {
      "cell_type": "markdown",
      "metadata": {
        "id": "2s7wKZ4PGwdz",
        "colab_type": "text"
      },
      "source": [
        "Training process"
      ]
    },
    {
      "cell_type": "code",
      "metadata": {
        "id": "qI_MnAmiGqZz",
        "colab_type": "code",
        "colab": {
          "base_uri": "https://localhost:8080/",
          "height": 428
        },
        "outputId": "05481dc0-ecd0-4869-b122-e1d0b0749e20"
      },
      "source": [
        "epoch = 10\n",
        "batch_size = 32\n",
        "history=model.fit(X_train, Y_train, epochs = epoch, batch_size=batch_size, verbose = 1, validation_split=0.2)"
      ],
      "execution_count": null,
      "outputs": [
        {
          "output_type": "stream",
          "text": [
            "/usr/local/lib/python3.6/dist-packages/tensorflow/python/framework/indexed_slices.py:434: UserWarning: Converting sparse IndexedSlices to a dense Tensor of unknown shape. This may consume a large amount of memory.\n",
            "  \"Converting sparse IndexedSlices to a dense Tensor of unknown shape. \"\n"
          ],
          "name": "stderr"
        },
        {
          "output_type": "stream",
          "text": [
            "Train on 16026 samples, validate on 4007 samples\n",
            "Epoch 1/10\n",
            "16026/16026 [==============================] - 28s 2ms/step - loss: 0.6036 - accuracy: 0.6664 - val_loss: 0.5698 - val_accuracy: 0.7662\n",
            "Epoch 2/10\n",
            "16026/16026 [==============================] - 29s 2ms/step - loss: 0.4499 - accuracy: 0.7907 - val_loss: 0.4226 - val_accuracy: 0.8003\n",
            "Epoch 3/10\n",
            "16026/16026 [==============================] - 28s 2ms/step - loss: 0.3968 - accuracy: 0.8196 - val_loss: 0.4059 - val_accuracy: 0.8166\n",
            "Epoch 4/10\n",
            "16026/16026 [==============================] - 28s 2ms/step - loss: 0.3700 - accuracy: 0.8354 - val_loss: 0.3948 - val_accuracy: 0.8231\n",
            "Epoch 5/10\n",
            "16026/16026 [==============================] - 28s 2ms/step - loss: 0.3486 - accuracy: 0.8471 - val_loss: 0.3919 - val_accuracy: 0.8256\n",
            "Epoch 6/10\n",
            "16026/16026 [==============================] - 29s 2ms/step - loss: 0.3385 - accuracy: 0.8528 - val_loss: 0.3886 - val_accuracy: 0.8290\n",
            "Epoch 7/10\n",
            "16026/16026 [==============================] - 29s 2ms/step - loss: 0.3252 - accuracy: 0.8580 - val_loss: 0.3893 - val_accuracy: 0.8263\n",
            "Epoch 8/10\n",
            "16026/16026 [==============================] - 28s 2ms/step - loss: 0.3125 - accuracy: 0.8673 - val_loss: 0.3947 - val_accuracy: 0.8293\n",
            "Epoch 9/10\n",
            "16026/16026 [==============================] - 28s 2ms/step - loss: 0.3066 - accuracy: 0.8698 - val_loss: 0.3884 - val_accuracy: 0.8303\n",
            "Epoch 10/10\n",
            "16026/16026 [==============================] - 27s 2ms/step - loss: 0.2954 - accuracy: 0.8749 - val_loss: 0.3953 - val_accuracy: 0.8308\n"
          ],
          "name": "stdout"
        }
      ]
    },
    {
      "cell_type": "markdown",
      "metadata": {
        "id": "Oy9FCADnKkBs",
        "colab_type": "text"
      },
      "source": [
        " ***Model Evaluation***"
      ]
    },
    {
      "cell_type": "code",
      "metadata": {
        "id": "mz7_8IMcHAuu",
        "colab_type": "code",
        "colab": {
          "base_uri": "https://localhost:8080/",
          "height": 356
        },
        "outputId": "2534aa5e-b4f8-41b6-db02-79a7fa03d0a9"
      },
      "source": [
        "import matplotlib.pyplot as plt\n",
        "\n",
        "fig, (ax1, ax2) = plt.subplots(1,2,figsize=(15,5))\n",
        "fig.suptitle(\"Performance of Model\")\n",
        "ax1.plot(history.history['accuracy'])\n",
        "ax1.plot(history.history['val_accuracy'])\n",
        "vline_cut = np.where(history.history['val_accuracy'] == np.max(history.history['val_accuracy']))[0][0]\n",
        "ax1.axvline(x=vline_cut, color='k', linestyle='--')\n",
        "ax1.set_title(\"Model Accuracy\")\n",
        "ax1.legend(['train', 'test'])\n",
        "\n",
        "ax2.plot(history.history['loss'])\n",
        "ax2.plot(history.history['val_loss'])\n",
        "vline_cut = np.where(history.history['val_loss'] == np.min(history.history['val_loss']))[0][0]\n",
        "ax2.axvline(x=vline_cut, color='k', linestyle='--')\n",
        "ax2.set_title(\"Model Loss\")\n",
        "ax2.legend(['train', 'test'])\n",
        "plt.show()"
      ],
      "execution_count": null,
      "outputs": [
        {
          "output_type": "display_data",
          "data": {
            "image/png": "[encoded data removed]",
            "text/plain": [
              "<Figure size 1080x360 with 2 Axes>"
            ]
          },
          "metadata": {
            "tags": [],
            "needs_background": "light"
          }
        }
      ]
    },
    {
      "cell_type": "markdown",
      "metadata": {
        "id": "2rDyTSeNKuTz",
        "colab_type": "text"
      },
      "source": [
        "***Plot confusion matrix***"
      ]
    },
    {
      "cell_type": "code",
      "metadata": {
        "id": "3cjkLd7UF_9B",
        "colab_type": "code",
        "colab": {
          "base_uri": "https://localhost:8080/",
          "height": 279
        },
        "outputId": "57a7eab2-4ad7-44d8-f506-df1fe0253f4b"
      },
      "source": [
        "from mlxtend.plotting import plot_confusion_matrix\n",
        "from sklearn.metrics import confusion_matrix, classification_report, accuracy_score\n",
        "\n",
        "pred=np.around(model.predict(X_test))\n",
        "fig, ax = plot_confusion_matrix(conf_mat=confusion_matrix(Y_test,pred))\n",
        "plt.show()"
      ],
      "execution_count": null,
      "outputs": [
        {
          "output_type": "display_data",
          "data": {
            "image/png": "[encoded data removed]",
            "text/plain": [
              "<Figure size 432x288 with 1 Axes>"
            ]
          },
          "metadata": {
            "tags": [],
            "needs_background": "light"
          }
        }
      ]
    },
    {
      "cell_type": "code",
      "metadata": {
        "id": "DQuuv-rLGF7N",
        "colab_type": "code",
        "colab": {
          "base_uri": "https://localhost:8080/",
          "height": 170
        },
        "outputId": "0134f8a3-941d-4462-d8ec-9f177213222a"
      },
      "source": [
        "print(classification_report(Y_test,pred))"
      ],
      "execution_count": null,
      "outputs": [
        {
          "output_type": "stream",
          "text": [
            "              precision    recall  f1-score   support\n",
            "\n",
            "           0       0.85      0.81      0.83      4455\n",
            "           1       0.80      0.85      0.82      4131\n",
            "\n",
            "    accuracy                           0.83      8586\n",
            "   macro avg       0.83      0.83      0.83      8586\n",
            "weighted avg       0.83      0.83      0.83      8586\n",
            "\n"
          ],
          "name": "stdout"
        }
      ]
    },
    {
      "cell_type": "markdown",
      "metadata": {
        "id": "p4-dM4xIw__q",
        "colab_type": "text"
      },
      "source": [
        "# **Feature Engineering và Training với thuật toán SVM và NaiveBayes**"
      ]
    },
    {
      "cell_type": "markdown",
      "metadata": {
        "id": "n2-6Nug-QgGI",
        "colab_type": "text"
      },
      "source": [
        "thêm thư viện cần thiết"
      ]
    },
    {
      "cell_type": "code",
      "metadata": {
        "id": "QM47PsYO83eO",
        "colab_type": "code",
        "colab": {}
      },
      "source": [
        "from sklearn.feature_extraction.text import TfidfVectorizer\n",
        "from sklearn import model_selection, naive_bayes, svm\n",
        "from sklearn.metrics import accuracy_score\n",
        "from sklearn.model_selection import train_test_split\n",
        "from sklearn.metrics import classification_report,confusion_matrix\n",
        "from mlxtend.plotting import plot_confusion_matrix\n",
        "import matplotlib.pyplot as plt\n"
      ],
      "execution_count": null,
      "outputs": []
    },
    {
      "cell_type": "markdown",
      "metadata": {
        "id": "x3REfvltoahV",
        "colab_type": "text"
      },
      "source": [
        "chia train test"
      ]
    },
    {
      "cell_type": "code",
      "metadata": {
        "id": "KIjcBAC6_WVt",
        "colab_type": "code",
        "colab": {}
      },
      "source": [
        "X = [\" \".join(x) for x in hl_lemmatized]\n",
        "Train_X, Test_X, Train_Y, Test_Y = train_test_split(X,df['is_sarcastic'],test_size=0.3)"
      ],
      "execution_count": null,
      "outputs": []
    },
    {
      "cell_type": "markdown",
      "metadata": {
        "id": "ni46V7Q9QnON",
        "colab_type": "text"
      },
      "source": [
        "Sử dụng TF-IDF để tiến hành word embedding"
      ]
    },
    {
      "cell_type": "code",
      "metadata": {
        "id": "o85tKZX8_oXa",
        "colab_type": "code",
        "colab": {}
      },
      "source": [
        "Tfidf_vect = TfidfVectorizer(max_features=5000)\n",
        "Tfidf_vect.fit(X)\n",
        "Train_X_Tfidf = Tfidf_vect.transform(Train_X)\n",
        "Test_X_Tfidf = Tfidf_vect.transform(Test_X)"
      ],
      "execution_count": null,
      "outputs": []
    },
    {
      "cell_type": "markdown",
      "metadata": {
        "id": "fmPNXvnXQzml",
        "colab_type": "text"
      },
      "source": [
        "## ***Trainning với SVM***"
      ]
    },
    {
      "cell_type": "code",
      "metadata": {
        "id": "kbPdG1h3ApNq",
        "colab_type": "code",
        "colab": {
          "base_uri": "https://localhost:8080/",
          "height": 85
        },
        "outputId": "ff51b91e-8439-4d71-aca4-d42f4702137a"
      },
      "source": [
        "SVM = svm.SVC(C=1.0, kernel='linear', verbose=True)\n",
        "SVM.fit(Train_X_Tfidf,Train_Y)"
      ],
      "execution_count": null,
      "outputs": [
        {
          "output_type": "stream",
          "text": [
            "[LibSVM]"
          ],
          "name": "stdout"
        },
        {
          "output_type": "execute_result",
          "data": {
            "text/plain": [
              "SVC(C=1.0, break_ties=False, cache_size=200, class_weight=None, coef0=0.0,\n",
              "    decision_function_shape='ovr', degree=3, gamma='scale', kernel='linear',\n",
              "    max_iter=-1, probability=False, random_state=None, shrinking=True,\n",
              "    tol=0.001, verbose=True)"
            ]
          },
          "metadata": {
            "tags": []
          },
          "execution_count": 31
        }
      ]
    },
    {
      "cell_type": "markdown",
      "metadata": {
        "id": "XeGhJ-PNRKSt",
        "colab_type": "text"
      },
      "source": [
        "Plot confusion matrix"
      ]
    },
    {
      "cell_type": "code",
      "metadata": {
        "id": "H8_K7pEPCoHJ",
        "colab_type": "code",
        "colab": {
          "base_uri": "https://localhost:8080/",
          "height": 279
        },
        "outputId": "ddc58320-3551-49d9-90b0-443eafeadf3a"
      },
      "source": [
        "predictions_SVM=SVM.predict(Test_X_Tfidf)\n",
        "fig, ax = plot_confusion_matrix(conf_mat=confusion_matrix(Test_Y,predictions_SVM))\n",
        "plt.show()"
      ],
      "execution_count": null,
      "outputs": [
        {
          "output_type": "display_data",
          "data": {
            "image/png": "[encoded data removed]",
            "text/plain": [
              "<Figure size 432x288 with 1 Axes>"
            ]
          },
          "metadata": {
            "tags": [],
            "needs_background": "light"
          }
        }
      ]
    },
    {
      "cell_type": "code",
      "metadata": {
        "id": "Guij9En0DehG",
        "colab_type": "code",
        "colab": {
          "base_uri": "https://localhost:8080/",
          "height": 170
        },
        "outputId": "dfc37c35-9d1a-45ad-d088-e0602c6d2824"
      },
      "source": [
        "print(classification_report(Test_Y,predictions_SVM))"
      ],
      "execution_count": null,
      "outputs": [
        {
          "output_type": "stream",
          "text": [
            "              precision    recall  f1-score   support\n",
            "\n",
            "           0       0.83      0.84      0.83      4476\n",
            "           1       0.82      0.82      0.82      4110\n",
            "\n",
            "    accuracy                           0.83      8586\n",
            "   macro avg       0.83      0.83      0.83      8586\n",
            "weighted avg       0.83      0.83      0.83      8586\n",
            "\n"
          ],
          "name": "stdout"
        }
      ]
    },
    {
      "cell_type": "markdown",
      "metadata": {
        "id": "fVP5iRyZRphx",
        "colab_type": "text"
      },
      "source": [
        "## ***Trainning với Naive Bayes***"
      ]
    },
    {
      "cell_type": "code",
      "metadata": {
        "id": "aopXBmNsRy0c",
        "colab_type": "code",
        "colab": {
          "base_uri": "https://localhost:8080/",
          "height": 34
        },
        "outputId": "95f6608a-dd5f-416e-f763-4f9e89da0eb4"
      },
      "source": [
        "Naive = naive_bayes.MultinomialNB()\n",
        "Naive.fit(Train_X_Tfidf,Train_Y)"
      ],
      "execution_count": null,
      "outputs": [
        {
          "output_type": "execute_result",
          "data": {
            "text/plain": [
              "MultinomialNB(alpha=1.0, class_prior=None, fit_prior=True)"
            ]
          },
          "metadata": {
            "tags": []
          },
          "execution_count": 34
        }
      ]
    },
    {
      "cell_type": "markdown",
      "metadata": {
        "id": "9fNfVmKnR-0V",
        "colab_type": "text"
      },
      "source": [
        "Plot confution matrix"
      ]
    },
    {
      "cell_type": "code",
      "metadata": {
        "id": "HFCEuNC1R5o7",
        "colab_type": "code",
        "colab": {
          "base_uri": "https://localhost:8080/",
          "height": 279
        },
        "outputId": "93a3dac2-9afe-4a18-816a-c2ee03e7e70b"
      },
      "source": [
        "predictions_NB=Naive.predict(Test_X_Tfidf)\n",
        "fig, ax = plot_confusion_matrix(conf_mat=confusion_matrix(Test_Y,predictions_NB))\n",
        "plt.show()"
      ],
      "execution_count": null,
      "outputs": [
        {
          "output_type": "display_data",
          "data": {
            "image/png": "[encoded data removed]",
            "text/plain": [
              "<Figure size 432x288 with 1 Axes>"
            ]
          },
          "metadata": {
            "tags": [],
            "needs_background": "light"
          }
        }
      ]
    },
    {
      "cell_type": "code",
      "metadata": {
        "id": "-VB3mATWD4jk",
        "colab_type": "code",
        "colab": {
          "base_uri": "https://localhost:8080/",
          "height": 170
        },
        "outputId": "e5e95930-8d07-4c2e-ffa6-64121aa2c2ba"
      },
      "source": [
        "print(classification_report(Test_Y,predictions_NB))"
      ],
      "execution_count": null,
      "outputs": [
        {
          "output_type": "stream",
          "text": [
            "              precision    recall  f1-score   support\n",
            "\n",
            "           0       0.81      0.86      0.83      4476\n",
            "           1       0.84      0.78      0.81      4110\n",
            "\n",
            "    accuracy                           0.82      8586\n",
            "   macro avg       0.82      0.82      0.82      8586\n",
            "weighted avg       0.82      0.82      0.82      8586\n",
            "\n"
          ],
          "name": "stdout"
        }
      ]
    },
    {
      "cell_type": "markdown",
      "metadata": {
        "id": "I2sBE1CwpC1E",
        "colab_type": "text"
      },
      "source": [
        "# **Lưu các model đã train và tiến hành predict thử 1 số headlines nhập vào**"
      ]
    },
    {
      "cell_type": "code",
      "metadata": {
        "id": "DMLnuW5apkJa",
        "colab_type": "code",
        "colab": {
          "base_uri": "https://localhost:8080/",
          "height": 34
        },
        "outputId": "55520a14-da7f-448c-f96f-836ef0f93ea4"
      },
      "source": [
        "#lưu model\n",
        "import joblib\n",
        "\n",
        "joblib.dump(Tfidf_vect, '/content/model/tfidf_w_embedding.pkl')\n",
        "joblib.dump(tokenizer, '/content/model/rnn_w_embedding.pkl')\n",
        "joblib.dump(model, '/content/model/rnn_model.pkl')\n",
        "joblib.dump(SVM, '/content/model/svm_model.pkl')\n",
        "joblib.dump(Naive, '/content/model/nb_model.pkl')\n",
        "joblib.dump(max_token, '/content/model/rnn_max_token.pkl')"
      ],
      "execution_count": null,
      "outputs": [
        {
          "output_type": "execute_result",
          "data": {
            "text/plain": [
              "['/content/model/rnn_max_token.pkl']"
            ]
          },
          "metadata": {
            "tags": []
          },
          "execution_count": 41
        }
      ]
    },
    {
      "cell_type": "markdown",
      "metadata": {
        "id": "tR-N8h63ti_z",
        "colab_type": "text"
      },
      "source": [
        "**reset runtime và test**"
      ]
    },
    {
      "cell_type": "code",
      "metadata": {
        "id": "qOeIB9j-sFjS",
        "colab_type": "code",
        "colab": {
          "base_uri": "https://localhost:8080/",
          "height": 204
        },
        "outputId": "93ca3adc-708a-4800-d31a-6ed5fde7258d"
      },
      "source": [
        "#thêm các thư viện\n",
        "from nltk.corpus import wordnet,stopwords\n",
        "from nltk.stem import WordNetLemmatizer\n",
        "from sklearn.metrics import classification_report,confusion_matrix\n",
        "import re\n",
        "import string\n",
        "from string import digits, punctuation\n",
        "import pandas as pd\n",
        "import joblib\n",
        "import nltk\n",
        "import numpy as np\n",
        "from keras.preprocessing.text import Tokenizer\n",
        "from keras.preprocessing import sequence\n",
        "from keras.preprocessing.sequence import pad_sequences\n",
        "nltk.download('averaged_perceptron_tagger')\n",
        "nltk.download('wordnet')\n",
        "nltk.download('punkt')\n",
        "nltk.download('stopwords')"
      ],
      "execution_count": null,
      "outputs": [
        {
          "output_type": "stream",
          "text": [
            "[nltk_data] Downloading package averaged_perceptron_tagger to\n",
            "[nltk_data]     /root/nltk_data...\n",
            "[nltk_data]   Package averaged_perceptron_tagger is already up-to-\n",
            "[nltk_data]       date!\n",
            "[nltk_data] Downloading package wordnet to /root/nltk_data...\n",
            "[nltk_data]   Package wordnet is already up-to-date!\n",
            "[nltk_data] Downloading package punkt to /root/nltk_data...\n",
            "[nltk_data]   Package punkt is already up-to-date!\n",
            "[nltk_data] Downloading package stopwords to /root/nltk_data...\n",
            "[nltk_data]   Package stopwords is already up-to-date!\n"
          ],
          "name": "stdout"
        },
        {
          "output_type": "execute_result",
          "data": {
            "text/plain": [
              "True"
            ]
          },
          "metadata": {
            "tags": []
          },
          "execution_count": 19
        }
      ]
    },
    {
      "cell_type": "code",
      "metadata": {
        "id": "dVP_LV1Eq0OB",
        "colab_type": "code",
        "colab": {}
      },
      "source": [
        "#load lại model và các thông số cần thiết\n",
        "max_token=joblib.load('model/rnn_max_token.pkl')\n",
        "rnn_model=joblib.load('model/rnn_model.pkl')\n",
        "rnn_w_embedding=joblib.load('model/rnn_w_embedding.pkl')\n",
        "svm_model=joblib.load('model/svm_model.pkl')\n",
        "nb_model=joblib.load('model/nb_model.pkl')\n",
        "tfidf_w_embedding=joblib.load('model/tfidf_w_embedding.pkl')"
      ],
      "execution_count": null,
      "outputs": []
    },
    {
      "cell_type": "markdown",
      "metadata": {
        "id": "UlRInu6YtfIh",
        "colab_type": "text"
      },
      "source": [
        "**cài đặt các hàm cần thiết để xử lý đầu vào và dự đoán kết quả**"
      ]
    },
    {
      "cell_type": "code",
      "metadata": {
        "id": "SdOc14olsZ8I",
        "colab_type": "code",
        "colab": {}
      },
      "source": [
        "def text_cleansing(text):\n",
        "  #Xóa kí tự đặc biệt\n",
        "  text = text.translate(str.maketrans('', '', punctuation))\n",
        "  #Xóa số\n",
        "  text = text.translate(str.maketrans('', '', digits))\n",
        "  return text.strip()\n",
        "\n",
        "def text_tokenizer(text):\n",
        "  return text.split()   \n",
        "\n",
        "def get_wordnet_pos(word):\n",
        "    \"\"\"Map POS tag to first character lemmatize() accepts\"\"\"\n",
        "    tag = nltk.pos_tag([word])[0][1][0].upper()\n",
        "    tag_dict = {\"J\": wordnet.ADJ,\n",
        "                \"N\": wordnet.NOUN,\n",
        "                \"V\": wordnet.VERB,\n",
        "                \"R\": wordnet.ADV}\n",
        "\n",
        "    return tag_dict.get(tag, wordnet.NOUN)\n",
        "\n",
        "def word_lemmatizer(list_token):\n",
        "  # khởi tạo Lemmatizer\n",
        "  lemmatizer = WordNetLemmatizer()\n",
        "  return [lemmatizer.lemmatize(w, get_wordnet_pos(w)) for w in list_token]\n",
        "\n",
        "def rnn_predict(text):\n",
        "  print('Headline: ',text,'\\n')\n",
        "  text=text_cleansing(text)\n",
        "  w_lemma=[word_lemmatizer(text.split())]\n",
        "  sequences = rnn_w_embedding.texts_to_sequences(w_lemma)\n",
        "  X = pad_sequences(sequences, maxlen=max_token)\n",
        "  if np.around(rnn_model.predict(X)[0])==1:\n",
        "    print(\"RNN predict =============> sarcastic\\n\\n\")\n",
        "  else:\n",
        "    print(\"RNN predict =============> non-sarcastic\\n\\n\")\n",
        "\n",
        "def svm_predict(text):\n",
        "  print('Headline: ',text,'\\n')\n",
        "  text=text_cleansing(text)\n",
        "  w_lemma=[word_lemmatizer(text.split())]\n",
        "  w_lemma=[\" \".join(x) for x in w_lemma]\n",
        "  X_Tfidf = tfidf_w_embedding.transform(w_lemma)\n",
        "  if np.around(svm_model.predict(X_Tfidf)[0])==1:\n",
        "    print(\"SVM predict =============> sarcastic\\n\\n\")\n",
        "  else:\n",
        "    print(\"SVM predict =============> non-sarcastic\\n\\n\")\n",
        "\n",
        "def nb_predict(text):\n",
        "  print('Headline: ',text,'\\n')\n",
        "  text=text_cleansing(text)\n",
        "  w_lemma=[word_lemmatizer(text.split())]\n",
        "  w_lemma=[\" \".join(x) for x in w_lemma]\n",
        "  X_Tfidf = tfidf_w_embedding.transform(w_lemma)\n",
        "  if np.around(nb_model.predict(X_Tfidf)[0])==1:\n",
        "    print(\"NB predict =============> sarcastic\\n\\n\")\n",
        "  else:\n",
        "    print(\"NB predict =============> non-sarcastic\\n\\n\")"
      ],
      "execution_count": null,
      "outputs": []
    },
    {
      "cell_type": "markdown",
      "metadata": {
        "id": "Da9-RFGJwmNL",
        "colab_type": "text"
      },
      "source": [
        "**Tiến hành dự đoán**"
      ]
    },
    {
      "cell_type": "code",
      "metadata": {
        "id": "w5zaBSxTtSSH",
        "colab_type": "code",
        "colab": {
          "base_uri": "https://localhost:8080/",
          "height": 272
        },
        "outputId": "9775367d-1f92-4bd5-c1a7-7072dc28ddf8"
      },
      "source": [
        "rnn_predict('Jilted Lover Keying Cheater’s Car Realizes She Should Have Started Further Over')\n",
        "svm_predict('Jilted Lover Keying Cheater’s Car Realizes She Should Have Started Further Over')\n",
        "nb_predict('Jilted Lover Keying Cheater’s Car Realizes She Should Have Started Further Over')"
      ],
      "execution_count": null,
      "outputs": [
        {
          "output_type": "stream",
          "text": [
            "Headline:  Jilted Lover Keying Cheater’s Car Realizes She Should Have Started Further Over \n",
            "\n",
            "RNN predict =============> sarcastic\n",
            "\n",
            "\n",
            "Headline:  Jilted Lover Keying Cheater’s Car Realizes She Should Have Started Further Over \n",
            "\n",
            "SVM predict =============> sarcastic\n",
            "\n",
            "\n",
            "Headline:  Jilted Lover Keying Cheater’s Car Realizes She Should Have Started Further Over \n",
            "\n",
            "NB predict =============> sarcastic\n",
            "\n",
            "\n"
          ],
          "name": "stdout"
        }
      ]
    },
    {
      "cell_type": "code",
      "metadata": {
        "id": "aKEN5WWiwk87",
        "colab_type": "code",
        "colab": {
          "base_uri": "https://localhost:8080/",
          "height": 272
        },
        "outputId": "651a6241-f005-4679-afff-f101200d1668"
      },
      "source": [
        "rnn_predict('Officials Warn Defunding Police Could Lead To Spike In Crime From Ex-Officers With No Outlet For Violence')\n",
        "svm_predict('Officials Warn Defunding Police Could Lead To Spike In Crime From Ex-Officers With No Outlet For Violence')\n",
        "nb_predict('Officials Warn Defunding Police Could Lead To Spike In Crime From Ex-Officers With No Outlet For Violence')"
      ],
      "execution_count": null,
      "outputs": [
        {
          "output_type": "stream",
          "text": [
            "Headline:  Officials Warn Defunding Police Could Lead To Spike In Crime From Ex-Officers With No Outlet For Violence \n",
            "\n",
            "RNN predict =============> sarcastic\n",
            "\n",
            "\n",
            "Headline:  Officials Warn Defunding Police Could Lead To Spike In Crime From Ex-Officers With No Outlet For Violence \n",
            "\n",
            "SVM predict =============> non-sarcastic\n",
            "\n",
            "\n",
            "Headline:  Officials Warn Defunding Police Could Lead To Spike In Crime From Ex-Officers With No Outlet For Violence \n",
            "\n",
            "NB predict =============> non-sarcastic\n",
            "\n",
            "\n"
          ],
          "name": "stdout"
        }
      ]
    },
    {
      "cell_type": "code",
      "metadata": {
        "id": "Rjl17i7hw1Pb",
        "colab_type": "code",
        "colab": {
          "base_uri": "https://localhost:8080/",
          "height": 272
        },
        "outputId": "17ad00a8-a3d5-405e-ad79-6da5315bc327"
      },
      "source": [
        "rnn_predict('Jack Abramoff, The Face Of Corrupt Lobbying, Charged In Yet Another Lobbying Scheme')\n",
        "svm_predict('Jack Abramoff, The Face Of Corrupt Lobbying, Charged In Yet Another Lobbying Scheme')\n",
        "nb_predict('Jack Abramoff, The Face Of Corrupt Lobbying, Charged In Yet Another Lobbying Scheme')"
      ],
      "execution_count": null,
      "outputs": [
        {
          "output_type": "stream",
          "text": [
            "Headline:  Jack Abramoff, The Face Of Corrupt Lobbying, Charged In Yet Another Lobbying Scheme \n",
            "\n",
            "RNN predict =============> non-sarcastic\n",
            "\n",
            "\n",
            "Headline:  Jack Abramoff, The Face Of Corrupt Lobbying, Charged In Yet Another Lobbying Scheme \n",
            "\n",
            "SVM predict =============> non-sarcastic\n",
            "\n",
            "\n",
            "Headline:  Jack Abramoff, The Face Of Corrupt Lobbying, Charged In Yet Another Lobbying Scheme \n",
            "\n",
            "NB predict =============> non-sarcastic\n",
            "\n",
            "\n"
          ],
          "name": "stdout"
        }
      ]
    },
    {
      "cell_type": "code",
      "metadata": {
        "id": "1o2NYevE33NN",
        "colab_type": "code",
        "colab": {
          "base_uri": "https://localhost:8080/",
          "height": 272
        },
        "outputId": "d0919656-ddef-4436-bc40-88c3557a49be"
      },
      "source": [
        "rnn_predict('Trump Has Dismantled More Monuments Than Any Protest')\n",
        "svm_predict('Trump Has Dismantled More Monuments Than Any Protest')\n",
        "nb_predict('Trump Has Dismantled More Monuments Than Any Protest')"
      ],
      "execution_count": null,
      "outputs": [
        {
          "output_type": "stream",
          "text": [
            "Headline:  Trump Has Dismantled More Monuments Than Any Protest \n",
            "\n",
            "RNN predict =============> non-sarcastic\n",
            "\n",
            "\n",
            "Headline:  Trump Has Dismantled More Monuments Than Any Protest \n",
            "\n",
            "SVM predict =============> non-sarcastic\n",
            "\n",
            "\n",
            "Headline:  Trump Has Dismantled More Monuments Than Any Protest \n",
            "\n",
            "NB predict =============> non-sarcastic\n",
            "\n",
            "\n"
          ],
          "name": "stdout"
        }
      ]
    }
  ]
}