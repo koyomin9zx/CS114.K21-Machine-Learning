{
  "nbformat": 4,
  "nbformat_minor": 0,
  "metadata": {
    "colab": {
      "name": "Train_old_data_v1.ipynb",
      "provenance": [],
      "collapsed_sections": [
        "JZ96xPtVUs6_",
        "dXdJg9NeU0P5",
        "tU0qnztsVFQ8",
        "-cPRMlAdv7zL",
        "aEcDp-P2WloX",
        "AM1y1cQmsxep",
        "KyZoDoOFuer8",
        "bctsDwmGunnC",
        "3W3GGFrtydIP",
        "HQw-P4G7z0e8",
        "3RGVdoWO0MTd",
        "qoyU4kK8XbIS"
      ],
      "toc_visible": true,
      "include_colab_link": true
    },
    "kernelspec": {
      "name": "python3",
      "display_name": "Python 3"
    },
    "accelerator": "GPU"
  },
  "cells": [
    {
      "cell_type": "markdown",
      "metadata": {
        "id": "view-in-github",
        "colab_type": "text"
      },
      "source": [
        "<a href=\"https://colab.research.google.com/github/ndvinh98/CS114.K21-Machine-Learning/blob/master/Project/Train_old_data_v1.ipynb\" target=\"_parent\"><img src=\"https://colab.research.google.com/assets/colab-badge.svg\" alt=\"Open In Colab\"/></a>"
      ]
    },
    {
      "cell_type": "markdown",
      "metadata": {
        "id": "gPUAEN5SUkxw",
        "colab_type": "text"
      },
      "source": [
        "# ***Preprocessing***"
      ]
    },
    {
      "cell_type": "markdown",
      "metadata": {
        "id": "JZ96xPtVUs6_",
        "colab_type": "text"
      },
      "source": [
        "### **Mount drive & install lib**"
      ]
    },
    {
      "cell_type": "code",
      "metadata": {
        "id": "KszaqnV79KhB",
        "colab_type": "code",
        "colab": {}
      },
      "source": [
        "from google.colab import drive\n",
        "drive.mount('/content/drive')"
      ],
      "execution_count": null,
      "outputs": []
    },
    {
      "cell_type": "code",
      "metadata": {
        "id": "Fc1fFt4bKifR",
        "colab_type": "code",
        "colab": {}
      },
      "source": [
        "!ln -s /content/drive/'My Drive'/Sentiment_Classification"
      ],
      "execution_count": null,
      "outputs": []
    },
    {
      "cell_type": "code",
      "metadata": {
        "id": "m7n984Hp9tVS",
        "colab_type": "code",
        "colab": {}
      },
      "source": [
        "!pip install scikit-learn==0.23.1\n",
        "!pip install underthesea\n",
        "!pip install unidecode"
      ],
      "execution_count": null,
      "outputs": []
    },
    {
      "cell_type": "markdown",
      "metadata": {
        "id": "dXdJg9NeU0P5",
        "colab_type": "text"
      },
      "source": [
        "### **import lib**"
      ]
    },
    {
      "cell_type": "code",
      "metadata": {
        "id": "m4potPEzU6Ix",
        "colab_type": "code",
        "colab": {}
      },
      "source": [
        "import pandas as pd\n",
        "import glob\n",
        "import seaborn as sns\n",
        "import string\n",
        "from string import digits, punctuation\n",
        "import re\n",
        "from nltk.corpus import wordnet\n",
        "from nltk.stem import WordNetLemmatizer\n",
        "from keras.preprocessing.text import Tokenizer\n",
        "from keras.preprocessing import sequence\n",
        "from keras.preprocessing.sequence import pad_sequences\n",
        "import numpy as np\n",
        "from keras.layers import LSTM, Activation, Dense, Dropout, Input, Embedding, BatchNormalization\n",
        "from keras.optimizers import RMSprop,Adam\n",
        "from keras.models import Sequential\n",
        "from keras.layers import Dense, Embedding, LSTM, SpatialDropout1D\n",
        "from keras.backend import clear_session\n",
        "import matplotlib.pyplot as plt\n",
        "from mlxtend.plotting import plot_confusion_matrix\n",
        "from sklearn.feature_extraction.text import TfidfVectorizer\n",
        "from sklearn import model_selection, naive_bayes, svm\n",
        "from sklearn.metrics import accuracy_score\n",
        "from sklearn.metrics import classification_report,confusion_matrix\n",
        "from underthesea import word_tokenize\n",
        "import unidecode\n",
        "import joblib\n",
        "import nltk\n",
        "nltk.download('averaged_perceptron_tagger')\n",
        "nltk.download('wordnet')\n",
        "nltk.download('punkt')\n",
        "nltk.download('stopwords')\n"
      ],
      "execution_count": null,
      "outputs": []
    },
    {
      "cell_type": "markdown",
      "metadata": {
        "id": "tU0qnztsVFQ8",
        "colab_type": "text"
      },
      "source": [
        "### **Import data into Pandas**"
      ]
    },
    {
      "cell_type": "code",
      "metadata": {
        "id": "bWur2VrQVQq-",
        "colab_type": "code",
        "colab": {
          "base_uri": "https://localhost:8080/",
          "height": 195
        },
        "outputId": "96f78ade-72f7-43e6-af85-ec0e1cafd055"
      },
      "source": [
        "df_train= pd.read_csv('/content/Sentiment_Classification/data/train.csv')\n",
        "df_test= pd.read_csv('/content/Sentiment_Classification/data/test.csv')\n",
        "\n",
        "df_train.head(5)\n"
      ],
      "execution_count": null,
      "outputs": [
        {
          "output_type": "execute_result",
          "data": {
            "text/html": [
              "<div>\n",
              "<style scoped>\n",
              "    .dataframe tbody tr th:only-of-type {\n",
              "        vertical-align: middle;\n",
              "    }\n",
              "\n",
              "    .dataframe tbody tr th {\n",
              "        vertical-align: top;\n",
              "    }\n",
              "\n",
              "    .dataframe thead th {\n",
              "        text-align: right;\n",
              "    }\n",
              "</style>\n",
              "<table border=\"1\" class=\"dataframe\">\n",
              "  <thead>\n",
              "    <tr style=\"text-align: right;\">\n",
              "      <th></th>\n",
              "      <th>cau_goc</th>\n",
              "      <th>nhan</th>\n",
              "    </tr>\n",
              "  </thead>\n",
              "  <tbody>\n",
              "    <tr>\n",
              "      <th>0</th>\n",
              "      <td>cam ơn shop nhiều lam, e nhận dc máy rồi,  sài...</td>\n",
              "      <td>1</td>\n",
              "    </tr>\n",
              "    <tr>\n",
              "      <th>1</th>\n",
              "      <td>Ngon như ăn cà</td>\n",
              "      <td>1</td>\n",
              "    </tr>\n",
              "    <tr>\n",
              "      <th>2</th>\n",
              "      <td>Ve ngoai hinh khoang 96℅,mat kinh truoc va sau...</td>\n",
              "      <td>1</td>\n",
              "    </tr>\n",
              "    <tr>\n",
              "      <th>3</th>\n",
              "      <td>lỗi vào 4G, phải khởi động lại máy thì mới chu...</td>\n",
              "      <td>0</td>\n",
              "    </tr>\n",
              "    <tr>\n",
              "      <th>4</th>\n",
              "      <td>Đã mua và nhận xét : ngoại hình khá, màn hình ...</td>\n",
              "      <td>0</td>\n",
              "    </tr>\n",
              "  </tbody>\n",
              "</table>\n",
              "</div>"
            ],
            "text/plain": [
              "                                             cau_goc  nhan\n",
              "0  cam ơn shop nhiều lam, e nhận dc máy rồi,  sài...     1\n",
              "1                                     Ngon như ăn cà     1\n",
              "2  Ve ngoai hinh khoang 96℅,mat kinh truoc va sau...     1\n",
              "3  lỗi vào 4G, phải khởi động lại máy thì mới chu...     0\n",
              "4  Đã mua và nhận xét : ngoại hình khá, màn hình ...     0"
            ]
          },
          "metadata": {
            "tags": []
          },
          "execution_count": 5
        }
      ]
    },
    {
      "cell_type": "code",
      "metadata": {
        "id": "P4-PA-aeFTt_",
        "colab_type": "code",
        "colab": {
          "base_uri": "https://localhost:8080/",
          "height": 168
        },
        "outputId": "0b04a8ac-d8e7-4bc6-c037-90f394d2a123"
      },
      "source": [
        "df_train.info()"
      ],
      "execution_count": null,
      "outputs": [
        {
          "output_type": "stream",
          "text": [
            "<class 'pandas.core.frame.DataFrame'>\n",
            "RangeIndex: 10000 entries, 0 to 9999\n",
            "Data columns (total 2 columns):\n",
            " #   Column   Non-Null Count  Dtype \n",
            "---  ------   --------------  ----- \n",
            " 0   cau_goc  10000 non-null  object\n",
            " 1   nhan     10000 non-null  int64 \n",
            "dtypes: int64(1), object(1)\n",
            "memory usage: 156.4+ KB\n"
          ],
          "name": "stdout"
        }
      ]
    },
    {
      "cell_type": "code",
      "metadata": {
        "id": "eMGGObQ8FW5p",
        "colab_type": "code",
        "colab": {
          "base_uri": "https://localhost:8080/",
          "height": 168
        },
        "outputId": "5c7cc8d1-cd7f-44a4-b2d9-a2ae6b18e5b2"
      },
      "source": [
        "df_test.info()"
      ],
      "execution_count": null,
      "outputs": [
        {
          "output_type": "stream",
          "text": [
            "<class 'pandas.core.frame.DataFrame'>\n",
            "RangeIndex: 2537 entries, 0 to 2536\n",
            "Data columns (total 2 columns):\n",
            " #   Column   Non-Null Count  Dtype \n",
            "---  ------   --------------  ----- \n",
            " 0   cau_goc  2537 non-null   object\n",
            " 1   nhan     2537 non-null   int64 \n",
            "dtypes: int64(1), object(1)\n",
            "memory usage: 39.8+ KB\n"
          ],
          "name": "stdout"
        }
      ]
    },
    {
      "cell_type": "markdown",
      "metadata": {
        "id": "-cPRMlAdv7zL",
        "colab_type": "text"
      },
      "source": [
        "### **Data visualization**"
      ]
    },
    {
      "cell_type": "code",
      "metadata": {
        "id": "ynV5HOxpv64-",
        "colab_type": "code",
        "colab": {
          "base_uri": "https://localhost:8080/",
          "height": 296
        },
        "outputId": "aca0c02c-ce6c-478c-e260-0bc9f4a701c6"
      },
      "source": [
        "sns.set_style(\"dark\")\n",
        "sns.countplot(df_train.nhan)"
      ],
      "execution_count": null,
      "outputs": [
        {
          "output_type": "execute_result",
          "data": {
            "text/plain": [
              "<matplotlib.axes._subplots.AxesSubplot at 0x7fcf27c3ae10>"
            ]
          },
          "metadata": {
            "tags": []
          },
          "execution_count": 6
        },
        {
          "output_type": "display_data",
          "data": {
            "image/png": "[encoded data removed]",
            "text/plain": [
              "<Figure size 432x288 with 1 Axes>"
            ]
          },
          "metadata": {
            "tags": []
          }
        }
      ]
    },
    {
      "cell_type": "markdown",
      "metadata": {
        "id": "7WqDWMpLV-7F",
        "colab_type": "text"
      },
      "source": [
        "**See how comment look like**"
      ]
    },
    {
      "cell_type": "code",
      "metadata": {
        "id": "wVwRrjFcWDmF",
        "colab_type": "code",
        "colab": {
          "base_uri": "https://localhost:8080/",
          "height": 406
        },
        "outputId": "d3391032-2b36-4f5f-c597-aac8de6426c8"
      },
      "source": [
        "for i,content in enumerate (df_train['cau_goc'], 1):\n",
        "    if i > 20:\n",
        "        break\n",
        "    else:\n",
        "        print(i, content)"
      ],
      "execution_count": null,
      "outputs": [
        {
          "output_type": "stream",
          "text": [
            "1 cam ơn shop nhiều lam, e nhận dc máy rồi,  sài ok lam, 😄😄😄😄\n",
            "2 Ngon như ăn cà\n",
            "3 Ve ngoai hinh khoang 96℅,mat kinh truoc va sau may co vet xuoc.loa e nay hoi be,xet ve gia tien oke.mih dung chi nghe goi,quan trong ben la oke.\n",
            "4 lỗi vào 4G, phải khởi động lại máy thì mới chuyển E thành 4G, chuyển địa điểm khác bật 4G lên hiện E thì khởi động lại tiếp thì ok\n",
            "5 Đã mua và nhận xét : ngoại hình khá, màn hình rất rỗ, ý kiến cá nhân mình thì nên bỏ cam trước và tăng độ phân giải màn hình lên tí nữa vì cam trước độ phân giải quá thấp nên chẳng mấy ai chụp hình với nó cả \n",
            "6 Máy bị lỗi giải quyết như thế nào shop oi.\n",
            "7 Máy lướt web mau nóng máy,mặt lưng bám vân tay khá nhiều,cầm trơn trượt rất dễ rơi.pin mau hết..hơi thất vọng \n",
            "8 Sai lầm khi mua máy này. Sản phẩm bị lỗi quá nhiều. Đơ liên tục.ra tgdd họ k đổi cho mình đập luôn máy tại cửa hàng vì sản phẩm lừa khách hàng.k phát trực tiếp trên face.pjn 5k mà k bằng pin 2k.sắc mặt 5 tiếng .dùng chưa đến 2 tương hết pin\n",
            "9 Máy xài rất ok Với giá tiền vậy thì khg chê vào đâu\n",
            "10 Đôi lúc có vẻ máy phản hồi cảm ứng hơi bị đơ, Hay cảm ứng kém thì không rõ nhưng thao tác hơi bị ức chế. Về cảm biến vân tay thì cực ức chế, cực kỳ kém nhạy. Tối đa ba vân tay chỉ ép cho một ngón thì cũng chỉ cải thiện đc 50%, vẫn 4  - 5 lần mới mở đc máy. Một số app thông dụng chạy tí thì  có phát sinh lỗi. Thiết kế và cảm nhận thì ko như kỳ vọng. Đc cái sạc nhanh, game vừa vẫn ổn. \n",
            "11 Chơi game không được mướt \n",
            "Pin không trâu lắm.\n",
            "Tầm 6 tr 9 thì vừa camera chụp tối \n",
            "12 Sản phẩm tuyệt vời đúng như quảng cáo trên trang web\n",
            "13 Hàng đóng gói cẩn thận giao hàng nhanh. Hiện tại xài rất OK cho shop 5 sao\n",
            "14 Chất lượng tốt so với giá, nghe gọi to rõ, sóng ổn.\n",
            "15 sản phẩm tốt hơn mong đợi  máy rất đẹp chiến game  khá mượt mà mà  pin lại trâu nói chung là rat hài lòng  lãnh lương sẻ mua thêm 1cai nữa cho e  tks nhé\n",
            "16 Ko s.dụng nhiều, nên ko rõ cái lỗi của pin. Nhưng: CAM selfie xấu lắm, 4G hay LTE chỉ xài đc từ SIM2 còn SIM1 không, loa ngoài có lúc to lúc nhỏ, cái thanh cuộn trên xuống hôm rồi bị tràng mất 1 phần rìa (nay thì ko bị nữa) ưu điểm có nhưng ko nhiều. \n",
            "17 Mua máy về xài mang thêm bệnh tức.thua đồ TQ. Xài lâu thêm hại thân do amoled xuống cấp làm hại mắt. Samsung xưa xài ok giờ xài lỗi liên tục .ai mún mua nên suy nghĩ kĩ lại.đừng vì thương hiệu mà lầm.đồ nào cũng xài đc quan trọng cái nào đáp ứng đúng nhu cầu.mua con này về tức thêm\n",
            "18 Phải chỉnh sim lệch sang trái như này mới nhận sim. Máy dùng ngon nhé. Shop phục vụ nhiệt tình 😆😆\n",
            "19 Gửi rất cẩn thận ạ , máy rất đẹp ,rất hài lòng \n",
            "20 Lúc đầu sài thấy ổn, chỉ pin tụt nhanh, cảm ứng bàn phím hay bị lỗi văng ra ngoài, hay bị đơ khi chat face, zalo, nhận cuộc gọi khi đang chat, sóng wifi thì ổn, 4G thì tào lao quá so với các sản phẩm cùng tầm giá, chụp hình bông hoa, phong cảnh lúc đưa vào camera màu sắc rất đẹp, nhưng khi xem hình thì 7/10 với lúc chụp.\n"
          ],
          "name": "stdout"
        }
      ]
    },
    {
      "cell_type": "markdown",
      "metadata": {
        "id": "aEcDp-P2WloX",
        "colab_type": "text"
      },
      "source": [
        "### **Text cleansing**"
      ]
    },
    {
      "cell_type": "code",
      "metadata": {
        "id": "eVl0JP_3WoKH",
        "colab_type": "code",
        "colab": {
          "base_uri": "https://localhost:8080/",
          "height": 101
        },
        "outputId": "9f8d1ae6-94a1-477a-96ef-bd7219094983"
      },
      "source": [
        "def standardize_data(df):\n",
        "    hl_cleansed=[]\n",
        "    for row in df:\n",
        "        row = re.sub(r\"[\\.,\\?]+$-\", \"\", row)\n",
        "        row = row.replace(\",\", \" \").replace(\".\", \" \") \\\n",
        "            .replace(\";\", \" \").replace(\"“\", \" \") \\\n",
        "            .replace(\":\", \" \").replace(\"”\", \" \") \\\n",
        "            .replace('\"', \" \").replace(\"'\", \" \") \\\n",
        "            .replace(\"!\", \" \").replace(\"?\", \" \") \\\n",
        "            .replace(\"-\", \" \").replace(\"?\", \" \")\n",
        "        row = row.strip()\n",
        "        hl_cleansed.append(row)\n",
        "    return hl_cleansed\n",
        "\n",
        "hl_cleansed=standardize_data(df_train['cau_goc'])\n",
        "hl_cleansed_test=standardize_data(df_test['cau_goc'])\n",
        "    \n",
        "    \n",
        "# View comparison\n",
        "index=0\n",
        "print('Original texts :')\n",
        "print(df_train['cau_goc'][index])\n",
        "print('\\nAfter cleansed :')\n",
        "print(hl_cleansed[index])"
      ],
      "execution_count": null,
      "outputs": [
        {
          "output_type": "stream",
          "text": [
            "Original texts :\n",
            "cam ơn shop nhiều lam, e nhận dc máy rồi,  sài ok lam, 😄😄😄😄\n",
            "\n",
            "After cleansed :\n",
            "cam ơn shop nhiều lam  e nhận dc máy rồi   sài ok lam  😄😄😄😄\n"
          ],
          "name": "stdout"
        }
      ]
    },
    {
      "cell_type": "markdown",
      "metadata": {
        "id": "dpY1y859XO4u",
        "colab_type": "text"
      },
      "source": [
        "**Tokenization, remove accents, remove stopwords**"
      ]
    },
    {
      "cell_type": "code",
      "metadata": {
        "id": "nPTwGHaXXNTp",
        "colab_type": "code",
        "colab": {
          "base_uri": "https://localhost:8080/",
          "height": 121
        },
        "outputId": "3d327df7-8a22-4546-cf70-14801a0653c4"
      },
      "source": [
        "def vi_tokenizer(row):\n",
        "    return word_tokenize(row, format=\"text\")\n",
        "\n",
        "def remove_accents(row):\n",
        "  return unidecode.unidecode(row)\n",
        "\n",
        "def remove_stopwords(stopwords,hl_split):\n",
        "  sent = [s for s in hl_split if s not in stopwords ]\n",
        "  return sent\n",
        "\n",
        "stopwords=set(open('/content/Sentiment_Classification/data/stopwords.txt').read().split(' ')[:-1])\n",
        "\n",
        "#for training set\n",
        "hl_tokens = []\n",
        "for hl in hl_cleansed:\n",
        "    hl=vi_tokenizer(hl)\n",
        "    clean=remove_stopwords(stopwords,hl.split())\n",
        "    clean=[remove_accents(s) for s in clean]\n",
        "    hl_tokens.append(clean)\n",
        "\n",
        "#for testing set\n",
        "hl_tokens_test = []\n",
        "for hl in hl_cleansed_test:\n",
        "    hl=vi_tokenizer(hl)\n",
        "    clean=remove_stopwords(stopwords,hl.split())\n",
        "    clean=[remove_accents(s) for s in clean]\n",
        "    hl_tokens_test.append(clean)\n",
        "\n",
        "\n",
        "# View Comparison\n",
        "index=3\n",
        "print('Before tokenization :')\n",
        "print(hl_cleansed[index])\n",
        "print('\\nAfter tokenization :')\n",
        "print(hl_tokens[index])"
      ],
      "execution_count": null,
      "outputs": [
        {
          "output_type": "stream",
          "text": [
            "Before tokenization :\n",
            "lỗi vào 4G  phải khởi động lại máy thì mới chuyển E thành 4G  chuyển địa điểm khác bật 4G lên hiện E thì khởi động lại tiếp thì ok\n",
            "\n",
            "After tokenization :\n",
            "['loi', '4G', 'khoi_dong', 'may', 'moi', 'chuyen', 'E', 'thanh', '4G', 'chuyen', 'dia_diem', 'khac', 'bat', '4G', 'hien', 'E', 'khoi_dong', 'tiep', 'ok']\n"
          ],
          "name": "stdout"
        }
      ]
    },
    {
      "cell_type": "markdown",
      "metadata": {
        "id": "TlwzaN0MlsVL",
        "colab_type": "text"
      },
      "source": [
        "### **Data Vectorization**"
      ]
    },
    {
      "cell_type": "code",
      "metadata": {
        "id": "CWpLqv9emfel",
        "colab_type": "code",
        "colab": {
          "base_uri": "https://localhost:8080/",
          "height": 386
        },
        "outputId": "7dd099ed-9bc1-48ae-dc0f-62ebf8f1452d"
      },
      "source": [
        "max_features = 5000\n",
        "max_token = len(max(hl_tokens,key=len))\n",
        "tokenizer = Tokenizer(num_words=max_features)\n",
        "tokenizer.fit_on_texts(hl_tokens)\n",
        "sequences = tokenizer.texts_to_sequences(hl_tokens)\n",
        "sequences_test = tokenizer.texts_to_sequences(hl_tokens_test)\n",
        "X_Train = pad_sequences(sequences, maxlen=max_token)\n",
        "X_test=pad_sequences(sequences_test, maxlen=max_token)\n",
        "\n",
        "# View comparison\n",
        "index=3\n",
        "print('Original texts :')\n",
        "print(df_train['cau_goc'][index])\n",
        "print('\\nAfter vectorization :')\n",
        "print(X_Train[index])"
      ],
      "execution_count": null,
      "outputs": [
        {
          "output_type": "stream",
          "text": [
            "Original texts :\n",
            "lỗi vào 4G, phải khởi động lại máy thì mới chuyển E thành 4G, chuyển địa điểm khác bật 4G lên hiện E thì khởi động lại tiếp thì ok\n",
            "\n",
            "After vectorization :\n",
            "[   0    0    0    0    0    0    0    0    0    0    0    0    0    0\n",
            "    0    0    0    0    0    0    0    0    0    0    0    0    0    0\n",
            "    0    0    0    0    0    0    0    0    0    0    0    0    0    0\n",
            "    0    0    0    0    0    0    0    0    0    0    0    0    0    0\n",
            "    0    0    0    0    0    0    0    0    0    0    0    0    0    0\n",
            "    0    0    0    0    0    0    0    0    0    0    0    0    0    0\n",
            "    0    0    0    0    0    0    0    0    0    0    0    0    0    0\n",
            "    0    0    0    0    0    0    0    0    0    0    0    0    0    0\n",
            "    0    0    0    0    0    0    0    0    0    0    0    0    0    0\n",
            "    0    0    0    0    0    0    0    0    0    0    0    0    0    0\n",
            "    0    0    0    0    0    0    0    0    0    0    0    0    0    0\n",
            "    0    0    0    0    0    0    0    0    0    0    0    0    0    0\n",
            "    0    0    0    0    0    0    0    0    0    0    0    0    0    0\n",
            "    0    0    0    0    0    0    0    0    0    0    0    0    0    0\n",
            "    0    0    0    0    0    0    0    0    0    0    0    0    0    0\n",
            "    0    0    0    0    0    0    0    0    0    0    0    0    0    0\n",
            "    0    0    0    0    0    0    0   23  102  242    1    6  277  184\n",
            "  510  102  277 1651   80   74  102  366  184  242  265   14]\n"
          ],
          "name": "stdout"
        }
      ]
    },
    {
      "cell_type": "markdown",
      "metadata": {
        "id": "AM1y1cQmsxep",
        "colab_type": "text"
      },
      "source": [
        "# **Training with RNN**"
      ]
    },
    {
      "cell_type": "markdown",
      "metadata": {
        "id": "hDjT4knoV52K",
        "colab_type": "text"
      },
      "source": [
        "## **Building the Model**"
      ]
    },
    {
      "cell_type": "code",
      "metadata": {
        "id": "fuWARJQWWhN-",
        "colab_type": "code",
        "colab": {}
      },
      "source": [
        "Y_Train=df_train['nhan'].values\n",
        "Y_Train = np.vstack(Y_Train)\n",
        "\n",
        "Y_test=df_test['nhan'].values\n",
        "Y_test=np.vstack(Y_test)"
      ],
      "execution_count": null,
      "outputs": []
    },
    {
      "cell_type": "code",
      "metadata": {
        "id": "0pSGmoFTnRLz",
        "colab_type": "code",
        "colab": {}
      },
      "source": [
        "clear_session()"
      ],
      "execution_count": null,
      "outputs": []
    },
    {
      "cell_type": "code",
      "metadata": {
        "id": "lFDFFq9kuM0C",
        "colab_type": "code",
        "colab": {
          "base_uri": "https://localhost:8080/",
          "height": 403
        },
        "outputId": "063a0268-448d-4f11-e9c7-f736594a9565"
      },
      "source": [
        "embed_dim = 64\n",
        "model = Sequential()\n",
        "model.add(Embedding(max_features, embed_dim,input_length = max_token))\n",
        "model.add(LSTM(96, dropout=0.2, recurrent_dropout=0.2, activation='relu'))\n",
        "model.add(Dense(150))\n",
        "#model.add(Activation('relu'))\n",
        "model.add(BatchNormalization())\n",
        "model.add(Dropout(0.5))\n",
        "model.add(Dense(1))\n",
        "model.add(Activation('sigmoid'))\n",
        "model.compile(loss = 'binary_crossentropy', optimizer='adam',metrics = ['accuracy'])\n",
        "print(model.summary())"
      ],
      "execution_count": null,
      "outputs": [
        {
          "output_type": "stream",
          "text": [
            "Model: \"sequential_1\"\n",
            "_________________________________________________________________\n",
            "Layer (type)                 Output Shape              Param #   \n",
            "=================================================================\n",
            "embedding_1 (Embedding)      (None, 250, 64)           320000    \n",
            "_________________________________________________________________\n",
            "lstm_1 (LSTM)                (None, 96)                61824     \n",
            "_________________________________________________________________\n",
            "dense_1 (Dense)              (None, 150)               14550     \n",
            "_________________________________________________________________\n",
            "batch_normalization_1 (Batch (None, 150)               600       \n",
            "_________________________________________________________________\n",
            "dropout_1 (Dropout)          (None, 150)               0         \n",
            "_________________________________________________________________\n",
            "dense_2 (Dense)              (None, 1)                 151       \n",
            "_________________________________________________________________\n",
            "activation_1 (Activation)    (None, 1)                 0         \n",
            "=================================================================\n",
            "Total params: 397,125\n",
            "Trainable params: 396,825\n",
            "Non-trainable params: 300\n",
            "_________________________________________________________________\n",
            "None\n"
          ],
          "name": "stdout"
        }
      ]
    },
    {
      "cell_type": "markdown",
      "metadata": {
        "id": "kIVsgjeSuVzt",
        "colab_type": "text"
      },
      "source": [
        "## **Training process**"
      ]
    },
    {
      "cell_type": "code",
      "metadata": {
        "id": "s0efz9cCuWA7",
        "colab_type": "code",
        "colab": {
          "base_uri": "https://localhost:8080/",
          "height": 591
        },
        "outputId": "179bc4a2-1546-4c51-b8eb-87ec7b99c24c"
      },
      "source": [
        "epoch = 15\n",
        "batch_size = 2048\n",
        "history=model.fit(X_Train, Y_Train, epochs = epoch, batch_size=batch_size, verbose = 2, validation_split=0.2)"
      ],
      "execution_count": null,
      "outputs": [
        {
          "output_type": "stream",
          "text": [
            "/usr/local/lib/python3.6/dist-packages/tensorflow/python/framework/indexed_slices.py:434: UserWarning: Converting sparse IndexedSlices to a dense Tensor of unknown shape. This may consume a large amount of memory.\n",
            "  \"Converting sparse IndexedSlices to a dense Tensor of unknown shape. \"\n"
          ],
          "name": "stderr"
        },
        {
          "output_type": "stream",
          "text": [
            "Train on 8000 samples, validate on 2000 samples\n",
            "Epoch 1/15\n",
            " - 3s - loss: 0.6627 - accuracy: 0.6047 - val_loss: 0.6873 - val_accuracy: 0.5105\n",
            "Epoch 2/15\n",
            " - 2s - loss: 0.5188 - accuracy: 0.7835 - val_loss: 0.6745 - val_accuracy: 0.6070\n",
            "Epoch 3/15\n",
            " - 2s - loss: 0.4001 - accuracy: 0.8290 - val_loss: 0.6562 - val_accuracy: 0.6745\n",
            "Epoch 4/15\n",
            " - 2s - loss: 0.3022 - accuracy: 0.8783 - val_loss: 0.6444 - val_accuracy: 0.6580\n",
            "Epoch 5/15\n",
            " - 2s - loss: 0.2403 - accuracy: 0.9034 - val_loss: 0.6316 - val_accuracy: 0.7140\n",
            "Epoch 6/15\n",
            " - 2s - loss: 0.2087 - accuracy: 0.9151 - val_loss: 0.6100 - val_accuracy: 0.8675\n",
            "Epoch 7/15\n",
            " - 2s - loss: 0.1745 - accuracy: 0.9301 - val_loss: 0.6003 - val_accuracy: 0.9015\n",
            "Epoch 8/15\n",
            " - 2s - loss: 0.1493 - accuracy: 0.9446 - val_loss: 0.5997 - val_accuracy: 0.9175\n",
            "Epoch 9/15\n",
            " - 2s - loss: 0.1302 - accuracy: 0.9528 - val_loss: 0.5899 - val_accuracy: 0.9330\n",
            "Epoch 10/15\n",
            " - 2s - loss: 0.1187 - accuracy: 0.9565 - val_loss: 0.5767 - val_accuracy: 0.9355\n",
            "Epoch 11/15\n",
            " - 2s - loss: 0.1041 - accuracy: 0.9610 - val_loss: 0.5624 - val_accuracy: 0.9365\n",
            "Epoch 12/15\n",
            " - 2s - loss: 0.0933 - accuracy: 0.9665 - val_loss: 0.5487 - val_accuracy: 0.9340\n",
            "Epoch 13/15\n",
            " - 2s - loss: 0.0852 - accuracy: 0.9694 - val_loss: 0.5480 - val_accuracy: 0.9305\n",
            "Epoch 14/15\n",
            " - 2s - loss: 0.0802 - accuracy: 0.9732 - val_loss: 0.5477 - val_accuracy: 0.9250\n",
            "Epoch 15/15\n",
            " - 2s - loss: 0.0767 - accuracy: 0.9730 - val_loss: 0.5367 - val_accuracy: 0.9265\n"
          ],
          "name": "stdout"
        }
      ]
    },
    {
      "cell_type": "markdown",
      "metadata": {
        "id": "KyZoDoOFuer8",
        "colab_type": "text"
      },
      "source": [
        "# ***Model Evaluation***\n",
        "\n"
      ]
    },
    {
      "cell_type": "code",
      "metadata": {
        "id": "vulxXnegue6e",
        "colab_type": "code",
        "colab": {
          "base_uri": "https://localhost:8080/",
          "height": 356
        },
        "outputId": "c9235090-e9f4-4985-e39f-8b00d4b5dd4d"
      },
      "source": [
        "fig, (ax1, ax2) = plt.subplots(1,2,figsize=(15,5))\n",
        "fig.suptitle(\"Performance of Model\")\n",
        "ax1.plot(history.history['accuracy'])\n",
        "ax1.plot(history.history['val_accuracy'])\n",
        "vline_cut = np.where(history.history['val_accuracy'] == np.max(history.history['val_accuracy']))[0][0]\n",
        "ax1.axvline(x=vline_cut, color='k', linestyle='--')\n",
        "ax1.set_title(\"Model Accuracy\")\n",
        "ax1.legend(['train', 'test'])\n",
        "\n",
        "ax2.plot(history.history['loss'])\n",
        "ax2.plot(history.history['val_loss'])\n",
        "vline_cut = np.where(history.history['val_loss'] == np.min(history.history['val_loss']))[0][0]\n",
        "ax2.axvline(x=vline_cut, color='k', linestyle='--')\n",
        "ax2.set_title(\"Model Loss\")\n",
        "ax2.legend(['train', 'test'])\n",
        "plt.show()"
      ],
      "execution_count": null,
      "outputs": [
        {
          "output_type": "display_data",
          "data": {
            "image/png": "[encoded data removed]",
            "text/plain": [
              "<Figure size 1080x360 with 2 Axes>"
            ]
          },
          "metadata": {
            "tags": []
          }
        }
      ]
    },
    {
      "cell_type": "code",
      "metadata": {
        "id": "QdXPIWqX5ZV9",
        "colab_type": "code",
        "colab": {
          "base_uri": "https://localhost:8080/",
          "height": 279
        },
        "outputId": "3c451a76-13d8-4bf7-91d3-f5c869cf7f72"
      },
      "source": [
        "pred=np.around(model.predict(X_test))\n",
        "fig, ax = plot_confusion_matrix(conf_mat=confusion_matrix(Y_test,pred))\n",
        "plt.show()"
      ],
      "execution_count": null,
      "outputs": [
        {
          "output_type": "display_data",
          "data": {
            "image/png": "[encoded data removed]",
            "text/plain": [
              "<Figure size 432x288 with 1 Axes>"
            ]
          },
          "metadata": {
            "tags": []
          }
        }
      ]
    },
    {
      "cell_type": "code",
      "metadata": {
        "id": "C4titeOt6WVX",
        "colab_type": "code",
        "colab": {
          "base_uri": "https://localhost:8080/",
          "height": 168
        },
        "outputId": "6b1caa45-49ce-41bc-9088-55351d394a79"
      },
      "source": [
        "print(classification_report(Y_test,pred))"
      ],
      "execution_count": null,
      "outputs": [
        {
          "output_type": "stream",
          "text": [
            "              precision    recall  f1-score   support\n",
            "\n",
            "           0       0.90      0.96      0.93      1243\n",
            "           1       0.96      0.89      0.92      1294\n",
            "\n",
            "   micro avg       0.93      0.93      0.93      2537\n",
            "   macro avg       0.93      0.93      0.93      2537\n",
            "weighted avg       0.93      0.93      0.93      2537\n",
            "\n"
          ],
          "name": "stdout"
        }
      ]
    },
    {
      "cell_type": "markdown",
      "metadata": {
        "id": "3W3GGFrtydIP",
        "colab_type": "text"
      },
      "source": [
        "# ***Use Another ML Algorithms to Training***"
      ]
    },
    {
      "cell_type": "markdown",
      "metadata": {
        "id": "hc6yudU6yiTr",
        "colab_type": "text"
      },
      "source": [
        "**Convert Data**"
      ]
    },
    {
      "cell_type": "code",
      "metadata": {
        "id": "dHQmHnP8ytNr",
        "colab_type": "code",
        "colab": {
          "base_uri": "https://localhost:8080/",
          "height": 34
        },
        "outputId": "047ab531-c7ad-4bc7-dea6-abb6cc14aa20"
      },
      "source": [
        "X_Train = [\" \".join(x) for x in hl_tokens]\n",
        "X_test = [\" \".join(x) for x in hl_tokens_test]\n",
        "Y_Train=df_train['nhan'].values\n",
        "Y_test=df_test['nhan'].values"
      ],
      "execution_count": null,
      "outputs": [
        {
          "output_type": "stream",
          "text": [
            "cam on_shop lam e nhan dc may sai ok lam    \n"
          ],
          "name": "stdout"
        }
      ]
    },
    {
      "cell_type": "markdown",
      "metadata": {
        "id": "QHwx3tOFy49L",
        "colab_type": "text"
      },
      "source": [
        "**Word Vectorization using TF-IDF**"
      ]
    },
    {
      "cell_type": "code",
      "metadata": {
        "id": "3vbnbytFyxAb",
        "colab_type": "code",
        "colab": {}
      },
      "source": [
        "Tfidf_vect = TfidfVectorizer(max_features=5000)\n",
        "Tfidf_vect.fit(X_Train)\n",
        "Train_X_Tfidf = Tfidf_vect.transform(X_Train)\n",
        "Test_X_Tfidf = Tfidf_vect.transform(X_test)"
      ],
      "execution_count": null,
      "outputs": []
    },
    {
      "cell_type": "code",
      "metadata": {
        "id": "XYYPzaVW9rvE",
        "colab_type": "code",
        "colab": {
          "base_uri": "https://localhost:8080/",
          "height": 54
        },
        "outputId": "cec3709a-4146-45ed-986c-afceb6c1921c"
      },
      "source": [
        "print(Tfidf_vect.vocabulary_)"
      ],
      "execution_count": null,
      "outputs": [
        {
          "output_type": "stream",
          "text": [
            "{'cam': 1091, 'on_shop': 2970, 'lam': 2367, 'nhan': 2810, 'dc': 1469, 'may': 2583, 'sai': 3308, 'ok': 2954, 'ngon': 2774, 'an': 843, 'ca': 1080, 've': 4561, 'ngoai': 2766, 'hinh': 1927, 'khoang': 2201, '96': 686, 'mat': 2564, 'kinh': 2294, 'truoc': 4335, 'va': 4507, 'co': 1280, 'vet': 4576, 'xuoc': 4895, 'loa': 2444, 'nay': 2722, 'hoi': 1964, 'be': 994, 'xet': 4833, 'gia': 1771, 'tien': 4052, 'oke': 2959, 'mih': 2630, 'dung': 1662, 'chi': 1187, 'nghe': 2754, 'goi': 1825, 'quan': 3107, 'trong': 4308, 'ben': 998, 'la': 2360, 'loi': 2469, '4g': 465, 'khoi_dong': 2210, 'moi': 2658, 'chuyen': 1267, 'thanh': 3819, 'dia_diem': 1559, 'khac': 2142, 'bat': 977, 'hien': 1909, 'tiep': 4068, 'da': 1371, 'mua': 2686, 'nhan_xet': 2819, 'ngoai_hinh': 2767, 'kha': 2135, 'man_hinh': 2550, 'ro': 3239, 'y_kien': 4922, 'ca_nhan': 1081, 'minh': 2633, 'bo': 1037, 'tang': 3705, 'do': 1595, 'phan_giai': 3011, 'ti': 4036, 'qua': 3095, 'thap': 3844, 'chang': 1162, 'ai': 801, 'chup': 1261, 'no': 2900, 'giai_quyet': 1785, 'the_nao': 3877, 'shop': 3466, 'oi': 2953, 'luot': 2520, 'web': 4744, 'mau': 2576, 'nong': 2915, 'lung': 2508, 'bam': 938, 'van': 4521, 'tay': 3734, 'tron': 4305, 'truot': 4345, 'de': 1482, 'roi': 3246, 'pin': 3064, 'het_hoi': 1902, 'that_vong': 3859, 'sai_lam': 3317, 'san_pham': 3367, 'lien_tuc': 2420, 'tgdd': 3773, 'ho': 1939, 'doi': 1611, 'dap': 1436, 'luon': 2515, 'cua_hang': 1342, 'lua': 2499, 'khach_hang': 2150, 'phat': 3022, 'truc_tiep': 4315, 'face': 1700, 'pjn': 3071, '5k': 525, 'bang': 956, '2k': 284, 'sac_mat': 3297, 'tieng': 4064, 'tuong': 4399, 'het': 1901, 'xai': 4804, 'voi': 4677, 'khg': 2174, 'che': 1180, 'dau': 1446, 'doi_luc': 1616, 'co_ve': 1291, 'phan_hoi': 3012, 'cam_ung': 1104, 'hay': 1887, 'kem': 2105, 'thao_tac': 3841, 'uc_che': 4447, 'cam_bien': 1092, 'cuc': 1346, 'cuc_ky': 1348, 'nhay': 2834, 'toi_da': 4166, 'ba': 922, 'ep': 1690, 'cai_thien': 1088, '50': 494, 'lan': 2375, 'mo': 2643, 'mot_so': 2678, 'app': 895, 'thong_dung': 3975, 'chay': 1177, 'phat_sinh': 3028, 'thiet_ke': 3920, 'cam_nhan': 1098, 'ko': 2321, 'ky_vong': 2357, 'sac': 3295, 'nhanh': 2821, 'game': 1743, 'vua': 4709, 'on': 2966, 'choi': 1219, 'muot': 2701, 'trau': 4263, 'tam': 3680, 'tr': 4220, 'camera': 1108, 'toi': 4165, 'tuyet_voi': 4432, 'quang_cao': 3116, 'trang': 4250, 'hang': 1868, 'dong_goi': 1630, 'can_than': 1116, 'giao': 1793, 'hien_tai': 1913, 'sao': 3384, 'chat_luong': 1174, 'tot': 4202, 'to': 4145, 'song': 3566, 'hon': 1975, 'mong_doi': 2670, 'dep': 1526, 'chien': 1197, 'muot_ma': 2702, 'noi_chung': 2904, 'rat': 3184, 'hai_long': 1857, 'lanh': 2382, 'luong': 2517, 'se': 3411, 'them': 3887, '1cai': 152, 'tks': 4135, 'nhe': 2837, 'nhung': 2886, 'selfie': 3429, 'xau': 4817, 'lte': 2497, 'sim2': 3507, 'con': 1301, 'sim1': 3506, 'nho': 2861, 'cuon': 1361, 'xuong': 4900, 'hom': 1971, 'phan': 3007, 'ria': 3226, 'uu_diem': 4491, 'mang': 2552, 'benh': 1001, 'tuc': 4382, 'thua': 4000, 'tq_xai': 4219, 'lau': 2387, 'hai': 1856, 'than': 3813, 'amoled': 842, 'xuong_cap': 4901, 'samsung': 3344, 'xua': 4874, 'gio': 1803, 'mun': 2697, 'suy_nghi': 3647, 'ki': 2257, 'thuong_hieu': 4025, 'nao': 2717, 'quan_trong': 3111, 'dap_ung': 1438, 'nhu_cau': 2873, 'phai': 3002, 'chinh': 1203, 'sim': 3505, 'lech': 2401, 'sang': 3372, 'trai': 4235, 'phuc_vu': 3058, 'nhiet_tinh': 2850, 'gui': 1844, 'luc': 2503, 'thay': 3861, 'tut': 4417, 'ban_phim': 951, 'vang': 4533, 'chat': 1172, 'zalo': 4971, 'cuoc': 1357, 'wifi': 4760, 'tao_lao': 3709, 'bong': 1049, 'hoa': 1943, 'phong_canh': 3051, 'dua': 1655, 'mau_sac': 2578, 'xem': 4826, '10': 29, 'dot': 1639, 'slae': 3526, 'tiet_kiem': 4079, 'thung': 4017, 'my': 2704, 'haha': 1855, 'su_dung': 3613, 'dien_thoai': 1574, 'xi': 4835, 'thu': 3985, 'tru': 4312, 'cong': 1306, 'lom': 2479, 'uong': 4473, 'full': 1729, 'hop': 1982, 'hoan_hao': 1950, 'tuan': 4376, 'am_thanh': 832, 'tai_nghe': 3677, 'tai': 3672, 'kieu': 2285, 'vong': 4688, 'sp': 3583, 'nguon': 2792, 'tra': 4222, 'dia_chi': 1558, 'xl': 4852, 'phien': 3039, 'that_su': 3855, 'muon': 2700, 'giai_dap': 1783, 'giat': 1797, 'pupg': 3087, 'lien_quan': 2418, 'ban': 940, 'mai': 2541, 'pk': 3072, 'the_gioi': 3870, 'di_dong': 1550, 'coi': 1295, 'k_the': 2091, '5tr': 543, 'the': 3869, 'a50': 743, 'dau_tien': 1457, 'doi_cho': 1612, 'thang': 3818, 'tat': 3717, 'du': 1646, 'nhan_vien': 2818, 'bhanh': 1008, 'noi': 2902, 'xin': 4842, 'dt': 1644, 'ngta': 2779, 'trung': 4318, 'op': 2980, '250k': 244, 'so_bi': 3539, 'rot': 3257, 'chang_le': 1164, 'thoi': 3954, 'bao': 958, 'di': 1547, 'tho': 3941, 'chuyen_nghiep': 1269, 'that': 3849, 'long': 2482, 'qua_that': 3101, 'dong': 1627, '8tr': 672, 'pit': 3069, 'ngoi': 2773, 'kiem': 2274, 'cui': 1352, 'bap': 975, 'buc': 1061, 'mjnh': 2639, 'buoc_dau': 1069, 'chua': 1243, 'lau_dai': 2388, 'biet': 1012, 'than_thien': 3815, 'test': 3765, 'yeu': 4937, '1000': 31, 'tray': 4266, 'chon': 1222, 'unlock': 4467, 'viet': 4607, 'nua': 2935, 'xung': 4888, '1sao': 181, 'ma': 2530, 'dieu': 1576, 'ghim': 1767, 'vo': 4643, 'ong_ba': 2974, 'keu': 2123, 'ship': 3456, 'nguoc_lai': 2785, 'chac': 1144, 'cty': 1336, 'keng_shop': 2110, 'may_moc': 2590, 'tin_tuong': 4103, 'lang': 2379, 'ram': 3163, '3gb': 375, 'always': 823, 'ban_dau': 945, 'huu_ich': 2008, 'nam': 2710, 'ngang': 2743, 'kho_chiu': 2190, 'vac': 4515, 'kho': 2189, 'vuot': 4729, 'nhan_dien': 2813, 'khuon_mat': 2248, 'muc': 2692, 'am': 824, 'huawei': 1999, 'tom_lai': 4182, 'thich_hop': 3906, 'nguoi': 2786, 'pho_thong': 3046, 'it': 2046, 'tuy': 4421, 'bien': 1011, 'icon': 2019, 'phu_hop': 3054, 'nguoi_lon': 2787, 'tuoi': 4397, 'diem': 1566, 'lon': 2480, 'nhat': 2830, 'rieng': 3228, 'thich': 3905, 'nova': 2927, '3i': 378, 'fpt': 1722, 'vs': 4698, 'len': 2404, 'ghep': 1761, 'cx': 1370, 'chuan': 1244, 'hom_qua': 1973, 'giua': 1814, 'thanh_pho': 3825, 'cu': 1337, 'vach': 4516, 'cang': 1120, 'xong': 4863, 'youtube': 4954, 'tu_nhien': 4365, 'mang_tieng': 2558, '6g': 579, 'hien_nay': 1912, 'can': 1109, 'nhac': 2803, 'dat': 1440, '1280': 75, 'ton': 4183, 'ngu': 2780, '20': 203, 'messenger': 2613, 'khong_the': 2226, 'khac_phuc': 2145, 'nhu_y': 2878, 'dan': 1399, 'cho': 1213, 'tgian': 3782, 'bao_hanh': 965, 'truoc_kia': 4338, 'khoe': 2205, 'hnay': 1938, 'anh_huong': 876, 'trai_nghiem': 4237, 'phat_hien': 3026, 'cach': 1083, 'fix': 1717, 'vao': 4539, 'cai_dat': 1087, 'quan_ly': 3109, 'ung_dung': 4460, 'han_che': 1865, 'chai': 1147, '5tr940k': 545, 'ao': 883, 'nhoe': 2867, 'pubg': 3083, '4gb': 466, 'he_thong': 1895, '2gb': 276, 'max': 2581, 'setting': 3444, 'khong': 2214, 'mot_chut': 2677, 'tong': 4190, 'kiem_tra': 2278, 'xac_nhan': 4796, 'so_sanh': 3548, 'kiem_dinh': 2275, '30': 318, 'ngay': 2745, 'tra_loi': 4226, 'dk': 1591, 'mung': 2698, '2019': 211, 'thuong': 4021, 'loan_xa': 2455, 'giup': 1817, 'thao': 3838, 'xuat_hien': 4877, 'sam': 3337, 'sung': 3628, 'tiep_tuc': 4075, 'hieu': 1917, 'gan': 1746, 'muc_do': 2694, 'trung_binh': 4321, 'nhan_tin': 2816, 'fb': 1706, 'hao': 1878, 'chap_nhan': 1171, 'day': 1459, 'co_the': 1289, 'lap': 2384, 'chu_shop': 1239, 'hinh_thuc': 1932, 'chap': 1168, 'cha': 1143, 'chap_chon': 1169, 'dang': 1406, 'cac': 1082, 'mua_shop': 2691, 'uy_tin': 4495, 'oc': 2949, 'dit': 1590, 'tui': 4387, 'clip': 1276, 'boc': 1045, 'phot': 3052, '128gb': 78, 'canh_tranh': 1123, 'nguyen': 2795, 'seal': 3414, 'anh': 872, 'y_dinh': 4918, 'rom': 3250, 'luu_y': 2523, 'thoi_gian': 3958, '408h': 419, '17': 128, 'maximum': 2582, 're': 3189, 'te': 3743, 'tuot': 4416, 'chong': 1225, 'chiu': 1209, 'lay': 2393, 'cam_on': 1099, 'shoppp': 3484, 'lan_lan': 2377, 'nhu_vay': 2877, '18': 133, 'rui': 3266, 'tin': 4095, 'ung': 4458, 'thuong_xuyen': 4028, 'loan': 2453, 'mac_du': 2535, 'khoa': 2196, 'bao_mat': 970, 'tranh': 4259, 'vo_tinh': 4665, 'bo_tui': 1043, 'tu': 4355, 'cham': 1148, 'lazada': 2395, 'kich': 2269, 'moi_tinh': 2664, 'go': 1823, 'van_ban': 4522, 'danb': 1405, 'binh_luan': 1021, 'soan': 3553, 'tim_kiem': 4092, 'so': 3538, 'chuoi': 1258, 'lac': 2362, 'hihi': 1924, 'ket_noi': 2119, 'bluetooth': 1033, 'cai': 1086, 'truong_hop': 4343, 'cuop': 1365, 'giut': 1819, 'ban_be': 941, 'nha': 2800, 'mong': 2669, 'chac_chan': 1145, 'tem': 3755, 'san_xuat': 3371, 'sat': 3393, 'nhot_nhat': 2871, 'trung_thuc': 4332, 'hinh_nhu': 1930, 'dien': 1569, 'thoai': 3948, 'mot': 2676, 'lan_can': 2376, 'bay': 990, 'han': 1864, 'kg': 2130, 'ngo': 2765, 'duc': 1656, 'hu': 1995, 'lag': 2364, 'ho_tro': 1942, 'tinh': 4106, 'xanh': 4810, 'den': 1512, 'rats': 3186, 'not': 2920, 'cam_thay': 1102, 'chan': 1154, 'nan': 2711, 'phut': 3061, 'cao': 1124, 'buc_boi': 1062, 'bit': 1024, 'dum': 1659, '2h30': 280, 'lam_an': 2368, 'dang_hoang': 1410, 'liet': 2421, 'nut': 2943, 'lm': 2435, 'nhu_the': 2876, 'khach': 2149, 'phu_kien': 3056, 'day_du': 1465, 'ung_y': 4463, 'chuc_nang': 1249, 'cho_shop': 1217, 'em': 1685, 'ke': 2101, 'selfish': 3431, 'den_xanh': 1523, 'nhiem': 2845, 'sai_den': 3313, 'thong_bao': 3973, 'nang': 2712, '97': 690, 'nhin': 2856, 'tu_van': 4373, '13': 87, 'hn': 1937, 'danh_gia': 1422, 'cham_soc': 1151, 'toc_do': 4162, '2g': 274, 'fim': 1714, 'hd': 1892, 'quay': 3121, 'lau_lau': 2390, 'chup_hinh': 1263, 'tiem_can': 4051, 'do_tay': 1604, 'thiet': 3917, 'tac': 3665, 'vu': 4707, 'binh_thuong': 1022, 'wa': 4738, 'lam_sao': 2372, 'dai': 1385, 'kien': 2279, 'tiec': 4047, 'khuyen_mai': 2255, 'vivo': 4629, 'nhuoc_diem': 2890, 'oki': 2960, 'thoat': 3952, 'ra_vao': 3156, 'cap_nhat': 1130, 'trang_thai': 4257, 'chuan_bi': 1245, 'cuong_luc': 1364, 'video': 4594, '4000': 405, 'mah': 2540, 'dem': 1509, 'vai': 4520, 'can_nhac': 1115, 'nua_ngay': 2937, 'mesenger': 2610, 'toi_thui': 4176, 'bi': 1009, 'tuy_nhien': 4422, '3g': 373, 'pass': 2998, 'ma_con': 2532, 'tro': 4286, 'dung_luong': 1664, 'mi': 2617, 'ni': 2892, 'mo_ta': 2649, 'zin': 4980, '100': 30, 'ung_ho': 4461, 'dai_dai': 1386, 'net': 2732, 'tra_gop': 4224, 'lai': 2366, '200k': 206, 'sinh_nhat': 3513, 'phia': 3038, 'neu': 2733, 'ap_dung': 889, 'ton_trong': 4188, 'tuong_tuong': 4412, 'chut': 1264, '92': 680, 'deo': 1525, 'nap': 2718, 'thuc_su': 4010, 'cam_giac': 1095, 'vap': 4541, 'mat_toi': 2573, '1tr': 191, 'duy_nhat': 1680, 'cuoi_cung': 1360, 'nokia': 2913, 'cuc_ki': 1347, 'tha': 3786, 'trung_quoc': 4326, 'oppo': 2983, 'khai_tu': 2154, 'thgian': 3895, 'chot': 1230, 'tinh_trang': 4121, 'nhuc_nhich': 2883, 'khien': 2180, 'hok': 1970, 'va_dap': 4509, 'manh': 2560, 'tro_thanh': 4295, 'phe_pham': 3034, 'he': 1894, 'dinh': 1583, 'soc': 3555, 'sieu_pham': 3494, 'note': 2922, 'f5': 1697, '4nam': 475, 'nat': 2719, 'khuyen': 2252, 'kinh_te': 2305, 'dang_cap': 1408, 'kaios': 2094, '8110': 646, '512': 505, 'cay': 1136, 'rua': 3264, 'dieu_hanh': 1578, 'tu_dong': 4360, 'linh_tinh': 2429, 'ke_ca': 2102, 'bt': 1056, 'thuc_hien': 4007, 'restart': 3221, 'nhap': 2827, 'tnhan': 4144, 'kip': 2308, 'tran': 4243, 'vien': 4605, 'goc': 1824, 'sieu': 3491, 'tat_ca': 3719, 'hien_tuong': 1916, 'ch': 1141, 'play': 3073, 'out': 2992, 'duoc_cai': 1668, 'giam_gia': 1789, 'treo': 4273, 'bass': 976, 'trong_cho': 4309, 'xinh': 4845, 'plus': 3074, 'bh': 1007, 'tre': 4268, 'mic': 2620, 'ro_rang': 3240, 'yen_tam': 4934, 'khung': 2245, 'hop_li': 1985, 'de_tinh': 1498, 'chuc_shop': 1250, 'ngam': 2740, 'nhoa': 2866, 'trc': 4267, 'intel': 2030, 'a3f': 740, 'trieu': 4276, 'gap': 1749, 'tram': 4241, 'hoi_han': 1965, 'a10s': 728, 'buoc': 1068, 'dag': 1383, '1thag': 187, 'man': 2549, 'trog': 4300, 'loai': 2451, 'dug': 1657, 'thag': 3792, '1ngay': 175, '2thang': 306, '1500': 101, 'a_shop': 775, 'xiaomi': 4837, 'bon': 1048, 'thi': 3896, 'nhau': 2833, 'noi_xau': 2912, '7tr': 634, 'chu_yeu': 1242, 'phim': 3044, 'do_te': 1605, 'duoi': 1673, 'mk': 2640, 'vi': 4578, 'ghe': 1759, 'vcl': 4557, 'home': 1974, 'duoc': 1667, 'suoc': 3630, 'dephon': 1534, 'nghi': 2757, 'semua': 3435, 'xac': 4792, 'siu': 3517, 'ki_cuc': 2259, 'hieu_nang': 1919, 'chip': 1207, 'heo': 1900, 'gung': 1845, 'doi_khi': 1615, 'load': 2447, 'refresh': 3208, 'ranh': 3179, 'phan_mem': 3013, 've_phan': 4564, 'id': 2020, 'ky_thuat': 2355, 'e_doi': 1684, 'lien': 2415, 'vay_ma': 4552, 'giong': 1810, 'keo_dai': 2113, 'khit': 2185, 'hy_vong': 2015, 'may_noi_chung': 2592, 'cua': 1341, 'nham': 2806, 'don': 1622, 'mong_shop': 2673, 'som': 3560, 'dep_shop': 1532, 'san': 3364, 'ae': 794, 'tuong_doi': 4400, 'ap_suat': 891, 'luu': 2521, 'chu': 1234, 'to_shop': 4151, 'included': 2028, 's6': 3285, 'active': 780, 'giong_dieu': 1811, 'lun': 2507, 'khop': 2233, 'thiec': 3909, 'sd': 3405, '95': 684, '99': 695, '40': 403, 'sanh': 3381, 'chu_dao': 1235, 'may_shop': 2594, 'loi_lam': 2473, 'tuyet': 4428, 'phi': 3037, 'thuy': 4032, 'dep_mat': 1531, 'dan_shop': 1403, 'de_thuong': 1496, 'hoac': 1947, 'ruoc': 3272, 'set': 3442, 'f9': 1699, 'dich_vu': 1563, 'vui_long': 4718, 'thank': 3830, 'cau_hinh': 1135, '15': 99, 'ba_dao': 924, 'cong_bo': 1307, '70': 597, '60': 551, 'giu': 1813, 'kinh_ngac': 2303, '7h': 626, 'rut': 3277, '15h30': 106, 'cmt': 1278, 'bik': 1016, '750k': 611, 'antutu': 882, '320k': 337, 'van_de': 4525, 'bn': 1036, 'mao': 2562, 's8': 3291, 'xa': 4788, 'hy': 2014, 'dx': 1682, 'hau_nhu': 1886, 'thanks': 3833, 'order': 2987, 'hog': 1963, 'xay': 4822, 'ok_shop': 2957, 'ky_luong': 2352, 'delay': 1506, '11': 65, '990_000': 697, '1_000_000': 146, 'xoa': 4858, 'font': 1720, 'duy': 1679, '0907': 17, '487': 455, '242': 239, 'tai_sao': 3678, '2a': 270, '1a': 150, 'im': 2022, 'shoppee': 3483, 'phone': 3048, 'ra_sao': 3155, 'nhung_shop': 2888, 'quoc': 3134, 'anh_chi': 873, 'phu': 3053, 'tan_tinh': 3701, 'toi_qua': 4172, '76': 612, '53': 508, 'and': 862, 'good': 1832, 'cho_doi': 1214, 'du_kien': 1649, 'quai': 3106, 'nen': 2730, 'thi_ra': 3899, '660': 568, '450': 440, 'co_khi': 1286, 'nt': 2931, 'sut': 3642, '4000mah': 409, 'lo_lang': 2438, 'moi_nguyen': 2662, 'nhe_shop': 2839, 'toan': 4153, 'seri': 3440, 'f11': 1694, 'hi_vong': 1907, 'suc': 3621, 'vui_ve': 4721, 'lan_tan': 2378, 'hag': 1853, 'may_tinh': 2597, 'tao': 3708, 'lao': 2383, 'kham_pha': 2156, '93': 682, 'het_sach': 1903, '30p': 328, 'deu': 1542, 'the_shop': 3880, 'quyen_ru': 3144, 'on_dinh': 2969, 'redmi': 3205, 'pin_lion': 3065, 'tuoi_tho': 4398, '500': 495, 'anh_em': 875, 'me': 2600, 'realme': 3194, 'sam_sung_a30': 3341, 'suong': 3633, '87': 657, 'bui': 1065, 'mop': 2675, 'sai_zalo': 3329, 'mang_wifi': 2559, '24': 236, 'khi': 2175, 'mo_may': 2646, 'thui': 4016, 'song_sanh': 3571, 'android': 867, 'cap': 1129, 'hinh_anh': 1928, 'nhan_dang': 2812, 'nhin_chung': 2857, '9tr': 709, 'nau': 2721, 'ad': 781, 'sale': 3335, 'doi_hoi': 1614, 'seal_shop': 3418, 'te_hai': 3745, 'tuy_rang': 4424, 'tot_dep': 4205, 'bu': 1058, 'ket': 2115, 'ay': 918, 'xoay': 4861, 'ss': 3591, 'ip': 2033, 'm20': 2529, 'ngoai_ra': 2768, 'tham_khao': 3807, 'ky': 2350, 'tot_shop': 4212, 'xiu': 4851, 'canh': 1122, 'hua': 1998, 'bot': 1054, 'te_van': 3749, 'goi_la': 1826, 'thi_thoang': 3902, 'tau': 3731, 'tam_biet': 3682, 'tiet_tuc': 4080, 'kiki': 2288, 'kk': 2313, 'note8': 2925, 'khoang_cach': 2202, 'danh': 1417, 'toan_bi': 4154, 'may_thuong_xuyen': 2596, 'add': 787, '12h': 80, 'xem_lai': 4827, 'don_vi': 1626, 'check': 1182, 'yeu_cau': 4938, 'xem_xet': 4829, 'smart': 3529, 'witch': 4772, 'tim': 4090, 'apksure': 893, 'hin': 1926, 'vv': 4733, 'ngay_cang': 2746, 'dat_hang': 1442, 'tung': 4394, 'chao': 1166, '5000': 496, 'thuoc': 4019, 'may_anh': 2584, 'mo_mo': 2647, 'f3': 1696, 'bk': 1029, 'hay_la': 1888, 'mac': 2534, 'gia_ca': 1773, 'hop_ly': 1986, 'hang_hang': 1870, 'pham': 3006, 'gay': 1751, 'xu_ly': 4873, 'do_nhay': 1602, 'di_chuyen': 1548, 'phong': 3049, 'thong_tin': 3980, 'khe': 2169, 'rong': 3252, 'chiem': 1196, 'a70': 753, 'yt': 4959, 'kinh_game': 2299, '4500': 441, 'bat_tien': 988, 'cung': 1355, 'coolpad': 1320, 'nhu': 2872, 'dun': 1661, 'bj': 1027, 'chup_anh': 1262, 'kinh_khung': 2302, '4k': 472, '3k': 379, 'bis': 1023, 'nhubg': 2881, 'buon': 1071, 'het_suc': 1904, '311k': 332, 'new': 2735, 'shield': 3455, 'ty': 4437, 'van_chuyen': 4523, 'giam': 1788, 'ngoai_troi': 2769, 'thien': 3912, 'reset': 3217, 'kh': 2134, 'an_tam': 854, 'fan': 1704, '3ngay': 384, 'alway': 822, 'display': 1588, 'tinh_nang': 4116, 'kia': 2268, '8tieng': 671, 'phan_van': 3019, 'hieu_suat': 1921, 'nong_ran': 2919, 'ak': 812, 'hen': 1899, 'sau': 3396, 'khach_quan': 2151, 'cui_bap': 1353, 'chuc': 1248, 'khoi': 2209, 'buc_minh': 1063, 'kich_hoat': 2270, '4k5': 473, 'huhu': 2000, 'mau_ma': 2577, 'qc': 3089, 'geme': 1757, 'moi_dau': 2660, 'ngai': 2739, 'noi_chuyen': 2905, 'chon_shop': 1224, 'chinh_xac': 1206, 'ktv': 2344, 'quen': 3126, 'phe': 3032, 'ly_do': 2525, 'bam_nut': 939, 'ua': 4443, 'thai_do': 3797, 'be_ngoai': 995, 'kem_coi': 2106, 'su': 3612, 'tut_doc': 4418, 'niem': 2894, 'keo': 2112, 'kodc': 2332, 'coc': 1293, 'ng': 2736, 'vat': 4542, 'xung_dang': 4889, 'huong_dan_nhiet_tinh': 2005, 'vua_y': 4714, 'ban_dat': 944, 'qa': 3088, 'danh_ba': 1418, 'thank_shop': 3831, 'hau_mai': 1885, 'niem_phong': 2895, 'lien_he': 2416, 'shop_doi': 3468, 'em_gai': 1686, 'ddiiejn': 1481, 'tkshop': 4137, 'cchupj': 1139, '2018': 210, 'lien_lac': 2417, 'uc': 4446, 'truc': 4314, 'fin': 1715, 'nghiem_trong': 2762, 'huong_dan': 2004, 'thegioididong': 3886, '5p': 531, 'tq': 4218, 'livetream': 2434, 'facebook': 1701, 'online': 2976, 'nguy_hiem': 2794, 'thegioi': 3884, 'dang_ki': 1412, 'so_huu': 3543, 'huong': 2003, 'ace': 778, 'y17': 4910, 'rang': 3177, 'ma_shop': 2533, 'khiem_ton': 2179, 'ff': 1711, 'giat_giat': 1798, 'kho_chiu_thua': 2191, 'ghi': 1763, '5h': 523, 'sao_vay': 3387, 'nhua': 2879, 'hong': 1978, 'mn': 2641, 'sua': 3616, 'nguoi_ta': 2789, 'sap': 3390, 'yen': 4932, 'dekay': 1505, 'giay': 1800, 'nhiet': 2847, 'kieu_mau': 2287, 'sinh_ton': 3514, 'thieu': 3924, 'anh_sang': 878, 'nho_xiu': 2865, 'sai_ok': 3323, 'nhanh_shop': 2826, 'kiem_soat': 2277, 'thoi_luong': 3962, 'cop': 1321, 'shop_shop': 3470, 'ram3gb': 3167, '25': 243, '009gb_shop': 5, 'lua_chon': 2500, 'meo': 2607, '10h': 47, '5s': 537, 'huyen_thoai': 2012, 'ki_niem': 2261, 'co_ban': 1281, 'vung': 4723, 'khui': 2243, 'bao_giao': 962, 'gamota': 1745, '3th': 392, 'nghiem': 2761, 'hoat_dong': 1959, '2g_tai': 275, 'chplay': 1231, 'buoi': 1070, 'lo': 2437, 'bin': 1017, 'hat': 1882, 'xu': 4871, 'dien_tu': 1575, 'gium': 1816, 'ha': 1848, 'do_hoa': 1599, 'khuc': 2240, 'tap_nham': 3714, '6gb': 580, 'iphone': 2042, 'thuc': 4004, 'androi': 865, 'ios': 2032, 'bay_gio': 991, 'hung': 2002, 'mat_mang': 2569, 'rung': 3269, 'lsao': 2496, 'trag': 4234, 'dang_gia': 1409, 'du_phong': 1652, 'vi_tri': 4587, 'a30': 736, 'toii': 4180, 'trieu_van': 4278, 'like': 2423, 'y_hinh': 4920, 'cam_on_shop': 1100, 'tip': 4124, 'ahihi': 799, 'vote': 4695, '105': 41, 'que': 3125, 'choc': 1218, 'ko_the': 2329, 'phien_ban': 3040, '32': 335, 'gb': 1752, 'nt_shop': 2932, 'dam_bao': 1396, 'ho_shop': 1941, 'bat_dau': 981, 'lung_tung': 2511, 'bao_gia': 961, '7tr790': 637, 'le': 2399, '64gb': 565, '6tr790': 593, 'say': 3400, 'nuc': 2938, 'chet': 1185, 'dam': 1395, 'xaomi': 4814, 'che_do': 1181, 'hien_thi': 1914, 'banh': 957, 'vo_lam': 4656, '9230k': 681, 'uu_dai': 4490, '1h': 163, '35': 351, 'long_lanh': 2483, 'nhah': 2804, 'gop': 1835, 'voi_lai': 4678, 'ket_qua': 2120, 'dip': 1586, 'cn': 1279, 'nhay_tum_lum': 2836, '75': 609, 'thah_shop': 3794, 'sefie': 3426, 'vang_khe': 4535, 'biet_sao': 1014, 'on_van': 2971, 'leng_keng': 2406, 'hs': 1991, 'chlay': 1212, 'nhieu': 2855, 'cot_song': 1327, 'tro_lai': 4289, 'loi_khuyen': 2472, 'kiet': 2284, 'mog': 2657, 'oai': 2947, 'man_hinh_sac': 2551, 'service': 3441, 'moc': 2655, 'ba_me': 925, 'den_noi': 1518, 'update': 4480, 'non': 2914, 'kiem_duyet': 2276, 'khen': 2170, 'doi_voi': 1620, 'khung_khiep': 2246, 'chuong': 1259, 'nv': 2944, 'un': 4455, 'cau': 1134, 'tong_dai': 4192, '13tr': 96, 'tum_lum': 4392, 'tn': 4142, 'box': 1055, 'ytuby': 4963, 'zin_dep': 4981, 'hoan_toan': 1954, 'cuong': 1362, 'tuyet_doi': 4430, 'htc': 1994, 'vo_dich': 4647, 'usb': 4483, 'time': 4093, 'tl': 4138, '350k': 354, 'ti_le_thuan': 4038, 'de_chung': 1486, 'ruoi': 3273, 'thu_tuc': 3997, '315k': 333, 'thinh_thoang': 3930, 'dong_tien': 1636, 'gao': 1748, 'tggd': 3781, 'mieng': 2627, '2tr': 308, 'uang': 4445, 'qua_chung': 3096, 'ong': 2973, 'mobil': 2653, 'sach': 3302, 'sam_note8': 3338, 'cong_nhan': 1312, 'only': 2977, 'wf': 4752, '712': 602, 'tren': 4271, '6pro': 584, 'binh': 1018, 'troc': 4298, 'redmi8_hoi': 3207, 'lin': 2426, 'quay_phim': 3124, 'ban_dem': 947, '1gb': 161, 'mat_khau': 2567, 'den_do': 1516, '5lan': 526, 'khu_vuc': 2236, 'sup': 3637, 'khoan': 2200, 'ket_luan': 2118, 'toan_tap': 4158, 'tlmn': 4140, 'lam_viec': 2374, 'sh': 3451, 'okie': 2961, 'tuong_xung': 4415, 'tiep_theo': 4072, '32gb': 340, 'dmx': 1594, 'truoc_day': 4336, '1h30p': 165, '2h': 278, 'google': 1833, 'cot': 1326, 'gon': 1830, 'ol': 2964, 're_shop': 3191, 'gia_tri': 1780, 'hoat': 1958, 'phin': 3045, 'hop_ly_shop': 1987, 'mik': 2631, 'vu_vu': 4708, 'neu_nhu': 2734, 'hien_dai': 1910, 'smartphone': 3530, 'doan': 1607, 'khong_doi': 2218, '27': 254, 'toi_uu': 4177, 'nhan_vat': 2817, '22': 226, 'tim_hieu': 4091, '21mp': 225, 'fps': 1721, '45': 439, '61': 555, 'may_man': 2589, 'thanh_cong': 3820, 'hu_hong': 1997, 'chieu': 1199, 'ui': 4452, 'chan_nan': 1158, 'qua_troi': 3103, 'hoai': 1948, 'thy': 4035, 'hk': 1936, 'cut': 1367, 'nga': 2737, 'binh_duong': 1020, 'ta': 3663, 'bao_nhieu': 971, 'review': 3223, 'vuong': 4726, 'lg': 2409, 'ra': 3149, 'thu_hoi': 3989, 'dang_le': 1414, 'chinh_sach': 1204, 'kieu_dang': 2286, 'roong': 3255, 'nhet': 2841, 'khay': 2168, 'song_dong': 3569, 'wed': 4747, 'ordered': 2988, 'at': 909, '10pm': 58, 'received': 3203, '2pm': 299, 'super': 3638, 'fast': 1705, '4tr3': 490, 'huy': 2010, 'nhiu': 2860, 'vo_ich': 4652, 'gioi_thieu': 1808, 'fullbox': 1731, 'gop_y': 1836, 'ld': 2398, 'gioi': 1806, '200': 204, 'lich_su': 2414, 'quang': 3113, 'dao': 1432, 'mong_muon': 2672, 'sp_ok': 3585, 'ghi_am': 1764, 'de_y': 1500, 'cho_du': 1215, 'loa_thoai': 2446, 'lieu': 2422, 'lon_nho': 2481, 'ban_dau_may': 946, 'rm': 3237, 'reb': 3201, 'thong_so': 3978, 'tuan_le': 4378, 'gps': 1838, 'dinh_vi': 1585, 'thoi_tiet': 3965, 'tet': 3766, 'can_thiet': 1118, 'xz2': 4905, '55sao': 510, 'y_nhu': 4924, 'troi': 4301, 'ngat': 2744, '1000ms': 36, 'bat_ky': 983, 'shopee': 3474, '1tg': 184, '45p': 449, 'nhiet_tinh_cam_on': 2851, 'buon_ban': 1072, 'gach': 1739, 'bo_tay': 1042, 'ah': 797, 'thah': 3793, 'bet': 1005, 'dieu_kien': 1581, 'nhue': 2884, 'co_gang': 1284, 'mien': 2625, 'nc': 2723, 'tks_shop': 4136, 'phat_dat': 3024, 'sai_van': 3328, 'thinh': 3929, 'vun': 4722, 'tinh_tuom': 4123, 'gia_thanh': 1779, 'fake': 1703, 'sony_mh750': 3576, 'chung': 1253, 'ao_ao': 885, 'dep_hop': 1529, 'vsmart': 4701, 'live': 2432, 'den_nhay': 1517, 'tin_hieu': 4099, 'ngay_xua': 2752, 'a3s': 741, 'nuoc': 2940, 'moi_truong': 2667, 'co_le': 1287, 'cuoi': 1359, 'ket_thuc': 2122, '3s': 389, 'rieng_tu': 3230, 'thik': 3928, 'gai': 1740, 'ben_shop': 1000, 'bo_nho': 1038, '16g': 118, 'bat_cu': 980, 'khacc': 2148, 'ngoai_tru': 2770, 'tran_ngap': 4247, 'gcam': 1753, '6s': 586, 'vt': 4704, 'xm': 4853, 'thuc_ra': 4009, 'tieu': 4081, '665': 569, 'phan_nan': 3014, 'lq': 2492, 'nhug': 2885, 'ms': 2684, 'ap': 888, 'suat': 3620, 'great': 1842, 'satisfied': 3395, 'thanks_shop': 3834, 'ram2gb': 3165, '16gb': 120, 'theme': 3889, 'mui': 2696, 'ten': 3757, 'back': 934, '37': 362, '32mp': 341, '0mp': 28, 'thoi_thuong_dang_cap': 3964, 'sang_trong': 3379, 'shipper': 3459, 'vui_tinh': 4719, 'tien_bo': 4053, 'mi8': 2618, 'connhon': 1318, 'moi_day': 2661, 'sang_mai': 3373, 'cho_phep': 1216, 'vimart': 4619, 'dien_may': 1572, 'gia_mua': 1776, '5tr490': 544, 'a37': 738, 'mang_di_dong': 2554, 'khong_the_ket_noi': 2227, 'bai': 936, 'vat_the': 4547, 'vay': 4550, 'ngan': 2741, '300': 319, 'rata': 3185, '1000ampe': 33, 'vidieo': 4598, 'pin_shop': 3066, 'tuong_tac': 4407, 'bao_lau': 969, 'khen_shop': 2171, 'kich_thich': 2271, 'chi_la': 1188, 'iu': 2051, 'thanh_ly': 3824, 'hop_dong': 1983, 'thoi_buoi': 3955, 'cong_nghe': 1309, 'radio': 3162, 'li_do': 2412, 'ooppo': 2979, 'nui': 2939, 'tum': 4391, 'duoc_gia': 1669, 'sieu_thi': 3497, 'haizzzz': 1862, 'hom_nay': 1972, 'thichau': 3908, 'cua_shop': 1344, 'uy': 4493, 'xe': 4824, 'nhung_ma': 2887, 'leo': 2408, '8g': 664, 'pig': 3062, 'phien_phuc': 3041, 'control': 1319, 'j7_prime': 2059, 'a7_a750': 757, 'noi_troi': 2911, 'hieu_ung': 1922, 'dat_coc': 1441, 'f1s': 1695, '000mah': 3, '5000mah': 497, 'con_so': 1305, 'quang_ba': 3115, 'chuyen_doi': 1268, 'tyte': 4441, 'jack': 2071, 'sai_dc': 3312, 'danha': 1430, 'qua_trinh': 3102, 'ngon_shop': 2777, 'vui': 4716, '1_pin': 148, '2_doi': 268, '3h': 376, 'cam_ket': 1096, '5sao': 538, 'dung_dung': 1663, '79': 618, 'chau': 1176, 'danh_tran': 1429, 'ra_hon': 3152, 'ki_tu': 2266, 'trk': 4284, 'free': 1724, 'fire': 1716, 'gio_choi': 1804, 'bao_gio': 963, 'rach': 3161, '10d': 45, 'noi_tom_lai': 2910, 'reboot': 3202, 'ai_de': 803, 'khu': 2235, 'kinh_tom': 2306, 'dog': 1610, 'hih': 1923, 'vag': 4519, 'verygood': 4575, 'ban_buon': 942, 'dac': 1378, 'ran': 3175, 're_re': 3190, '4h30': 470, '85': 652, 'chug': 1251, 'ngui': 2781, '4thang': 486, 'doc': 1608, 'gia_ban': 1772, 'led': 2402, 'pay': 3000, '3800': 364, '3720': 363, '4h': 468, 'tam_thoi': 3688, 'thoi_trang': 3966, 'co_ma': 1288, 'a7_128gb': 756, 'cup': 1366, 'inch': 2027, 'full_hd': 1730, '1080': 42, '1920': 143, '810': 644, '64': 562, 'cortex_a57': 1324, 'cortex_a53': 1323, '430': 432, '7mp': 628, '240': 237, 'mp': 2682, '2930': 266, 'chac_tay': 1146, 'flash': 1718, 'drop': 1643, 'bo_qua': 1040, 'sum': 3626, 'xuat': 4876, 'logo': 2468, 'pai': 2995, '48mp': 458, 'thuc_te': 4011, '13mp': 94, 'selfi': 3428, 'suc_song': 3624, 'nhe_nhang': 2838, 'su_that': 3615, 'nha_san_xuat': 2801, 'thi_truong': 3904, 'nhi': 2843, '8trieu': 676, 'ntn': 2933, 'ana': 861, 'xan': 4809, 'tinh_toan': 4120, 'son': 3562, 'xca': 4823, 'sxjjx': 3651, 'chi_tiet': 1190, 'duong': 1674, 'truyen': 4349, 'thu_cong': 3987, 'tu_dong_cham': 4361, 'ungg': 4465, 'tieppppp': 4077, 'a70_cu': 754, 'lat': 2386, 'thao_tac_nhan_vat': 3842, 'muc_dich': 2693, 'ly': 2524, 'tat_may': 3722, 'ban_than': 954, 'mobile': 2654, 'ru': 3262, 'vkl': 4634, 'yueu': 4964, '19': 140, 'jean': 2072, 'khoi_phuc': 2211, 'xo_so': 4857, 'tat_wifi': 3729, 'dda': 1479, 'den_pin': 1519, 'ngum': 2782, 'mang_e': 2556, 'imei': 2023, 'kon': 2335, 'dong_bo': 1628, 'lua_dao': 2501, 'xat': 4816, 'am_luong': 830, 'kenh': 2111, '1tr2': 193, 'cc': 1138, 'vo_sinh': 4661, 'tu_dung': 4362, 'dac_biet': 1379, 'that_la': 3851, 'te_te': 3747, 'chut_xiu': 1266, 'dang_ke': 1411, 'nhom': 2868, 'met': 2614, '80': 640, 'suot': 3636, 'der': 1537, 'cung_cap': 1356, 'chan_that': 1161, 'vay_shop': 4553, 'k20': 2081, '710': 601, '730': 607, 'hit': 1933, 'tuong_lai': 4404, 'tu_choi': 4358, 'ngay_sau': 2751, '28': 260, 'theo_doi': 3892, 'loat': 2459, 'tuoc': 4396, 'tinh_hinh': 4113, 'mong_manh': 2671, 'tre_em': 4270, 'galaxy': 1741, 'j7pto': 2067, '3300ma': 344, 've_chai': 4562, '10tr': 62, 'von': 4686, '52': 507, 'xau_xi': 4821, 'du_lieu': 1651, 'kpit': 2336, 'nang_cap': 2713, 'xiaomi_k20': 4839, 'lock': 2463, 'so_sai': 3547, 'tay_phai': 3739, 'trang_bi': 4252, '490_000': 461, 'phat_huy': 3027, 'nha_shop': 2802, 'siieu': 3501, 'don_dep': 1623, 'tham_hai': 3805, 'vi_vu': 4589, 'vut': 4732, 'ip6s': 2037, 'tin_do': 4097, 'bay_nhieu': 993, 'ghien': 1766, 'ipad': 2040, 'ari': 902, 'hi': 1905, 'vot_vat': 4694, 'ip7': 2038, 'qua_te': 3100, 'than_ai': 3814, 'danh_sach': 1426, '000000000': 1, 'nhiet_huyet': 2849, 'j7': 2058, 'khong_may': 2223, 'mo_hoi': 2644, 'micro': 2622, 'chay_loan': 1179, 'nhuoc': 2889, 'call': 1090, 'tit': 4126, 'uu_tien': 4492, 'dong_y': 1638, 'chu_y': 1241, 'tv': 4435, 'gia_dinh': 1775, 'gian_doi': 1791, 'khj': 2187, 'xoan': 4860, 'den_bu': 1515, 'phat_hanh': 3025, 'titok': 4128, 'ama': 840, 'zing': 4982, 'you': 4948, 'internet': 2031, 'van_hanh': 4528, 'muoc': 2699, 'dai_lau': 1392, 'kho_khan': 2193, '2diem': 273, 's60': 3286, 's61': 3287, '98': 693, 'vso': 4703, 'tua': 4375, '3690': 360, 'ngheo': 2755, 'y_nhu_rang': 4925, 'wifee': 4758, 'day_dac_biet': 1462, 'giot': 1812, '12mp': 82, 'phan_anh': 3008, 'luc_nao': 2504, 'shit': 3460, 'mau_shop': 2580, 'vo_duyen': 4649, 'vo_co': 4644, 'sx': 3650, '2016': 208, '12th': 85, 'xung_quanh': 4894, 'tom': 4181, 'phuc': 3057, '65': 567, 'tien_do': 4055, 'kip_thoi': 2309, 'hanh': 1876, 'fai': 1702, 'quy': 3136, 'khat': 2163, '83': 650, 'bo_phan': 1039, 'chanh': 1165, '29': 263, 'khug': 2241, 'dich': 1561, 'jo': 2075, 'vua_tay': 4713, 'trung_bay': 4320, 'chop': 1227, 'hangf': 1875, 'co_dieu': 1283, 'cug': 1351, 'tam2': 3681, 'ssu': 3603, '3990': 367, 'hoa_don': 1944, 'auto': 914, 'mink': 2635, 'pm': 3075, 'china': 1202, 'rap': 3183, 'an_khop': 851, 'ngon_lanh': 2775, 'mo_man_hinh': 2645, 'is': 2045, 'enlly': 1688, 'will': 4768, 'support': 3641, 'very': 4574, 'love': 2489, '12': 69, 'so_bo': 3540, '3sao': 390, 'tui_tien': 4388, 'hinh_shop': 1931, 'fun': 1734, 'moi_cung': 2659, 'xim': 4841, 'nguyen_nhan': 2797, 'may_chu': 2586, 'trach_nhiem': 4232, 'bac': 928, 'shoplan': 3479, '4tr': 489, '2p': 296, 'dom': 1621, 'nhot': 2870, 'quay_cuong': 3122, 've_ngoai': 4563, 'bat_mat': 984, '5se': 539, 'lau_lac': 2389, '60fpts': 554, '22h': 227, '6h': 582, '6ram': 585, 'lad': 2363, 'pro': 3079, 'loi_shop': 2476, '9k': 704, 'phuong': 3060, 'tong_quan': 4194, 'thong_minh': 3976, 'nghia': 2759, '25mp': 247, 'shoping': 3478, 'mach': 2537, '20s': 221, 'sop': 3578, 'ping': 3067, 'nhe_tenh': 2840, 'tuong_tu_thuc_su': 4411, 'tro_xuong': 4297, 'onscreen': 2978, 'long_leo': 2484, 'dang16': 1407, '100k': 39, 'trong_luong': 4311, 'tft': 3770, '48': 453, 'reno': 3211, '2trieu': 315, 'song_van': 3574, 'hic': 1908, 'shopp': 3481, '2m': 288, '32g': 339, 'thoi_diem': 3957, 'viet_shop': 4610, 'up': 4478, 'xuat_hoa_don': 4880, 'tin_cay': 4096, 'hoan_tra': 1955, 'biet_may': 1013, 'chuong_trinh': 1260, '675': 571, 'ai_ngo': 807, 'tham': 3801, 'hoi_shop': 1967, 'toi_shop': 4173, 'xam': 4808, 'f1': 1693, '23': 231, 'nhat_la': 2832, 'li': 2411, 'suy': 3645, 'sieu_shop': 3495, 'tan': 3691, '13g': 90, '150': 100, 'cao_gia': 1127, 'nhon': 2869, 'gi': 1770, 'l90': 2359, '12t990': 84, 'nai': 2709, 'lagg': 2365, 'thaps': 3847, '4500mah': 444, 'am_am': 825, 'nhanh_chong_mat': 2823, 'nghich': 2760, 'loan_xi': 2457, 'tuong_tu': 4410, 'tu_mu': 4364, 'luoc': 2512, 'xog': 4862, 'dau_dau': 1447, 'roi_rot': 3248, 'bao_ve': 974, 'nguoi_yeu': 2791, 'kho_than': 2194, 'nhuc': 2882, 'co_chu': 1282, 'khang': 2159, 'may_ra': 2593, 'gian': 1790, 'miui': 2636, 'onl': 2975, 'khong_le': 2220, 'vina': 4620, '20k': 216, 'tk': 4131, 'lzd': 2526, 'cham_tre': 1153, 'lang_nghe': 2380, 'lol': 2478, 'be_nho': 996, 'ti_teo': 4040, 'chen': 1183, 'thuc_tinh': 4012, 'tgdd_ban': 3774, 'cat': 1132, 'khoet': 2207, 'chit': 1208, 'rin': 3232, 'troi_dat': 4303, 'hieu_biet': 1918, 'mua_hang': 2689, 'tam_tam': 3687, 'likenew': 2425, 'a_song': 776, 'tuong_thich': 4408, 'a20': 731, 'wjfj': 4775, 'dung_may': 1665, 'c1': 1078, 'y91c': 4916, 'ck': 1273, 'vk': 4633, 'bai_hoc': 937, 'ne': 2727, 'dim': 1582, 'nhiet_tinh_giao': 2852, 'hon_ca': 1976, 'ku': 2345, 'tphcm': 4217, '10kb': 51, 'da_so': 1375, 'kb': 2099, 'thay_the': 3866, '24mp': 241, 'dep_full_box': 1528, 'top': 4201, 'giao_dich': 1794, 'kiu': 2312, '1tr9': 196, 'do_am': 1596, 'tat_nguon': 3724, 'ben_bi': 999, 'zl': 4987, 'de_nghi': 1491, '7906': 619, 'gom': 1829, 'day_cap': 1460, 'tong_cong': 4191, '600': 552, '000d': 2, 'don_tiep': 1625, 'theo': 3891, '14': 97, 'sang_ngay': 3374, '16': 114, 'trinh_bay': 4282, 'tho_o': 3942, '5g': 519, 'viettel': 4614, 'root': 3256, 'samsung_s': 3359, '86': 656, 'lot': 2488, '100c': 38, 'xui': 4884, 'chang_han': 1163, 'sony': 3575, 'zingplay': 4986, '10ph': 56, '8h': 667, '20p': 220, 'vol': 4682, 'vans': 4538, 'vi_tinh': 4586, 'mot_ti': 2679, '070_000': 14, 'vnd': 4641, 'vay_la': 4551, 'mobell': 2650, 'hang_khong': 1871, 'an_ui': 859, 'nong_hoi': 2918, 'bth': 1057, 'tien_ich': 4058, 'anroid': 880, 'duoc_hang': 1670, 'a9': 764, 'thiet_bi': 3918, '84': 651, '44': 436, '40cm': 420, 'wi': 4755, 'fi': 1712, 'hsau': 1992, 'giuc': 1815, 'a7': 752, 'anderoi': 863, 'aderoi': 788, 'data': 1444, 'cl': 1274, 'up_rom': 4479, 'quoc_te': 3135, 'vuong_mac': 4728, 'phap': 3021, 'luan': 2502, 'ron': 3251, 'kakaa': 2095, 'gia_nhu': 1777, 'an_tien': 856, 'co_tinh': 1290, 'an_giang': 847, 'xuat_sac': 4881, 'sang_trang': 3378, 'trang_an': 4251, 'nx': 2946, 'vog_qa': 4675, 'vog_camera': 4673, 'am_u': 836, '13h': 92, 'toi_hu': 4168, 'ham': 1863, 'vog': 4672, 'mang_du_lieu': 2555, 'prime': 3078, 'den_bao': 1514, 'cham_den': 1150, 'toi_uu_hoa': 4178, '4100': 423, 'tan_trang': 3703, 'goi_shop': 1827, 'kinh_doanh': 2298, 'thanh_toan': 3828, 'citibank': 1272, '3ram': 388, '4ram': 480, 'tro_len': 4290, 'one': 2972, 'an_mac_du': 852, 'mjk': 2638, 'con_gai': 1302, 'feedback': 1710, 'ti_vet': 4042, 'lem': 2403, 'tich_cuc': 4044, 'rien': 3227, 'mua_cai': 2688, 'shopbnhiet': 3472, 'laz': 2394, 'lite': 2431, 'nhanh_chong': 2822, 'bep': 1003, 'trua': 4313, 'a10': 727, '6x': 596, 'vit': 4627, 'nghi_ngo': 2758, 'thea': 3883, 'thac_mac': 3791, 'le_do': 2400, 'phong_cach': 3050, 'truc_trac': 4316, 'nuoc_cat': 2941, 'mini': 2634, 'kkk': 2314, 'icloud': 2018, 'op_ep': 2981, 'to_dung': 4148, 'khuan': 2238, 'bat_song': 986, 'sdt': 3409, 'khoonh': 2232, '24h': 240, 'chan_chua': 1156, 'cpu': 1329, 'tot_bung': 4204, 'lo_so': 2441, 'bao_boc': 960, 'tu_cam_ung': 4357, 'vot': 4693, 'tiep_xuc': 4076, 'uoc': 4469, 'sybian': 3652, 'the_he': 3871, '800k': 642, 'a8': 760, 'noi_bat': 2903, '3800mah': 365, '4500k': 442, 'chan_dung': 1157, 'gioi_han': 1807, '5m': 527, 'a50s': 747, '50s': 504, 'ban_hang': 949, 'may_nghe': 2591, '3thang': 394, 'oan': 2948, 'menu': 2606, 'ghet': 1762, 'tuong_shop': 4406, 'ram6': 3169, '2lan': 286, 'loay_hoay': 2460, 'nham_lan': 2808, 'sai_sot': 3326, 'xu_li': 4872, 'wiffi': 4759, 'ngay_mai': 2748, 'tg': 3771, 'youtobe': 4950, 'doi_moi': 1617, 'zay': 4973, 'ban_quoc_te': 952, 'mat_cong': 2565, 'thoi_gio': 3959, 'nhanh_shipper': 2825, 'zingmp3': 4983, 'tu_tu': 4371, '1thang': 188, 'truy_cap': 4348, 'j7prime': 2065, '1cho': 155, 'thich_shop': 3907, 'j2pro': 2053, 'ktra': 2343, 'quanh': 3119, 'sg': 3449, 'toc': 4161, '480p': 454, 'danh_thuc': 1427, 'bo_sung': 1041, '77': 614, '49': 460, 'lop': 2486, 'mess': 2611, 'dau_hieu': 1451, 'code': 1294, 'thu_thap': 3995, '30k': 326, '3tr': 396, 'tiki': 4088, 'xem_ra': 4828, 'alibaba': 815, 'tuyen': 4426, 'moi_toi': 2666, 'type': 4439, 'muot_shop': 2703, '55': 509, '150k': 103, 'ks': 2339, '3310': 346, '2017': 209, '18thang': 137, '434': 434, 'ba_xa': 926, 'kute': 2349, 'phan_tich': 3016, 'a7_te': 759, 'cam_ung_tam': 1105, 'chan_chinh': 1155, 'off': 2951, 'ib': 2016, 'gon_nhe': 1831, 'mat_khac': 2566, 'khuyen_khich': 2254, 'e72': 1683, 'volammobi': 4683, 'giai_thich': 1786, 'seal_shop_reply': 3419, '320': 336, 'duyet': 1681, 'an_toan': 857, 'lau_shop': 2391, 'rot_gia': 3258, 'secondly': 3423, 'dinh_gia': 1584, 'thirtly': 3931, 'ns': 2929, 'vn': 4640, 'pan': 2997, 'phan_phoi': 3015, 'nsx': 2930, '4045': 417, 'keng': 2109, '________': 716, 'mays': 2598, '_________lazada': 719, 'type_c': 4440, '5mm': 528, 'te_shop': 3746, 'teo': 3759, '3500': 352, 'cao_cap': 1126, 'it_nhat': 2047, 'beo': 1002, 'uot': 4477, 'khuat_mat': 2239, 'mat_troi': 2574, 'son_tay': 3564, 'sua_loi': 3618, 'kheo': 2172, 'si': 3489, 'vo_cung': 4645, 'coi_nhu': 1296, '2nd': 294, 'hand': 1867, 'phieu': 3042, 'nguyen_ban': 2796, 'xung_qoanh': 4893, 'lam_on': 2370, 'tai_khoan': 3676, 'app_store': 896, 'chiec': 1195, 'vmast': 4639, 'jon1': 2077, 'the_ma': 3876, 'duoc_shop': 1671, 'da_phan': 1374, 'quet': 3129, 'a80': 761, '34': 348, 'thuat': 4003, 'haiz': 1859, 'veo': 4571, 'rac': 3158, 'co_hoi': 1285, 'xac_dinh': 4794, 'bua': 1059, '2trieeuj': 314, 'khia': 2176, 'mua_ban': 2687, '3500mah': 353, 'du_doi': 1648, 'j7pro': 2066, 'bong_bay': 1050, 'ghe_gom': 1760, 'xuyen': 4903, 'hay_sao': 1889, 'livestream': 2433, 'hoan': 1949, 'twrp': 4436, 'chs': 1233, 'dut': 1677, 'chien_game': 1198, 'vvv': 4735, 'cv': 1369, 'mic_thoai': 2621, 'linh_kien': 2428, 'pat': 2999, 'vnmb': 4642, 'thue_bao': 4015, 'khog': 2208, '08': 15, 'trung_tam': 4328, '1h30': 164, 'x5': 4786, '1giay': 162, 'k3': 2084, 'vach_ra': 4518, 'sog': 3558, 'det': 1540, 'hang_dau': 1869, '6_7': 575, 'ba_con': 923, 'kick': 2273, 'ket_shop': 2121, '90': 678, '1o': 176, '9se': 707, 'ji': 2073, 'vo_van': 4668, 'thu5': 3986, 'quyet_dinh': 3145, 'tay_chay': 3735, 'ngot_ngao': 2778, 'quick': 3132, '5t': 540, 'mat_tieu': 2572, 'son_xai': 3565, 'mep': 2608, 'da_nhiem': 1373, 'ri': 3225, 'nge': 2753, '2sim': 303, '1cuc': 156, 'tu_dien': 4359, 'vd': 4558, 'shiper': 3458, 'kho_tinh': 2195, 'nhat_dinh': 2831, 'thoai_mai': 3949, 'sead': 3413, 'qcao': 3090, 'the_nay': 3878, 'xin_loi': 4843, 'bong_dung': 1051, 'thi_lam_shop': 3898, 'khong_che': 2215, 'a6': 751, '3000': 320, 'redmi7': 3206, 'thanm': 3836, 'tot_lanh': 4209, '7plus': 631, 'loc': 2461, 'apple': 897, 'chan_thanh': 1160, 'way': 4743, 'unclock': 4457, '10ngay': 54, 'nhu_quang': 2875, 'tap_am': 3711, 'made': 2538, 'in': 2025, 'quan_tam': 3110, 'sau_nay': 3398, 'xop': 4864, 'cay_but': 1137, 'eo': 1689, '3p': 385, 'chui': 1252, 'a20s': 734, 'km': 2318, 'te_tua': 3748, 'hoan_thien': 1953, 'giom': 1809, 'tott': 4215, 'text': 3769, 'quy_dinh': 3137, 'dong_gop': 1631, 'model': 2656, 'shops': 3487, 'quy_men': 3139, 'uu_ai': 4489, 'that_ra': 3854, 'mag': 2539, 'nho_nho': 2863, 'do_do': 1598, 'thong_cam': 3974, 'phay': 3031, 'tuong_tuong_hinh_nhu': 4413, 'ha_ha': 1849, 'ton_tho': 4187, 'cong_nghe_cao': 1310, 'kirin': 2310, 'kha_nang': 2138, 's_shop': 3293, 'ngay_gio': 2747, 'de_so': 1494, '6990': 573, 'chong_mat': 1226, 'dau_long': 1453, '300k': 322, '3400': 349, '97_98': 692, 'xa_bong': 4789, 'thieu_phu_kien': 3926, 'hoc': 1960, 'tp': 4216, 'tgdd_vai': 3779, 'tro_ve': 4296, 'offline': 2952, 'slow': 3528, 'motion': 2681, 'team': 3750, 'view': 4617, 'okshop': 2963, 'chrome': 1232, 'giay_to': 1801, 'nem': 2729, 'tiem': 4050, '960p': 688, 'cum': 1354, '3cam': 370, 'samsung_tinh': 3362, 'v20': 4501, '91': 679, 'sida': 3490, 'nho_shop': 2864, 'apn': 894, 'lhe': 2410, '0918961785': 20, 'hack': 1852, 'tucc': 4385, 'nhiet_do': 2848, 'giao_dien': 1795, 'mh': 2616, '200kb': 207, 'remi': 3209, 'den_shop': 1521, '100k_shop': 40, 'alo': 817, 'bat_thuong': 987, 'gem': 1756, 'tug': 4386, 'phe_lieu': 3033, 't2': 3655, 'mail': 2544, 'vo_lai': 4655, 'samsung_a20': 3346, 'giup_do': 1818, '_shop': 726, 'thoa': 3944, '1tieng': 190, 'nong_bong': 2916, 'tiet': 4078, 'tra_lai': 4225, 'hoi_hop': 1966, 'giai': 1782, 'thoa_man': 3946, 'khan_cap': 2158, 'dong_thoi': 1635, 'nguoc': 2784, 'u_o': 4442, 'do_thua': 1606, 'blah': 1032, 'tham_chi': 3803, 'dang_ky': 1413, 'do_loi': 1600, 'can_ban': 1110, 'don_gian': 1624, 'ze': 4975, 'yeu_duoi': 4939, 'tin_vui': 4104, 'tan_thanh': 3699, 'hut': 2006, 'mjh': 2637, 'ra_hieu': 3151, 'du_sao': 1653, 'thaks': 3800, 'haizz': 1860, 'hoc_sinh': 1961, 'sinh_vien': 3515, 'mgg': 2615, 'resort': 3219, 'suy_xet': 3648, 'phanh': 3020, 'nhai': 2805, 'may_thuong': 2595, '4000map': 410, 'ray': 3188, '1tuan': 200, 'tuong_duong': 4403, 'androi7': 866, 'tu_tao': 4368, 'tap': 3710, 'ko_vo': 2331, 'do_net': 1601, 'nog': 2901, 'tieu_dung': 4084, '1208': 72, 'qhd': 3091, 'can_thiep': 1117, 'dat_khach': 1443, 'gia_shop': 1778, 'chi_toi': 1191, 'cong_tac': 1314, 'lam_nen': 2369, '48m': 456, '12m': 81, 'cu_chi': 1338, 'thay_doi': 3863, 'ki_luong': 2260, 'vdeo': 4560, '990': 696, 'tes': 3763, '8pro': 670, 'tot_giong': 4206, 'hik': 1925, 'thuan_loi': 4002, 'ad_van': 783, 'haizzz': 1861, 'sam_sung_s10': 3342, 's10': 3282, 'hieu_qua': 1920, 'that_mong': 3853, 'xmax': 4854, 'ddep': 1480, 'y_se': 4926, 'ungr': 4466, 'lam_phien': 2371, 'giat_minh': 1799, 'luu_danh_ba': 2522, 'tach': 3669, 'ts': 4350, 'cag': 1085, 'khuon': 2247, 'dong_vien': 1637, 'phat_trien': 3029, '460': 451, '89': 661, '1k': 169, 's2': 3284, 'xinh_xan': 4848, 'vuot_troi': 4730, '400k': 413, 'mieu_ta': 2629, 'kinhbdoanh': 2307, 'oppo_f11': 2985, '15ngay': 108, 'miet': 2628, '8plus': 669, 'quy_nhon': 3140, 'chi_nhanh': 1189, 'nvkt': 2945, 'xaii': 4807, 'qua_gio': 3098, 'dau_may': 1455, 'iphon': 2041, 'ga': 1738, 'qua_dang': 3097, 'tieg': 4049, 'ket_hop': 2117, 'be_ti': 997, 'toi_ngay': 4170, 'shoper': 3477, 'vl': 4635, 'qt': 3092, '25mpx': 248, 'khuyet_diem': 2256, 'zop': 4994, 'zop_lam': 4995, 'an_huy': 849, 'san_long': 3366, '2900': 265, 'kien_shop': 2282, '5phut': 533, 'ssj3': 3601, 'stees': 3606, 'zo': 4989, 'hoa_ra': 1945, 'nhuq': 2891, 'v10': 4499, 'cute': 1368, 'tk_shop': 4132, 'j7_pro': 2060, '02': 7, 'product': 3080, 'om': 2965, 'khong_lo': 2221, 'vat_lieu': 4545, 'mem': 2604, 'the_la': 3874, '625': 556, 'vote_shop': 4696, '8990': 662, 'thuyet_phuc': 4034, 'sdi': 3407, 'cam_tinh': 1103, 'tu_tung': 4372, 'song_con': 3568, '4s': 482, 'vs_shop': 4700, 'buu_dien': 1075, 'sag': 3307, 'rut_tien': 3279, 'kkk_sp': 2315, 'cuog': 1358, 'xuot': 4902, 'uogb1': 4471, 'camara': 1106, 'dach': 1382, 're_tien': 3192, 'bag': 935, 'ttc': 4353, 'thao_tac_pin': 3843, 'dam_thoai': 1398, 'tube': 4380, 'khokng': 2212, 'vve': 4734, '1nam': 174, 'spham': 3590, 'may_bay': 2585, 'nhan_mang': 2814, '2tuan': 316, 'candy': 1119, 'kg_the': 2132, 'thong_thuong': 3979, 'rrat': 3260, 'ngay_nay': 2749, 'a5': 742, '5mp': 529, '2mp': 292, 'khau_trang': 2166, 'mu': 2685, 'bun': 1066, 'chata': 1175, 'spen': 3589, 'note9': 2926, 'toan_bo': 4155, 'a9_pro_choi': 767, 'a9_pro': 766, 'sea': 3412, '450d': 446, 'goole': 1834, '25w': 250, '15w': 113, 'best': 1004, 'xen': 4830, 'philips': 3043, 'ngung': 2783, 'sz': 3654, 'hoa_toc': 1946, 'dai_fm': 1389, 'fm': 1719, 'hot': 1988, 'khong_gian': 2219, '3tr_van': 400, 'blutooth': 1034, 'tap_the_duc': 3715, 'cham_than': 1152, 'so_luong': 3545, 'tien_loi': 4059, 'tat_do': 3720, 'hau_het': 1884, 'cuong_do': 1363, 'khau_do': 2165, 'suon': 3632, '6thang': 589, 'free_fire': 1725, 'vanh': 4537, 'cong_suat': 1313, 'tich_hop': 4046, 'vinahous': 4621, 'y9': 4915, '26': 251, 'lam_shop': 2373, 'dang_tien': 1416, 'thoi_han': 3960, 'zoom': 4993, 'ge': 1754, 'tham_hoa': 3806, 'ty_le': 4438, 'dau_den': 1448, 'deu_deu': 1543, 'tuong_doi_shop': 4401, 'truot_gia': 4346, 'settings': 3445, '22p': 229, 'okkkk': 2962, 'kinh_hon': 2301, '10t': 61, 'so_mi': 3546, 'dien_hinh_nhu': 1571, 'vato': 4548, '5f': 518, 'kf': 2129, 'tac_dong': 3666, 'hach': 1851, 'came': 1107, 'phon': 3047, 'oreo': 2989, 'that_long': 3852, 'they': 3894, 'sent': 3438, 'black': 1031, 'although': 821, 'yellow': 4931, 'there': 3893, 'was': 4740, 'also': 819, 'original': 2990, 'audio': 913, 'sound': 3581, 'microphone': 2623, 'worked': 4776, 'but': 1073, 'a_root': 774, 'upgrade': 4481, 'happy': 1880, 'dc_vay': 1474, 'vo_li': 4658, 'ton_tai': 4186, '10s': 59, 'y7': 4912, '4000ma': 408, 'troi_oi': 4304, 'ki_cang': 2258, 'mac_nhien': 2536, 'nhap_nhay': 2829, 'nhay_cam_ung': 2835, 'shoppe': 3482, 'cam_nam': 1097, 'mak': 2546, 'sansum': 3383, 'cang_ngay_cang': 1121, 'remid': 3210, 'message': 2612, 'du_dinh': 1647, 'sf': 3448, 'bao_thuc': 973, 'luoi': 2514, 'tri': 4275, 'trai_goi': 4236, 'vooc': 4691, 'pugb': 3086, '15p': 109, 'tham_quyen': 3810, 'giao_tranh': 1796, 'z5': 4968, 'tham_mi': 3808, 'kieng': 2283, '4tieng': 488, 'ton_phi': 4185, 'sua_chua': 3617, 'hoan_lai': 1951, 'rang_cua': 3178, 'wep': 4749, 'thai_nguyen': 3798, 'hoang_mang': 1957, 'kog': 2333, 'san_pham_gia': 3369, 'ram4': 3168, 'chao_shop': 1167, 'thom': 3970, 'thnah': 3939, 'quoang': 3133, 'y_hinh_shop': 4921, 'tat_ap': 3718, 'loan_van': 2454, 'saver': 3399, 'zong': 4992, 'dac_sac': 1380, 'tong_the': 4196, 'hard': 1881, 'khau': 2164, 'tat_mang': 3721, 'volume': 4685, 'safari': 3306, 'dang_nhap': 1415, '4s_shop': 483, 'ruou': 3276, 'laq': 2385, 'nu': 2934, 'vh': 4577, 'dep_lam_shop': 1530, 'xach': 4801, '64g': 564, 'main': 2545, '6300': 558, 'vua_moi': 4711, 'cham_chap': 1149, 'bla': 1030, 'trung_thuc_hinh_thuc': 4333, 'khjng': 2188, 'tram_trong': 4242, 'search': 3421, 'dong_thai': 1634, 'asphalt': 904, 'ran_ran': 3176, 'screen': 3404, 'comment': 1300, 'said': 3331, 'kem_shop': 2107, 'cuc_manh': 1349, 'thuc_chat': 4006, 'dcmn': 1476, 'gat': 1750, 'ko_bao': 2322, 'ip6': 2036, 'v9': 4503, 'nguoi_than': 2790, 'reply': 3216, 'nhg': 2842, 'p60': 2994, 'tam_giao': 3684, 'ka': 2092, 'tan_chau': 3692, 'tay_ninh': 3738, 'tat_wi_fi_k_le': 3728, 'tat_wi_fi': 3727, 'koi': 2334, 'au': 911, 'mang_nhen': 2557, 'tu_y': 4374, 'hoang': 1956, 'sin': 3509, 'zslo': 4996, 'ssa70': 3599, 'phat_chan': 3023, 'da_vang': 1376, 'da_man': 1372, 'tan_tam': 3697, 'len_doi': 2405, 'dung_yen': 1666, 'tran_tre': 4249, '1g': 158, 'mon': 2668, 'van_phong': 4529, 'choi_pubg': 1220, 'reami': 3199, 'sn': 3533, '2tr4': 310, 'neo': 2731, '4050': 418, 'luon_luon': 2516, 'bjt': 1028, 'toi_te': 4174, 'terrible': 3762, 'tac_dung': 3667, 'videos': 4597, '1kb': 170, '9kb': 705, '94': 683, 'nham_mat': 2809, 'phan_cam_ung': 3009, 'nat_bet': 2720, 'thieu_hut': 3925, '10000': 32, 'nang_tay': 2716, 'store': 3609, 'freefire': 1726, 'thai_co': 3796, 'xap': 4815, 'soat': 3554, 'sai_vai': 3327, 'tien_shop': 4061, 'tkj': 4134, 'day_cop': 1461, '16mp': 126, '42gb': 431, 'snapdragon': 3536, 'trugs': 4317, 'tro_choi': 4287, 'vi_sao': 4584, 'chorme': 1229, 'trang_web': 4258, 'pha': 3001, 'my_lla': 2705, 'kakak': 2096, 'thay_may': 3865, 'au_ta': 912, 'san_sang': 3370, 'phan_tram': 3017, '20h45': 215, '47': 452, 'ngan_hang': 2742, '27tr': 259, 'luonh_shop': 2519, 'xperia': 4867, 'shoppppppppppppppppppppppppp': 3486, '2h15': 279, 'that_thuong': 3857, 'suu_tam': 3644, 'x1': 4785, '4500w': 445, '4000w': 412, 'yeu_xiu': 4947, '6splus': 587, 'tach_tach': 3670, 'lung_lang': 2509, 'a39': 739, 'oppy': 2986, 'noi_thang': 2909, 'link': 2430, 'all': 816, 'tool': 4198, 'youtubi': 4957, 'nho_nhan': 2862, 'dg': 1544, 'shop_': 3467, 'tan_tay': 3698, 'tan_mat': 3693, 'hap_dan': 1879, 'khoac': 2199, 'so_so': 3549, 'thong': 3972, 'khac_giong': 2144, '2s': 301, 'sieu_toc_do': 3499, 'tat_nhien': 3725, 'rung_rung': 3271, 'mot_vai': 2680, 'van_chuyen_giao': 4524, 'sit': 3516, 'bm': 1035, 'do_tai': 1603, 'xac_xai': 4800, 'hu_hai': 1996, 'sao_tl': 3386, 'vech': 4568, 'thoang': 3951, 'hoi_tiec': 1969, 'amin': 841, '01': 6, '07': 13, '10sao': 60, 'khac_shop': 2146, 'de_shop': 1493, 'quan_diem': 3108, 'dc_shop': 1471, 'kinh_nghiem': 2304, 'chia_tay': 1194, '15t': 110, 'diss': 1589, 'loa_choi_zing': 2445, 'thaya': 3868, 'itel': 2049, 'ra_mat': 3153, 'nhan_manh': 2815, 'ung_y_shop': 4464, 'vo_ko': 4654, 'samsung_s7': 3361, 'han_quoc': 1866, 'suit': 3625, '2i': 283, 'khac_biet': 2143, 'lcd': 2397, 'thanh_li': 3823, 'ao_anh': 884, 'keeng': 2104, 'so_it': 3544, 'samsum': 3343, 'toooi': 4199, '6tr': 591, 'uon': 4472, 'y_chang': 4917, 'an_tuong': 858, 'luog': 2513, 'thog': 3953, 'chu_nhat': 1238, 'nhiet_tinh_shop': 2854, '09': 16, '161': 117, '5gr': 522, 'xiaomi_huawei': 4838, 'quen_thuoc': 3127, 'ma_ban': 2531, 'suog': 3631, 'xiaomi_note4': 4840, 'real': 3193, 'nhu_la': 2874, 'hon_nua': 1977, 'kin': 2291, 'yeu_shop': 4942, 't_vs': 3662, 'toet': 4164, 'than_toc': 3817, 'xuog': 4898, 'f7': 1698, 'sez': 3447, 'min': 2632, 'android_one': 868, 'tinh_gian': 4111, 'song_mang': 3570, 'phan_ung': 3018, 'asus': 906, 'ban_cai': 943, 'vlog': 4638, 'cong_cu': 1308, 'mong_tgdd': 2674, 'xo': 4856, '6990k_van': 574, 'am_usb': 839, 'gia_cong': 1774, 'may_ma': 2588, 'ghn': 1768, 'viet_nam': 4609, 'dui': 1658, 'tep': 3761, 'combat': 1298, 'trung_cap': 4322, 'selfile': 3430, 'sinh': 3510, 'nhanh_le': 2824, 'thoi_loan': 3961, 'an_choi': 845, 'lp': 2491, '72': 603, 'do_choi': 1597, 'zi': 4978, 'xun': 4887, 'giac': 1781, 'shoop': 3464, 'nieu': 2897, 'them_shop': 3888, 'den_thui': 1522, 'tam_gia': 3683, 'voi_shop': 4679, 'tien_dung': 4056, 'thiet_nghi': 3922, 'lo_tai': 2442, 'ti_shop': 4039, 'down': 1641, 'tieu_hao': 4085, '2h30p': 281, 'a9_huawei': 765, 'lui': 2505, 'kim_loai': 2290, 'mat_kinh': 2568, 'helo': 1898, 'p35': 2993, 'quancom': 3112, '2020': 212, '8gb': 665, 'thu_tu': 3996, 'sap_xep': 3391, 'dao_lon': 1435, 'dieu_khien': 1580, 'quat': 3120, 'binh_dan': 1019, '4230': 426, 'cong_ty': 1316, 'sdp': 3408, '7500mah': 610, 'shopppppp': 3485, 'kep': 2114, 'tuy_nhien_shop': 4423, 'a50_cai': 746, 'cai_tien': 1089, 'ghtk': 1769, 'samsung_galaxy_note': 3354, 'dac_tinh': 1381, 'uy_tin_chi': 4496, 'g6': 1737, 'suy_ngam': 3646, 'axon': 917, 'trau_bo': 4264, 'cam_quan': 1101, 'so_cua': 3541, 'ha_noi': 1850, 'ghi_chu': 1765, 'unlook': 4468, 'gim': 1802, 'et': 1691, '1h40phut': 166, 'shipee': 3457, 'xac_thuc_shop': 4799, 'tro_ra': 4293, 'thuog': 4020, 'ra_gi': 3150, '3g4g': 374, 'tieeng': 4048, 'vieet': 4603, 'shoopva': 3465, 'vieen': 4602, 'ung_shop': 4462, 'sot': 3579, 'on_ap': 2968, 'rank': 3181, '2z': 317, 'dan_do': 1401, 'cskh': 1335, 'rac_roi': 3159, '110mb': 67, 'smatch': 3531, 'a20_a30_a50_a70': 732, 'trung_khong': 4324, '1080p': 43, 'tgdd_doi': 3776, '14p': 98, 'song_ca': 3567, 'tiep_thi': 4073, '360': 357, 'ulike': 4453, 'soda': 3557, 'gtgt': 1843, '2m6': 289, 'can_bang': 1111, 'silicon': 3503, 'thi_tran': 3903, 'hau': 1883, 'shits': 3461, 'bung': 1067, 't3': 3656, 'mien_phi': 2626, 'san_pham_chat': 3368, 'moi_shop': 2663, 'phai_chang': 3003, 'truoc_mat': 4339, 'cong_viec': 1317, '10cm': 44, 'loi_nhuan': 2474, 'quyen_loi': 3143, 'tieng_dong': 4065, 'ret': 3222, 'tro_giup': 4288, 'hotline': 1989, 'dau_do': 1449, '636': 561, 'hiu': 1934, 'vach_ngang': 4517, 'xau_mat': 4819, 'dieu_chinh': 1577, 'ban_do': 948, 'wi_fi': 4756, '5000may': 498, 'www_youtube': 4784, 'com': 1297, 'watch': 4741, 'utooktgtfk8': 4487, 'ting': 4105, 'v15': 4500, 'nch': 2724, 'an_thua': 855, 'fullhd': 1733, '15cm': 105, 'ki_vong': 2267, 'thanhk': 3829, 'khuyen_cao': 2253, 'like_shop': 2424, 'wfi': 4753, 'j4': 2055, 'vinh_phuoc': 4623, 'realms': 3198, '700k': 599, 'wtf': 4778, 'training': 4240, 'ips': 2044, 'dup': 1676, 'yen_tinh': 4935, 'ban_ngay': 950, 'volum': 4684, 'file': 1713, 'ncl': 2726, '3tieg': 395, 'sjm': 3520, 'myk': 2707, '15tr': 111, 'kt': 2342, 'dien_ta': 1573, '5giay': 521, 'k_shop': 2089, 'tiep_nhan': 4070, 'day_thang': 1468, 'xinh_dep': 4846, 'bat_ki': 982, 'tinh_than': 4119, 'exynos': 1692, 'ken': 2108, 'adater': 785, 'mall': 2547, 'nguy_co': 2793, 'y7_pro': 4913, 'de_danh': 1488, '1cam': 153, 'truocs': 4341, '5xvaof': 550, 'thay_mat_kinh': 3864, 'xac_minh': 4795, 'phan_cung': 3010, 'phai_chi': 3004, 'tan_tien': 3700, '18v': 138, 'ko_le': 2326, 'lo_ngai': 2439, 'microsoft': 2624, '1202': 71, 'applr': 900, 'post': 3076, '17tr8': 132, '__may': 723, 'seo': 3439, 'toot': 4200, 'date': 1445, '509k': 502, 'bao_shop': 972, 'long_vong': 2485, 'cos': 1325, 'khasch': 2162, 'loan_xa_ngau': 2456, 'phair': 3005, '3250': 338, '850': 653, 'xanh_duong': 4811, 'tra_vinh': 4228, 'ram3g': 3166, 'khuong': 2249, 'vuot_ve': 4731, 'chu_de': 1236, '2pin': 298, 'khoe_shop': 2206, 'ki_thuat': 2262, 'khac_xa': 2147, 'an_vung': 860, 'that_bai': 3850, 'on_ao': 2967, '2ngay': 295, '45ph': 450, 'khiep': 2181, 'j3': 2054, 'noi_dia': 2906, 'nang_no': 2715, '9h': 703, 'vo_fpt': 4650, 'sp_chuan': 3584, 'video_shop': 4596, 'thuong_gia': 4022, 'apple_may': 898, 'b8j': 921, '128g': 77, 'quang_hoc': 3117, 'chinh_thuc': 1205, 'kha_kha': 2137, '4490': 438, '4340': 435, 'tab': 3664, 'chung_loai': 1254, 'trao_doi': 4262, 'vong_vo': 4689, 'uh_shop': 4451, 'ky_chuc_shop': 2351, 'tgd': 3772, '27ngay': 258, 'mes': 2609, 'th': 3785, 'lang_nhang': 2381, '360p': 359, 'sai_muot': 3320, 'sai_ngon': 3322, 'sieu_toc': 3498, 'ssung': 3604, 'samsung_a70': 3351, 'quy_tin': 3141, 'tiep_shop': 4071, 'anh_that': 879, '8520': 655, '9700': 691, 'vo_shop': 4660, '9tr2': 710, 'coa': 1292, 'vi_du': 4580, 'dau_sac': 1456, 'huyen': 2011, 'thue': 4014, 'nguyen_seal': 2798, 'tieu_de': 4083, 't4': 3657, 'zenphone': 4977, 'm1': 2527, 'hcm': 1891, '2tr1': 309, 'shopaj': 3471, 'xep_loai': 4832, 'dut_tui': 1678, 'a8_star': 763, 'trung_quoc_te': 4327, 'games': 1744, '999': 700, 'mobi': 2651, '8tr5': 674, 'thai': 3795, 'juj': 2078, 'lock_shop': 2464, 'chat_lieu': 1173, 'rut_lui': 3278, 'tien_cong': 4054, 'danh_chiu': 1420, 'saiduoc': 3332, 'di_the': 1554, 'dd': 1478, 'thegioidd': 3885, 'map': 2563, 'chia': 1192, 'dong_ho': 1632, 'bao_hanh_nhan_vien': 967, 'nguyen_ven': 2799, 'vua_long': 4710, 'loi_chang': 2470, 'gang': 1747, 'nhip': 2859, 'danh_dau': 1421, 'kho_coi': 2192, 'dech': 1503, 'yen_bai': 4933, 'tinh_giao': 4112, 'tro_tay': 4294, 'thankss_shop': 3835, 'reww': 3224, 'ad_may': 782, 'docomo': 1609, '4sao': 484, 'k_hop': 2087, 'mai_mot': 2543, 'mat_shop': 2570, 'tinh_minh': 4115, 'log': 2467, 'ug': 4450, 'suc_khoe': 3622, 'thanh_dat': 3821, 'ram2g': 3164, 'chy': 1270, 'ksao': 2341, 'ki_tinh': 2265, 'bac_thay': 932, '8a': 663, '7a': 621, 'trif': 4279, 'the_hien': 3872, 'venh': 4570, 'inbox': 2026, 'hehehe': 1896, 'doi_chut': 1613, 'danh_long': 1424, '3tr380': 397, 'xuat_sac_shop': 4883, 'gam': 1742, 'noi_dung': 2907, 'phu_hop_luu_y': 3055, 'shopee_xu': 3476, 'khai_niem': 2153, 'yeu_thuong': 4944, 'sd439': 3406, 'phe_vat': 3035, 'combo': 1299, 'tran_ko': 4246, '30fps': 325, 'rv': 3280, '588': 512, '889': 659, 'samsung_m20': 3357, 'dien_bao': 1570, 'tiep_thu': 4074, 'kham': 2155, 'apps': 901, 'teong': 3760, 'duong_net': 1675, 'lquan': 2495, 'ytb': 4962, '720': 604, '82': 647, 'thu_ngan': 3991, 'a3': 735, 'to_kenh_cang': 4149, 'pim': 3063, 'vat_ly': 4546, 'sales': 3336, 'nguoi_nha': 2788, '12tr': 86, 'ao_tuong': 886, 'cua_so': 1345, '7tr7_van': 638, '18w': 139, 'stop': 3608, 'thit': 3934, 'gmae': 1821, 'khon': 2213, 'mua_sam': 2690, 'gian_hang': 1792, 'j5': 2056, 'gprs': 1837, '2t': 304, 'ngheo_nan': 2756, '5td': 541, 'thien_ha': 3915, '7tf': 633, 's11': 3283, 'tac_phong': 3668, 'adroi': 793, 'thiet_hai': 3919, 'muc_giam': 2695, 'iphone_pro_max': 2043, 'tin_dung': 4098, 'v_a_t': 4505, 'xuan': 4875, 'vung_tau': 4724, 'lqmb': 2494, 'dan_cu': 1400, '7tr4': 635, 'qte': 3093, 'bom': 1047, '18p29s': 136, 'trung_tgdd': 4329, 'thuucj': 4031, 'nhiet_tinh_phu_kien': 2853, 'sill': 3504, 'rep': 3214, 'tt': 4352, 'diem_anh': 1567, '1ao': 151, 'trung_a': 4319, 'ik': 2021, 'khiem': 2178, 'chung_toi': 1257, '1chiec': 154, 'samsung_j7': 3356, 'vuc': 4715, 'can_loi': 1114, 'nova3i': 2928, 'dau_tu': 1458, 'vi_la': 4581, 'shark': 3453, 'viet_hoa': 4608, 'ac': 777, 'rt': 3261, '7690': 613, 'dot_ngot': 1640, 'xung_dot': 4890, 'reseting': 3218, '78': 615, 'karaoke': 2098, 'tren_duoi': 4272, 'tswts': 4351, '3k5': 382, 'ruot': 3275, 'j7pri': 2063, 'y_tin': 4928, 'qua_xa': 3105, '500k': 500, 'di_nhien': 1552, '450k': 447, '1_shop': 149, 'grab': 1841, 'thanh_hinh_tron': 3822, 'hien_gio': 1911, 'gmail': 1822, 'khobg': 2203, 'sac_sao': 3300, '4ngay': 477, 'qua_u': 3104, 'samsung_a10': 3345, '35k': 355, 'tong_quat': 4195, 'phet': 3036, 's9': 3292, 'toan_the_loai': 4159, 'lum': 2506, 's7': 3289, 'a50_500k': 744, '3000mah': 321, '11h': 68, 'khuya': 2250, 'ki_thuat_vien': 2264, 'tu_quan': 4367, '16g_shop': 119, '20kb': 217, 'rinh': 3233, 'cam_chac': 1093, 'opop': 2982, 'bat_ngo': 985, 'yeu_to': 4945, 'tra_gia': 4223, 'bao_hanh_chinh': 966, '40k': 421, 'anh_kim': 877, 'lien_quan_bi': 2419, '2pro': 300, 'sshop': 3600, 'khan': 2157, 'reno2f': 3212, 'soi': 3559, 'suop': 3635, 'lo_shop': 2440, 'sleep': 3527, 'the_loai': 3875, 'chuan_shop': 1247, 'viettel_ban': 4615, 'loi_ich': 2471, 'mb': 2599, 'gr5': 1840, 'zenfone': 4976, 'kha_quan': 2141, 'de_chiu': 1485, 'tan_son': 3696, 't_ninh_thuan': 3661, 'sil': 3502, '1mat': 173, 'chop_chop': 1228, 'qtv': 3094, 'nhinh': 2858, 'sam_sung': 3340, 'xuoi': 4899, 'tuan_gio': 4377, 'rivew': 3235, 'tuc_la': 4383, 'fpt_nhap': 1723, 'kim': 2289, '40pfs': 422, 'qui': 3130, '3t': 391, 'thanh_shop': 3827, 'kkkkkkkkkk': 2317, 'lenh': 2407, 'danhs': 1431, 'vo_hinh': 4651, 'hoen': 1962, 'thaaos': 3790, 'daans': 1377, '15k': 107, 'vaanx': 4514, '30ngay': 327, 'wuas': 4780, 'ngay_ngay': 2750, 'may_han': 2587, 'hum': 2001, 'tan_tinh_cam_on': 3702, 'teamviewer': 3751, '88': 658, '700': 598, 'thuan': 4001, 'ko_lam': 2325, 'nghiep': 2763, 'delivery': 1507, 'note5': 2923, 'uong_phi': 4474, '10h30': 48, '56': 511, '5trieu': 546, '5ruoi': 536, 'admin': 791, 'dep_de': 1527, 'ton_trong_shop': 4189, 'ten_tuoi': 3758, 'lqm': 2493, 'sac_sac': 3299, 'roc': 3244, 'xot': 4866, 'skill': 3521, 'window': 4769, 'tip_tuc': 4125, 'pt': 3082, 'wua': 4779, 'khoc': 2204, 'kich_thuoc': 2272, 'tot_lo': 4210, 'card': 1131, 'saj': 3334, 'ban_shop': 953, 'me_hon': 2601, 'freeship': 1727, 'hjhj': 1935, 'dth': 1645, '1001': 37, 'tobe': 4160, 'ai_ma': 805, 'con_nguyen': 1304, 'vog_samsung': 4676, '808': 643, 'sach_se': 3303, '800': 641, 'sms': 3532, 'vo_ke': 4653, '10tr5': 63, 'tot_lam': 4208, 'loi_noi_chung': 2475, '2tr990': 313, '13pm': 95, 'y11': 4906, 'kai': 2093, 'hah': 1854, '130k': 88, 'shoponline24': 3480, 'khieu_nai': 2182, 'rau': 3187, '256g': 245, 'kha_ok': 2140, 'kuong_shop': 2348, 'khong_cung': 2217, '13m': 93, '8m': 668, '4m': 474, 'andoird': 864, '5gb': 520, 'bay_h': 992, 'tuit': 4390, '0h00': 26, '4h20': 469, 'tu_te': 4369, 'tron_tru': 4306, 'san_co': 3365, '59': 514, 'vonggggg': 4690, 'xah': 4803, 'sang_quac': 3375, 'van_de_cap_nhat': 4526, 'xach_tay': 4802, 'nhap_khau': 2828, 'xinh_shop': 4847, '5c': 516, '4c': 463, 'via': 4590, 'tham_shop': 3811, 'bia': 1010, 'youtub': 4953, 'gio_may': 1805, 'toan_quoc': 4157, 'the_tin_dung': 3882, 'ip5': 2035, 'thou': 3981, 'qui_trinh': 3131, 'ok_so': 2958, 've_phan_mem': 4565, 'ap_ma': 890, 'tuuy': 4419, '6in': 583, 'vo_tu': 4667, 'cpu_helio_p60': 1332, 'j6': 2057, 'hwa': 2013, 'tets': 3768, 'airpay': 811, 'vat_dung': 4544, 'honhf': 1980, 'setup': 3446, '1600': 115, '16000': 116, 'tan_shop': 3695, 'va_mang': 4512, 'xa_shop': 4791, '1280_1110': 76, 'thj': 3936, 'truong': 4342, 'trau_shop': 4265, '5_6': 515, 'wiko': 4767, '1hoi': 168, 'tien_te': 4062, 'ytam_shop': 4961, 'bao_bi': 959, 'ytam': 4960, 'tang_shop': 3707, 'trang_pin': 4255, 'chut_it': 1265, 'di_thoi': 1555, 'sau_cung': 3397, 'thsy': 3983, 'xoq': 4865, 'men': 2605, 'ch_play': 1142, 'tan_trung_tam': 3704, 'sai_con': 3311, 'a5s': 750, 've_sinh': 4567, 'duocn': 1672, 'khongnhay': 2231, 'thien_cam': 3913, 'ps': 3081, 'thien_chi': 3914, 'tam_ta': 3686, 'vien_thong': 4606, '4000mb': 411, '2phut': 297, 'kha_dung': 2136, 'trung_thui': 4334, 'quynh': 3146, 'cuc_nhanh': 1350, 'chung_to': 1256, 'hoan_thanh': 1952, 'lop_son': 2487, '16gb_shop': 121, '2300': 232, 'tly': 4141, 'chan_ngat': 1159, 'bo_xu': 1044, 'void': 4681, 'sac_ben': 3296, 'bop': 1053, 'cao_ca': 1125, '5ngay': 530, 'thieu_sot': 3927, 'qwert': 3147, 'khongchoi': 2230, 'kien_quyet': 2281, 'b1': 919, 'vivu': 4632, 'kug': 2346, 'jum': 2079, 'wwua': 4783, 'a_chu_shop': 769, 'mam': 2548, '2m_loa': 290, '31': 331, 'room': 3254, '22w': 230, '16w': 127, 'roy': 3259, 'loaii_android': 2452, 'sac_so': 3301, '4230k': 427, 'kamala': 2097, 'that_tha': 3856, '16m': 124, 'vieec': 4601, 'space': 3587, '72k': 606, '_8': 712, 'trung_gia': 4323, '8tr4': 673, 'pinh': 3068, 'nang_ne': 2714, 'kn': 2319, '632': 560, '2sao': 302, '2600': 252, 'chia_se': 1193, 'feed': 1709, 'xinh_xinh': 4849, 'tgua': 3784, 'xioami': 4850, '2990k': 267, 'cmn': 1277, 'te_do': 3744, 'loading': 2448, 'gg': 1758, 'ki_thuat_so': 2263, '50k': 503, '0963995479': 21, 'sieu_te': 3496, 'di_viettel': 1557, 'ai_dinh': 804, '2000': 205, 'ne_shop': 2728, '3k1': 380, 'dc_shop_lam': 1472, 'viec': 4599, 'trach': 4231, 'viiettel': 4618, '850k': 654, 'vlin': 4637, 'a_k': 772, 'ton_kho': 4184, 'mia': 2619, 'thuy_tinh': 4033, 'cafe': 1084, 'phau': 3030, 'du_tinh': 1654, '4300': 433, 't_expess': 3659, 'vo_tam': 4663, '7tr690': 636, 'sa': 3294, 'website': 4746, 'so_voi': 3551, 'cong_nghe_izo': 1311, 'sharp': 3454, 'am_hieu': 827, 'dum_shop': 1660, 'designed': 1539, 'by': 1076, 'diec': 1565, '1t': 183, 'bieu_hien': 1015, '2tr5': 311, 'ln': 2436, 'to_do': 4147, '8giay': 666, 'de_ma': 1489, 'ss_a80': 3595, 'cg': 1140, 'nchung': 2725, 'wattpad': 4742, 'vo_ly': 4659, 'thamh': 3812, 'j7pm_do': 2062, 'tham_my': 3809, 'a_giao': 771, 'de_thuong_shop': 1497, 'trung_tha': 4330, 'nua_dem': 2936, 'nhan_ban': 2811, 'samsung_galaxy': 3353, 'samsung_galaxy_s10': 3355, 'seting': 3443, 'bubg': 1060, 'cong_tam': 1315, 'luong_tam': 2518, 'bat_can': 978, 'ko_hop': 2324, 'fb_zalo': 1707, '21': 222, 's660': 3288, 'de_xuat': 1499, 'vang_y_nhu': 4536, '2_shop': 269, 'key': 2127, 'danh_tieng': 1428, 'click': 1275, 'k_le': 2088, 'tess': 3764, 'vx': 4737, 'tuy_shop': 4425, 'na': 2708, 'cs': 1334, '1loaij': 171, 'um': 4454, '6den': 578, 'helio': 1897, 'vi_the': 4585, 'xac_thuc': 4798, 'sv': 3649, 'tha_ga': 3788, 'day_shop': 1467, 'the_ki': 3873, 'ngac_nhien': 2738, 'that_tinh': 3858, 'tai_cho': 3674, 'shaffer': 3452, 'j8': 2069, 'mega': 2603, 'pixel': 3070, 'nuoc_ngoai': 2942, '20g': 213, 'kien_hang': 2280, 'bao_gom': 964, 'k20p': 2082, 'dau_kho': 1452, 'youtube_co': 4956, 'tinh_te': 4118, 'ip7plus': 2039, 'mat_tieng': 2571, 'va_lai': 4510, 'khong_sao': 2225, 'vui_tinh_giao': 4720, 'tb': 3742, 'ban_xac': 955, '24tr': 242, 'ro_ret': 3241, 'xsmax': 4870, 'an_duong': 846, 'the_roi': 3879, 'akg': 813, 'tgdd_may': 3777, '000xu': 4, 'nham_chan': 2807, 'vo_so': 4662, 'pubgm': 3084, 'thoy': 3982, 'wifi_the': 4763, 'xac_suat': 4797, '3490': 350, 'thiet_lap': 3921, 'thap_chi': 3845, '2cai': 271, '1thoi': 189, '2may': 291, 'book': 1052, 'honor': 1981, '7c': 622, 'cua_minh': 1343, 'geam': 1755, '290': 264, 'ti_xiu': 4043, 'chiu_thua': 1211, 'bey': 1006, 'ic': 2017, 'a30s': 737, 'di_tham': 1553, 'ko_bi': 2323, 'ahop': 800, 'queo': 3128, 'teem': 3753, 'wife': 4757, 'taxi': 3733, 'sun': 3627, 'sell': 3433, 'ngon_ngu': 2776, '7_8': 620, 'hqua': 1990, '4_5': 462, '0966838634': 23, 'viettelpost': 4616, 'xe_xe': 4825, '1tr8': 195, '1500mah': 102, 'khinh_thuong': 2184, 'day_doi': 1464, 'thiu': 3935, 'dap_tan': 1437, 'decal': 1502, 'hut_hang': 2007, '19h43': 145, '39': 366, '21h16': 224, 'gold': 1828, 'viek': 4604, 'quange': 3118, 'sat_nach': 3394, '3m': 383, 'dm': 1593, 'thao_go': 3839, 'de_tho': 1495, 'tien_hanh': 4057, 'launcher': 2392, 'xoa_du_lieu': 4859, 'xen_ke': 4831, 'zingpeed': 4985, 'danh_gia_shop': 1423, 'scan': 3403, 'nong_bung': 2917, 'ip4': 2034, 'usb_otg': 4484, 'otg': 2991, 'tai_chinh': 3673, '6t': 588, 'mo_nhat': 2648, 'vog_pin': 4674, '10p': 55, 'vinaphone': 4622, 'thut': 4030, 'uong_uong': 4475, 'k9': 2086, 'khiyeen': 2186, '02g': 8, 'ti3cs': 4037, '12_shop': 79, 'fullbox_shop': 1732, 'troe': 4299, 'oppo_a5s': 2984, 'dong_kinh': 1633, 'bau_troi': 989, 'de_phong': 1492, 'trao': 4261, 'suu': 3643, 'ut': 4486, 'mang_4g': 2553, 'chu_so': 1240, 'xz': 4904, 'nhien': 2846, 'nghiet': 2764, 'dao_dong': 1434, '1g6': 159, '0h': 25, 'then': 3890, 'thap_kem': 3846, '7nm': 630, '2tien': 307, '4tien': 487, 'loang': 2458, 'tieu_chuan': 4082, 'm10': 2528, 'khai': 2152, 'tot_so': 4213, 'thak_shop': 3799, 'xs_max': 4869, 'adapter': 784, 'trung_thanh': 4331, 'giai_tri': 1787, 'vayh': 4555, 'trang_den': 4253, '31_10': 334, '990k': 698, '1tr3': 194, '2loa': 287, 'thuc_an': 4005, 'deal': 1501, 'di_vat': 1556, '1000k': 34, 'tot_bo': 4203, '23tr': 234, 'va_cham': 4508, 'tam_thoi_the_la': 3689, 'thiet_pin': 3923, 'trut': 4347, 'voc': 4670, 'thau_kinh': 3860, '6tr7': 592, 'tien_nhiem': 4060, 'khoa_do': 2197, '30s': 330, '1viettel': 202, 'ok_choi': 2955, 'tress': 4274, 'thay_chan': 3862, 'ranh_roi': 3180, 'soccer': 3556, '48mb': 457, 'buc_xuc': 1064, 'tke': 4133, 'bixby': 1026, 'dich_van_ban': 1562, 'tu_phat': 4366, 'deplay': 1535, 'skype': 3525, 'thomge': 3971, '1900': 141, 'tung_tung': 4395, 'noi_rieng': 2908, 'vi_vay': 4588, 'y_muon': 4923, 'trach_shop': 4233, 'manh_me': 2561, 'doi_tuong': 1619, 'know': 2320, 'were': 4750, 'just': 2080, 'samsung_s6': 3360, 'this': 3932, 'saying': 3402, 'uoc_tinh': 4470, 'vua_roi': 4712, 'bac_den': 929, 'ssoiwj': 3602, 'r_van': 3148, 'y7pro2019': 4914, 'virus': 4626, 'sieu_muot': 3493, 'lazzada': 2396, 'mng': 2642, 'v90': 4504, 'xuat_sac_dep': 4882, 'khong_nhung': 2224, 'aog': 887, 'di_doi': 1549, 'anh_chi_em': 874, '20ngay': 219, 'vd89': 4559, '0986115427': 24, 'loz': 2490, 'tl_shop': 4139, 'thanh_ra': 3826, 'ngoan': 2771, '__chat': 722, 'skk': 3524, 'depu': 1536, 'deep': 1504, 'ram_loa': 3171, 'vc': 4556, 'tat_tan_tat': 3726, 'c2': 1079, 'rk': 3236, 'boi_thuong': 1046, 'dong_cham': 1629, 'zafi': 4970, 'ko_shop': 2328, 'adr9': 792, '4trieu': 492, 'vo_danh_ba': 4646, 'thi_tha': 3901, 'tete': 3767, 'choi_tai': 1221, 'roi_day': 3247, 'du_lich': 1650, 'di_mai': 1551, 'chung_minh': 1255, 'ah_shop': 798, 'thoa_dang': 3945, '0393944438': 11, 'rao': 3182, 'sael': 3305, '99k': 702, 'tjees': 4130, 'z4': 4967, 'z3': 4966, 'roa': 3243, 'seflie': 3427, 'reo': 3213, 'am_i': 828, '25p': 249, 'quang3g': 3114, 'seal_dung': 3415, 'vvvvvvvvvvvvvvvv': 4736, 'wwa': 4782, 'kq': 2337, 'xac_chet': 4793, '26_4': 253, '090_000': 18, 'sym': 3653, '32p': 342, 'vtv': 4706, 'vtc': 4705, 'suong_mu': 3634, 'trinh': 4281, 'viec_lam': 4600, 'von_ven': 4687, '1tgian': 185, 'dpe': 1642, 'chet_toi': 1186, 'tin_nhiem': 4100, 'ko_sac': 2327, 'zalo_facebook': 4972, 'tha5j': 3787, 'lo_tay': 2443, 'hop_le': 1984, '48mpx': 459, '960_000': 687, '630_000': 559, '330k': 345, 'nhich': 2844, 'hanh_phuc': 1877, 'shou': 3488, 'truong_phong': 4344, '990tr': 699, 'v3': 4502, '45b': 448, 'toi_do': 4167, 'dau_hang': 1450, 'sem': 3434, '3340': 347, '128': 74, '6b': 576, '7010': 600, 'am_anh': 826, 'kinh_hoang': 2300, 'vivo_y12_kkk': 4631, 'y12': 4908, 'dai_loai': 1393, 'y11_ram': 4907, '17h': 131, 'thoi_dai': 3956, 'tgtd': 3783, 'ket_cau': 2116, '7cu': 623, 'ho_lao': 1940, '6triu': 595, 'mobifone': 2652, 'thu_dau_mot': 3988, 'apple_shop': 899, 'kybungr': 2358, 'dao_cu': 1433, 'g3': 1735, 'can_dung': 1112, 'tranh_thu': 4260, 'hinh_nhan_vien': 1929, 'xs': 4868, 'atutu': 910, '110k': 66, 'trai_nguoc': 4239, 'vi_nhu': 4583, '20m': 218, 'thuong_gia_ho_do': 4024, '7884': 616, 'tuong_phan': 4405, 'cover': 1328, 'usimlte': 4485, 'de_cap': 1483, 'va_loi': 4511, '60fps': 553, '28fps': 262, 'zom': 4991, '190_000': 142, 'tony_toan': 4197, 'me_ly': 2602, 'dan_ti_ba': 1404, 'info': 2029, '1trieu': 197, 'khong_chi': 2216, 'jo1': 2076, 'mau_sac_dep': 2579, '6tr900': 594, '4400': 437, 'the_tham': 3881, 'ww': 4781, 'ro_ro': 3242, 'hang_xach': 1874, '3am': 369, 'a50_a70': 745, 'wifi_vs': 4764, 'tay_ngang': 3737, 'vip': 4625, 's730': 3290, 'a_e': 770, 'tuank': 4379, '05': 12, '4thag': 485, 'khoq': 2234, 'zt': 4997, 'winner': 4771, 'saq': 3392, 'uoq': 4476, 'xuioc': 4886, 'tuyen_bo': 4427, 'b612': 920, 'zoi': 4990, 'aida': 809, 'sung_suong': 3629, 'voucher': 4697, 'ram_ro': 3174, 'dan_ong': 1402, 'prim': 3077, 'sai_muot_shop': 3321, 'triple': 4283, 'voc_vach': 4671, 'androik': 870, '15tr5': 112, 'chuan_nhan': 1246, 'y15': 4909, 'diem_dam': 1568, 'tag': 3671, 'stt': 3611, '7885': 617, 'xung_nhip': 4892, 'gpu': 1839, '2tr7': 312, 'quyen': 3142, 'yeah': 4930, 'seal_may': 3417, 'samsung_a50s': 3348, 'samsung_a8': 3352, 'ci': 1271, 'thu_vi': 3998, 'ky_shop': 2354, 'udnjg': 4449, '1m3': 172, 'saoo': 3388, 'sai_zalo_fb': 3330, 'vos': 4692, 'vo_le': 4657, 'k20pro': 2083, 'ngoc': 2772, 'lung_linh': 2510, '4500ma': 443, 'tha_ho': 3789, 'pug': 3085, 'sai_bi': 3310, 'roger_shop': 3245, 'trieu_chung': 4277, 'myidol': 2706, 'kinemaster': 2293, 'diamond': 1560, 'realme5': 3196, 'loah': 2450, 'kinh_di': 2297, '1qua': 179, 'androidd': 869, 'loe': 2465, 'thks_shop': 3938, 'toan_dien': 4156, 'nilon': 2898, '3thag': 393, '170k': 130, 'an_bun': 844, 'guoi': 1846, 'asus_pro': 908, 'de_nghe': 1490, 'sad': 3304, 'sain': 3333, 'ky_may': 2353, 'realme_q': 3197, 'chenh_lech': 1184, 'thien_y': 3916, 'rmnote7': 3238, '4000h': 406, 'cpu0': 1330, 'cpu2': 1331, '500ms': 501, '400ms': 414, 'khong_tuong': 2229, 'tuyetn': 4434, 'rit': 3234, 'vivo_v5': 4630, '5u': 547, 'verry': 4572, 'sgop': 3450, 'timh': 4094, 'j2': 2052, 'zia': 4979, 'den_ban_phim': 1513, 'you_shop': 4949, 'thuonggggg': 4029, 'thu_nghiem': 3992, '16gb_tai': 122, '720hd': 605, 'ky_thuat_vien': 2356, 'qua_ngan': 3099, 'chiu_lo': 1210, 'sai_mang': 3318, 'seal_gia': 3416, 's1': 3281, 'khua': 2237, 'loi_thoi': 2477, 'trang_shop': 4256, 'cao_su': 1128, 'guong': 1847, 'ss_a50': 3593, 'xuat_hien_tinh': 4878, 'hazz': 1890, 'alt': 820, 'dai_hoi': 1391, 'quay_ngoat': 3123, '180': 134, 'thuc_trang': 4013, 'am_uc': 837, '68': 572, 'vo_trach_nhiem': 4666, 'sai_hang': 3316, 'yesterday': 4936, 'with': 4773, 'assessories': 905, 'warranty': 4739, 'of': 2950, 'this_shop': 3933, 'speak': 3588, 'which': 4754, 'recommend': 3204, 'dep_y': 1533, 'j7prim': 2064, 'adc': 786, '3e': 372, '2nam': 293, '4gko': 467, 'rep_shop': 3215, 'tuong_trung': 4409, 'khau_tru': 2167, 'tiktok': 4089, '3k3': 381, 'tong_ket': 4193, '7trieu': 639, '216': 223, '3tuan': 401, '6tieng': 590, 'xa_hoi': 4790, '6gh': 581, '5plus': 534, 'den_xi': 1524, 'dgw': 1545, 'nhua_nguyen': 2880, '3d': 371, 'adm': 790, 'rui_choi': 3267, '0333377796': 10, 'vietcombank': 4611, '1th': 186, 'toi_thieu': 4175, 'dah': 1384, 'khong_the_nao': 2228, 'lu': 2498, '23h': 233, 'yeu_ot': 4941, 'xung_khac': 4891, 'sao_mai': 3385, 'ss_a': 3592, 'zingmvp3': 4984, '3pro': 387, '2giay': 277, '3tr6': 399, '2days': 272, 'va_te': 4513, 'tin_tuc': 4102, 'video_call': 4595, 'son_chip': 3563, 'riet': 3231, '1plus': 178, 'vs_nokia': 4699, '429': 429, '626': 557, '9t': 708, 'tro_ly': 4291, '1sau': 182, '30cm': 324, 'y53': 4911, 'reamle': 3200, 'tht': 3984, 'ram_ram': 3173, 'star': 3605, 'an_han': 848, 'thiem': 3911, 'cu_the': 1340, '12p': 83, 'sim_shop': 3508, '3600': 358, 'chim_ung': 1201, 'saooo': 3389, 'wifi_bat': 4761, 'thi_shop': 3900, 'tho_tuy': 3943, 'so_thich': 3550, 'vi_le': 4582, 'tham_bai': 3802, '23trieu_vien': 235, 'ven': 4569, 'via_he': 4591, 'chieu_toi': 1200, 'vi_dieu': 4579, 'shope': 3473, 'to_cao': 4146, 'bac_quang': 931, '1vi': 201, 'y_te': 4927, 'moi_toanh': 2665, '3690n': 361, 'tang_gia': 3706, 'krong_no': 2338, 'dak': 1394, 'tu_bo': 4356, 'sinh_dong': 3511, 'as': 903, 'described': 1538, 'sealed': 3420, 'available': 916, 'dell': 1508, '5pro': 535, 'niem_tin': 2896, 'truoca': 4340, 'chap_mach': 1170, '4290k': 430, '1000mb': 35, 'jk': 2074, 'sanpham': 3382, 'ok_lam': 2956, 'sho': 3462, 'ua_thich': 4444, 'la_ban': 2361, 'tuyet_voi_shop': 4433, 'ud': 4448, '3060': 323, '5vs5': 548, 'wifj': 4765, 'loag': 2449, 'sai_dk': 3314, 'niu': 2899, 'zu': 4998, 'tay_trai': 3740, 'cam_do': 1094, 'webcam': 4745, 'autofocus': 915, 'ang': 871, 'k8': 2085, '0k': 27, 'tuyet_cu': 4429, 'khinh': 2183, 'vaog': 4540, 'youtu': 4952, '67': 570, 'keu_goi': 2124, 'xao': 4813, '1g_tha': 160, 'tubo': 4381, 'baby': 927, 'ai_ngo_dau': 808, 'tinh_chinh': 4109, 'thasy': 3848, '10phan': 57, 'tuyet_shop': 4431, '4x': 493, '4100mah': 424, 'tot_thanks_shop': 4214, '1200': 70, 'ht': 1993, 'keyboard': 2128, 'snap636': 3535, 'toi_uu_hoa_game': 4179, 'a_kem': 773, 'alpha': 818, 'uu': 4488, 'bat_chuoc': 979, 'vertu': 4573, 'zui': 4999, 'nhang_shop': 2820, 'ru_ru': 3263, 'ram6g': 3170, 'vanced': 4532, 'tui_xach': 4389, '400': 404, 'thu_thach': 3994, 'afk': 795, 'det_shop': 1541, 'xanh_ron': 4812, 'tot_khoang': 4207, 'uy_quyen': 4494, 'van_shop': 4530, 'thuo': 4018, 'thuong_gia_ho': 4023, '1trong': 198, 'vang_da': 4534, 'thu_nhap': 3993, 'sp_uy_tin': 3586, 'toi_lui': 4169, '1s': 180, 'thu_vien': 3999, '6d': 577, 'dcj': 1475, 'loe_loet': 2466, 'thansk_shop': 3837, '8tr9': 675, 'sai_may': 3319, 'lich': 2413, 'trong_luc': 4310, 'stream': 3610, 'chon_lua': 1223, 'mp3': 2683, 'a9pro': 768, 'rung_cam_thay': 3270, 'imel': 2024, 'tgdt': 3780, 'tran_hung_dao_q': 4245, 'dis': 1587, 'tinh_du': 4110, 'gjao': 1820, '22h20': 228, 'snap': 3534, 'suc_manh': 3623, '4in': 471, '5in': 524, 'rac_ruoi': 3160, 'thu_muc': 3990, 'danh_cap': 1419, 'de_dang': 1487, 'al': 814, 'so_y': 3552, 'tan_nat': 3694, 'adien': 789, '589': 513, 'tran_hung_dao': 4244, 'kung': 2347, '2thag': 305, '3300': 343, '123': 73, 'zlo': 4988, '2l': 285, 'quy_khach': 3138, 'an_khang': 850, 'sns': 3537, 'rest': 3220, 'am_shop': 831, 'huwey': 2009, 'sai_3g': 3309, 'thoi_van': 3967, '15_20': 104, '3_4': 368, 'thoii': 3968, 'works': 4777, 'well': 4748, '7t5': 632, 'vsmart_live': 4702, 'wjfi': 4774, 'roi_tung': 3249, 'note7': 2924, 'tat_zalo': 3730, '4000m': 407, 'yeu_thich': 4943, 'tit_ngoi': 4127, 'realme3': 3195, 'pam': 2996, '36': 356, 'say_xin': 3401, 'x_series': 4787, 'sony_xperia_x_performance_smartphone': 3577, '820': 648, '2700': 255, 'hi_hi': 1906, '9610': 689, '8895': 660, 'super_amoled_ful_hd': 3639, 'sieu_do': 3492, 'doi_thu': 1618, 'ruom_ra': 3274, 'copy': 1322, '7h30': 627, 'soundcloud': 3582, 'am_thanh_phat': 834, 'tuong_ung': 4414, 'nich': 2893, 'keu_la': 2125, 'tuv': 4420, 'fe': 1708, '4240mah': 428, '0966542299': 22, 'khoa_van': 2198, 'itg': 2050, 'kbt': 2100, 'xg': 4834, 'thoai_shop': 3950, '3tr590_shop': 398, 'trang_lam': 4254, 'sam_pham': 3339, 'vau': 4549, '2h5': 282, '4rr': 481, '18h20p': 135, '20h': 214, 'second': 3422, 'ach': 779, 'ttoost': 4354, 'to_nho': 4150, 'g530': 1736, 'wes': 4751, 'sdung': 3410, 'hang_shop': 1873, '5thang': 542, 'a20_bat': 733, 'a83': 762, 'samung': 3363, 'yeu_van': 4946, 'dau_mat': 1454, 'dai_dang_dac': 1387, 'xau_choi': 4818, '090k': 19, '1diem': 157, 'dam_me': 1397, 'thuong_vong': 4027, 'am_lich': 829, 'samsung_a50s_hinh': 3349, 'tai_xanh': 3679, '821': 649, 'thuc_pin': 4008, '4200': 425, 'tik_tok_chen': 4087, 'bao_hieu': 968, 'xau_shop': 4820, 'tam_phuc_vu': 3685, 'v_khac': 4506, '10x': 64, '30phuc': 329, 'yeu_kem': 4940, 'line': 2427, 'wifi_manh': 4762, 'fucking': 1728, 'vung_xa': 4725, 'tay_van': 3741, 'tuong_dong': 4402, 'wiki': 4766, 'tgdd_nhan': 3778, 'secure': 3424, 'loc_coc': 2462, 'youtue': 4958, '259': 246, 'hong_bang': 1979, 'hai_phong': 1858, 'samsung_a7': 3350, '16megapixsell': 125, 'so_dau': 3542, 'samsung_a5': 3347, 'a5_thu': 749, 'chay_dua': 1178, 'cat_giam': 1133, 'hoi_thieu': 1968, 'toa': 4152, 'kgong': 2133, 'supper': 3640, '3h30': 377, 'kit': 2311, '10mb': 53, '9mb': 706, 'uploading': 4482, 'xai_shop': 4805, 'it_ra': 2048, 't_express': 3660, 'xin_phep': 4844, '9530': 685, 'troi_danh': 4302, 'tap_doan': 3712, 'song_shop': 3572, 'vui_cam_on_shop': 4717, '03': 9, 'su_ly': 3614, '10m': 52, 'ssa10': 3596, '7ngay': 629, 'youtpbe': 4951, 'vo_xai': 4669, 'den_roi': 1520, 'am_uot': 838, '640ngan': 563, '4cai': 464, '1hang': 167, 'not4': 2921, 'toi_om': 4171, 'die': 1564, 'trl': 4285, 'am_thap': 835, 'skill_minh': 3522, '400pinh': 415, 'teanh': 3752, 'ssa50': 3598, 'tieu_thu': 4086, 'j7ro': 2068, '10h45': 49, 'tr6': 4221, 'ruc_ro': 3265, '10k': 50, 'khang_nhung': 2161, '8x': 677, 'thoi_shop': 3963, '1700': 129, 'rui_shop': 3268, 'ra_y': 3157, 'sot_rac': 3580, '5d': 517, 'thoa_thuan': 3947, 'tinh_huong': 4114, 'ss_a7': 3594, 'viu': 4628, 'youtube_cam': 4955, 'viber': 4592, '5ph': 532, '10giay': 46, 'xuat_hoa_doen': 4879, 'trai_nghiem_thuc': 4238, 'sai_em': 3315, 'thk': 3937, 'kinh_camera': 2295, 'tap_kich': 3713, 'a1k_mua': 729, '__': 713, 'xuoc_shop': 4896, 'buu_cuc': 1074, 'vuong_gia': 4727, 'vat_chat': 4543, 'con_nguoi': 1303, 'xai_update': 4806, 'skin': 3523, 'toc_hanh': 4163, 'shop_may': 3469, '_dang': 724, '_5': 711, 'uy_tin_ne': 4497, '4030': 416, 'trung_may': 4325, 'ram_may': 3172, 'thay_vi': 3867, 'khun': 2244, 'khet': 2173, 'k_te': 2090, '3utools': 402, 'zd': 4974, 'siu_shop': 3518, 'thankiu_shop': 3832, 'shoo': 3463, 'apk': 892, 'tran_quang_khai': 4248, 'ra_mau': 3154, 'vinsmart': 4624, '7g': 624, '64mp': 566, 'tam_thuong': 3690, '74': 608, 'bac_nam': 930, '512mb': 506, 'a50s_dung': 748, 'tn_shop': 4143, 'chu_dong': 1237, '5000mb': 499, 'thoip': 3969, 'sai_shop': 3325, 'hang_loat': 1872, 'khuyem': 2251, '4tr9': 491, 'mai_mai': 2542, 'dc_tgdd_doi': 1473, 'sieu_tuyet_voi': 3500, 'phun': 3059, 'tring': 4280, 'a2': 730, 'tele': 3754, 'uy_tin_phuc_vu': 4498, 'kinh_choi': 2296, '2851': 261, 'aida64': 810, 'khong_luu': 2222, 'kha_ngon': 2139, '___': 714, 'dldd': 1592, 'byt': 1077, 'ssa5': 3597, 'dhngf': 1546, 'asus_co': 907, '00': 0, '1_2': 147, 'sua_minh': 3619, '7gb': 625, 'tin_shop': 4101, 'day_hoi': 1466, 'see': 3425, 'again': 796, 'khang_dinh': 2160, '133': 89, 'vid': 4593, 'vo_tieng': 4664, 'am_thanh_am_luong': 833, 'kkkkkk': 2316, '5x': 549, 'windowphone': 4770, 'un_shop': 4456, 'dieu_hoa': 1579, 'than_thiet': 3816, '99999': 701, '1tr1': 192, '198': 144, 'ai_ngai': 806, 'traauu': 4229, 'day_day': 1463, 'tien_trien': 4063, 'bach_bach': 933, 'shopee_shop': 3475, '4r': 479, 'size': 3519, 'tau_hoa': 3732, 'tu_tin': 4370, 'thuong_truc': 4026, 'ke_ke': 2103, 'van_dong': 4527, 'dctam': 1477, 'yutube': 4965, 'yau': 4929, '8100': 645, 'kindle': 2292, 'xuoc_tum_lum': 4897, 'kg_shop': 2131, 'tham_dinh': 3804, 'tot_noi_chung': 4211, '16h': 123, 'a7_cai': 758, 'thieet': 3910, 'vo_dung': 4648, 'tap_trung': 3716, 'hdh': 1893, 'xnhanh': 4855, 'ai_chi': 802, 'de_che_do': 1484, 'xiao': 4836, 'samsung_man_amoled_dom': 3358, 'demo': 1511, 'trac': 4230, 'truoc_het': 4337, 'tay_mat': 3736, 'hien_trang': 1915, 'dem_xia': 1510, '4ng': 476, 'tinh_chat': 4108, 'vladivostok': 4636, 'sen': 3436, '98_shop': 694, 'ks_pk': 2340, 'sai_samsung': 3324, 'tinh_bo': 4107, 'tgdd_dmx': 3775, 'tu_lanh': 4363, 'tivi': 4129, 'tuc_thi': 4384, 't_anh': 3658, '240p': 238, '3phut': 386, 'tieng_noi': 4066, 'tinh_se': 4117, 'khugr': 2242, 'sinh_ly': 3512, 'mate': 2575, 'antifan': 881, 'cpuz': 1333, 'dai_dien': 1388, 'can_kiet': 1113, 'tat_ngam': 3723, 'sang_trung': 3380, 'stoi': 3607, '2750mah': 256, 'sang_thang': 3377, 'somg': 3561, 'rooi': 3253, 'tieng_vong': 4067, 'vay_thi': 4554, '27ms': 257, 'tre_con': 4269, 'khich': 2177, 'za': 4969, 'vietel': 4612, 'vietl': 4613, 'sang_suot': 3376, '13gb': 91, '1tu': 199, 'cu_nat': 1339, 'em_ru_shop': 1687, 'selife': 3432, 'darkmode': 1439, 'keu_vang': 2126, 'tinh_tu': 4122, 'j7p': 2061, 'song_song': 3573, 'tun': 4393, 'y_het': 4919, 'tich_gop': 4045, 'an_quy': 853, 'j_gia': 2070, 'thnk_shop': 3940, 'tro_nen': 4292, 've_shop': 4566, 'voice_chat': 4680, 'ung_cho': 4459, 'thao_roi': 3840, 'bitby': 1025, 'ti_ti': 4041, 'tra_shop': 4227, '1phut': 177, 'danh_muc': 1425, 'sencon': 3437, 'thong_qua': 3977, 'ko_the_nao': 2330, 'dc_ios': 1470, 'xui_xeo': 4885, '4p': 478, 'dai_hoc': 1390, 'van_tai': 4531, 'thi_hai': 3897, 'tem_nguyen_hop': 3756, 'tai_con': 3675, 'sac_pin': 3298, 'tiep_diem': 4069, 'giai_phap': 1784, '_____': 715, '_game': 725, '_____________': 717, '______quan': 720, '__________xai': 718, '_____cam': 721, 'a70_nang': 755, 'rieng_shop': 3229, 'tron_ven': 4307}\n"
          ],
          "name": "stdout"
        }
      ]
    },
    {
      "cell_type": "markdown",
      "metadata": {
        "id": "HQw-P4G7z0e8",
        "colab_type": "text"
      },
      "source": [
        "## **Trainning on the SVM classifier**"
      ]
    },
    {
      "cell_type": "code",
      "metadata": {
        "id": "2-e_KuT0yzW7",
        "colab_type": "code",
        "colab": {
          "base_uri": "https://localhost:8080/",
          "height": 84
        },
        "outputId": "5b3640ab-c9d9-482d-a2ef-8e49ef49a797"
      },
      "source": [
        "SVM = svm.SVC(C=1.0, kernel='linear', verbose=True)\n",
        "SVM.fit(Train_X_Tfidf,Y_Train)"
      ],
      "execution_count": null,
      "outputs": [
        {
          "output_type": "stream",
          "text": [
            "[LibSVM]"
          ],
          "name": "stdout"
        },
        {
          "output_type": "execute_result",
          "data": {
            "text/plain": [
              "SVC(C=1.0, cache_size=200, class_weight=None, coef0=0.0,\n",
              "  decision_function_shape='ovr', degree=3, gamma='auto_deprecated',\n",
              "  kernel='linear', max_iter=-1, probability=False, random_state=None,\n",
              "  shrinking=True, tol=0.001, verbose=True)"
            ]
          },
          "metadata": {
            "tags": []
          },
          "execution_count": 43
        }
      ]
    },
    {
      "cell_type": "markdown",
      "metadata": {
        "id": "oeab3kwjzwHe",
        "colab_type": "text"
      },
      "source": [
        "**Predict and evaluate the SVM classifier**"
      ]
    },
    {
      "cell_type": "code",
      "metadata": {
        "id": "uNH9Szb41Lxi",
        "colab_type": "code",
        "colab": {
          "base_uri": "https://localhost:8080/",
          "height": 279
        },
        "outputId": "ca8b0be8-5122-42bc-9a94-200f4bd7e89c"
      },
      "source": [
        "predictions_SVM=SVM.predict(Test_X_Tfidf)\n",
        "fig, ax = plot_confusion_matrix(conf_mat=confusion_matrix(Y_test,predictions_SVM))\n",
        "plt.show()"
      ],
      "execution_count": null,
      "outputs": [
        {
          "output_type": "display_data",
          "data": {
            "image/png": "[encoded data removed]",
            "text/plain": [
              "<Figure size 432x288 with 1 Axes>"
            ]
          },
          "metadata": {
            "tags": []
          }
        }
      ]
    },
    {
      "cell_type": "code",
      "metadata": {
        "id": "-e2OwAKO9eJF",
        "colab_type": "code",
        "colab": {
          "base_uri": "https://localhost:8080/",
          "height": 168
        },
        "outputId": "ef5f712d-2e10-4d3f-b383-3c98b12545df"
      },
      "source": [
        "print(classification_report(Y_test,predictions_SVM))"
      ],
      "execution_count": null,
      "outputs": [
        {
          "output_type": "stream",
          "text": [
            "              precision    recall  f1-score   support\n",
            "\n",
            "           0       0.94      0.95      0.94      1243\n",
            "           1       0.95      0.94      0.94      1294\n",
            "\n",
            "   micro avg       0.94      0.94      0.94      2537\n",
            "   macro avg       0.94      0.94      0.94      2537\n",
            "weighted avg       0.94      0.94      0.94      2537\n",
            "\n"
          ],
          "name": "stdout"
        }
      ]
    },
    {
      "cell_type": "markdown",
      "metadata": {
        "id": "3RGVdoWO0MTd",
        "colab_type": "text"
      },
      "source": [
        "## **Trainning on the Naive Bayes Classifier**"
      ]
    },
    {
      "cell_type": "code",
      "metadata": {
        "id": "9xSLTar-z-k6",
        "colab_type": "code",
        "colab": {
          "base_uri": "https://localhost:8080/",
          "height": 34
        },
        "outputId": "c61667c5-eb27-4bc4-f7bb-c3537ac6eeb6"
      },
      "source": [
        "Naive = naive_bayes.MultinomialNB()\n",
        "Naive.fit(Train_X_Tfidf,Y_Train)"
      ],
      "execution_count": null,
      "outputs": [
        {
          "output_type": "execute_result",
          "data": {
            "text/plain": [
              "MultinomialNB(alpha=1.0, class_prior=None, fit_prior=True)"
            ]
          },
          "metadata": {
            "tags": []
          },
          "execution_count": 31
        }
      ]
    },
    {
      "cell_type": "markdown",
      "metadata": {
        "id": "_8QLv_Zz0P9j",
        "colab_type": "text"
      },
      "source": [
        "**Predict and evaluate the Naive Bayes Classifier**"
      ]
    },
    {
      "cell_type": "code",
      "metadata": {
        "id": "mPbuOVdN-Oe-",
        "colab_type": "code",
        "colab": {
          "base_uri": "https://localhost:8080/",
          "height": 279
        },
        "outputId": "41a5ec0a-4aa9-4838-ff01-68e156c07fbf"
      },
      "source": [
        "predictions_NB=Naive.predict(Test_X_Tfidf)\n",
        "fig, ax = plot_confusion_matrix(conf_mat=confusion_matrix(Y_test,predictions_NB))\n",
        "plt.show()"
      ],
      "execution_count": null,
      "outputs": [
        {
          "output_type": "display_data",
          "data": {
            "image/png": "[encoded data removed]",
            "text/plain": [
              "<Figure size 432x288 with 1 Axes>"
            ]
          },
          "metadata": {
            "tags": []
          }
        }
      ]
    },
    {
      "cell_type": "code",
      "metadata": {
        "id": "9k22ldOj0CAa",
        "colab_type": "code",
        "colab": {
          "base_uri": "https://localhost:8080/",
          "height": 168
        },
        "outputId": "7f202229-22f8-48d1-ddca-23d0415c05c5"
      },
      "source": [
        "print(classification_report(Y_test,predictions_NB))"
      ],
      "execution_count": null,
      "outputs": [
        {
          "output_type": "stream",
          "text": [
            "              precision    recall  f1-score   support\n",
            "\n",
            "           0       0.91      0.94      0.93      1243\n",
            "           1       0.94      0.91      0.93      1294\n",
            "\n",
            "   micro avg       0.93      0.93      0.93      2537\n",
            "   macro avg       0.93      0.93      0.93      2537\n",
            "weighted avg       0.93      0.93      0.93      2537\n",
            "\n"
          ],
          "name": "stdout"
        }
      ]
    },
    {
      "cell_type": "markdown",
      "metadata": {
        "id": "qoyU4kK8XbIS",
        "colab_type": "text"
      },
      "source": [
        "# ***Save model***"
      ]
    },
    {
      "cell_type": "code",
      "metadata": {
        "id": "ONzqnF8tXpXZ",
        "colab_type": "code",
        "colab": {
          "base_uri": "https://localhost:8080/",
          "height": 34
        },
        "outputId": "0fafc0c0-a1fd-4c3c-85ad-b67200585d2b"
      },
      "source": [
        "joblib.dump(Tfidf_vect, '/content/Sentiment_Classification/model/tfidf.pkl')\n",
        "joblib.dump(tokenizer, '/content/Sentiment_Classification/model/tokenizer_LSTM.pkl')\n",
        "joblib.dump(model, '/content/Sentiment_Classification/model/LSTM_model.pkl')\n",
        "joblib.dump(SVM, '/content/Sentiment_Classification/model/SVM_model.pkl')\n",
        "joblib.dump(Naive, '/content/Sentiment_Classification/model/NB_model.pkl')\n",
        "joblib.dump(Tfidf_vect.vocabulary_, '/content/Sentiment_Classification/model/vocabulary.pkl')"
      ],
      "execution_count": null,
      "outputs": [
        {
          "output_type": "execute_result",
          "data": {
            "text/plain": [
              "['/content/Sentiment_Classification/model/vocabulary.pkl']"
            ]
          },
          "metadata": {
            "tags": []
          },
          "execution_count": 34
        }
      ]
    },
    {
      "cell_type": "markdown",
      "metadata": {
        "id": "cs1wBCBUFYFu",
        "colab_type": "text"
      },
      "source": [
        "# ***Enter comment and test***"
      ]
    },
    {
      "cell_type": "markdown",
      "metadata": {
        "id": "g78HI7WyOQ4k",
        "colab_type": "text"
      },
      "source": [
        "## *utils*"
      ]
    },
    {
      "cell_type": "code",
      "metadata": {
        "id": "kT94GCJ2Ur30",
        "colab_type": "code",
        "colab": {}
      },
      "source": [
        "from nltk.corpus import wordnet\n",
        "from nltk.stem import WordNetLemmatizer\n",
        "import re\n",
        "\n",
        "path='/content/Sentiment_Classification/'\n",
        "stopwords=set(open(path+'data/stopwords.txt').read().split(' ')[:-1])\n",
        "\n",
        "  \n",
        "\n",
        "def vi_tokenizer(row):\n",
        "  return word_tokenize(row, format=\"text\")\n",
        "\n",
        "def remove_accents(row):\n",
        "  return unidecode.unidecode(row)\n",
        "\n",
        "def remove_stopwords(hl_split):\n",
        "  sent = [s for s in hl_split if s not in stopwords]\n",
        "  return sent\n",
        "\n",
        "def text_cleasing(row):\n",
        "  row = re.sub(r\"[\\.,\\?]+$-\", \"\", row)\n",
        "  row = row.replace(\",\", \" \").replace(\".\", \" \") \\\n",
        "      .replace(\";\", \" \").replace(\"“\", \" \") \\\n",
        "      .replace(\":\", \" \").replace(\"”\", \" \") \\\n",
        "      .replace('\"', \" \").replace(\"'\", \" \") \\\n",
        "      .replace(\"!\", \" \").replace(\"?\", \" \") \\\n",
        "      .replace(\"-\", \" \").replace(\"?\", \" \")\n",
        "  row = row.strip()\n",
        "  row=vi_tokenizer(row)\n",
        "  row=remove_stopwords(row.split())\n",
        "  row=[remove_accents(s) for s in row]\n",
        "  #row=[\" \".join(x) for x in row]\n",
        "  return row\n",
        "\n",
        "def input_vectorization(input_token,tokenizer):\n",
        "  arr_token=[]\n",
        "  arr_token.append(input_token)\n",
        "  max_token=250\n",
        "  sequences = tokenizer.texts_to_sequences(arr_token)\n",
        "  X = pad_sequences(sequences, maxlen=max_token)\n",
        "  return X\n",
        "       \n",
        "\n",
        "def LSTM_predict(text,model,tokenizer):\n",
        "  token=text_cleasing(text)\n",
        "  X=input_vectorization(token,tokenizer)\n",
        "  if np.around(model.predict(X))==1:\n",
        "    print(text)\n",
        "    print(\"=============> Positive\\n\")\n",
        "  else:\n",
        "    print(text)\n",
        "    print(\"=============> Negative\\n\")\n",
        "\n",
        "def predict(text,model,tfidf_vector):\n",
        "  token=text_cleasing(text)\n",
        "  token=[' '.join(token)]\n",
        "  X_Tfidf = tfidf_vector.transform(token)\n",
        "  if model.predict(X_Tfidf)[0]==1:\n",
        "    print(text)\n",
        "    print(\"=============> Positive\\n\")\n",
        "  else:\n",
        "    print(text)\n",
        "    print(\"=============> Negative\\n\")\n",
        "\n"
      ],
      "execution_count": null,
      "outputs": []
    },
    {
      "cell_type": "markdown",
      "metadata": {
        "id": "zzUTRbrYOXMC",
        "colab_type": "text"
      },
      "source": [
        "## Predict"
      ]
    },
    {
      "cell_type": "markdown",
      "metadata": {
        "id": "5srnrDC4Glpe",
        "colab_type": "text"
      },
      "source": [
        "Load model "
      ]
    },
    {
      "cell_type": "code",
      "metadata": {
        "id": "dj3Y7vDWGs_8",
        "colab_type": "code",
        "colab": {}
      },
      "source": [
        "model_LSTM=joblib.load(path+'model/LSTM_model.pkl')\n",
        "tokenizer_LSTM=joblib.load(path+'model/tokenizer_LSTM.pkl')\n",
        "SVM_model=joblib.load(path+'model/SVM_model.pkl')\n",
        "NB_model=joblib.load(path+'model/NB_model.pkl')\n",
        "tfidf_vec=joblib.load(path+'model/tfidf.pkl')"
      ],
      "execution_count": null,
      "outputs": []
    },
    {
      "cell_type": "markdown",
      "metadata": {
        "id": "nR7m-FhFhB8H",
        "colab_type": "text"
      },
      "source": [
        "Using LSTM model to predict"
      ]
    },
    {
      "cell_type": "code",
      "metadata": {
        "id": "k6eBwP2kYvpl",
        "colab_type": "code",
        "colab": {
          "base_uri": "https://localhost:8080/",
          "height": 168
        },
        "outputId": "f90ef747-a65b-4590-d1e1-742756455132"
      },
      "source": [
        "cmt='Đã đặt mua lần thứ n, và vẫn cảm thấy hài lòng với shop...'\n",
        "\n",
        "cmt2='Quá buồn khi mua em này, loa cuộc gọi siêu bé, không nghe được, vân tay không nhạy 1 tí gì. Mình mua được 2 tuần. Giờ mình phải làm sao????'\n",
        "\n",
        "cmt3='máy như cục cứt, xài được vài bữa hư màn hình'\n",
        "\n",
        "\n",
        "\n",
        "LSTM_predict(cmt,model_LSTM,tokenizer_LSTM)\n",
        "LSTM_predict(cmt2,model_LSTM,tokenizer_LSTM)\n",
        "LSTM_predict(cmt3,model_LSTM,tokenizer_LSTM)\n",
        "\n"
      ],
      "execution_count": null,
      "outputs": [
        {
          "output_type": "stream",
          "text": [
            "Đã đặt mua lần thứ n, và vẫn cảm thấy hài lòng với shop...\n",
            "=============> Positive\n",
            "\n",
            "Quá buồn khi mua em này, loa cuộc gọi siêu bé, không nghe được, vân tay không nhạy 1 tí gì. Mình mua được 2 tuần. Giờ mình phải làm sao????\n",
            "=============> Negative\n",
            "\n",
            "máy như cục cứt, xài được vài bữa hư màn hình\n",
            "=============> Negative\n",
            "\n"
          ],
          "name": "stdout"
        }
      ]
    },
    {
      "cell_type": "markdown",
      "metadata": {
        "id": "ZtvPXsE4Gkk8",
        "colab_type": "text"
      },
      "source": [
        "Using SVM clasifier"
      ]
    },
    {
      "cell_type": "code",
      "metadata": {
        "id": "YUbY0NyEQf21",
        "colab_type": "code",
        "colab": {
          "base_uri": "https://localhost:8080/",
          "height": 168
        },
        "outputId": "9fb5fb84-f6f0-4930-9a20-5549e1804799"
      },
      "source": [
        "predict(cmt,SVM_model,tfidf_vec)\n",
        "predict(cmt2,SVM_model,tfidf_vec)\n",
        "predict(cmt3,SVM_model,tfidf_vec)"
      ],
      "execution_count": null,
      "outputs": [
        {
          "output_type": "stream",
          "text": [
            "Đã đặt mua lần thứ n, và vẫn cảm thấy hài lòng với shop...\n",
            "=============> Positive\n",
            "\n",
            "Quá buồn khi mua em này, loa cuộc gọi siêu bé, không nghe được, vân tay không nhạy 1 tí gì. Mình mua được 2 tuần. Giờ mình phải làm sao????\n",
            "=============> Negative\n",
            "\n",
            "máy như cục cứt, xài được vài bữa hư màn hình\n",
            "=============> Negative\n",
            "\n"
          ],
          "name": "stdout"
        }
      ]
    },
    {
      "cell_type": "markdown",
      "metadata": {
        "id": "HIZ2FvNdGy6t",
        "colab_type": "text"
      },
      "source": [
        "Using NB clasifier\n"
      ]
    },
    {
      "cell_type": "code",
      "metadata": {
        "id": "noKaA-8xVRE9",
        "colab_type": "code",
        "colab": {
          "base_uri": "https://localhost:8080/",
          "height": 168
        },
        "outputId": "70448ac6-eb90-425f-e034-06f6383a7650"
      },
      "source": [
        "predict(cmt,NB_model,tfidf_vec)\n",
        "predict(cmt2,NB_model,tfidf_vec)\n",
        "predict(cmt3,NB_model,tfidf_vec)"
      ],
      "execution_count": null,
      "outputs": [
        {
          "output_type": "stream",
          "text": [
            "Đã đặt mua lần thứ n, và vẫn cảm thấy hài lòng với shop...\n",
            "=============> Positive\n",
            "\n",
            "Quá buồn khi mua em này, loa cuộc gọi siêu bé, không nghe được, vân tay không nhạy 1 tí gì. Mình mua được 2 tuần. Giờ mình phải làm sao????\n",
            "=============> Negative\n",
            "\n",
            "máy như cục cứt, xài được vài bữa hư màn hình\n",
            "=============> Negative\n",
            "\n"
          ],
          "name": "stdout"
        }
      ]
    }
  ]
}