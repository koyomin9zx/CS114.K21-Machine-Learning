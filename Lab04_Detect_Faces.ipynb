{
  "nbformat": 4,
  "nbformat_minor": 0,
  "metadata": {
    "colab": {
      "name": "Detect_Faces.ipynb",
      "provenance": [],
      "authorship_tag": "ABX9TyN+2DXKxEHx7W90fMcap6Ky",
      "include_colab_link": true
    },
    "kernelspec": {
      "name": "python3",
      "display_name": "Python 3"
    },
    "accelerator": "GPU"
  },
  "cells": [
    {
      "cell_type": "markdown",
      "metadata": {
        "id": "view-in-github",
        "colab_type": "text"
      },
      "source": [
        "<a href=\"https://colab.research.google.com/github/koyomin9zx/CS114.K21-Machine-Learning/blob/master/Detect_Faces.ipynb\" target=\"_parent\"><img src=\"https://colab.research.google.com/assets/colab-badge.svg\" alt=\"Open In Colab\"/></a>"
      ]
    },
    {
      "cell_type": "code",
      "metadata": {
        "id": "ctqm3V_OVW6f",
        "colab_type": "code",
        "colab": {}
      },
      "source": [
        "pip install google-cloud-vision"
      ],
      "execution_count": 0,
      "outputs": []
    },
    {
      "cell_type": "code",
      "metadata": {
        "id": "tLATJR5-XQF4",
        "colab_type": "code",
        "colab": {}
      },
      "source": [
        "import os\n",
        "os.environ[\"GOOGLE_APPLICATION_CREDENTIALS\"]=\"My First Project-632246825803.json\""
      ],
      "execution_count": 0,
      "outputs": []
    },
    {
      "cell_type": "code",
      "metadata": {
        "id": "2sCf44WLXEus",
        "colab_type": "code",
        "colab": {}
      },
      "source": [
        "import argparse\n",
        "from google.cloud import vision\n",
        "import io\n",
        "\n",
        "# [START vision_face_detection]\n",
        "def detect_faces(path):\n",
        "    \"\"\"Detects faces in an image.\"\"\"\n",
        "    client = vision.ImageAnnotatorClient()\n",
        "\n",
        "    # [START vision_python_migration_face_detection]\n",
        "    # [START vision_python_migration_image_file]\n",
        "    with io.open(path, 'rb') as image_file:\n",
        "        content = image_file.read()\n",
        "\n",
        "    image = vision.types.Image(content=content)\n",
        "    # [END vision_python_migration_image_file]\n",
        "\n",
        "    response = client.face_detection(image=image)\n",
        "    faces = response.face_annotations\n",
        "\n",
        "    # Names of likelihood from google.cloud.vision.enums\n",
        "    likelihood_name = ('UNKNOWN', 'VERY_UNLIKELY', 'UNLIKELY', 'POSSIBLE',\n",
        "                       'LIKELY', 'VERY_LIKELY')\n",
        "    print('Faces:')\n",
        "\n",
        "    for face in faces:\n",
        "        print('anger: {}'.format(likelihood_name[face.anger_likelihood]))\n",
        "        print('joy: {}'.format(likelihood_name[face.joy_likelihood]))\n",
        "        print('surprise: {}'.format(likelihood_name[face.surprise_likelihood]))\n",
        "\n",
        "        vertices = (['({},{})'.format(vertex.x, vertex.y)\n",
        "                    for vertex in face.bounding_poly.vertices])\n",
        "\n",
        "        print('face bounds: {}'.format(','.join(vertices)))\n",
        "\n",
        "    if response.error.message:\n",
        "        raise Exception(\n",
        "            '{}\\nFor more info on error messages, check: '\n",
        "            'https://cloud.google.com/apis/design/errors'.format(\n",
        "                response.error.message))\n",
        "    # [END vision_python_migration_face_detection]\n",
        "# [END vision_face_detection]"
      ],
      "execution_count": 0,
      "outputs": []
    },
    {
      "cell_type": "code",
      "metadata": {
        "id": "mkBgeKGVVpva",
        "colab_type": "code",
        "colab": {}
      },
      "source": [
        "detect_faces(\"20190204_234240.jpg\")"
      ],
      "execution_count": 0,
      "outputs": []
    },
    {
      "cell_type": "code",
      "metadata": {
        "id": "fZdQ83i2WHHD",
        "colab_type": "code",
        "colab": {}
      },
      "source": [
        ""
      ],
      "execution_count": 0,
      "outputs": []
    }
  ]
}
